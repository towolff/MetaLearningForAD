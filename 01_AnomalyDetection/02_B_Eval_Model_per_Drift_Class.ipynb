{
 "cells": [
  {
   "cell_type": "markdown",
   "metadata": {},
   "source": [
    "# Evaluate Meta-Model per Drift Class\n",
    "### Before fine-tune and after fine-tune!"
   ]
  },
  {
   "cell_type": "code",
   "execution_count": 1,
   "metadata": {},
   "outputs": [],
   "source": [
    "from sklearn.metrics import confusion_matrix\n",
    "from sklearn.metrics import accuracy_score\n",
    "from sklearn.metrics import precision_score\n",
    "from mlxtend.plotting import plot_confusion_matrix\n",
    "from utils.evalUtils import calc_cm_metrics\n",
    "from utils.evalUtils import print_confusion_matrix\n",
    "\n",
    "import joblib"
   ]
  },
  {
   "cell_type": "code",
   "execution_count": 2,
   "metadata": {},
   "outputs": [
    {
     "name": "stdout",
     "output_type": "stream",
     "text": [
      "Imports..\n"
     ]
    }
   ],
   "source": [
    "%run -i ./scripts/PythonImports.py"
   ]
  },
  {
   "cell_type": "code",
   "execution_count": 3,
   "metadata": {},
   "outputs": [
    {
     "name": "stdout",
     "output_type": "stream",
     "text": [
      "Set configs..\n"
     ]
    }
   ],
   "source": [
    "## Set Configs\n",
    "print('Set configs..')\n",
    "sns.set()\n",
    "pd.options.display.max_columns = None\n",
    "warnings.filterwarnings('ignore')\n",
    "RANDOM_SEED = 42\n",
    "\n",
    "fig_path = os.path.join(os.getcwd(), 'figs')\n",
    "model_path = os.path.join(os.getcwd(), 'models')\n",
    "model_bib_path = os.path.join(model_path,'model_bib')\n",
    "data_path = os.path.join(os.getcwd(), 'data')"
   ]
  },
  {
   "cell_type": "markdown",
   "metadata": {},
   "source": [
    "## Read Meta-Model"
   ]
  },
  {
   "cell_type": "code",
   "execution_count": 4,
   "metadata": {},
   "outputs": [
    {
     "name": "stdout",
     "output_type": "stream",
     "text": [
      "Load trained simple AE..\n",
      "/home/torge/dev/masterthesis_code/02_Experimente/AnomalyDetection/models/model_bib/20200302_firstAE_model.pt\n",
      "SimpleAutoEncoder(\n",
      "  (encoder): Sequential(\n",
      "    (0): Linear(in_features=17, out_features=12, bias=True)\n",
      "    (1): ReLU(inplace=True)\n",
      "    (2): Linear(in_features=12, out_features=8, bias=True)\n",
      "    (3): Tanh()\n",
      "  )\n",
      "  (decoder): Sequential(\n",
      "    (0): Linear(in_features=8, out_features=12, bias=True)\n",
      "    (1): ReLU(inplace=True)\n",
      "    (2): Linear(in_features=12, out_features=17, bias=True)\n",
      "    (3): Tanh()\n",
      "  )\n",
      ")\n",
      "Load weights..\n"
     ]
    }
   ],
   "source": [
    "%run -i ./scripts/ReadSimpleAE_w_weights.py"
   ]
  },
  {
   "cell_type": "code",
   "execution_count": 5,
   "metadata": {},
   "outputs": [
    {
     "data": {
      "text/plain": [
       "models.SimpleAutoEncoder.SimpleAutoEncoder"
      ]
     },
     "execution_count": 5,
     "metadata": {},
     "output_type": "execute_result"
    }
   ],
   "source": [
    "type(model)"
   ]
  },
  {
   "cell_type": "markdown",
   "metadata": {},
   "source": [
    "## Read LogReg"
   ]
  },
  {
   "cell_type": "code",
   "execution_count": 7,
   "metadata": {},
   "outputs": [
    {
     "name": "stdout",
     "output_type": "stream",
     "text": [
      "Load trained LogReg..\n",
      "LogisticRegression(C=1.0, class_weight={1: 2.0}, dual=False, fit_intercept=True,\n",
      "                   intercept_scaling=1, l1_ratio=None, max_iter=100,\n",
      "                   multi_class='auto', n_jobs=None, penalty='l2',\n",
      "                   random_state=42, solver='liblinear', tol=0.0001, verbose=0,\n",
      "                   warm_start=False)\n"
     ]
    }
   ],
   "source": [
    "%run -i ./scripts/ReadLogReg.py"
   ]
  },
  {
   "cell_type": "code",
   "execution_count": 8,
   "metadata": {},
   "outputs": [
    {
     "data": {
      "text/plain": [
       "sklearn.linear_model._logistic.LogisticRegression"
      ]
     },
     "execution_count": 8,
     "metadata": {},
     "output_type": "execute_result"
    }
   ],
   "source": [
    "type(clf)"
   ]
  },
  {
   "cell_type": "markdown",
   "metadata": {},
   "source": [
    "## Prepare the data"
   ]
  },
  {
   "cell_type": "code",
   "execution_count": 9,
   "metadata": {},
   "outputs": [
    {
     "name": "stdout",
     "output_type": "stream",
     "text": [
      "Shape of X_train data: (105216, 17)\n"
     ]
    }
   ],
   "source": [
    "data_fn = os.path.join(data_path, 'simulation_data_y_2020_2021_reduced.h5')\n",
    "df_data_train = pd.read_hdf(data_fn, key='df')\n",
    "print('Shape of X_train data: {}'.format(df_data_train.shape))"
   ]
  },
  {
   "cell_type": "code",
   "execution_count": 10,
   "metadata": {},
   "outputs": [
    {
     "name": "stdout",
     "output_type": "stream",
     "text": [
      "Shape of X_drifted,ano data: (35040, 19)\n"
     ]
    }
   ],
   "source": [
    "data_fn = os.path.join(data_path, 'anomalous_drifted_data_y_2023_reduced_more_cos_phi.h5')\n",
    "df_data_drifted_ano = pd.read_hdf(data_fn, key='df')\n",
    "print('Shape of X_drifted,ano data: {}'.format(df_data_drifted_ano.shape))"
   ]
  },
  {
   "cell_type": "code",
   "execution_count": 11,
   "metadata": {},
   "outputs": [],
   "source": [
    "s_drift_labels = df_data_drifted_ano['drift_labels']\n",
    "s_drift_labels.reset_index(inplace=True, drop=True)\n",
    "s_ano_labels = df_data_drifted_ano['anomaly_labels']\n",
    "s_ano_labels.reset_index(inplace=True, drop=True)"
   ]
  },
  {
   "cell_type": "code",
   "execution_count": 12,
   "metadata": {},
   "outputs": [
    {
     "name": "stdout",
     "output_type": "stream",
     "text": [
      "Shape of X_drifted,ano data: (35040, 17)\n"
     ]
    }
   ],
   "source": [
    "df_data_drifted_ano.drop('drift_labels', axis=1, inplace=True)\n",
    "df_data_drifted_ano.drop('anomaly_labels', axis=1, inplace=True)\n",
    "print('Shape of X_drifted,ano data: {}'.format(df_data_drifted_ano.shape))"
   ]
  },
  {
   "cell_type": "code",
   "execution_count": 13,
   "metadata": {},
   "outputs": [
    {
     "name": "stdout",
     "output_type": "stream",
     "text": [
      "Scale data..\n"
     ]
    }
   ],
   "source": [
    "print('Scale data..')\n",
    "scaler_train = MinMaxScaler((-1,1))\n",
    "scaler_train = scaler_train.fit(df_data_train)\n",
    "scaled_drifted_ano = scaler_train.transform(df_data_drifted_ano.to_numpy())"
   ]
  },
  {
   "cell_type": "code",
   "execution_count": 14,
   "metadata": {},
   "outputs": [],
   "source": [
    "del(df_data_train)"
   ]
  },
  {
   "cell_type": "code",
   "execution_count": 15,
   "metadata": {},
   "outputs": [],
   "source": [
    "# build tensor from numpy\n",
    "anormal_drifted_torch_tensor = torch.from_numpy(scaled_drifted_ano).type(torch.FloatTensor)"
   ]
  },
  {
   "cell_type": "markdown",
   "metadata": {},
   "source": [
    "## Make Predictions vor evaluation"
   ]
  },
  {
   "cell_type": "code",
   "execution_count": 16,
   "metadata": {},
   "outputs": [],
   "source": [
    "re_drifted_ano = []\n",
    "for val in anormal_drifted_torch_tensor:\n",
    "    loss = model.calc_reconstruction_error(val)\n",
    "    re_drifted_ano.append(loss.item())\n",
    "    \n",
    "s_re_drifted_ano = pd.Series(re_drifted_ano)"
   ]
  },
  {
   "cell_type": "code",
   "execution_count": 17,
   "metadata": {},
   "outputs": [],
   "source": [
    "s_re_drifted_ano = s_re_drifted_ano.values.reshape(-1,1)"
   ]
  },
  {
   "cell_type": "code",
   "execution_count": 18,
   "metadata": {},
   "outputs": [],
   "source": [
    "predictions_drifted_ano = []\n",
    "for val in s_re_drifted_ano:\n",
    "    val = val.reshape(1,-1)\n",
    "    pred = clf.predict(val)\n",
    "    predictions_drifted_ano.append(pred[0])"
   ]
  },
  {
   "cell_type": "markdown",
   "metadata": {},
   "source": [
    "## Build dataset for analysis"
   ]
  },
  {
   "cell_type": "code",
   "execution_count": 19,
   "metadata": {},
   "outputs": [],
   "source": [
    "df_analyze = pd.DataFrame()"
   ]
  },
  {
   "cell_type": "code",
   "execution_count": 20,
   "metadata": {},
   "outputs": [],
   "source": [
    "df_analyze['anomaly_labels'] = s_ano_labels\n",
    "df_analyze['drift_labels'] = s_drift_labels\n",
    "df_analyze['reconstruction_error'] = s_re_drifted_ano\n",
    "df_analyze['ano_prediction'] = predictions_drifted_ano"
   ]
  },
  {
   "cell_type": "code",
   "execution_count": 21,
   "metadata": {},
   "outputs": [
    {
     "data": {
      "text/html": [
       "<div>\n",
       "<style scoped>\n",
       "    .dataframe tbody tr th:only-of-type {\n",
       "        vertical-align: middle;\n",
       "    }\n",
       "\n",
       "    .dataframe tbody tr th {\n",
       "        vertical-align: top;\n",
       "    }\n",
       "\n",
       "    .dataframe thead th {\n",
       "        text-align: right;\n",
       "    }\n",
       "</style>\n",
       "<table border=\"1\" class=\"dataframe\">\n",
       "  <thead>\n",
       "    <tr style=\"text-align: right;\">\n",
       "      <th></th>\n",
       "      <th>anomaly_labels</th>\n",
       "      <th>drift_labels</th>\n",
       "      <th>reconstruction_error</th>\n",
       "      <th>ano_prediction</th>\n",
       "    </tr>\n",
       "  </thead>\n",
       "  <tbody>\n",
       "    <tr>\n",
       "      <th>0</th>\n",
       "      <td>0.0</td>\n",
       "      <td>0.0</td>\n",
       "      <td>0.000535</td>\n",
       "      <td>0</td>\n",
       "    </tr>\n",
       "    <tr>\n",
       "      <th>1</th>\n",
       "      <td>0.0</td>\n",
       "      <td>0.0</td>\n",
       "      <td>0.000788</td>\n",
       "      <td>0</td>\n",
       "    </tr>\n",
       "    <tr>\n",
       "      <th>2</th>\n",
       "      <td>0.0</td>\n",
       "      <td>0.0</td>\n",
       "      <td>0.001352</td>\n",
       "      <td>0</td>\n",
       "    </tr>\n",
       "    <tr>\n",
       "      <th>3</th>\n",
       "      <td>2.0</td>\n",
       "      <td>0.0</td>\n",
       "      <td>0.055268</td>\n",
       "      <td>0</td>\n",
       "    </tr>\n",
       "    <tr>\n",
       "      <th>4</th>\n",
       "      <td>2.0</td>\n",
       "      <td>0.0</td>\n",
       "      <td>0.054615</td>\n",
       "      <td>0</td>\n",
       "    </tr>\n",
       "  </tbody>\n",
       "</table>\n",
       "</div>"
      ],
      "text/plain": [
       "   anomaly_labels  drift_labels  reconstruction_error  ano_prediction\n",
       "0             0.0           0.0              0.000535               0\n",
       "1             0.0           0.0              0.000788               0\n",
       "2             0.0           0.0              0.001352               0\n",
       "3             2.0           0.0              0.055268               0\n",
       "4             2.0           0.0              0.054615               0"
      ]
     },
     "execution_count": 21,
     "metadata": {},
     "output_type": "execute_result"
    }
   ],
   "source": [
    "df_analyze.head()"
   ]
  },
  {
   "cell_type": "markdown",
   "metadata": {},
   "source": [
    "## Split Dataset per Drift Class"
   ]
  },
  {
   "cell_type": "code",
   "execution_count": 22,
   "metadata": {},
   "outputs": [],
   "source": [
    "df_drift_class_0 = df_analyze[df_analyze['drift_labels'] == 0]\n",
    "df_drift_class_1 = df_analyze[df_analyze['drift_labels'] == 1]\n",
    "df_drift_class_2 = df_analyze[df_analyze['drift_labels'] == 2]\n",
    "df_drift_class_3 = df_analyze[df_analyze['drift_labels'] == 3]"
   ]
  },
  {
   "cell_type": "code",
   "execution_count": 23,
   "metadata": {},
   "outputs": [],
   "source": [
    "df_drift_class_0['reduced_ano_labels'] = [1 if x > 0 else 0 for x in df_drift_class_0['anomaly_labels']]\n",
    "df_drift_class_1['reduced_ano_labels'] = [1 if x > 0 else 0 for x in df_drift_class_1['anomaly_labels']]\n",
    "df_drift_class_2['reduced_ano_labels'] = [1 if x > 0 else 0 for x in df_drift_class_2['anomaly_labels']]\n",
    "df_drift_class_3['reduced_ano_labels'] = [1 if x > 0 else 0 for x in df_drift_class_3['anomaly_labels']]"
   ]
  },
  {
   "cell_type": "code",
   "execution_count": 44,
   "metadata": {},
   "outputs": [
    {
     "data": {
      "text/plain": [
       "360"
      ]
     },
     "execution_count": 44,
     "metadata": {},
     "output_type": "execute_result"
    }
   ],
   "source": [
    "df_drift_class_3['reduced_ano_labels'].sum()"
   ]
  },
  {
   "cell_type": "code",
   "execution_count": 24,
   "metadata": {},
   "outputs": [
    {
     "data": {
      "text/html": [
       "<div>\n",
       "<style scoped>\n",
       "    .dataframe tbody tr th:only-of-type {\n",
       "        vertical-align: middle;\n",
       "    }\n",
       "\n",
       "    .dataframe tbody tr th {\n",
       "        vertical-align: top;\n",
       "    }\n",
       "\n",
       "    .dataframe thead th {\n",
       "        text-align: right;\n",
       "    }\n",
       "</style>\n",
       "<table border=\"1\" class=\"dataframe\">\n",
       "  <thead>\n",
       "    <tr style=\"text-align: right;\">\n",
       "      <th></th>\n",
       "      <th>anomaly_labels</th>\n",
       "      <th>drift_labels</th>\n",
       "      <th>reconstruction_error</th>\n",
       "      <th>ano_prediction</th>\n",
       "      <th>reduced_ano_labels</th>\n",
       "    </tr>\n",
       "  </thead>\n",
       "  <tbody>\n",
       "    <tr>\n",
       "      <th>count</th>\n",
       "      <td>1112.000000</td>\n",
       "      <td>1112.0</td>\n",
       "      <td>1112.000000</td>\n",
       "      <td>1112.000000</td>\n",
       "      <td>1112.000000</td>\n",
       "    </tr>\n",
       "    <tr>\n",
       "      <th>mean</th>\n",
       "      <td>0.054856</td>\n",
       "      <td>0.0</td>\n",
       "      <td>0.003973</td>\n",
       "      <td>0.008094</td>\n",
       "      <td>0.023381</td>\n",
       "    </tr>\n",
       "    <tr>\n",
       "      <th>std</th>\n",
       "      <td>0.364557</td>\n",
       "      <td>0.0</td>\n",
       "      <td>0.026174</td>\n",
       "      <td>0.089640</td>\n",
       "      <td>0.151179</td>\n",
       "    </tr>\n",
       "    <tr>\n",
       "      <th>min</th>\n",
       "      <td>0.000000</td>\n",
       "      <td>0.0</td>\n",
       "      <td>0.000071</td>\n",
       "      <td>0.000000</td>\n",
       "      <td>0.000000</td>\n",
       "    </tr>\n",
       "    <tr>\n",
       "      <th>25%</th>\n",
       "      <td>0.000000</td>\n",
       "      <td>0.0</td>\n",
       "      <td>0.000424</td>\n",
       "      <td>0.000000</td>\n",
       "      <td>0.000000</td>\n",
       "    </tr>\n",
       "    <tr>\n",
       "      <th>50%</th>\n",
       "      <td>0.000000</td>\n",
       "      <td>0.0</td>\n",
       "      <td>0.000746</td>\n",
       "      <td>0.000000</td>\n",
       "      <td>0.000000</td>\n",
       "    </tr>\n",
       "    <tr>\n",
       "      <th>75%</th>\n",
       "      <td>0.000000</td>\n",
       "      <td>0.0</td>\n",
       "      <td>0.001252</td>\n",
       "      <td>0.000000</td>\n",
       "      <td>0.000000</td>\n",
       "    </tr>\n",
       "    <tr>\n",
       "      <th>max</th>\n",
       "      <td>3.000000</td>\n",
       "      <td>0.0</td>\n",
       "      <td>0.538637</td>\n",
       "      <td>1.000000</td>\n",
       "      <td>1.000000</td>\n",
       "    </tr>\n",
       "  </tbody>\n",
       "</table>\n",
       "</div>"
      ],
      "text/plain": [
       "       anomaly_labels  drift_labels  reconstruction_error  ano_prediction  \\\n",
       "count     1112.000000        1112.0           1112.000000     1112.000000   \n",
       "mean         0.054856           0.0              0.003973        0.008094   \n",
       "std          0.364557           0.0              0.026174        0.089640   \n",
       "min          0.000000           0.0              0.000071        0.000000   \n",
       "25%          0.000000           0.0              0.000424        0.000000   \n",
       "50%          0.000000           0.0              0.000746        0.000000   \n",
       "75%          0.000000           0.0              0.001252        0.000000   \n",
       "max          3.000000           0.0              0.538637        1.000000   \n",
       "\n",
       "       reduced_ano_labels  \n",
       "count         1112.000000  \n",
       "mean             0.023381  \n",
       "std              0.151179  \n",
       "min              0.000000  \n",
       "25%              0.000000  \n",
       "50%              0.000000  \n",
       "75%              0.000000  \n",
       "max              1.000000  "
      ]
     },
     "execution_count": 24,
     "metadata": {},
     "output_type": "execute_result"
    }
   ],
   "source": [
    "df_drift_class_0.describe()"
   ]
  },
  {
   "cell_type": "code",
   "execution_count": 25,
   "metadata": {},
   "outputs": [
    {
     "data": {
      "text/html": [
       "<div>\n",
       "<style scoped>\n",
       "    .dataframe tbody tr th:only-of-type {\n",
       "        vertical-align: middle;\n",
       "    }\n",
       "\n",
       "    .dataframe tbody tr th {\n",
       "        vertical-align: top;\n",
       "    }\n",
       "\n",
       "    .dataframe thead th {\n",
       "        text-align: right;\n",
       "    }\n",
       "</style>\n",
       "<table border=\"1\" class=\"dataframe\">\n",
       "  <thead>\n",
       "    <tr style=\"text-align: right;\">\n",
       "      <th></th>\n",
       "      <th>anomaly_labels</th>\n",
       "      <th>drift_labels</th>\n",
       "      <th>reconstruction_error</th>\n",
       "      <th>ano_prediction</th>\n",
       "      <th>reduced_ano_labels</th>\n",
       "    </tr>\n",
       "  </thead>\n",
       "  <tbody>\n",
       "    <tr>\n",
       "      <th>count</th>\n",
       "      <td>3132.000000</td>\n",
       "      <td>3132.0</td>\n",
       "      <td>3.132000e+03</td>\n",
       "      <td>3132.0</td>\n",
       "      <td>3132.000000</td>\n",
       "    </tr>\n",
       "    <tr>\n",
       "      <th>mean</th>\n",
       "      <td>0.009898</td>\n",
       "      <td>1.0</td>\n",
       "      <td>3.931895e+06</td>\n",
       "      <td>1.0</td>\n",
       "      <td>0.003512</td>\n",
       "    </tr>\n",
       "    <tr>\n",
       "      <th>std</th>\n",
       "      <td>0.170195</td>\n",
       "      <td>0.0</td>\n",
       "      <td>3.288909e+07</td>\n",
       "      <td>0.0</td>\n",
       "      <td>0.059169</td>\n",
       "    </tr>\n",
       "    <tr>\n",
       "      <th>min</th>\n",
       "      <td>0.000000</td>\n",
       "      <td>1.0</td>\n",
       "      <td>1.031072e+04</td>\n",
       "      <td>1.0</td>\n",
       "      <td>0.000000</td>\n",
       "    </tr>\n",
       "    <tr>\n",
       "      <th>25%</th>\n",
       "      <td>0.000000</td>\n",
       "      <td>1.0</td>\n",
       "      <td>3.392249e+04</td>\n",
       "      <td>1.0</td>\n",
       "      <td>0.000000</td>\n",
       "    </tr>\n",
       "    <tr>\n",
       "      <th>50%</th>\n",
       "      <td>0.000000</td>\n",
       "      <td>1.0</td>\n",
       "      <td>1.118555e+05</td>\n",
       "      <td>1.0</td>\n",
       "      <td>0.000000</td>\n",
       "    </tr>\n",
       "    <tr>\n",
       "      <th>75%</th>\n",
       "      <td>0.000000</td>\n",
       "      <td>1.0</td>\n",
       "      <td>1.472867e+05</td>\n",
       "      <td>1.0</td>\n",
       "      <td>0.000000</td>\n",
       "    </tr>\n",
       "    <tr>\n",
       "      <th>max</th>\n",
       "      <td>3.000000</td>\n",
       "      <td>1.0</td>\n",
       "      <td>4.243649e+08</td>\n",
       "      <td>1.0</td>\n",
       "      <td>1.000000</td>\n",
       "    </tr>\n",
       "  </tbody>\n",
       "</table>\n",
       "</div>"
      ],
      "text/plain": [
       "       anomaly_labels  drift_labels  reconstruction_error  ano_prediction  \\\n",
       "count     3132.000000        3132.0          3.132000e+03          3132.0   \n",
       "mean         0.009898           1.0          3.931895e+06             1.0   \n",
       "std          0.170195           0.0          3.288909e+07             0.0   \n",
       "min          0.000000           1.0          1.031072e+04             1.0   \n",
       "25%          0.000000           1.0          3.392249e+04             1.0   \n",
       "50%          0.000000           1.0          1.118555e+05             1.0   \n",
       "75%          0.000000           1.0          1.472867e+05             1.0   \n",
       "max          3.000000           1.0          4.243649e+08             1.0   \n",
       "\n",
       "       reduced_ano_labels  \n",
       "count         3132.000000  \n",
       "mean             0.003512  \n",
       "std              0.059169  \n",
       "min              0.000000  \n",
       "25%              0.000000  \n",
       "50%              0.000000  \n",
       "75%              0.000000  \n",
       "max              1.000000  "
      ]
     },
     "execution_count": 25,
     "metadata": {},
     "output_type": "execute_result"
    }
   ],
   "source": [
    "df_drift_class_1.describe()"
   ]
  },
  {
   "cell_type": "code",
   "execution_count": 26,
   "metadata": {},
   "outputs": [
    {
     "data": {
      "text/html": [
       "<div>\n",
       "<style scoped>\n",
       "    .dataframe tbody tr th:only-of-type {\n",
       "        vertical-align: middle;\n",
       "    }\n",
       "\n",
       "    .dataframe tbody tr th {\n",
       "        vertical-align: top;\n",
       "    }\n",
       "\n",
       "    .dataframe thead th {\n",
       "        text-align: right;\n",
       "    }\n",
       "</style>\n",
       "<table border=\"1\" class=\"dataframe\">\n",
       "  <thead>\n",
       "    <tr style=\"text-align: right;\">\n",
       "      <th></th>\n",
       "      <th>anomaly_labels</th>\n",
       "      <th>drift_labels</th>\n",
       "      <th>reconstruction_error</th>\n",
       "      <th>ano_prediction</th>\n",
       "      <th>reduced_ano_labels</th>\n",
       "    </tr>\n",
       "  </thead>\n",
       "  <tbody>\n",
       "    <tr>\n",
       "      <th>count</th>\n",
       "      <td>17855.000000</td>\n",
       "      <td>17855.0</td>\n",
       "      <td>17855.000000</td>\n",
       "      <td>17855.000000</td>\n",
       "      <td>17855.000000</td>\n",
       "    </tr>\n",
       "    <tr>\n",
       "      <th>mean</th>\n",
       "      <td>0.234836</td>\n",
       "      <td>2.0</td>\n",
       "      <td>1171.192880</td>\n",
       "      <td>0.127583</td>\n",
       "      <td>0.117614</td>\n",
       "    </tr>\n",
       "    <tr>\n",
       "      <th>std</th>\n",
       "      <td>0.643897</td>\n",
       "      <td>0.0</td>\n",
       "      <td>13867.366287</td>\n",
       "      <td>0.333635</td>\n",
       "      <td>0.322160</td>\n",
       "    </tr>\n",
       "    <tr>\n",
       "      <th>min</th>\n",
       "      <td>0.000000</td>\n",
       "      <td>2.0</td>\n",
       "      <td>0.000019</td>\n",
       "      <td>0.000000</td>\n",
       "      <td>0.000000</td>\n",
       "    </tr>\n",
       "    <tr>\n",
       "      <th>25%</th>\n",
       "      <td>0.000000</td>\n",
       "      <td>2.0</td>\n",
       "      <td>0.000271</td>\n",
       "      <td>0.000000</td>\n",
       "      <td>0.000000</td>\n",
       "    </tr>\n",
       "    <tr>\n",
       "      <th>50%</th>\n",
       "      <td>0.000000</td>\n",
       "      <td>2.0</td>\n",
       "      <td>0.000649</td>\n",
       "      <td>0.000000</td>\n",
       "      <td>0.000000</td>\n",
       "    </tr>\n",
       "    <tr>\n",
       "      <th>75%</th>\n",
       "      <td>0.000000</td>\n",
       "      <td>2.0</td>\n",
       "      <td>0.001839</td>\n",
       "      <td>0.000000</td>\n",
       "      <td>0.000000</td>\n",
       "    </tr>\n",
       "    <tr>\n",
       "      <th>max</th>\n",
       "      <td>3.000000</td>\n",
       "      <td>2.0</td>\n",
       "      <td>270386.750000</td>\n",
       "      <td>1.000000</td>\n",
       "      <td>1.000000</td>\n",
       "    </tr>\n",
       "  </tbody>\n",
       "</table>\n",
       "</div>"
      ],
      "text/plain": [
       "       anomaly_labels  drift_labels  reconstruction_error  ano_prediction  \\\n",
       "count    17855.000000       17855.0          17855.000000    17855.000000   \n",
       "mean         0.234836           2.0           1171.192880        0.127583   \n",
       "std          0.643897           0.0          13867.366287        0.333635   \n",
       "min          0.000000           2.0              0.000019        0.000000   \n",
       "25%          0.000000           2.0              0.000271        0.000000   \n",
       "50%          0.000000           2.0              0.000649        0.000000   \n",
       "75%          0.000000           2.0              0.001839        0.000000   \n",
       "max          3.000000           2.0         270386.750000        1.000000   \n",
       "\n",
       "       reduced_ano_labels  \n",
       "count        17855.000000  \n",
       "mean             0.117614  \n",
       "std              0.322160  \n",
       "min              0.000000  \n",
       "25%              0.000000  \n",
       "50%              0.000000  \n",
       "75%              0.000000  \n",
       "max              1.000000  "
      ]
     },
     "execution_count": 26,
     "metadata": {},
     "output_type": "execute_result"
    }
   ],
   "source": [
    "df_drift_class_2.describe()"
   ]
  },
  {
   "cell_type": "code",
   "execution_count": 27,
   "metadata": {},
   "outputs": [
    {
     "data": {
      "text/html": [
       "<div>\n",
       "<style scoped>\n",
       "    .dataframe tbody tr th:only-of-type {\n",
       "        vertical-align: middle;\n",
       "    }\n",
       "\n",
       "    .dataframe tbody tr th {\n",
       "        vertical-align: top;\n",
       "    }\n",
       "\n",
       "    .dataframe thead th {\n",
       "        text-align: right;\n",
       "    }\n",
       "</style>\n",
       "<table border=\"1\" class=\"dataframe\">\n",
       "  <thead>\n",
       "    <tr style=\"text-align: right;\">\n",
       "      <th></th>\n",
       "      <th>anomaly_labels</th>\n",
       "      <th>drift_labels</th>\n",
       "      <th>reconstruction_error</th>\n",
       "      <th>ano_prediction</th>\n",
       "      <th>reduced_ano_labels</th>\n",
       "    </tr>\n",
       "  </thead>\n",
       "  <tbody>\n",
       "    <tr>\n",
       "      <th>count</th>\n",
       "      <td>12941.000000</td>\n",
       "      <td>12941.0</td>\n",
       "      <td>12941.000000</td>\n",
       "      <td>12941.000000</td>\n",
       "      <td>12941.000000</td>\n",
       "    </tr>\n",
       "    <tr>\n",
       "      <th>mean</th>\n",
       "      <td>0.056642</td>\n",
       "      <td>3.0</td>\n",
       "      <td>0.037671</td>\n",
       "      <td>0.022950</td>\n",
       "      <td>0.027819</td>\n",
       "    </tr>\n",
       "    <tr>\n",
       "      <th>std</th>\n",
       "      <td>0.337904</td>\n",
       "      <td>0.0</td>\n",
       "      <td>0.263652</td>\n",
       "      <td>0.149751</td>\n",
       "      <td>0.164459</td>\n",
       "    </tr>\n",
       "    <tr>\n",
       "      <th>min</th>\n",
       "      <td>0.000000</td>\n",
       "      <td>3.0</td>\n",
       "      <td>0.000044</td>\n",
       "      <td>0.000000</td>\n",
       "      <td>0.000000</td>\n",
       "    </tr>\n",
       "    <tr>\n",
       "      <th>25%</th>\n",
       "      <td>0.000000</td>\n",
       "      <td>3.0</td>\n",
       "      <td>0.000439</td>\n",
       "      <td>0.000000</td>\n",
       "      <td>0.000000</td>\n",
       "    </tr>\n",
       "    <tr>\n",
       "      <th>50%</th>\n",
       "      <td>0.000000</td>\n",
       "      <td>3.0</td>\n",
       "      <td>0.000841</td>\n",
       "      <td>0.000000</td>\n",
       "      <td>0.000000</td>\n",
       "    </tr>\n",
       "    <tr>\n",
       "      <th>75%</th>\n",
       "      <td>0.000000</td>\n",
       "      <td>3.0</td>\n",
       "      <td>0.001509</td>\n",
       "      <td>0.000000</td>\n",
       "      <td>0.000000</td>\n",
       "    </tr>\n",
       "    <tr>\n",
       "      <th>max</th>\n",
       "      <td>3.000000</td>\n",
       "      <td>3.0</td>\n",
       "      <td>2.145881</td>\n",
       "      <td>1.000000</td>\n",
       "      <td>1.000000</td>\n",
       "    </tr>\n",
       "  </tbody>\n",
       "</table>\n",
       "</div>"
      ],
      "text/plain": [
       "       anomaly_labels  drift_labels  reconstruction_error  ano_prediction  \\\n",
       "count    12941.000000       12941.0          12941.000000    12941.000000   \n",
       "mean         0.056642           3.0              0.037671        0.022950   \n",
       "std          0.337904           0.0              0.263652        0.149751   \n",
       "min          0.000000           3.0              0.000044        0.000000   \n",
       "25%          0.000000           3.0              0.000439        0.000000   \n",
       "50%          0.000000           3.0              0.000841        0.000000   \n",
       "75%          0.000000           3.0              0.001509        0.000000   \n",
       "max          3.000000           3.0              2.145881        1.000000   \n",
       "\n",
       "       reduced_ano_labels  \n",
       "count        12941.000000  \n",
       "mean             0.027819  \n",
       "std              0.164459  \n",
       "min              0.000000  \n",
       "25%              0.000000  \n",
       "50%              0.000000  \n",
       "75%              0.000000  \n",
       "max              1.000000  "
      ]
     },
     "execution_count": 27,
     "metadata": {},
     "output_type": "execute_result"
    }
   ],
   "source": [
    "df_drift_class_3.describe()"
   ]
  },
  {
   "cell_type": "markdown",
   "metadata": {},
   "source": [
    "## KPIs per Drift Class"
   ]
  },
  {
   "cell_type": "code",
   "execution_count": 28,
   "metadata": {},
   "outputs": [],
   "source": [
    "from sklearn.metrics import confusion_matrix\n",
    "from sklearn.metrics import accuracy_score\n",
    "from sklearn.metrics import precision_score\n",
    "from mlxtend.plotting import plot_confusion_matrix\n",
    "from utils.evalUtils import calc_cm_metrics"
   ]
  },
  {
   "cell_type": "code",
   "execution_count": 29,
   "metadata": {},
   "outputs": [],
   "source": [
    "cm_dc_0 = confusion_matrix(df_drift_class_0['reduced_ano_labels'], df_drift_class_0['ano_prediction'])\n",
    "tn, fp, fn, tp  = cm_dc_0.ravel()"
   ]
  },
  {
   "cell_type": "code",
   "execution_count": 30,
   "metadata": {},
   "outputs": [
    {
     "name": "stdout",
     "output_type": "stream",
     "text": [
      "Accuracy: 98.47122302069721\n",
      "Precision: 99.99999988888888\n",
      "Specifity: 99.17808219087509\n",
      "Sensitivity: 34.615384602071\n",
      "F1-Score: 51.428571413877556\n"
     ]
    }
   ],
   "source": [
    "accuracy, precision, specifity, sensitivity, f1_score = calc_cm_metrics(tp, tn, fp, fn)\n",
    "print('Accuracy: {}'.format(accuracy))\n",
    "print('Precision: {}'.format(precision))\n",
    "print('Specifity: {}'.format(specifity))\n",
    "print('Sensitivity: {}'.format(sensitivity))\n",
    "print('F1-Score: {}'.format(f1_score))"
   ]
  },
  {
   "cell_type": "code",
   "execution_count": 31,
   "metadata": {},
   "outputs": [
    {
     "data": {
      "image/png": "[encoded data removed]",
      "text/plain": [
       "<Figure size 720x504 with 2 Axes>"
      ]
     },
     "metadata": {},
     "output_type": "display_data"
    }
   ],
   "source": [
    "fig = print_confusion_matrix(cm_dc_0, class_names=['k. Anomalie', 'Anomalie'])\n",
    "fig.suptitle('Confusion Matrix Drift Class 0 (Keine Manipulation)', fontsize=20)\n",
    "file_n = os.path.join(fig_path, 'cm_drift_class_0.pdf')\n",
    "fig.savefig(file_n, bbox_inches = 'tight', pad_inches = 0 )"
   ]
  },
  {
   "cell_type": "code",
   "execution_count": 32,
   "metadata": {},
   "outputs": [],
   "source": [
    "cm_dc_1 = confusion_matrix(df_drift_class_1['reduced_ano_labels'], df_drift_class_1['ano_prediction'])\n",
    "tn, fp, fn, tp  = cm_dc_1.ravel()"
   ]
  },
  {
   "cell_type": "code",
   "execution_count": 33,
   "metadata": {},
   "outputs": [
    {
     "name": "stdout",
     "output_type": "stream",
     "text": [
      "Accuracy: 0.3512132822466436\n",
      "Precision: 0.3512132822466436\n",
      "Specifity: 0.0\n",
      "Sensitivity: 99.9999999090909\n",
      "F1-Score: 0.69996818326217\n"
     ]
    }
   ],
   "source": [
    "accuracy, precision, specifity, sensitivity, f1_score = calc_cm_metrics(tp, tn, fp, fn)\n",
    "print('Accuracy: {}'.format(accuracy))\n",
    "print('Precision: {}'.format(precision))\n",
    "print('Specifity: {}'.format(specifity))\n",
    "print('Sensitivity: {}'.format(sensitivity))\n",
    "print('F1-Score: {}'.format(f1_score))"
   ]
  },
  {
   "cell_type": "code",
   "execution_count": 34,
   "metadata": {},
   "outputs": [
    {
     "data": {
      "image/png": "[encoded data removed]",
      "text/plain": [
       "<Figure size 720x504 with 2 Axes>"
      ]
     },
     "metadata": {},
     "output_type": "display_data"
    }
   ],
   "source": [
    "fig = print_confusion_matrix(cm_dc_1, class_names=['k. Anomalie', 'Anomalie'])\n",
    "fig.suptitle('Confusion Matrix Drift Class 1 (Switch)', fontsize=20)\n",
    "file_n = os.path.join(fig_path, 'meta_modell_cm_drift_class_1.pdf')\n",
    "fig.savefig(file_n, bbox_inches = 'tight', pad_inches = 0 )"
   ]
  },
  {
   "cell_type": "code",
   "execution_count": 35,
   "metadata": {},
   "outputs": [],
   "source": [
    "cm_dc_2 = confusion_matrix(df_drift_class_2['reduced_ano_labels'], df_drift_class_2['ano_prediction'])\n",
    "tn, fp, fn, tp  = cm_dc_2.ravel()"
   ]
  },
  {
   "cell_type": "code",
   "execution_count": 36,
   "metadata": {},
   "outputs": [
    {
     "name": "stdout",
     "output_type": "stream",
     "text": [
      "Accuracy: 98.8462615513308\n",
      "Precision: 91.57155399433024\n",
      "Specifity: 88.18063346360236\n",
      "Sensitivity: 99.33333333286032\n",
      "F1-Score: 95.2946550934324\n"
     ]
    }
   ],
   "source": [
    "accuracy, precision, specifity, sensitivity, f1_score = calc_cm_metrics(tp, tn, fp, fn)\n",
    "print('Accuracy: {}'.format(accuracy))\n",
    "print('Precision: {}'.format(precision))\n",
    "print('Specifity: {}'.format(specifity))\n",
    "print('Sensitivity: {}'.format(sensitivity))\n",
    "print('F1-Score: {}'.format(f1_score))"
   ]
  },
  {
   "cell_type": "code",
   "execution_count": 37,
   "metadata": {},
   "outputs": [
    {
     "data": {
      "image/png": "[encoded data removed]",
      "text/plain": [
       "<Figure size 720x504 with 2 Axes>"
      ]
     },
     "metadata": {},
     "output_type": "display_data"
    }
   ],
   "source": [
    "fig = print_confusion_matrix(cm_dc_2, class_names=['k. Anomalie', 'Anomalie'])\n",
    "fig.suptitle('Confusion Matrix Drift Class 2 (Load Mapping)', fontsize=20)\n",
    "file_n = os.path.join(fig_path, 'meta_modell_cm_drift_class_2.pdf')\n",
    "fig.savefig(file_n, bbox_inches = 'tight', pad_inches = 0 )"
   ]
  },
  {
   "cell_type": "code",
   "execution_count": 38,
   "metadata": {},
   "outputs": [],
   "source": [
    "cm_dc_3 = confusion_matrix(df_drift_class_3['reduced_ano_labels'], df_drift_class_3['ano_prediction'])\n",
    "tn, fp, fn, tp  = cm_dc_3.ravel()"
   ]
  },
  {
   "cell_type": "code",
   "execution_count": 39,
   "metadata": {},
   "outputs": [
    {
     "name": "stdout",
     "output_type": "stream",
     "text": [
      "Accuracy: 99.51317517958464\n",
      "Precision: 99.999999996633\n",
      "Specifity: 97.69374126409559\n",
      "Sensitivity: 82.49999999770833\n",
      "F1-Score: 90.41095890273347\n"
     ]
    }
   ],
   "source": [
    "accuracy, precision, specifity, sensitivity, f1_score = calc_cm_metrics(tp, tn, fp, fn)\n",
    "print('Accuracy: {}'.format(accuracy))\n",
    "print('Precision: {}'.format(precision))\n",
    "print('Specifity: {}'.format(specifity))\n",
    "print('Sensitivity: {}'.format(sensitivity))\n",
    "print('F1-Score: {}'.format(f1_score))"
   ]
  },
  {
   "cell_type": "code",
   "execution_count": 40,
   "metadata": {},
   "outputs": [
    {
     "data": {
      "image/png": "[encoded data removed]",
      "text/plain": [
       "<Figure size 720x504 with 2 Axes>"
      ]
     },
     "metadata": {},
     "output_type": "display_data"
    }
   ],
   "source": [
    "fig = print_confusion_matrix(cm_dc_3, class_names=['k. Anomalie', 'Anomalie'])\n",
    "fig.suptitle('Confusion Matrix Drift Class 3 (Cos Phi)', fontsize=20)\n",
    "file_n = os.path.join(fig_path, 'meta_modell_cm_drift_class_3.pdf')\n",
    "fig.savefig(file_n, bbox_inches = 'tight', pad_inches = 0 )"
   ]
  },
  {
   "cell_type": "code",
   "execution_count": null,
   "metadata": {},
   "outputs": [],
   "source": []
  },
  {
   "cell_type": "code",
   "execution_count": null,
   "metadata": {},
   "outputs": [],
   "source": []
  },
  {
   "cell_type": "code",
   "execution_count": null,
   "metadata": {},
   "outputs": [],
   "source": []
  }
 ],
 "metadata": {
  "kernelspec": {
   "display_name": "ma_modells",
   "language": "python",
   "name": "ma_modells"
  },
  "language_info": {
   "codemirror_mode": {
    "name": "ipython",
    "version": 3
   },
   "file_extension": ".py",
   "mimetype": "text/x-python",
   "name": "python",
   "nbconvert_exporter": "python",
   "pygments_lexer": "ipython3",
   "version": "3.7.6"
  }
 },
 "nbformat": 4,
 "nbformat_minor": 4
}
