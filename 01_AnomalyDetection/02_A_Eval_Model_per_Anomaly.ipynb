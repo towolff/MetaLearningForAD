{
 "cells": [
  {
   "cell_type": "markdown",
   "metadata": {},
   "source": [
    "# Evaluate Simple AE per Anomaly Class"
   ]
  },
  {
   "cell_type": "code",
   "execution_count": 59,
   "metadata": {},
   "outputs": [],
   "source": [
    "from sklearn.metrics import confusion_matrix\n",
    "from sklearn.metrics import accuracy_score\n",
    "from sklearn.metrics import precision_score\n",
    "from mlxtend.plotting import plot_confusion_matrix\n",
    "from utils.evalUtils import calc_cm_metrics\n",
    "from utils.evalUtils import print_confusion_matrix\n",
    "\n",
    "import joblib"
   ]
  },
  {
   "cell_type": "markdown",
   "metadata": {},
   "source": [
    "## Preperations"
   ]
  },
  {
   "cell_type": "code",
   "execution_count": 1,
   "metadata": {},
   "outputs": [
    {
     "name": "stdout",
     "output_type": "stream",
     "text": [
      "Imports..\n"
     ]
    }
   ],
   "source": [
    "%run -i ./scripts/PythonImports.py"
   ]
  },
  {
   "cell_type": "code",
   "execution_count": 2,
   "metadata": {},
   "outputs": [
    {
     "name": "stdout",
     "output_type": "stream",
     "text": [
      "Set configs..\n",
      "Read the data..\n",
      "Shape of normal data (X_sim): (105216, 17)\n",
      "Shape of anormal data (X_test): (35040, 18)\n",
      "Shape of drifted data (X_drifted): (35040, 18)\n",
      "Shape of drifted anormal data (X_drifted,anormal): (35040, 19)\n",
      "Save label..\n",
      "Shape of anormal data (X_test): (35040, 17)\n",
      "Shape of drifted data (X_drifted): (35040, 17)\n",
      "Shape of drifted anormal data (X_drifted,anormal): (35040, 17)\n",
      "Scale data..\n",
      "Prepare data for PyTorch..\n"
     ]
    }
   ],
   "source": [
    "%run -i ./scripts/EvalPreperations.py"
   ]
  },
  {
   "cell_type": "markdown",
   "metadata": {},
   "source": [
    "## Read AE & LogReg"
   ]
  },
  {
   "cell_type": "code",
   "execution_count": 3,
   "metadata": {},
   "outputs": [
    {
     "name": "stdout",
     "output_type": "stream",
     "text": [
      "Load trained simple AE..\n",
      "/home/torge/dev/masterthesis_code/02_Experimente/AnomalyDetection/models/model_bib/20200302_firstAE_model.pt\n",
      "SimpleAutoEncoder(\n",
      "  (encoder): Sequential(\n",
      "    (0): Linear(in_features=17, out_features=12, bias=True)\n",
      "    (1): ReLU(inplace=True)\n",
      "    (2): Linear(in_features=12, out_features=8, bias=True)\n",
      "    (3): Tanh()\n",
      "  )\n",
      "  (decoder): Sequential(\n",
      "    (0): Linear(in_features=8, out_features=12, bias=True)\n",
      "    (1): ReLU(inplace=True)\n",
      "    (2): Linear(in_features=12, out_features=17, bias=True)\n",
      "    (3): Tanh()\n",
      "  )\n",
      ")\n",
      "Load weights..\n"
     ]
    }
   ],
   "source": [
    "%run -i ./scripts/ReadSimpleAE_w_weights.py"
   ]
  },
  {
   "cell_type": "code",
   "execution_count": 4,
   "metadata": {},
   "outputs": [
    {
     "data": {
      "text/plain": [
       "models.SimpleAutoEncoder.SimpleAutoEncoder"
      ]
     },
     "execution_count": 4,
     "metadata": {},
     "output_type": "execute_result"
    }
   ],
   "source": [
    "type(model)"
   ]
  },
  {
   "cell_type": "code",
   "execution_count": 5,
   "metadata": {},
   "outputs": [
    {
     "name": "stdout",
     "output_type": "stream",
     "text": [
      "Load trained LogReg..\n",
      "LogisticRegression(C=1.0, class_weight={1: 2.0}, dual=False, fit_intercept=True,\n",
      "                   intercept_scaling=1, l1_ratio=None, max_iter=100,\n",
      "                   multi_class='auto', n_jobs=None, penalty='l2',\n",
      "                   random_state=42, solver='liblinear', tol=0.0001, verbose=0,\n",
      "                   warm_start=False)\n"
     ]
    }
   ],
   "source": [
    "%run -i ./scripts/ReadLogReg.py"
   ]
  },
  {
   "cell_type": "code",
   "execution_count": 6,
   "metadata": {},
   "outputs": [
    {
     "data": {
      "text/plain": [
       "sklearn.linear_model._logistic.LogisticRegression"
      ]
     },
     "execution_count": 6,
     "metadata": {},
     "output_type": "execute_result"
    }
   ],
   "source": [
    "type(clf)"
   ]
  },
  {
   "cell_type": "markdown",
   "metadata": {},
   "source": [
    "## Evaluation"
   ]
  },
  {
   "cell_type": "markdown",
   "metadata": {},
   "source": [
    "### On X_test"
   ]
  },
  {
   "cell_type": "code",
   "execution_count": 7,
   "metadata": {},
   "outputs": [],
   "source": [
    "df_x_test = pd.DataFrame(scaled_anormal)"
   ]
  },
  {
   "cell_type": "code",
   "execution_count": 12,
   "metadata": {},
   "outputs": [
    {
     "data": {
      "text/html": [
       "<div>\n",
       "<style scoped>\n",
       "    .dataframe tbody tr th:only-of-type {\n",
       "        vertical-align: middle;\n",
       "    }\n",
       "\n",
       "    .dataframe tbody tr th {\n",
       "        vertical-align: top;\n",
       "    }\n",
       "\n",
       "    .dataframe thead th {\n",
       "        text-align: right;\n",
       "    }\n",
       "</style>\n",
       "<table border=\"1\" class=\"dataframe\">\n",
       "  <thead>\n",
       "    <tr style=\"text-align: right;\">\n",
       "      <th></th>\n",
       "      <th>0</th>\n",
       "      <th>1</th>\n",
       "      <th>2</th>\n",
       "      <th>3</th>\n",
       "      <th>4</th>\n",
       "      <th>5</th>\n",
       "      <th>6</th>\n",
       "      <th>7</th>\n",
       "      <th>8</th>\n",
       "      <th>9</th>\n",
       "      <th>10</th>\n",
       "      <th>11</th>\n",
       "      <th>12</th>\n",
       "      <th>13</th>\n",
       "      <th>14</th>\n",
       "      <th>15</th>\n",
       "      <th>16</th>\n",
       "      <th>anomaly_labels</th>\n",
       "    </tr>\n",
       "  </thead>\n",
       "  <tbody>\n",
       "    <tr>\n",
       "      <th>0</th>\n",
       "      <td>-0.492913</td>\n",
       "      <td>-0.474743</td>\n",
       "      <td>-0.301436</td>\n",
       "      <td>-0.356423</td>\n",
       "      <td>-0.601364</td>\n",
       "      <td>-0.635563</td>\n",
       "      <td>-0.647363</td>\n",
       "      <td>-0.648449</td>\n",
       "      <td>-0.646976</td>\n",
       "      <td>-0.597815</td>\n",
       "      <td>-0.862852</td>\n",
       "      <td>-0.866244</td>\n",
       "      <td>0.440097</td>\n",
       "      <td>0.492273</td>\n",
       "      <td>0.793462</td>\n",
       "      <td>-0.547574</td>\n",
       "      <td>-0.862468</td>\n",
       "      <td>0.0</td>\n",
       "    </tr>\n",
       "    <tr>\n",
       "      <th>1</th>\n",
       "      <td>-0.505906</td>\n",
       "      <td>-0.489319</td>\n",
       "      <td>-0.310264</td>\n",
       "      <td>-0.372325</td>\n",
       "      <td>-0.599158</td>\n",
       "      <td>-0.622188</td>\n",
       "      <td>-0.675583</td>\n",
       "      <td>-0.676633</td>\n",
       "      <td>-0.675202</td>\n",
       "      <td>-0.615325</td>\n",
       "      <td>-0.846472</td>\n",
       "      <td>-0.849955</td>\n",
       "      <td>0.453095</td>\n",
       "      <td>0.506418</td>\n",
       "      <td>0.807068</td>\n",
       "      <td>-0.560736</td>\n",
       "      <td>-0.846042</td>\n",
       "      <td>0.0</td>\n",
       "    </tr>\n",
       "    <tr>\n",
       "      <th>2</th>\n",
       "      <td>-0.516472</td>\n",
       "      <td>-0.501424</td>\n",
       "      <td>-0.317097</td>\n",
       "      <td>-0.385840</td>\n",
       "      <td>-0.595586</td>\n",
       "      <td>-0.608352</td>\n",
       "      <td>-0.700501</td>\n",
       "      <td>-0.701514</td>\n",
       "      <td>-0.700127</td>\n",
       "      <td>-0.630084</td>\n",
       "      <td>-0.835318</td>\n",
       "      <td>-0.838847</td>\n",
       "      <td>0.463743</td>\n",
       "      <td>0.518097</td>\n",
       "      <td>0.816319</td>\n",
       "      <td>-0.571394</td>\n",
       "      <td>-0.834857</td>\n",
       "      <td>0.0</td>\n",
       "    </tr>\n",
       "    <tr>\n",
       "      <th>3</th>\n",
       "      <td>-0.533592</td>\n",
       "      <td>-0.519612</td>\n",
       "      <td>-0.331012</td>\n",
       "      <td>-0.404536</td>\n",
       "      <td>0.306616</td>\n",
       "      <td>-0.605617</td>\n",
       "      <td>-0.728748</td>\n",
       "      <td>-0.729715</td>\n",
       "      <td>-0.728384</td>\n",
       "      <td>-0.651311</td>\n",
       "      <td>-0.822841</td>\n",
       "      <td>-0.826408</td>\n",
       "      <td>0.480644</td>\n",
       "      <td>0.536055</td>\n",
       "      <td>0.826656</td>\n",
       "      <td>-0.589021</td>\n",
       "      <td>-0.822345</td>\n",
       "      <td>2.0</td>\n",
       "    </tr>\n",
       "    <tr>\n",
       "      <th>4</th>\n",
       "      <td>-0.568562</td>\n",
       "      <td>-0.554805</td>\n",
       "      <td>-0.363015</td>\n",
       "      <td>-0.438289</td>\n",
       "      <td>0.277754</td>\n",
       "      <td>-0.625982</td>\n",
       "      <td>-0.770153</td>\n",
       "      <td>-0.771041</td>\n",
       "      <td>-0.769808</td>\n",
       "      <td>-0.690881</td>\n",
       "      <td>-0.799175</td>\n",
       "      <td>-0.802784</td>\n",
       "      <td>0.514673</td>\n",
       "      <td>0.571425</td>\n",
       "      <td>0.846239</td>\n",
       "      <td>-0.625467</td>\n",
       "      <td>-0.798613</td>\n",
       "      <td>2.0</td>\n",
       "    </tr>\n",
       "  </tbody>\n",
       "</table>\n",
       "</div>"
      ],
      "text/plain": [
       "          0         1         2         3         4         5         6  \\\n",
       "0 -0.492913 -0.474743 -0.301436 -0.356423 -0.601364 -0.635563 -0.647363   \n",
       "1 -0.505906 -0.489319 -0.310264 -0.372325 -0.599158 -0.622188 -0.675583   \n",
       "2 -0.516472 -0.501424 -0.317097 -0.385840 -0.595586 -0.608352 -0.700501   \n",
       "3 -0.533592 -0.519612 -0.331012 -0.404536  0.306616 -0.605617 -0.728748   \n",
       "4 -0.568562 -0.554805 -0.363015 -0.438289  0.277754 -0.625982 -0.770153   \n",
       "\n",
       "          7         8         9        10        11        12        13  \\\n",
       "0 -0.648449 -0.646976 -0.597815 -0.862852 -0.866244  0.440097  0.492273   \n",
       "1 -0.676633 -0.675202 -0.615325 -0.846472 -0.849955  0.453095  0.506418   \n",
       "2 -0.701514 -0.700127 -0.630084 -0.835318 -0.838847  0.463743  0.518097   \n",
       "3 -0.729715 -0.728384 -0.651311 -0.822841 -0.826408  0.480644  0.536055   \n",
       "4 -0.771041 -0.769808 -0.690881 -0.799175 -0.802784  0.514673  0.571425   \n",
       "\n",
       "         14        15        16  anomaly_labels  \n",
       "0  0.793462 -0.547574 -0.862468             0.0  \n",
       "1  0.807068 -0.560736 -0.846042             0.0  \n",
       "2  0.816319 -0.571394 -0.834857             0.0  \n",
       "3  0.826656 -0.589021 -0.822345             2.0  \n",
       "4  0.846239 -0.625467 -0.798613             2.0  "
      ]
     },
     "execution_count": 12,
     "metadata": {},
     "output_type": "execute_result"
    }
   ],
   "source": [
    "df_x_test.head()"
   ]
  },
  {
   "cell_type": "code",
   "execution_count": 9,
   "metadata": {},
   "outputs": [],
   "source": [
    "s_labels.reset_index(drop=True, inplace=True)"
   ]
  },
  {
   "cell_type": "code",
   "execution_count": 11,
   "metadata": {},
   "outputs": [],
   "source": [
    "df_x_test['anomaly_labels'] = s_labels"
   ]
  },
  {
   "cell_type": "code",
   "execution_count": 28,
   "metadata": {},
   "outputs": [],
   "source": [
    "losses_anormal = []\n",
    "for val in anormal_torch_tensor:\n",
    "    loss = model.calc_reconstruction_error(val)\n",
    "    losses_anormal.append(loss.item())\n",
    "    \n",
    "s_losses_anormal = pd.Series(losses_anormal)"
   ]
  },
  {
   "cell_type": "code",
   "execution_count": 29,
   "metadata": {},
   "outputs": [],
   "source": [
    "X = s_losses_anormal.to_numpy()\n",
    "X = X.reshape(-1, 1)"
   ]
  },
  {
   "cell_type": "code",
   "execution_count": 30,
   "metadata": {},
   "outputs": [],
   "source": [
    "predictions_anormal = []\n",
    "for val in X:\n",
    "    val = val.reshape(1,-1)\n",
    "    pred = clf.predict(val)\n",
    "    predictions_anormal.append(pred[0])"
   ]
  },
  {
   "cell_type": "code",
   "execution_count": 32,
   "metadata": {},
   "outputs": [],
   "source": [
    "df_x_test['ano_predictions']  = predictions_anormal"
   ]
  },
  {
   "cell_type": "code",
   "execution_count": 33,
   "metadata": {},
   "outputs": [],
   "source": [
    "df_x_test['reconstruction_error'] = s_losses_anormal"
   ]
  },
  {
   "cell_type": "code",
   "execution_count": 34,
   "metadata": {},
   "outputs": [
    {
     "data": {
      "text/html": [
       "<div>\n",
       "<style scoped>\n",
       "    .dataframe tbody tr th:only-of-type {\n",
       "        vertical-align: middle;\n",
       "    }\n",
       "\n",
       "    .dataframe tbody tr th {\n",
       "        vertical-align: top;\n",
       "    }\n",
       "\n",
       "    .dataframe thead th {\n",
       "        text-align: right;\n",
       "    }\n",
       "</style>\n",
       "<table border=\"1\" class=\"dataframe\">\n",
       "  <thead>\n",
       "    <tr style=\"text-align: right;\">\n",
       "      <th></th>\n",
       "      <th>0</th>\n",
       "      <th>1</th>\n",
       "      <th>2</th>\n",
       "      <th>3</th>\n",
       "      <th>4</th>\n",
       "      <th>5</th>\n",
       "      <th>6</th>\n",
       "      <th>7</th>\n",
       "      <th>8</th>\n",
       "      <th>9</th>\n",
       "      <th>10</th>\n",
       "      <th>11</th>\n",
       "      <th>12</th>\n",
       "      <th>13</th>\n",
       "      <th>14</th>\n",
       "      <th>15</th>\n",
       "      <th>16</th>\n",
       "      <th>anomaly_labels</th>\n",
       "      <th>ano_predictions</th>\n",
       "      <th>reconstruction_error</th>\n",
       "    </tr>\n",
       "  </thead>\n",
       "  <tbody>\n",
       "    <tr>\n",
       "      <th>0</th>\n",
       "      <td>-0.492913</td>\n",
       "      <td>-0.474743</td>\n",
       "      <td>-0.301436</td>\n",
       "      <td>-0.356423</td>\n",
       "      <td>-0.601364</td>\n",
       "      <td>-0.635563</td>\n",
       "      <td>-0.647363</td>\n",
       "      <td>-0.648449</td>\n",
       "      <td>-0.646976</td>\n",
       "      <td>-0.597815</td>\n",
       "      <td>-0.862852</td>\n",
       "      <td>-0.866244</td>\n",
       "      <td>0.440097</td>\n",
       "      <td>0.492273</td>\n",
       "      <td>0.793462</td>\n",
       "      <td>-0.547574</td>\n",
       "      <td>-0.862468</td>\n",
       "      <td>0.0</td>\n",
       "      <td>0</td>\n",
       "      <td>0.001000</td>\n",
       "    </tr>\n",
       "    <tr>\n",
       "      <th>1</th>\n",
       "      <td>-0.505906</td>\n",
       "      <td>-0.489319</td>\n",
       "      <td>-0.310264</td>\n",
       "      <td>-0.372325</td>\n",
       "      <td>-0.599158</td>\n",
       "      <td>-0.622188</td>\n",
       "      <td>-0.675583</td>\n",
       "      <td>-0.676633</td>\n",
       "      <td>-0.675202</td>\n",
       "      <td>-0.615325</td>\n",
       "      <td>-0.846472</td>\n",
       "      <td>-0.849955</td>\n",
       "      <td>0.453095</td>\n",
       "      <td>0.506418</td>\n",
       "      <td>0.807068</td>\n",
       "      <td>-0.560736</td>\n",
       "      <td>-0.846042</td>\n",
       "      <td>0.0</td>\n",
       "      <td>0</td>\n",
       "      <td>0.001093</td>\n",
       "    </tr>\n",
       "    <tr>\n",
       "      <th>2</th>\n",
       "      <td>-0.516472</td>\n",
       "      <td>-0.501424</td>\n",
       "      <td>-0.317097</td>\n",
       "      <td>-0.385840</td>\n",
       "      <td>-0.595586</td>\n",
       "      <td>-0.608352</td>\n",
       "      <td>-0.700501</td>\n",
       "      <td>-0.701514</td>\n",
       "      <td>-0.700127</td>\n",
       "      <td>-0.630084</td>\n",
       "      <td>-0.835318</td>\n",
       "      <td>-0.838847</td>\n",
       "      <td>0.463743</td>\n",
       "      <td>0.518097</td>\n",
       "      <td>0.816319</td>\n",
       "      <td>-0.571394</td>\n",
       "      <td>-0.834857</td>\n",
       "      <td>0.0</td>\n",
       "      <td>0</td>\n",
       "      <td>0.001211</td>\n",
       "    </tr>\n",
       "    <tr>\n",
       "      <th>3</th>\n",
       "      <td>-0.533592</td>\n",
       "      <td>-0.519612</td>\n",
       "      <td>-0.331012</td>\n",
       "      <td>-0.404536</td>\n",
       "      <td>0.306616</td>\n",
       "      <td>-0.605617</td>\n",
       "      <td>-0.728748</td>\n",
       "      <td>-0.729715</td>\n",
       "      <td>-0.728384</td>\n",
       "      <td>-0.651311</td>\n",
       "      <td>-0.822841</td>\n",
       "      <td>-0.826408</td>\n",
       "      <td>0.480644</td>\n",
       "      <td>0.536055</td>\n",
       "      <td>0.826656</td>\n",
       "      <td>-0.589021</td>\n",
       "      <td>-0.822345</td>\n",
       "      <td>2.0</td>\n",
       "      <td>0</td>\n",
       "      <td>0.044296</td>\n",
       "    </tr>\n",
       "    <tr>\n",
       "      <th>4</th>\n",
       "      <td>-0.568562</td>\n",
       "      <td>-0.554805</td>\n",
       "      <td>-0.363015</td>\n",
       "      <td>-0.438289</td>\n",
       "      <td>0.277754</td>\n",
       "      <td>-0.625982</td>\n",
       "      <td>-0.770153</td>\n",
       "      <td>-0.771041</td>\n",
       "      <td>-0.769808</td>\n",
       "      <td>-0.690881</td>\n",
       "      <td>-0.799175</td>\n",
       "      <td>-0.802784</td>\n",
       "      <td>0.514673</td>\n",
       "      <td>0.571425</td>\n",
       "      <td>0.846239</td>\n",
       "      <td>-0.625467</td>\n",
       "      <td>-0.798613</td>\n",
       "      <td>2.0</td>\n",
       "      <td>0</td>\n",
       "      <td>0.045966</td>\n",
       "    </tr>\n",
       "    <tr>\n",
       "      <th>5</th>\n",
       "      <td>-0.614759</td>\n",
       "      <td>-0.600641</td>\n",
       "      <td>-0.406691</td>\n",
       "      <td>-0.481397</td>\n",
       "      <td>0.233781</td>\n",
       "      <td>-0.662315</td>\n",
       "      <td>-0.819121</td>\n",
       "      <td>-0.819895</td>\n",
       "      <td>-0.818811</td>\n",
       "      <td>-0.741916</td>\n",
       "      <td>-0.768903</td>\n",
       "      <td>-0.772522</td>\n",
       "      <td>0.559531</td>\n",
       "      <td>0.617762</td>\n",
       "      <td>0.871254</td>\n",
       "      <td>-0.673760</td>\n",
       "      <td>-0.768257</td>\n",
       "      <td>2.0</td>\n",
       "      <td>0</td>\n",
       "      <td>0.044082</td>\n",
       "    </tr>\n",
       "    <tr>\n",
       "      <th>6</th>\n",
       "      <td>-0.664226</td>\n",
       "      <td>-0.649147</td>\n",
       "      <td>-0.453336</td>\n",
       "      <td>-0.526079</td>\n",
       "      <td>0.184694</td>\n",
       "      <td>-0.705052</td>\n",
       "      <td>-0.867957</td>\n",
       "      <td>-0.868586</td>\n",
       "      <td>-0.867695</td>\n",
       "      <td>-0.795049</td>\n",
       "      <td>-0.730703</td>\n",
       "      <td>-0.734284</td>\n",
       "      <td>0.607430</td>\n",
       "      <td>0.667076</td>\n",
       "      <td>0.902782</td>\n",
       "      <td>-0.725405</td>\n",
       "      <td>-0.729949</td>\n",
       "      <td>2.0</td>\n",
       "      <td>0</td>\n",
       "      <td>0.042641</td>\n",
       "    </tr>\n",
       "    <tr>\n",
       "      <th>7</th>\n",
       "      <td>-0.707256</td>\n",
       "      <td>-0.691597</td>\n",
       "      <td>-0.495476</td>\n",
       "      <td>-0.565681</td>\n",
       "      <td>0.139127</td>\n",
       "      <td>-0.745902</td>\n",
       "      <td>-0.910121</td>\n",
       "      <td>-0.910594</td>\n",
       "      <td>-0.909919</td>\n",
       "      <td>-0.842270</td>\n",
       "      <td>-0.701709</td>\n",
       "      <td>-0.705238</td>\n",
       "      <td>0.649449</td>\n",
       "      <td>0.710292</td>\n",
       "      <td>0.926691</td>\n",
       "      <td>-0.770459</td>\n",
       "      <td>-0.700875</td>\n",
       "      <td>2.0</td>\n",
       "      <td>0</td>\n",
       "      <td>0.041785</td>\n",
       "    </tr>\n",
       "    <tr>\n",
       "      <th>8</th>\n",
       "      <td>-0.737206</td>\n",
       "      <td>-0.721234</td>\n",
       "      <td>-0.525414</td>\n",
       "      <td>-0.593480</td>\n",
       "      <td>0.106210</td>\n",
       "      <td>-0.775914</td>\n",
       "      <td>-0.939219</td>\n",
       "      <td>-0.939563</td>\n",
       "      <td>-0.939070</td>\n",
       "      <td>-0.875473</td>\n",
       "      <td>-0.681278</td>\n",
       "      <td>-0.684760</td>\n",
       "      <td>0.678878</td>\n",
       "      <td>0.740533</td>\n",
       "      <td>0.943531</td>\n",
       "      <td>-0.801842</td>\n",
       "      <td>-0.680386</td>\n",
       "      <td>2.0</td>\n",
       "      <td>0</td>\n",
       "      <td>0.041450</td>\n",
       "    </tr>\n",
       "    <tr>\n",
       "      <th>9</th>\n",
       "      <td>-0.755477</td>\n",
       "      <td>-0.739372</td>\n",
       "      <td>-0.544410</td>\n",
       "      <td>-0.610629</td>\n",
       "      <td>0.084550</td>\n",
       "      <td>-0.796389</td>\n",
       "      <td>-0.956431</td>\n",
       "      <td>-0.956689</td>\n",
       "      <td>-0.956319</td>\n",
       "      <td>-0.896046</td>\n",
       "      <td>-0.668095</td>\n",
       "      <td>-0.671543</td>\n",
       "      <td>0.696963</td>\n",
       "      <td>0.759078</td>\n",
       "      <td>0.954394</td>\n",
       "      <td>-0.821051</td>\n",
       "      <td>-0.667167</td>\n",
       "      <td>2.0</td>\n",
       "      <td>0</td>\n",
       "      <td>0.041343</td>\n",
       "    </tr>\n",
       "  </tbody>\n",
       "</table>\n",
       "</div>"
      ],
      "text/plain": [
       "          0         1         2         3         4         5         6  \\\n",
       "0 -0.492913 -0.474743 -0.301436 -0.356423 -0.601364 -0.635563 -0.647363   \n",
       "1 -0.505906 -0.489319 -0.310264 -0.372325 -0.599158 -0.622188 -0.675583   \n",
       "2 -0.516472 -0.501424 -0.317097 -0.385840 -0.595586 -0.608352 -0.700501   \n",
       "3 -0.533592 -0.519612 -0.331012 -0.404536  0.306616 -0.605617 -0.728748   \n",
       "4 -0.568562 -0.554805 -0.363015 -0.438289  0.277754 -0.625982 -0.770153   \n",
       "5 -0.614759 -0.600641 -0.406691 -0.481397  0.233781 -0.662315 -0.819121   \n",
       "6 -0.664226 -0.649147 -0.453336 -0.526079  0.184694 -0.705052 -0.867957   \n",
       "7 -0.707256 -0.691597 -0.495476 -0.565681  0.139127 -0.745902 -0.910121   \n",
       "8 -0.737206 -0.721234 -0.525414 -0.593480  0.106210 -0.775914 -0.939219   \n",
       "9 -0.755477 -0.739372 -0.544410 -0.610629  0.084550 -0.796389 -0.956431   \n",
       "\n",
       "          7         8         9        10        11        12        13  \\\n",
       "0 -0.648449 -0.646976 -0.597815 -0.862852 -0.866244  0.440097  0.492273   \n",
       "1 -0.676633 -0.675202 -0.615325 -0.846472 -0.849955  0.453095  0.506418   \n",
       "2 -0.701514 -0.700127 -0.630084 -0.835318 -0.838847  0.463743  0.518097   \n",
       "3 -0.729715 -0.728384 -0.651311 -0.822841 -0.826408  0.480644  0.536055   \n",
       "4 -0.771041 -0.769808 -0.690881 -0.799175 -0.802784  0.514673  0.571425   \n",
       "5 -0.819895 -0.818811 -0.741916 -0.768903 -0.772522  0.559531  0.617762   \n",
       "6 -0.868586 -0.867695 -0.795049 -0.730703 -0.734284  0.607430  0.667076   \n",
       "7 -0.910594 -0.909919 -0.842270 -0.701709 -0.705238  0.649449  0.710292   \n",
       "8 -0.939563 -0.939070 -0.875473 -0.681278 -0.684760  0.678878  0.740533   \n",
       "9 -0.956689 -0.956319 -0.896046 -0.668095 -0.671543  0.696963  0.759078   \n",
       "\n",
       "         14        15        16  anomaly_labels  ano_predictions  \\\n",
       "0  0.793462 -0.547574 -0.862468             0.0                0   \n",
       "1  0.807068 -0.560736 -0.846042             0.0                0   \n",
       "2  0.816319 -0.571394 -0.834857             0.0                0   \n",
       "3  0.826656 -0.589021 -0.822345             2.0                0   \n",
       "4  0.846239 -0.625467 -0.798613             2.0                0   \n",
       "5  0.871254 -0.673760 -0.768257             2.0                0   \n",
       "6  0.902782 -0.725405 -0.729949             2.0                0   \n",
       "7  0.926691 -0.770459 -0.700875             2.0                0   \n",
       "8  0.943531 -0.801842 -0.680386             2.0                0   \n",
       "9  0.954394 -0.821051 -0.667167             2.0                0   \n",
       "\n",
       "   reconstruction_error  \n",
       "0              0.001000  \n",
       "1              0.001093  \n",
       "2              0.001211  \n",
       "3              0.044296  \n",
       "4              0.045966  \n",
       "5              0.044082  \n",
       "6              0.042641  \n",
       "7              0.041785  \n",
       "8              0.041450  \n",
       "9              0.041343  "
      ]
     },
     "execution_count": 34,
     "metadata": {},
     "output_type": "execute_result"
    }
   ],
   "source": [
    "df_x_test.head(10)"
   ]
  },
  {
   "cell_type": "code",
   "execution_count": 36,
   "metadata": {},
   "outputs": [
    {
     "data": {
      "text/plain": [
       "array([0., 2., 3., 1.])"
      ]
     },
     "execution_count": 36,
     "metadata": {},
     "output_type": "execute_result"
    }
   ],
   "source": [
    "df_x_test['anomaly_labels'].unique()"
   ]
  },
  {
   "cell_type": "code",
   "execution_count": 37,
   "metadata": {},
   "outputs": [],
   "source": [
    "df_x_test_class_0 = df_x_test[df_x_test['anomaly_labels'] == 0.0]\n",
    "df_x_test_class_1 = df_x_test[df_x_test['anomaly_labels'] == 1.0]\n",
    "df_x_test_class_2 = df_x_test[df_x_test['anomaly_labels'] == 2.0]\n",
    "df_x_test_class_3 = df_x_test[df_x_test['anomaly_labels'] == 3.0]"
   ]
  },
  {
   "cell_type": "code",
   "execution_count": 39,
   "metadata": {},
   "outputs": [
    {
     "name": "stdout",
     "output_type": "stream",
     "text": [
      "Anzahl Samples in Klasse 0: 32543\n",
      "Anzahl Samples in Klasse 1: 20\n",
      "Anzahl Samples in Klasse 2: 2433\n",
      "Anzahl Samples in Klasse 3: 44\n"
     ]
    }
   ],
   "source": [
    "print('Anzahl Samples in Klasse 0: {}'.format(len(df_x_test_class_0)))\n",
    "print('Anzahl Samples in Klasse 1: {}'.format(len(df_x_test_class_1)))\n",
    "print('Anzahl Samples in Klasse 2: {}'.format(len(df_x_test_class_2)))\n",
    "print('Anzahl Samples in Klasse 3: {}'.format(len(df_x_test_class_3)))"
   ]
  },
  {
   "cell_type": "code",
   "execution_count": 40,
   "metadata": {},
   "outputs": [
    {
     "data": {
      "text/plain": [
       "count    32543.000000\n",
       "mean         0.000966\n",
       "std          0.000993\n",
       "min          0.000019\n",
       "25%          0.000319\n",
       "50%          0.000637\n",
       "75%          0.001269\n",
       "max          0.010015\n",
       "Name: reconstruction_error, dtype: float64"
      ]
     },
     "execution_count": 40,
     "metadata": {},
     "output_type": "execute_result"
    }
   ],
   "source": [
    "df_x_test_class_0['reconstruction_error'].describe()"
   ]
  },
  {
   "cell_type": "code",
   "execution_count": 41,
   "metadata": {},
   "outputs": [
    {
     "data": {
      "text/plain": [
       "count     20.000000\n",
       "mean       7.660427\n",
       "std       33.752584\n",
       "min        0.000328\n",
       "25%        0.001998\n",
       "50%        0.003728\n",
       "75%        0.024557\n",
       "max      151.049057\n",
       "Name: reconstruction_error, dtype: float64"
      ]
     },
     "execution_count": 41,
     "metadata": {},
     "output_type": "execute_result"
    }
   ],
   "source": [
    "df_x_test_class_1['reconstruction_error'].describe()"
   ]
  },
  {
   "cell_type": "code",
   "execution_count": 42,
   "metadata": {},
   "outputs": [
    {
     "data": {
      "text/plain": [
       "count    2433.000000\n",
       "mean        5.574614\n",
       "std         2.841296\n",
       "min         0.041343\n",
       "25%         5.503012\n",
       "50%         6.228943\n",
       "75%         6.373536\n",
       "max        21.935600\n",
       "Name: reconstruction_error, dtype: float64"
      ]
     },
     "execution_count": 42,
     "metadata": {},
     "output_type": "execute_result"
    }
   ],
   "source": [
    "df_x_test_class_2['reconstruction_error'].describe()"
   ]
  },
  {
   "cell_type": "code",
   "execution_count": 43,
   "metadata": {},
   "outputs": [
    {
     "data": {
      "text/plain": [
       "count    44.000000\n",
       "mean      0.058051\n",
       "std       0.073337\n",
       "min       0.000978\n",
       "25%       0.004266\n",
       "50%       0.022027\n",
       "75%       0.084939\n",
       "max       0.298463\n",
       "Name: reconstruction_error, dtype: float64"
      ]
     },
     "execution_count": 43,
     "metadata": {},
     "output_type": "execute_result"
    }
   ],
   "source": [
    "df_x_test_class_3['reconstruction_error'].describe()"
   ]
  },
  {
   "cell_type": "code",
   "execution_count": 46,
   "metadata": {},
   "outputs": [],
   "source": [
    "y_class_0 = np.zeros(len(df_x_test_class_0))\n",
    "y_class_1 = np.ones(len(df_x_test_class_1))\n",
    "y_class_2 = np.ones(len(df_x_test_class_2))\n",
    "y_class_3 = np.ones(len(df_x_test_class_3))"
   ]
  },
  {
   "cell_type": "code",
   "execution_count": 107,
   "metadata": {},
   "outputs": [],
   "source": [
    "cm_class_0 = confusion_matrix(y_class_0, df_x_test_class_0['ano_predictions'])\n",
    "#tn, fp, fn, tp  = cm_class_0.ravel()\n",
    "tp = 0\n",
    "fp = 0\n",
    "tn = 32543\n",
    "fn = 0"
   ]
  },
  {
   "cell_type": "code",
   "execution_count": 108,
   "metadata": {},
   "outputs": [
    {
     "name": "stdout",
     "output_type": "stream",
     "text": [
      "Accuracy: 99.99999999996928\n",
      "Precision: 0.0\n",
      "Specifity: 99.99999999996928\n",
      "Sensitivity: 0.0\n",
      "F1-Score: 0.0\n"
     ]
    }
   ],
   "source": [
    "accuracy, precision, specifity, sensitivity, f1_score = calc_cm_metrics(tp, tn, fp, fn)\n",
    "print('Accuracy: {}'.format(accuracy))\n",
    "print('Precision: {}'.format(precision))\n",
    "print('Specifity: {}'.format(specifity))\n",
    "print('Sensitivity: {}'.format(sensitivity))\n",
    "print('F1-Score: {}'.format(f1_score))"
   ]
  },
  {
   "cell_type": "code",
   "execution_count": 51,
   "metadata": {},
   "outputs": [],
   "source": [
    "cm_class_1 = confusion_matrix(y_class_1, df_x_test_class_1['ano_predictions'])\n",
    "tn, fp, fn, tp  = cm_class_1.ravel()"
   ]
  },
  {
   "cell_type": "code",
   "execution_count": 55,
   "metadata": {},
   "outputs": [
    {
     "name": "stdout",
     "output_type": "stream",
     "text": [
      "Accuracy: 14.9999999925\n",
      "Precision: 99.99999966666667\n",
      "Specifity: 0.0\n",
      "Sensitivity: 14.9999999925\n",
      "F1-Score: 26.086956510396973\n"
     ]
    }
   ],
   "source": [
    "accuracy, precision, specifity, sensitivity, f1_score = calc_cm_metrics(tp, tn, fp, fn)\n",
    "print('Accuracy: {}'.format(accuracy))\n",
    "print('Precision: {}'.format(precision))\n",
    "print('Specifity: {}'.format(specifity))\n",
    "print('Sensitivity: {}'.format(sensitivity))\n",
    "print('F1-Score: {}'.format(f1_score))"
   ]
  },
  {
   "cell_type": "code",
   "execution_count": 70,
   "metadata": {},
   "outputs": [
    {
     "data": {
      "image/png": "[encoded data removed]",
      "text/plain": [
       "<Figure size 720x504 with 2 Axes>"
      ]
     },
     "metadata": {},
     "output_type": "display_data"
    }
   ],
   "source": [
    "fig = print_confusion_matrix(cm_class_1, class_names=['k. Anomalie', 'Anomalie'])\n",
    "fig.suptitle('Confusion Matrix X_test (Klasse: 1, Punktanomalie)', fontsize=20)\n",
    "file_n = os.path.join(fig_path, 'cm_ano_x_test_class_1.pdf')\n",
    "fig.savefig(file_n, bbox_inches = 'tight', pad_inches = 0 )"
   ]
  },
  {
   "cell_type": "code",
   "execution_count": 62,
   "metadata": {},
   "outputs": [],
   "source": [
    "cm_class_2 = confusion_matrix(y_class_2, df_x_test_class_2['ano_predictions'])\n",
    "tn, fp, fn, tp  = cm_class_2.ravel()"
   ]
  },
  {
   "cell_type": "code",
   "execution_count": 63,
   "metadata": {},
   "outputs": [
    {
     "name": "stdout",
     "output_type": "stream",
     "text": [
      "Accuracy: 98.06822852405233\n",
      "Precision: 99.9999999995809\n",
      "Specifity: 0.0\n",
      "Sensitivity: 98.06822852405233\n",
      "F1-Score: 99.02469391969491\n"
     ]
    }
   ],
   "source": [
    "accuracy, precision, specifity, sensitivity, f1_score = calc_cm_metrics(tp, tn, fp, fn)\n",
    "print('Accuracy: {}'.format(accuracy))\n",
    "print('Precision: {}'.format(precision))\n",
    "print('Specifity: {}'.format(specifity))\n",
    "print('Sensitivity: {}'.format(sensitivity))\n",
    "print('F1-Score: {}'.format(f1_score))"
   ]
  },
  {
   "cell_type": "code",
   "execution_count": 69,
   "metadata": {},
   "outputs": [
    {
     "data": {
      "image/png": "[encoded data removed]",
      "text/plain": [
       "<Figure size 720x504 with 2 Axes>"
      ]
     },
     "metadata": {},
     "output_type": "display_data"
    }
   ],
   "source": [
    "fig = print_confusion_matrix(cm_class_2, class_names=['k. Anomalie', 'Anomalie'])\n",
    "fig.suptitle('Confusion Matrix X_test (Klasse: 2, kollektive Anomalie)', fontsize=20)\n",
    "file_n = os.path.join(fig_path, 'cm_ano_x_test_class_2.pdf')\n",
    "fig.savefig(file_n, bbox_inches = 'tight', pad_inches = 0 )"
   ]
  },
  {
   "cell_type": "code",
   "execution_count": 66,
   "metadata": {},
   "outputs": [],
   "source": [
    "cm_class_3 = confusion_matrix(y_class_3, df_x_test_class_3['ano_predictions'])\n",
    "tn, fp, fn, tp  = cm_class_3.ravel()"
   ]
  },
  {
   "cell_type": "code",
   "execution_count": 67,
   "metadata": {},
   "outputs": [
    {
     "name": "stdout",
     "output_type": "stream",
     "text": [
      "Accuracy: 6.818181816632231\n",
      "Precision: 99.99999966666667\n",
      "Specifity: 0.0\n",
      "Sensitivity: 6.818181816632231\n",
      "F1-Score: 12.765957444092349\n"
     ]
    }
   ],
   "source": [
    "accuracy, precision, specifity, sensitivity, f1_score = calc_cm_metrics(tp, tn, fp, fn)\n",
    "print('Accuracy: {}'.format(accuracy))\n",
    "print('Precision: {}'.format(precision))\n",
    "print('Specifity: {}'.format(specifity))\n",
    "print('Sensitivity: {}'.format(sensitivity))\n",
    "print('F1-Score: {}'.format(f1_score))"
   ]
  },
  {
   "cell_type": "code",
   "execution_count": 71,
   "metadata": {},
   "outputs": [
    {
     "data": {
      "image/png": "[encoded data removed]",
      "text/plain": [
       "<Figure size 720x504 with 2 Axes>"
      ]
     },
     "metadata": {},
     "output_type": "display_data"
    }
   ],
   "source": [
    "fig = print_confusion_matrix(cm_class_3, class_names=['k. Anomalie', 'Anomalie'])\n",
    "fig.suptitle('Confusion Matrix X_test (Klasse: 3, Rauschen)', fontsize=20)\n",
    "file_n = os.path.join(fig_path, 'cm_ano_x_test_class_3.pdf')\n",
    "fig.savefig(file_n, bbox_inches = 'tight', pad_inches = 0 )"
   ]
  },
  {
   "cell_type": "markdown",
   "metadata": {},
   "source": [
    "## On X_drifted,ano"
   ]
  },
  {
   "cell_type": "code",
   "execution_count": 72,
   "metadata": {},
   "outputs": [],
   "source": [
    "df_x_drifted_ano = pd.DataFrame(scaled_drifted_anormal)"
   ]
  },
  {
   "cell_type": "code",
   "execution_count": 76,
   "metadata": {},
   "outputs": [
    {
     "data": {
      "text/html": [
       "<div>\n",
       "<style scoped>\n",
       "    .dataframe tbody tr th:only-of-type {\n",
       "        vertical-align: middle;\n",
       "    }\n",
       "\n",
       "    .dataframe tbody tr th {\n",
       "        vertical-align: top;\n",
       "    }\n",
       "\n",
       "    .dataframe thead th {\n",
       "        text-align: right;\n",
       "    }\n",
       "</style>\n",
       "<table border=\"1\" class=\"dataframe\">\n",
       "  <thead>\n",
       "    <tr style=\"text-align: right;\">\n",
       "      <th></th>\n",
       "      <th>0</th>\n",
       "      <th>1</th>\n",
       "      <th>2</th>\n",
       "      <th>3</th>\n",
       "      <th>4</th>\n",
       "      <th>5</th>\n",
       "      <th>6</th>\n",
       "      <th>7</th>\n",
       "      <th>8</th>\n",
       "      <th>9</th>\n",
       "      <th>10</th>\n",
       "      <th>11</th>\n",
       "      <th>12</th>\n",
       "      <th>13</th>\n",
       "      <th>14</th>\n",
       "      <th>15</th>\n",
       "      <th>16</th>\n",
       "      <th>anomaly_labels</th>\n",
       "    </tr>\n",
       "  </thead>\n",
       "  <tbody>\n",
       "    <tr>\n",
       "      <th>0</th>\n",
       "      <td>-0.361683</td>\n",
       "      <td>-0.340664</td>\n",
       "      <td>-0.195000</td>\n",
       "      <td>-0.226287</td>\n",
       "      <td>-0.533003</td>\n",
       "      <td>-0.619337</td>\n",
       "      <td>-0.464010</td>\n",
       "      <td>-0.465232</td>\n",
       "      <td>-0.463633</td>\n",
       "      <td>-0.448233</td>\n",
       "      <td>-0.934873</td>\n",
       "      <td>-0.937188</td>\n",
       "      <td>0.312905</td>\n",
       "      <td>0.358554</td>\n",
       "      <td>0.733022</td>\n",
       "      <td>-0.412400</td>\n",
       "      <td>-0.934690</td>\n",
       "      <td>0.0</td>\n",
       "    </tr>\n",
       "    <tr>\n",
       "      <th>1</th>\n",
       "      <td>-0.426634</td>\n",
       "      <td>-0.405138</td>\n",
       "      <td>-0.254874</td>\n",
       "      <td>-0.286832</td>\n",
       "      <td>-0.590971</td>\n",
       "      <td>-0.664934</td>\n",
       "      <td>-0.534886</td>\n",
       "      <td>-0.536075</td>\n",
       "      <td>-0.534497</td>\n",
       "      <td>-0.519722</td>\n",
       "      <td>-0.885071</td>\n",
       "      <td>-0.888276</td>\n",
       "      <td>0.375630</td>\n",
       "      <td>0.423473</td>\n",
       "      <td>0.774954</td>\n",
       "      <td>-0.480219</td>\n",
       "      <td>-0.884749</td>\n",
       "      <td>0.0</td>\n",
       "    </tr>\n",
       "    <tr>\n",
       "      <th>2</th>\n",
       "      <td>-0.488153</td>\n",
       "      <td>-0.466242</td>\n",
       "      <td>-0.311690</td>\n",
       "      <td>-0.344285</td>\n",
       "      <td>-0.646011</td>\n",
       "      <td>-0.708231</td>\n",
       "      <td>-0.602131</td>\n",
       "      <td>-0.603269</td>\n",
       "      <td>-0.601737</td>\n",
       "      <td>-0.587541</td>\n",
       "      <td>-0.840568</td>\n",
       "      <td>-0.844077</td>\n",
       "      <td>0.435098</td>\n",
       "      <td>0.485023</td>\n",
       "      <td>0.811966</td>\n",
       "      <td>-0.544449</td>\n",
       "      <td>-0.840122</td>\n",
       "      <td>0.0</td>\n",
       "    </tr>\n",
       "    <tr>\n",
       "      <th>3</th>\n",
       "      <td>-0.546848</td>\n",
       "      <td>-0.524637</td>\n",
       "      <td>-0.365881</td>\n",
       "      <td>-0.399325</td>\n",
       "      <td>-1.556294</td>\n",
       "      <td>-0.748869</td>\n",
       "      <td>-0.666872</td>\n",
       "      <td>-0.667940</td>\n",
       "      <td>-0.666483</td>\n",
       "      <td>-0.652450</td>\n",
       "      <td>-0.799833</td>\n",
       "      <td>-0.803441</td>\n",
       "      <td>0.491931</td>\n",
       "      <td>0.543870</td>\n",
       "      <td>0.845695</td>\n",
       "      <td>-0.605699</td>\n",
       "      <td>-0.799273</td>\n",
       "      <td>2.0</td>\n",
       "    </tr>\n",
       "    <tr>\n",
       "      <th>4</th>\n",
       "      <td>-0.602720</td>\n",
       "      <td>-0.580341</td>\n",
       "      <td>-0.417474</td>\n",
       "      <td>-0.451976</td>\n",
       "      <td>-1.605610</td>\n",
       "      <td>-0.786874</td>\n",
       "      <td>-0.729136</td>\n",
       "      <td>-0.730112</td>\n",
       "      <td>-0.728764</td>\n",
       "      <td>-0.714477</td>\n",
       "      <td>-0.762977</td>\n",
       "      <td>-0.766593</td>\n",
       "      <td>0.546162</td>\n",
       "      <td>0.600049</td>\n",
       "      <td>0.876147</td>\n",
       "      <td>-0.663961</td>\n",
       "      <td>-0.762314</td>\n",
       "      <td>2.0</td>\n",
       "    </tr>\n",
       "  </tbody>\n",
       "</table>\n",
       "</div>"
      ],
      "text/plain": [
       "          0         1         2         3         4         5         6  \\\n",
       "0 -0.361683 -0.340664 -0.195000 -0.226287 -0.533003 -0.619337 -0.464010   \n",
       "1 -0.426634 -0.405138 -0.254874 -0.286832 -0.590971 -0.664934 -0.534886   \n",
       "2 -0.488153 -0.466242 -0.311690 -0.344285 -0.646011 -0.708231 -0.602131   \n",
       "3 -0.546848 -0.524637 -0.365881 -0.399325 -1.556294 -0.748869 -0.666872   \n",
       "4 -0.602720 -0.580341 -0.417474 -0.451976 -1.605610 -0.786874 -0.729136   \n",
       "\n",
       "          7         8         9        10        11        12        13  \\\n",
       "0 -0.465232 -0.463633 -0.448233 -0.934873 -0.937188  0.312905  0.358554   \n",
       "1 -0.536075 -0.534497 -0.519722 -0.885071 -0.888276  0.375630  0.423473   \n",
       "2 -0.603269 -0.601737 -0.587541 -0.840568 -0.844077  0.435098  0.485023   \n",
       "3 -0.667940 -0.666483 -0.652450 -0.799833 -0.803441  0.491931  0.543870   \n",
       "4 -0.730112 -0.728764 -0.714477 -0.762977 -0.766593  0.546162  0.600049   \n",
       "\n",
       "         14        15        16  anomaly_labels  \n",
       "0  0.733022 -0.412400 -0.934690             0.0  \n",
       "1  0.774954 -0.480219 -0.884749             0.0  \n",
       "2  0.811966 -0.544449 -0.840122             0.0  \n",
       "3  0.845695 -0.605699 -0.799273             2.0  \n",
       "4  0.876147 -0.663961 -0.762314             2.0  "
      ]
     },
     "execution_count": 76,
     "metadata": {},
     "output_type": "execute_result"
    }
   ],
   "source": [
    "df_x_drifted_ano.head()"
   ]
  },
  {
   "cell_type": "code",
   "execution_count": 74,
   "metadata": {},
   "outputs": [],
   "source": [
    "s_ano_labels_drifted_ano.reset_index(drop=True, inplace=True)"
   ]
  },
  {
   "cell_type": "code",
   "execution_count": 75,
   "metadata": {},
   "outputs": [],
   "source": [
    "df_x_drifted_ano['anomaly_labels'] = s_ano_labels_drifted_ano"
   ]
  },
  {
   "cell_type": "code",
   "execution_count": 77,
   "metadata": {},
   "outputs": [],
   "source": [
    "losses_anormal_drifted = []\n",
    "for val in drifted_anormal_torch_tensor:\n",
    "    loss = model.calc_reconstruction_error(val)\n",
    "    losses_anormal_drifted.append(loss.item())\n",
    "    \n",
    "s_losses_anormal_drifted = pd.Series(losses_anormal_drifted)"
   ]
  },
  {
   "cell_type": "code",
   "execution_count": 78,
   "metadata": {},
   "outputs": [],
   "source": [
    "X = s_losses_anormal_drifted.to_numpy()\n",
    "X = X.reshape(-1, 1)"
   ]
  },
  {
   "cell_type": "code",
   "execution_count": 79,
   "metadata": {},
   "outputs": [],
   "source": [
    "predictions_anormal_Drifted = []\n",
    "for val in X:\n",
    "    val = val.reshape(1,-1)\n",
    "    pred = clf.predict(val)\n",
    "    predictions_anormal_Drifted.append(pred[0])"
   ]
  },
  {
   "cell_type": "code",
   "execution_count": 80,
   "metadata": {},
   "outputs": [],
   "source": [
    "df_x_drifted_ano['ano_predictions']  = predictions_anormal_Drifted"
   ]
  },
  {
   "cell_type": "code",
   "execution_count": 81,
   "metadata": {},
   "outputs": [],
   "source": [
    "df_x_drifted_ano['reconstruction_error'] = s_losses_anormal_drifted"
   ]
  },
  {
   "cell_type": "code",
   "execution_count": 82,
   "metadata": {},
   "outputs": [
    {
     "data": {
      "text/html": [
       "<div>\n",
       "<style scoped>\n",
       "    .dataframe tbody tr th:only-of-type {\n",
       "        vertical-align: middle;\n",
       "    }\n",
       "\n",
       "    .dataframe tbody tr th {\n",
       "        vertical-align: top;\n",
       "    }\n",
       "\n",
       "    .dataframe thead th {\n",
       "        text-align: right;\n",
       "    }\n",
       "</style>\n",
       "<table border=\"1\" class=\"dataframe\">\n",
       "  <thead>\n",
       "    <tr style=\"text-align: right;\">\n",
       "      <th></th>\n",
       "      <th>0</th>\n",
       "      <th>1</th>\n",
       "      <th>2</th>\n",
       "      <th>3</th>\n",
       "      <th>4</th>\n",
       "      <th>5</th>\n",
       "      <th>6</th>\n",
       "      <th>7</th>\n",
       "      <th>8</th>\n",
       "      <th>9</th>\n",
       "      <th>10</th>\n",
       "      <th>11</th>\n",
       "      <th>12</th>\n",
       "      <th>13</th>\n",
       "      <th>14</th>\n",
       "      <th>15</th>\n",
       "      <th>16</th>\n",
       "      <th>anomaly_labels</th>\n",
       "      <th>ano_predictions</th>\n",
       "      <th>reconstruction_error</th>\n",
       "    </tr>\n",
       "  </thead>\n",
       "  <tbody>\n",
       "    <tr>\n",
       "      <th>0</th>\n",
       "      <td>-0.361683</td>\n",
       "      <td>-0.340664</td>\n",
       "      <td>-0.195000</td>\n",
       "      <td>-0.226287</td>\n",
       "      <td>-0.533003</td>\n",
       "      <td>-0.619337</td>\n",
       "      <td>-0.464010</td>\n",
       "      <td>-0.465232</td>\n",
       "      <td>-0.463633</td>\n",
       "      <td>-0.448233</td>\n",
       "      <td>-0.934873</td>\n",
       "      <td>-0.937188</td>\n",
       "      <td>0.312905</td>\n",
       "      <td>0.358554</td>\n",
       "      <td>0.733022</td>\n",
       "      <td>-0.412400</td>\n",
       "      <td>-0.934690</td>\n",
       "      <td>0.0</td>\n",
       "      <td>0</td>\n",
       "      <td>0.000535</td>\n",
       "    </tr>\n",
       "    <tr>\n",
       "      <th>1</th>\n",
       "      <td>-0.426634</td>\n",
       "      <td>-0.405138</td>\n",
       "      <td>-0.254874</td>\n",
       "      <td>-0.286832</td>\n",
       "      <td>-0.590971</td>\n",
       "      <td>-0.664934</td>\n",
       "      <td>-0.534886</td>\n",
       "      <td>-0.536075</td>\n",
       "      <td>-0.534497</td>\n",
       "      <td>-0.519722</td>\n",
       "      <td>-0.885071</td>\n",
       "      <td>-0.888276</td>\n",
       "      <td>0.375630</td>\n",
       "      <td>0.423473</td>\n",
       "      <td>0.774954</td>\n",
       "      <td>-0.480219</td>\n",
       "      <td>-0.884749</td>\n",
       "      <td>0.0</td>\n",
       "      <td>0</td>\n",
       "      <td>0.000788</td>\n",
       "    </tr>\n",
       "    <tr>\n",
       "      <th>2</th>\n",
       "      <td>-0.488153</td>\n",
       "      <td>-0.466242</td>\n",
       "      <td>-0.311690</td>\n",
       "      <td>-0.344285</td>\n",
       "      <td>-0.646011</td>\n",
       "      <td>-0.708231</td>\n",
       "      <td>-0.602131</td>\n",
       "      <td>-0.603269</td>\n",
       "      <td>-0.601737</td>\n",
       "      <td>-0.587541</td>\n",
       "      <td>-0.840568</td>\n",
       "      <td>-0.844077</td>\n",
       "      <td>0.435098</td>\n",
       "      <td>0.485023</td>\n",
       "      <td>0.811966</td>\n",
       "      <td>-0.544449</td>\n",
       "      <td>-0.840122</td>\n",
       "      <td>0.0</td>\n",
       "      <td>0</td>\n",
       "      <td>0.001352</td>\n",
       "    </tr>\n",
       "    <tr>\n",
       "      <th>3</th>\n",
       "      <td>-0.546848</td>\n",
       "      <td>-0.524637</td>\n",
       "      <td>-0.365881</td>\n",
       "      <td>-0.399325</td>\n",
       "      <td>-1.556294</td>\n",
       "      <td>-0.748869</td>\n",
       "      <td>-0.666872</td>\n",
       "      <td>-0.667940</td>\n",
       "      <td>-0.666483</td>\n",
       "      <td>-0.652450</td>\n",
       "      <td>-0.799833</td>\n",
       "      <td>-0.803441</td>\n",
       "      <td>0.491931</td>\n",
       "      <td>0.543870</td>\n",
       "      <td>0.845695</td>\n",
       "      <td>-0.605699</td>\n",
       "      <td>-0.799273</td>\n",
       "      <td>2.0</td>\n",
       "      <td>0</td>\n",
       "      <td>0.055268</td>\n",
       "    </tr>\n",
       "    <tr>\n",
       "      <th>4</th>\n",
       "      <td>-0.602720</td>\n",
       "      <td>-0.580341</td>\n",
       "      <td>-0.417474</td>\n",
       "      <td>-0.451976</td>\n",
       "      <td>-1.605610</td>\n",
       "      <td>-0.786874</td>\n",
       "      <td>-0.729136</td>\n",
       "      <td>-0.730112</td>\n",
       "      <td>-0.728764</td>\n",
       "      <td>-0.714477</td>\n",
       "      <td>-0.762977</td>\n",
       "      <td>-0.766593</td>\n",
       "      <td>0.546162</td>\n",
       "      <td>0.600049</td>\n",
       "      <td>0.876147</td>\n",
       "      <td>-0.663961</td>\n",
       "      <td>-0.762314</td>\n",
       "      <td>2.0</td>\n",
       "      <td>0</td>\n",
       "      <td>0.054615</td>\n",
       "    </tr>\n",
       "  </tbody>\n",
       "</table>\n",
       "</div>"
      ],
      "text/plain": [
       "          0         1         2         3         4         5         6  \\\n",
       "0 -0.361683 -0.340664 -0.195000 -0.226287 -0.533003 -0.619337 -0.464010   \n",
       "1 -0.426634 -0.405138 -0.254874 -0.286832 -0.590971 -0.664934 -0.534886   \n",
       "2 -0.488153 -0.466242 -0.311690 -0.344285 -0.646011 -0.708231 -0.602131   \n",
       "3 -0.546848 -0.524637 -0.365881 -0.399325 -1.556294 -0.748869 -0.666872   \n",
       "4 -0.602720 -0.580341 -0.417474 -0.451976 -1.605610 -0.786874 -0.729136   \n",
       "\n",
       "          7         8         9        10        11        12        13  \\\n",
       "0 -0.465232 -0.463633 -0.448233 -0.934873 -0.937188  0.312905  0.358554   \n",
       "1 -0.536075 -0.534497 -0.519722 -0.885071 -0.888276  0.375630  0.423473   \n",
       "2 -0.603269 -0.601737 -0.587541 -0.840568 -0.844077  0.435098  0.485023   \n",
       "3 -0.667940 -0.666483 -0.652450 -0.799833 -0.803441  0.491931  0.543870   \n",
       "4 -0.730112 -0.728764 -0.714477 -0.762977 -0.766593  0.546162  0.600049   \n",
       "\n",
       "         14        15        16  anomaly_labels  ano_predictions  \\\n",
       "0  0.733022 -0.412400 -0.934690             0.0                0   \n",
       "1  0.774954 -0.480219 -0.884749             0.0                0   \n",
       "2  0.811966 -0.544449 -0.840122             0.0                0   \n",
       "3  0.845695 -0.605699 -0.799273             2.0                0   \n",
       "4  0.876147 -0.663961 -0.762314             2.0                0   \n",
       "\n",
       "   reconstruction_error  \n",
       "0              0.000535  \n",
       "1              0.000788  \n",
       "2              0.001352  \n",
       "3              0.055268  \n",
       "4              0.054615  "
      ]
     },
     "execution_count": 82,
     "metadata": {},
     "output_type": "execute_result"
    }
   ],
   "source": [
    "df_x_drifted_ano.head()"
   ]
  },
  {
   "cell_type": "code",
   "execution_count": 83,
   "metadata": {},
   "outputs": [],
   "source": [
    "df_drifted_ano_class_0 = df_x_drifted_ano[df_x_drifted_ano['anomaly_labels'] == 0.0]\n",
    "df_drifted_ano_class_1 = df_x_drifted_ano[df_x_drifted_ano['anomaly_labels'] == 1.0]\n",
    "df_drifted_ano_class_2 = df_x_drifted_ano[df_x_drifted_ano['anomaly_labels'] == 2.0]\n",
    "df_drifted_ano_class_3 = df_x_drifted_ano[df_x_drifted_ano['anomaly_labels'] == 3.0]"
   ]
  },
  {
   "cell_type": "code",
   "execution_count": 84,
   "metadata": {},
   "outputs": [
    {
     "name": "stdout",
     "output_type": "stream",
     "text": [
      "Anzahl Samples in Klasse 0: 32543\n",
      "Anzahl Samples in Klasse 1: 20\n",
      "Anzahl Samples in Klasse 2: 2433\n",
      "Anzahl Samples in Klasse 3: 44\n"
     ]
    }
   ],
   "source": [
    "print('Anzahl Samples in Klasse 0: {}'.format(len(df_drifted_ano_class_0)))\n",
    "print('Anzahl Samples in Klasse 1: {}'.format(len(df_drifted_ano_class_1)))\n",
    "print('Anzahl Samples in Klasse 2: {}'.format(len(df_drifted_ano_class_2)))\n",
    "print('Anzahl Samples in Klasse 3: {}'.format(len(df_drifted_ano_class_3)))"
   ]
  },
  {
   "cell_type": "code",
   "execution_count": 85,
   "metadata": {},
   "outputs": [
    {
     "data": {
      "text/plain": [
       "count    3.254300e+04\n",
       "mean     3.706185e+05\n",
       "std      1.025737e+07\n",
       "min      1.906640e-05\n",
       "25%      3.612474e-04\n",
       "50%      7.681654e-04\n",
       "75%      1.738768e-03\n",
       "max      4.243649e+08\n",
       "Name: reconstruction_error, dtype: float64"
      ]
     },
     "execution_count": 85,
     "metadata": {},
     "output_type": "execute_result"
    }
   ],
   "source": [
    "df_drifted_ano_class_0['reconstruction_error'].describe()"
   ]
  },
  {
   "cell_type": "code",
   "execution_count": 86,
   "metadata": {},
   "outputs": [
    {
     "data": {
      "text/plain": [
       "count    2.000000e+01\n",
       "mean     1.419175e+06\n",
       "std      6.346707e+06\n",
       "min      3.307548e-04\n",
       "25%      1.879122e-03\n",
       "50%      3.884253e-03\n",
       "75%      2.709081e-02\n",
       "max      2.838335e+07\n",
       "Name: reconstruction_error, dtype: float64"
      ]
     },
     "execution_count": 86,
     "metadata": {},
     "output_type": "execute_result"
    }
   ],
   "source": [
    "df_drifted_ano_class_1['reconstruction_error'].describe()"
   ]
  },
  {
   "cell_type": "code",
   "execution_count": 87,
   "metadata": {},
   "outputs": [
    {
     "data": {
      "text/plain": [
       "count    2433.000000\n",
       "mean        5.419435\n",
       "std         2.988890\n",
       "min         0.052386\n",
       "25%         4.911582\n",
       "50%         5.781361\n",
       "75%         6.355861\n",
       "max        22.420067\n",
       "Name: reconstruction_error, dtype: float64"
      ]
     },
     "execution_count": 87,
     "metadata": {},
     "output_type": "execute_result"
    }
   ],
   "source": [
    "df_drifted_ano_class_2['reconstruction_error'].describe()"
   ]
  },
  {
   "cell_type": "code",
   "execution_count": 88,
   "metadata": {},
   "outputs": [
    {
     "data": {
      "text/plain": [
       "count    4.400000e+01\n",
       "mean     5.594815e+06\n",
       "std      1.044148e+07\n",
       "min      5.611912e-04\n",
       "25%      6.042750e-03\n",
       "50%      1.774475e-02\n",
       "75%      3.248183e-01\n",
       "max      2.586188e+07\n",
       "Name: reconstruction_error, dtype: float64"
      ]
     },
     "execution_count": 88,
     "metadata": {},
     "output_type": "execute_result"
    }
   ],
   "source": [
    "df_drifted_ano_class_3['reconstruction_error'].describe()"
   ]
  },
  {
   "cell_type": "code",
   "execution_count": 89,
   "metadata": {},
   "outputs": [],
   "source": [
    "y_class_0 = np.zeros(len(df_drifted_ano_class_0))\n",
    "y_class_1 = np.ones(len(df_drifted_ano_class_1))\n",
    "y_class_2 = np.ones(len(df_drifted_ano_class_2))\n",
    "y_class_3 = np.ones(len(df_drifted_ano_class_3))"
   ]
  },
  {
   "cell_type": "code",
   "execution_count": 90,
   "metadata": {},
   "outputs": [],
   "source": [
    "cm_class_0 = confusion_matrix(y_class_0, df_drifted_ano_class_0['ano_predictions'])\n",
    "tn, fp, fn, tp  = cm_class_0.ravel()"
   ]
  },
  {
   "cell_type": "code",
   "execution_count": 91,
   "metadata": {},
   "outputs": [
    {
     "name": "stdout",
     "output_type": "stream",
     "text": [
      "Accuracy: 89.819623267649\n",
      "Precision: 0.0\n",
      "Specifity: 99.99999999996578\n",
      "Sensitivity: 0.0\n",
      "F1-Score: 0.0\n"
     ]
    }
   ],
   "source": [
    "accuracy, precision, specifity, sensitivity, f1_score = calc_cm_metrics(tp, tn, fp, fn)\n",
    "print('Accuracy: {}'.format(accuracy))\n",
    "print('Precision: {}'.format(precision))\n",
    "print('Specifity: {}'.format(specifity))\n",
    "print('Sensitivity: {}'.format(sensitivity))\n",
    "print('F1-Score: {}'.format(f1_score))"
   ]
  },
  {
   "cell_type": "code",
   "execution_count": 93,
   "metadata": {},
   "outputs": [
    {
     "data": {
      "image/png": "[encoded data removed]",
      "text/plain": [
       "<Figure size 720x504 with 2 Axes>"
      ]
     },
     "metadata": {},
     "output_type": "display_data"
    }
   ],
   "source": [
    "fig = print_confusion_matrix(cm_class_0, class_names=['k. Anomalie', 'Anomalie'])\n",
    "fig.suptitle('Confusion Matrix X_drifted,anormal (Klasse: 0, keine Anomalie)', fontsize=20)\n",
    "file_n = os.path.join(fig_path, 'cm_ano_x_drifted_ano_class_0.pdf')\n",
    "fig.savefig(file_n, bbox_inches = 'tight', pad_inches = 0 )"
   ]
  },
  {
   "cell_type": "code",
   "execution_count": 99,
   "metadata": {},
   "outputs": [],
   "source": [
    "cm_class_1 = confusion_matrix(y_class_1, df_drifted_ano_class_1['ano_predictions'])\n",
    "tn, fp, fn, tp  = cm_class_1.ravel()"
   ]
  },
  {
   "cell_type": "code",
   "execution_count": 100,
   "metadata": {},
   "outputs": [
    {
     "name": "stdout",
     "output_type": "stream",
     "text": [
      "Accuracy: 19.99999999\n",
      "Precision: 99.99999975\n",
      "Specifity: 0.0\n",
      "Sensitivity: 19.99999999\n",
      "F1-Score: 33.33333331944444\n"
     ]
    }
   ],
   "source": [
    "accuracy, precision, specifity, sensitivity, f1_score = calc_cm_metrics(tp, tn, fp, fn)\n",
    "print('Accuracy: {}'.format(accuracy))\n",
    "print('Precision: {}'.format(precision))\n",
    "print('Specifity: {}'.format(specifity))\n",
    "print('Sensitivity: {}'.format(sensitivity))\n",
    "print('F1-Score: {}'.format(f1_score))"
   ]
  },
  {
   "cell_type": "code",
   "execution_count": 96,
   "metadata": {},
   "outputs": [
    {
     "data": {
      "image/png": "[encoded data removed]",
      "text/plain": [
       "<Figure size 720x504 with 2 Axes>"
      ]
     },
     "metadata": {},
     "output_type": "display_data"
    }
   ],
   "source": [
    "fig = print_confusion_matrix(cm_class_1, class_names=['k. Anomalie', 'Anomalie'])\n",
    "fig.suptitle('Confusion Matrix X_drifted,anormal (Klasse: 1, Punktanomalie)', fontsize=20)\n",
    "file_n = os.path.join(fig_path, 'cm_ano_x_drifted_ano_class_1.pdf')\n",
    "fig.savefig(file_n, bbox_inches = 'tight', pad_inches = 0 )"
   ]
  },
  {
   "cell_type": "code",
   "execution_count": 101,
   "metadata": {},
   "outputs": [],
   "source": [
    "cm_class_2 = confusion_matrix(y_class_2, df_drifted_ano_class_2['ano_predictions'])\n",
    "tn, fp, fn, tp  = cm_class_2.ravel()"
   ]
  },
  {
   "cell_type": "code",
   "execution_count": 102,
   "metadata": {},
   "outputs": [
    {
     "name": "stdout",
     "output_type": "stream",
     "text": [
      "Accuracy: 98.10933004480843\n",
      "Precision: 99.99999999958106\n",
      "Specifity: 0.0\n",
      "Sensitivity: 98.10933004480843\n",
      "F1-Score: 99.04564315332148\n"
     ]
    }
   ],
   "source": [
    "accuracy, precision, specifity, sensitivity, f1_score = calc_cm_metrics(tp, tn, fp, fn)\n",
    "print('Accuracy: {}'.format(accuracy))\n",
    "print('Precision: {}'.format(precision))\n",
    "print('Specifity: {}'.format(specifity))\n",
    "print('Sensitivity: {}'.format(sensitivity))\n",
    "print('F1-Score: {}'.format(f1_score))"
   ]
  },
  {
   "cell_type": "code",
   "execution_count": 103,
   "metadata": {},
   "outputs": [
    {
     "data": {
      "image/png": "[encoded data removed]",
      "text/plain": [
       "<Figure size 720x504 with 2 Axes>"
      ]
     },
     "metadata": {},
     "output_type": "display_data"
    }
   ],
   "source": [
    "fig = print_confusion_matrix(cm_class_2, class_names=['k. Anomalie', 'Anomalie'])\n",
    "fig.suptitle('Confusion Matrix X_drifted,anormal (Klasse: 2, Kollektive Anomalien)', fontsize=20)\n",
    "file_n = os.path.join(fig_path, 'cm_ano_x_drifted_ano_class_2.pdf')\n",
    "fig.savefig(file_n, bbox_inches = 'tight', pad_inches = 0 )"
   ]
  },
  {
   "cell_type": "code",
   "execution_count": 104,
   "metadata": {},
   "outputs": [],
   "source": [
    "cm_class_3 = confusion_matrix(y_class_3, df_drifted_ano_class_3['ano_predictions'])\n",
    "tn, fp, fn, tp  = cm_class_3.ravel()"
   ]
  },
  {
   "cell_type": "code",
   "execution_count": 105,
   "metadata": {},
   "outputs": [
    {
     "name": "stdout",
     "output_type": "stream",
     "text": [
      "Accuracy: 27.272727266528925\n",
      "Precision: 99.99999991666667\n",
      "Specifity: 0.0\n",
      "Sensitivity: 27.272727266528925\n",
      "F1-Score: 42.85714284948979\n"
     ]
    }
   ],
   "source": [
    "accuracy, precision, specifity, sensitivity, f1_score = calc_cm_metrics(tp, tn, fp, fn)\n",
    "print('Accuracy: {}'.format(accuracy))\n",
    "print('Precision: {}'.format(precision))\n",
    "print('Specifity: {}'.format(specifity))\n",
    "print('Sensitivity: {}'.format(sensitivity))\n",
    "print('F1-Score: {}'.format(f1_score))"
   ]
  },
  {
   "cell_type": "code",
   "execution_count": 106,
   "metadata": {},
   "outputs": [
    {
     "data": {
      "image/png": "[encoded data removed]",
      "text/plain": [
       "<Figure size 720x504 with 2 Axes>"
      ]
     },
     "metadata": {},
     "output_type": "display_data"
    }
   ],
   "source": [
    "fig = print_confusion_matrix(cm_class_3, class_names=['k. Anomalie', 'Anomalie'])\n",
    "fig.suptitle('Confusion Matrix X_drifted,anormal (Klasse: 3, Rauschen)', fontsize=20)\n",
    "file_n = os.path.join(fig_path, 'cm_ano_x_drifted_ano_class_3.pdf')\n",
    "fig.savefig(file_n, bbox_inches = 'tight', pad_inches = 0 )"
   ]
  },
  {
   "cell_type": "code",
   "execution_count": null,
   "metadata": {},
   "outputs": [],
   "source": []
  }
 ],
 "metadata": {
  "kernelspec": {
   "display_name": "ma_modells",
   "language": "python",
   "name": "ma_modells"
  },
  "language_info": {
   "codemirror_mode": {
    "name": "ipython",
    "version": 3
   },
   "file_extension": ".py",
   "mimetype": "text/x-python",
   "name": "python",
   "nbconvert_exporter": "python",
   "pygments_lexer": "ipython3",
   "version": "3.7.6"
  }
 },
 "nbformat": 4,
 "nbformat_minor": 4
}
