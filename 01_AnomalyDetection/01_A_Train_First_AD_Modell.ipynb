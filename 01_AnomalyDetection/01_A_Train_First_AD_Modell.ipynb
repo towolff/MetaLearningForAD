{
 "cells": [
  {
   "cell_type": "markdown",
   "metadata": {},
   "source": [
    "## Anomaly Detection Model - FIRST"
   ]
  },
  {
   "cell_type": "markdown",
   "metadata": {},
   "source": [
    "### Modellbeschreibung:\n",
    "\n",
    "- Training auf den Jahren 2020 und 2021\n",
    "- Adam als Opzimizer\n",
    "- Komplexerer AE\n",
    "- Mehr als 6 Epochen\n",
    "- Normalisierung der Daten\n",
    "- Modell wie aus der Vorstudie"
   ]
  },
  {
   "cell_type": "markdown",
   "metadata": {},
   "source": [
    "### Imports"
   ]
  },
  {
   "cell_type": "code",
   "execution_count": 1,
   "metadata": {},
   "outputs": [],
   "source": [
    "%run -i ./scripts/PythonImports.py"
   ]
  },
  {
   "cell_type": "markdown",
   "metadata": {},
   "source": [
    "### Set Configs and load data"
   ]
  },
  {
   "cell_type": "code",
   "execution_count": 2,
   "metadata": {},
   "outputs": [
    {
     "name": "stdout",
     "output_type": "stream",
     "text": [
      "Shape of normal data: (105216, 17)\n",
      "Shape of anormal data: (35040, 18)\n"
     ]
    }
   ],
   "source": [
    "%run -i ./scripts/TrainPreperations.py"
   ]
  },
  {
   "cell_type": "markdown",
   "metadata": {},
   "source": [
    "### Skalieren der Daten & \"Column name zu Zahl\"-Mapping speichern & Daten für PyTorch vorbereiten"
   ]
  },
  {
   "cell_type": "code",
   "execution_count": 3,
   "metadata": {},
   "outputs": [],
   "source": [
    "%run -i ./scripts/ScaleAndPrepare.py"
   ]
  },
  {
   "cell_type": "markdown",
   "metadata": {},
   "source": [
    "##  Training"
   ]
  },
  {
   "cell_type": "code",
   "execution_count": 4,
   "metadata": {},
   "outputs": [
    {
     "data": {
      "text/plain": [
       "<torch._C.Generator at 0x130e45990>"
      ]
     },
     "execution_count": 4,
     "metadata": {},
     "output_type": "execute_result"
    }
   ],
   "source": [
    "from models.SimpleAutoEncoder import SimpleAutoEncoder\n",
    "torch.manual_seed(42)"
   ]
  },
  {
   "cell_type": "code",
   "execution_count": 5,
   "metadata": {},
   "outputs": [
    {
     "name": "stdout",
     "output_type": "stream",
     "text": [
      "Num Inputs: 17\n",
      "SimpleAutoEncoder(\n",
      "  (encoder): Sequential(\n",
      "    (0): Linear(in_features=17, out_features=12, bias=True)\n",
      "    (1): ReLU(inplace=True)\n",
      "    (2): Linear(in_features=12, out_features=8, bias=True)\n",
      "    (3): Tanh()\n",
      "  )\n",
      "  (decoder): Sequential(\n",
      "    (0): Linear(in_features=8, out_features=12, bias=True)\n",
      "    (1): ReLU(inplace=True)\n",
      "    (2): Linear(in_features=12, out_features=17, bias=True)\n",
      "    (3): Tanh()\n",
      "  )\n",
      ")\n"
     ]
    }
   ],
   "source": [
    "num_inputs = len(df_data.columns)\n",
    "print('Num Inputs: {}'.format(num_inputs))\n",
    "\n",
    "val_lambda = 0.5\n",
    "model = SimpleAutoEncoder(num_inputs=num_inputs, val_lambda=val_lambda)\n",
    "critereon = mse_loss\n",
    "optimizer = Adam(model.parameters())\n",
    "\n",
    "print(model)"
   ]
  },
  {
   "cell_type": "code",
   "execution_count": 6,
   "metadata": {
    "collapsed": true,
    "jupyter": {
     "outputs_hidden": true
    }
   },
   "outputs": [
    {
     "name": "stdout",
     "output_type": "stream",
     "text": [
      "\n",
      " Train Epoch: 1/32 [128/105216 (0%)]\tLoss: 0.318232\n",
      " Train Epoch: 1/32 [6528/105216 (6%)]\tLoss: 0.302905\n",
      " Train Epoch: 1/32 [12928/105216 (12%)]\tLoss: 0.162769\n",
      " Train Epoch: 1/32 [19328/105216 (18%)]\tLoss: 0.090886\n",
      " Train Epoch: 1/32 [25728/105216 (24%)]\tLoss: 0.052184\n",
      " Train Epoch: 1/32 [32128/105216 (31%)]\tLoss: 0.052721\n",
      " Train Epoch: 1/32 [38528/105216 (37%)]\tLoss: 0.049132\n",
      " Train Epoch: 1/32 [44928/105216 (43%)]\tLoss: 0.046855\n",
      " Train Epoch: 1/32 [51328/105216 (49%)]\tLoss: 0.045942\n",
      " Train Epoch: 1/32 [57728/105216 (55%)]\tLoss: 0.029837\n",
      " Train Epoch: 1/32 [64128/105216 (61%)]\tLoss: 0.024614\n",
      " Train Epoch: 1/32 [70528/105216 (67%)]\tLoss: 0.030230\n",
      " Train Epoch: 1/32 [76928/105216 (73%)]\tLoss: 0.048548\n",
      " Train Epoch: 1/32 [83328/105216 (79%)]\tLoss: 0.011161\n",
      " Train Epoch: 1/32 [89728/105216 (85%)]\tLoss: 0.034344\n",
      " Train Epoch: 1/32 [96128/105216 (91%)]\tLoss: 0.012327\n",
      " Train Epoch: 1/32 [102528/105216 (97%)]\tLoss: 0.019800\n",
      " Train Epoch: 2/32 [128/105216 (0%)]\tLoss: 0.018064\n",
      " Train Epoch: 2/32 [6528/105216 (6%)]\tLoss: 0.006677\n",
      " Train Epoch: 2/32 [12928/105216 (12%)]\tLoss: 0.009806\n",
      " Train Epoch: 2/32 [19328/105216 (18%)]\tLoss: 0.008649\n",
      " Train Epoch: 2/32 [25728/105216 (24%)]\tLoss: 0.005883\n",
      " Train Epoch: 2/32 [32128/105216 (31%)]\tLoss: 0.011627\n",
      " Train Epoch: 2/32 [38528/105216 (37%)]\tLoss: 0.011984\n",
      " Train Epoch: 2/32 [44928/105216 (43%)]\tLoss: 0.008942\n",
      " Train Epoch: 2/32 [51328/105216 (49%)]\tLoss: 0.007893\n",
      " Train Epoch: 2/32 [57728/105216 (55%)]\tLoss: 0.007085\n",
      " Train Epoch: 2/32 [64128/105216 (61%)]\tLoss: 0.008816\n",
      " Train Epoch: 2/32 [70528/105216 (67%)]\tLoss: 0.010014\n",
      " Train Epoch: 2/32 [76928/105216 (73%)]\tLoss: 0.016865\n",
      " Train Epoch: 2/32 [83328/105216 (79%)]\tLoss: 0.005350\n",
      " Train Epoch: 2/32 [89728/105216 (85%)]\tLoss: 0.011188\n",
      " Train Epoch: 2/32 [96128/105216 (91%)]\tLoss: 0.004213\n",
      " Train Epoch: 2/32 [102528/105216 (97%)]\tLoss: 0.008029\n",
      " Train Epoch: 3/32 [128/105216 (0%)]\tLoss: 0.008226\n",
      " Train Epoch: 3/32 [6528/105216 (6%)]\tLoss: 0.003993\n",
      " Train Epoch: 3/32 [12928/105216 (12%)]\tLoss: 0.005323\n",
      " Train Epoch: 3/32 [19328/105216 (18%)]\tLoss: 0.004715\n",
      " Train Epoch: 3/32 [25728/105216 (24%)]\tLoss: 0.003149\n",
      " Train Epoch: 3/32 [32128/105216 (31%)]\tLoss: 0.006274\n",
      " Train Epoch: 3/32 [38528/105216 (37%)]\tLoss: 0.009723\n",
      " Train Epoch: 3/32 [44928/105216 (43%)]\tLoss: 0.007354\n",
      " Train Epoch: 3/32 [51328/105216 (49%)]\tLoss: 0.004716\n",
      " Train Epoch: 3/32 [57728/105216 (55%)]\tLoss: 0.004195\n",
      " Train Epoch: 3/32 [64128/105216 (61%)]\tLoss: 0.007021\n",
      " Train Epoch: 3/32 [70528/105216 (67%)]\tLoss: 0.006492\n",
      " Train Epoch: 3/32 [76928/105216 (73%)]\tLoss: 0.010297\n",
      " Train Epoch: 3/32 [83328/105216 (79%)]\tLoss: 0.003877\n",
      " Train Epoch: 3/32 [89728/105216 (85%)]\tLoss: 0.007639\n",
      " Train Epoch: 3/32 [96128/105216 (91%)]\tLoss: 0.003104\n",
      " Train Epoch: 3/32 [102528/105216 (97%)]\tLoss: 0.006813\n",
      " Train Epoch: 4/32 [128/105216 (0%)]\tLoss: 0.006265\n",
      " Train Epoch: 4/32 [6528/105216 (6%)]\tLoss: 0.002862\n",
      " Train Epoch: 4/32 [12928/105216 (12%)]\tLoss: 0.003907\n",
      " Train Epoch: 4/32 [19328/105216 (18%)]\tLoss: 0.003113\n",
      " Train Epoch: 4/32 [25728/105216 (24%)]\tLoss: 0.002665\n",
      " Train Epoch: 4/32 [32128/105216 (31%)]\tLoss: 0.005464\n",
      " Train Epoch: 4/32 [38528/105216 (37%)]\tLoss: 0.007742\n",
      " Train Epoch: 4/32 [44928/105216 (43%)]\tLoss: 0.005646\n",
      " Train Epoch: 4/32 [51328/105216 (49%)]\tLoss: 0.003189\n",
      " Train Epoch: 4/32 [57728/105216 (55%)]\tLoss: 0.002750\n",
      " Train Epoch: 4/32 [64128/105216 (61%)]\tLoss: 0.004875\n",
      " Train Epoch: 4/32 [70528/105216 (67%)]\tLoss: 0.004802\n",
      " Train Epoch: 4/32 [76928/105216 (73%)]\tLoss: 0.006735\n",
      " Train Epoch: 4/32 [83328/105216 (79%)]\tLoss: 0.002533\n",
      " Train Epoch: 4/32 [89728/105216 (85%)]\tLoss: 0.004738\n",
      " Train Epoch: 4/32 [96128/105216 (91%)]\tLoss: 0.002461\n",
      " Train Epoch: 4/32 [102528/105216 (97%)]\tLoss: 0.004438\n",
      " Train Epoch: 5/32 [128/105216 (0%)]\tLoss: 0.004967\n",
      " Train Epoch: 5/32 [6528/105216 (6%)]\tLoss: 0.002001\n",
      " Train Epoch: 5/32 [12928/105216 (12%)]\tLoss: 0.002370\n",
      " Train Epoch: 5/32 [19328/105216 (18%)]\tLoss: 0.002051\n",
      " Train Epoch: 5/32 [25728/105216 (24%)]\tLoss: 0.001842\n",
      " Train Epoch: 5/32 [32128/105216 (31%)]\tLoss: 0.002828\n",
      " Train Epoch: 5/32 [38528/105216 (37%)]\tLoss: 0.003202\n",
      " Train Epoch: 5/32 [44928/105216 (43%)]\tLoss: 0.003312\n",
      " Train Epoch: 5/32 [51328/105216 (49%)]\tLoss: 0.001895\n",
      " Train Epoch: 5/32 [57728/105216 (55%)]\tLoss: 0.001638\n",
      " Train Epoch: 5/32 [64128/105216 (61%)]\tLoss: 0.002014\n",
      " Train Epoch: 5/32 [70528/105216 (67%)]\tLoss: 0.003002\n",
      " Train Epoch: 5/32 [76928/105216 (73%)]\tLoss: 0.002963\n",
      " Train Epoch: 5/32 [83328/105216 (79%)]\tLoss: 0.001350\n",
      " Train Epoch: 5/32 [89728/105216 (85%)]\tLoss: 0.002805\n",
      " Train Epoch: 5/32 [96128/105216 (91%)]\tLoss: 0.001467\n",
      " Train Epoch: 5/32 [102528/105216 (97%)]\tLoss: 0.002322\n",
      " Train Epoch: 6/32 [128/105216 (0%)]\tLoss: 0.003435\n",
      " Train Epoch: 6/32 [6528/105216 (6%)]\tLoss: 0.001272\n",
      " Train Epoch: 6/32 [12928/105216 (12%)]\tLoss: 0.001311\n",
      " Train Epoch: 6/32 [19328/105216 (18%)]\tLoss: 0.000972\n",
      " Train Epoch: 6/32 [25728/105216 (24%)]\tLoss: 0.001123\n",
      " Train Epoch: 6/32 [32128/105216 (31%)]\tLoss: 0.000865\n",
      " Train Epoch: 6/32 [38528/105216 (37%)]\tLoss: 0.001111\n",
      " Train Epoch: 6/32 [44928/105216 (43%)]\tLoss: 0.002014\n",
      " Train Epoch: 6/32 [51328/105216 (49%)]\tLoss: 0.001174\n",
      " Train Epoch: 6/32 [57728/105216 (55%)]\tLoss: 0.000894\n",
      " Train Epoch: 6/32 [64128/105216 (61%)]\tLoss: 0.001324\n",
      " Train Epoch: 6/32 [70528/105216 (67%)]\tLoss: 0.002243\n",
      " Train Epoch: 6/32 [76928/105216 (73%)]\tLoss: 0.002259\n",
      " Train Epoch: 6/32 [83328/105216 (79%)]\tLoss: 0.001075\n",
      " Train Epoch: 6/32 [89728/105216 (85%)]\tLoss: 0.002156\n",
      " Train Epoch: 6/32 [96128/105216 (91%)]\tLoss: 0.001217\n",
      " Train Epoch: 6/32 [102528/105216 (97%)]\tLoss: 0.001788\n",
      " Train Epoch: 7/32 [128/105216 (0%)]\tLoss: 0.002753\n",
      " Train Epoch: 7/32 [6528/105216 (6%)]\tLoss: 0.001055\n",
      " Train Epoch: 7/32 [12928/105216 (12%)]\tLoss: 0.001134\n",
      " Train Epoch: 7/32 [19328/105216 (18%)]\tLoss: 0.000851\n",
      " Train Epoch: 7/32 [25728/105216 (24%)]\tLoss: 0.000933\n",
      " Train Epoch: 7/32 [32128/105216 (31%)]\tLoss: 0.000678\n",
      " Train Epoch: 7/32 [38528/105216 (37%)]\tLoss: 0.000878\n",
      " Train Epoch: 7/32 [44928/105216 (43%)]\tLoss: 0.001836\n",
      " Train Epoch: 7/32 [51328/105216 (49%)]\tLoss: 0.001020\n",
      " Train Epoch: 7/32 [57728/105216 (55%)]\tLoss: 0.000798\n",
      " Train Epoch: 7/32 [64128/105216 (61%)]\tLoss: 0.001055\n",
      " Train Epoch: 7/32 [70528/105216 (67%)]\tLoss: 0.001920\n",
      " Train Epoch: 7/32 [76928/105216 (73%)]\tLoss: 0.001960\n",
      " Train Epoch: 7/32 [83328/105216 (79%)]\tLoss: 0.000992\n",
      " Train Epoch: 7/32 [89728/105216 (85%)]\tLoss: 0.001928\n",
      " Train Epoch: 7/32 [96128/105216 (91%)]\tLoss: 0.001127\n",
      " Train Epoch: 7/32 [102528/105216 (97%)]\tLoss: 0.001527\n",
      " Train Epoch: 8/32 [128/105216 (0%)]\tLoss: 0.002362\n",
      " Train Epoch: 8/32 [6528/105216 (6%)]\tLoss: 0.000984\n",
      " Train Epoch: 8/32 [12928/105216 (12%)]\tLoss: 0.001087\n",
      " Train Epoch: 8/32 [19328/105216 (18%)]\tLoss: 0.000790\n",
      " Train Epoch: 8/32 [25728/105216 (24%)]\tLoss: 0.000851\n",
      " Train Epoch: 8/32 [32128/105216 (31%)]\tLoss: 0.000641\n",
      " Train Epoch: 8/32 [38528/105216 (37%)]\tLoss: 0.000823\n",
      " Train Epoch: 8/32 [44928/105216 (43%)]\tLoss: 0.001767\n",
      " Train Epoch: 8/32 [51328/105216 (49%)]\tLoss: 0.000943\n",
      " Train Epoch: 8/32 [57728/105216 (55%)]\tLoss: 0.000752\n",
      " Train Epoch: 8/32 [64128/105216 (61%)]\tLoss: 0.000929\n",
      " Train Epoch: 8/32 [70528/105216 (67%)]\tLoss: 0.001747\n",
      " Train Epoch: 8/32 [76928/105216 (73%)]\tLoss: 0.001805\n",
      " Train Epoch: 8/32 [83328/105216 (79%)]\tLoss: 0.000936\n",
      " Train Epoch: 8/32 [89728/105216 (85%)]\tLoss: 0.001806\n",
      " Train Epoch: 8/32 [96128/105216 (91%)]\tLoss: 0.001085\n",
      " Train Epoch: 8/32 [102528/105216 (97%)]\tLoss: 0.001414\n",
      " Train Epoch: 9/32 [128/105216 (0%)]\tLoss: 0.002193\n",
      " Train Epoch: 9/32 [6528/105216 (6%)]\tLoss: 0.000936\n",
      " Train Epoch: 9/32 [12928/105216 (12%)]\tLoss: 0.001041\n",
      " Train Epoch: 9/32 [19328/105216 (18%)]\tLoss: 0.000755\n",
      " Train Epoch: 9/32 [25728/105216 (24%)]\tLoss: 0.000810\n",
      " Train Epoch: 9/32 [32128/105216 (31%)]\tLoss: 0.000620\n",
      " Train Epoch: 9/32 [38528/105216 (37%)]\tLoss: 0.000800\n",
      " Train Epoch: 9/32 [44928/105216 (43%)]\tLoss: 0.001718\n",
      " Train Epoch: 9/32 [51328/105216 (49%)]\tLoss: 0.000902\n",
      " Train Epoch: 9/32 [57728/105216 (55%)]\tLoss: 0.000728\n",
      " Train Epoch: 9/32 [64128/105216 (61%)]\tLoss: 0.000853\n",
      " Train Epoch: 9/32 [70528/105216 (67%)]\tLoss: 0.001622\n",
      " Train Epoch: 9/32 [76928/105216 (73%)]\tLoss: 0.001703\n",
      " Train Epoch: 9/32 [83328/105216 (79%)]\tLoss: 0.000885\n",
      " Train Epoch: 9/32 [89728/105216 (85%)]\tLoss: 0.001715\n",
      " Train Epoch: 9/32 [96128/105216 (91%)]\tLoss: 0.001059\n",
      " Train Epoch: 9/32 [102528/105216 (97%)]\tLoss: 0.001363\n",
      " Train Epoch: 10/32 [128/105216 (0%)]\tLoss: 0.002073\n",
      " Train Epoch: 10/32 [6528/105216 (6%)]\tLoss: 0.000897\n",
      " Train Epoch: 10/32 [12928/105216 (12%)]\tLoss: 0.000995\n",
      " Train Epoch: 10/32 [19328/105216 (18%)]\tLoss: 0.000735\n",
      " Train Epoch: 10/32 [25728/105216 (24%)]\tLoss: 0.000780\n",
      " Train Epoch: 10/32 [32128/105216 (31%)]\tLoss: 0.000609\n",
      " Train Epoch: 10/32 [38528/105216 (37%)]\tLoss: 0.000778\n",
      " Train Epoch: 10/32 [44928/105216 (43%)]\tLoss: 0.001653\n",
      " Train Epoch: 10/32 [51328/105216 (49%)]\tLoss: 0.000866\n",
      " Train Epoch: 10/32 [57728/105216 (55%)]\tLoss: 0.000714\n",
      " Train Epoch: 10/32 [64128/105216 (61%)]\tLoss: 0.000790\n",
      " Train Epoch: 10/32 [70528/105216 (67%)]\tLoss: 0.001501\n",
      " Train Epoch: 10/32 [76928/105216 (73%)]\tLoss: 0.001611\n",
      " Train Epoch: 10/32 [83328/105216 (79%)]\tLoss: 0.000852\n",
      " Train Epoch: 10/32 [89728/105216 (85%)]\tLoss: 0.001664\n",
      " Train Epoch: 10/32 [96128/105216 (91%)]\tLoss: 0.001042\n",
      " Train Epoch: 10/32 [102528/105216 (97%)]\tLoss: 0.001364\n",
      " Train Epoch: 11/32 [128/105216 (0%)]\tLoss: 0.001931\n",
      " Train Epoch: 11/32 [6528/105216 (6%)]\tLoss: 0.000866\n",
      " Train Epoch: 11/32 [12928/105216 (12%)]\tLoss: 0.000960\n",
      " Train Epoch: 11/32 [19328/105216 (18%)]\tLoss: 0.000724\n",
      " Train Epoch: 11/32 [25728/105216 (24%)]\tLoss: 0.000765\n",
      " Train Epoch: 11/32 [32128/105216 (31%)]\tLoss: 0.000604\n",
      " Train Epoch: 11/32 [38528/105216 (37%)]\tLoss: 0.000749\n",
      " Train Epoch: 11/32 [44928/105216 (43%)]\tLoss: 0.001567\n",
      " Train Epoch: 11/32 [51328/105216 (49%)]\tLoss: 0.000847\n",
      " Train Epoch: 11/32 [57728/105216 (55%)]\tLoss: 0.000703\n",
      " Train Epoch: 11/32 [64128/105216 (61%)]\tLoss: 0.000742\n",
      " Train Epoch: 11/32 [70528/105216 (67%)]\tLoss: 0.001385\n",
      " Train Epoch: 11/32 [76928/105216 (73%)]\tLoss: 0.001544\n",
      " Train Epoch: 11/32 [83328/105216 (79%)]\tLoss: 0.000824\n",
      " Train Epoch: 11/32 [89728/105216 (85%)]\tLoss: 0.001613\n",
      " Train Epoch: 11/32 [96128/105216 (91%)]\tLoss: 0.001028\n",
      " Train Epoch: 11/32 [102528/105216 (97%)]\tLoss: 0.001372\n",
      " Train Epoch: 12/32 [128/105216 (0%)]\tLoss: 0.001796\n",
      " Train Epoch: 12/32 [6528/105216 (6%)]\tLoss: 0.000836\n",
      " Train Epoch: 12/32 [12928/105216 (12%)]\tLoss: 0.000932\n",
      " Train Epoch: 12/32 [19328/105216 (18%)]\tLoss: 0.000711\n",
      " Train Epoch: 12/32 [25728/105216 (24%)]\tLoss: 0.000754\n",
      " Train Epoch: 12/32 [32128/105216 (31%)]\tLoss: 0.000605\n",
      " Train Epoch: 12/32 [38528/105216 (37%)]\tLoss: 0.000721\n",
      " Train Epoch: 12/32 [44928/105216 (43%)]\tLoss: 0.001490\n",
      " Train Epoch: 12/32 [51328/105216 (49%)]\tLoss: 0.000833\n",
      " Train Epoch: 12/32 [57728/105216 (55%)]\tLoss: 0.000697\n",
      " Train Epoch: 12/32 [64128/105216 (61%)]\tLoss: 0.000701\n",
      " Train Epoch: 12/32 [70528/105216 (67%)]\tLoss: 0.001294\n",
      " Train Epoch: 12/32 [76928/105216 (73%)]\tLoss: 0.001493\n",
      " Train Epoch: 12/32 [83328/105216 (79%)]\tLoss: 0.000799\n",
      " Train Epoch: 12/32 [89728/105216 (85%)]\tLoss: 0.001577\n",
      " Train Epoch: 12/32 [96128/105216 (91%)]\tLoss: 0.001015\n",
      " Train Epoch: 12/32 [102528/105216 (97%)]\tLoss: 0.001384\n",
      " Train Epoch: 13/32 [128/105216 (0%)]\tLoss: 0.001717\n",
      " Train Epoch: 13/32 [6528/105216 (6%)]\tLoss: 0.000803\n",
      " Train Epoch: 13/32 [12928/105216 (12%)]\tLoss: 0.000910\n",
      " Train Epoch: 13/32 [19328/105216 (18%)]\tLoss: 0.000701\n",
      " Train Epoch: 13/32 [25728/105216 (24%)]\tLoss: 0.000744\n",
      " Train Epoch: 13/32 [32128/105216 (31%)]\tLoss: 0.000600\n",
      " Train Epoch: 13/32 [38528/105216 (37%)]\tLoss: 0.000696\n",
      " Train Epoch: 13/32 [44928/105216 (43%)]\tLoss: 0.001434\n",
      " Train Epoch: 13/32 [51328/105216 (49%)]\tLoss: 0.000822\n",
      " Train Epoch: 13/32 [57728/105216 (55%)]\tLoss: 0.000692\n",
      " Train Epoch: 13/32 [64128/105216 (61%)]\tLoss: 0.000662\n",
      " Train Epoch: 13/32 [70528/105216 (67%)]\tLoss: 0.001226\n",
      " Train Epoch: 13/32 [76928/105216 (73%)]\tLoss: 0.001452\n",
      " Train Epoch: 13/32 [83328/105216 (79%)]\tLoss: 0.000781\n",
      " Train Epoch: 13/32 [89728/105216 (85%)]\tLoss: 0.001549\n",
      " Train Epoch: 13/32 [96128/105216 (91%)]\tLoss: 0.001002\n",
      " Train Epoch: 13/32 [102528/105216 (97%)]\tLoss: 0.001373\n",
      " Train Epoch: 14/32 [128/105216 (0%)]\tLoss: 0.001630\n",
      " Train Epoch: 14/32 [6528/105216 (6%)]\tLoss: 0.000776\n",
      " Train Epoch: 14/32 [12928/105216 (12%)]\tLoss: 0.000892\n",
      " Train Epoch: 14/32 [19328/105216 (18%)]\tLoss: 0.000692\n",
      " Train Epoch: 14/32 [25728/105216 (24%)]\tLoss: 0.000733\n",
      " Train Epoch: 14/32 [32128/105216 (31%)]\tLoss: 0.000599\n",
      " Train Epoch: 14/32 [38528/105216 (37%)]\tLoss: 0.000670\n",
      " Train Epoch: 14/32 [44928/105216 (43%)]\tLoss: 0.001369\n",
      " Train Epoch: 14/32 [51328/105216 (49%)]\tLoss: 0.000814\n",
      " Train Epoch: 14/32 [57728/105216 (55%)]\tLoss: 0.000683\n",
      " Train Epoch: 14/32 [64128/105216 (61%)]\tLoss: 0.000634\n",
      " Train Epoch: 14/32 [70528/105216 (67%)]\tLoss: 0.001166\n",
      " Train Epoch: 14/32 [76928/105216 (73%)]\tLoss: 0.001416\n",
      " Train Epoch: 14/32 [83328/105216 (79%)]\tLoss: 0.000764\n",
      " Train Epoch: 14/32 [89728/105216 (85%)]\tLoss: 0.001520\n",
      " Train Epoch: 14/32 [96128/105216 (91%)]\tLoss: 0.000992\n",
      " Train Epoch: 14/32 [102528/105216 (97%)]\tLoss: 0.001401\n",
      " Train Epoch: 15/32 [128/105216 (0%)]\tLoss: 0.001561\n",
      " Train Epoch: 15/32 [6528/105216 (6%)]\tLoss: 0.000751\n",
      " Train Epoch: 15/32 [12928/105216 (12%)]\tLoss: 0.000873\n",
      " Train Epoch: 15/32 [19328/105216 (18%)]\tLoss: 0.000680\n",
      " Train Epoch: 15/32 [25728/105216 (24%)]\tLoss: 0.000724\n",
      " Train Epoch: 15/32 [32128/105216 (31%)]\tLoss: 0.000601\n",
      " Train Epoch: 15/32 [38528/105216 (37%)]\tLoss: 0.000664\n",
      " Train Epoch: 15/32 [44928/105216 (43%)]\tLoss: 0.001313\n",
      " Train Epoch: 15/32 [51328/105216 (49%)]\tLoss: 0.000804\n",
      " Train Epoch: 15/32 [57728/105216 (55%)]\tLoss: 0.000675\n",
      " Train Epoch: 15/32 [64128/105216 (61%)]\tLoss: 0.000614\n",
      " Train Epoch: 15/32 [70528/105216 (67%)]\tLoss: 0.001115\n",
      " Train Epoch: 15/32 [76928/105216 (73%)]\tLoss: 0.001393\n",
      " Train Epoch: 15/32 [83328/105216 (79%)]\tLoss: 0.000748\n",
      " Train Epoch: 15/32 [89728/105216 (85%)]\tLoss: 0.001494\n",
      " Train Epoch: 15/32 [96128/105216 (91%)]\tLoss: 0.000981\n",
      " Train Epoch: 15/32 [102528/105216 (97%)]\tLoss: 0.001409\n",
      " Train Epoch: 16/32 [128/105216 (0%)]\tLoss: 0.001505\n",
      " Train Epoch: 16/32 [6528/105216 (6%)]\tLoss: 0.000733\n",
      " Train Epoch: 16/32 [12928/105216 (12%)]\tLoss: 0.000861\n",
      " Train Epoch: 16/32 [19328/105216 (18%)]\tLoss: 0.000671\n",
      " Train Epoch: 16/32 [25728/105216 (24%)]\tLoss: 0.000711\n",
      " Train Epoch: 16/32 [32128/105216 (31%)]\tLoss: 0.000610\n",
      " Train Epoch: 16/32 [38528/105216 (37%)]\tLoss: 0.000661\n",
      " Train Epoch: 16/32 [44928/105216 (43%)]\tLoss: 0.001219\n",
      " Train Epoch: 16/32 [51328/105216 (49%)]\tLoss: 0.000795\n",
      " Train Epoch: 16/32 [57728/105216 (55%)]\tLoss: 0.000667\n",
      " Train Epoch: 16/32 [64128/105216 (61%)]\tLoss: 0.000586\n",
      " Train Epoch: 16/32 [70528/105216 (67%)]\tLoss: 0.001062\n",
      " Train Epoch: 16/32 [76928/105216 (73%)]\tLoss: 0.001364\n",
      " Train Epoch: 16/32 [83328/105216 (79%)]\tLoss: 0.000736\n",
      " Train Epoch: 16/32 [89728/105216 (85%)]\tLoss: 0.001473\n",
      " Train Epoch: 16/32 [96128/105216 (91%)]\tLoss: 0.000964\n",
      " Train Epoch: 16/32 [102528/105216 (97%)]\tLoss: 0.001373\n",
      " Train Epoch: 17/32 [128/105216 (0%)]\tLoss: 0.001408\n",
      " Train Epoch: 17/32 [6528/105216 (6%)]\tLoss: 0.000699\n",
      " Train Epoch: 17/32 [12928/105216 (12%)]\tLoss: 0.000833\n",
      " Train Epoch: 17/32 [19328/105216 (18%)]\tLoss: 0.000661\n",
      " Train Epoch: 17/32 [25728/105216 (24%)]\tLoss: 0.000700\n",
      " Train Epoch: 17/32 [32128/105216 (31%)]\tLoss: 0.000611\n",
      " Train Epoch: 17/32 [38528/105216 (37%)]\tLoss: 0.000678\n",
      " Train Epoch: 17/32 [44928/105216 (43%)]\tLoss: 0.001116\n",
      " Train Epoch: 17/32 [51328/105216 (49%)]\tLoss: 0.000776\n",
      " Train Epoch: 17/32 [57728/105216 (55%)]\tLoss: 0.000658\n",
      " Train Epoch: 17/32 [64128/105216 (61%)]\tLoss: 0.000567\n",
      " Train Epoch: 17/32 [70528/105216 (67%)]\tLoss: 0.001023\n",
      " Train Epoch: 17/32 [76928/105216 (73%)]\tLoss: 0.001354\n",
      " Train Epoch: 17/32 [83328/105216 (79%)]\tLoss: 0.000715\n",
      " Train Epoch: 17/32 [89728/105216 (85%)]\tLoss: 0.001449\n",
      " Train Epoch: 17/32 [96128/105216 (91%)]\tLoss: 0.000946\n",
      " Train Epoch: 17/32 [102528/105216 (97%)]\tLoss: 0.001310\n",
      " Train Epoch: 18/32 [128/105216 (0%)]\tLoss: 0.001335\n",
      " Train Epoch: 18/32 [6528/105216 (6%)]\tLoss: 0.000673\n",
      " Train Epoch: 18/32 [12928/105216 (12%)]\tLoss: 0.000813\n",
      " Train Epoch: 18/32 [19328/105216 (18%)]\tLoss: 0.000648\n",
      " Train Epoch: 18/32 [25728/105216 (24%)]\tLoss: 0.000689\n",
      " Train Epoch: 18/32 [32128/105216 (31%)]\tLoss: 0.000603\n",
      " Train Epoch: 18/32 [38528/105216 (37%)]\tLoss: 0.000680\n",
      " Train Epoch: 18/32 [44928/105216 (43%)]\tLoss: 0.001030\n",
      " Train Epoch: 18/32 [51328/105216 (49%)]\tLoss: 0.000752\n",
      " Train Epoch: 18/32 [57728/105216 (55%)]\tLoss: 0.000645\n",
      " Train Epoch: 18/32 [64128/105216 (61%)]\tLoss: 0.000555\n",
      " Train Epoch: 18/32 [70528/105216 (67%)]\tLoss: 0.000991\n",
      " Train Epoch: 18/32 [76928/105216 (73%)]\tLoss: 0.001301\n",
      " Train Epoch: 18/32 [83328/105216 (79%)]\tLoss: 0.000693\n",
      " Train Epoch: 18/32 [89728/105216 (85%)]\tLoss: 0.001428\n",
      " Train Epoch: 18/32 [96128/105216 (91%)]\tLoss: 0.000923\n",
      " Train Epoch: 18/32 [102528/105216 (97%)]\tLoss: 0.001216\n",
      " Train Epoch: 19/32 [128/105216 (0%)]\tLoss: 0.001264\n",
      " Train Epoch: 19/32 [6528/105216 (6%)]\tLoss: 0.000662\n",
      " Train Epoch: 19/32 [12928/105216 (12%)]\tLoss: 0.000791\n",
      " Train Epoch: 19/32 [19328/105216 (18%)]\tLoss: 0.000634\n",
      " Train Epoch: 19/32 [25728/105216 (24%)]\tLoss: 0.000678\n",
      " Train Epoch: 19/32 [32128/105216 (31%)]\tLoss: 0.000582\n",
      " Train Epoch: 19/32 [38528/105216 (37%)]\tLoss: 0.000682\n",
      " Train Epoch: 19/32 [44928/105216 (43%)]\tLoss: 0.000976\n",
      " Train Epoch: 19/32 [51328/105216 (49%)]\tLoss: 0.000730\n",
      " Train Epoch: 19/32 [57728/105216 (55%)]\tLoss: 0.000629\n",
      " Train Epoch: 19/32 [64128/105216 (61%)]\tLoss: 0.000540\n",
      " Train Epoch: 19/32 [70528/105216 (67%)]\tLoss: 0.000926\n",
      " Train Epoch: 19/32 [76928/105216 (73%)]\tLoss: 0.001250\n",
      " Train Epoch: 19/32 [83328/105216 (79%)]\tLoss: 0.000662\n",
      " Train Epoch: 19/32 [89728/105216 (85%)]\tLoss: 0.001398\n",
      " Train Epoch: 19/32 [96128/105216 (91%)]\tLoss: 0.000898\n",
      " Train Epoch: 19/32 [102528/105216 (97%)]\tLoss: 0.001115\n",
      " Train Epoch: 20/32 [128/105216 (0%)]\tLoss: 0.001156\n",
      " Train Epoch: 20/32 [6528/105216 (6%)]\tLoss: 0.000628\n",
      " Train Epoch: 20/32 [12928/105216 (12%)]\tLoss: 0.000769\n",
      " Train Epoch: 20/32 [19328/105216 (18%)]\tLoss: 0.000617\n",
      " Train Epoch: 20/32 [25728/105216 (24%)]\tLoss: 0.000661\n",
      " Train Epoch: 20/32 [32128/105216 (31%)]\tLoss: 0.000554\n",
      " Train Epoch: 20/32 [38528/105216 (37%)]\tLoss: 0.000686\n",
      " Train Epoch: 20/32 [44928/105216 (43%)]\tLoss: 0.000921\n",
      " Train Epoch: 20/32 [51328/105216 (49%)]\tLoss: 0.000707\n",
      " Train Epoch: 20/32 [57728/105216 (55%)]\tLoss: 0.000615\n",
      " Train Epoch: 20/32 [64128/105216 (61%)]\tLoss: 0.000530\n",
      " Train Epoch: 20/32 [70528/105216 (67%)]\tLoss: 0.000859\n",
      " Train Epoch: 20/32 [76928/105216 (73%)]\tLoss: 0.001228\n",
      " Train Epoch: 20/32 [83328/105216 (79%)]\tLoss: 0.000641\n",
      " Train Epoch: 20/32 [89728/105216 (85%)]\tLoss: 0.001360\n",
      " Train Epoch: 20/32 [96128/105216 (91%)]\tLoss: 0.000870\n",
      " Train Epoch: 20/32 [102528/105216 (97%)]\tLoss: 0.001009\n",
      " Train Epoch: 21/32 [128/105216 (0%)]\tLoss: 0.001061\n",
      " Train Epoch: 21/32 [6528/105216 (6%)]\tLoss: 0.000598\n",
      " Train Epoch: 21/32 [12928/105216 (12%)]\tLoss: 0.000748\n",
      " Train Epoch: 21/32 [19328/105216 (18%)]\tLoss: 0.000593\n",
      " Train Epoch: 21/32 [25728/105216 (24%)]\tLoss: 0.000643\n",
      " Train Epoch: 21/32 [32128/105216 (31%)]\tLoss: 0.000529\n",
      " Train Epoch: 21/32 [38528/105216 (37%)]\tLoss: 0.000677\n",
      " Train Epoch: 21/32 [44928/105216 (43%)]\tLoss: 0.000884\n",
      " Train Epoch: 21/32 [51328/105216 (49%)]\tLoss: 0.000688\n",
      " Train Epoch: 21/32 [57728/105216 (55%)]\tLoss: 0.000595\n",
      " Train Epoch: 21/32 [64128/105216 (61%)]\tLoss: 0.000526\n",
      " Train Epoch: 21/32 [70528/105216 (67%)]\tLoss: 0.000815\n",
      " Train Epoch: 21/32 [76928/105216 (73%)]\tLoss: 0.001192\n",
      " Train Epoch: 21/32 [83328/105216 (79%)]\tLoss: 0.000612\n",
      " Train Epoch: 21/32 [89728/105216 (85%)]\tLoss: 0.001312\n",
      " Train Epoch: 21/32 [96128/105216 (91%)]\tLoss: 0.000837\n",
      " Train Epoch: 21/32 [102528/105216 (97%)]\tLoss: 0.000914\n",
      " Train Epoch: 22/32 [128/105216 (0%)]\tLoss: 0.000997\n",
      " Train Epoch: 22/32 [6528/105216 (6%)]\tLoss: 0.000519\n",
      " Train Epoch: 22/32 [12928/105216 (12%)]\tLoss: 0.000714\n",
      " Train Epoch: 22/32 [19328/105216 (18%)]\tLoss: 0.000566\n",
      " Train Epoch: 22/32 [25728/105216 (24%)]\tLoss: 0.000623\n",
      " Train Epoch: 22/32 [32128/105216 (31%)]\tLoss: 0.000500\n",
      " Train Epoch: 22/32 [38528/105216 (37%)]\tLoss: 0.000663\n",
      " Train Epoch: 22/32 [44928/105216 (43%)]\tLoss: 0.000848\n",
      " Train Epoch: 22/32 [51328/105216 (49%)]\tLoss: 0.000664\n",
      " Train Epoch: 22/32 [57728/105216 (55%)]\tLoss: 0.000564\n",
      " Train Epoch: 22/32 [64128/105216 (61%)]\tLoss: 0.000523\n",
      " Train Epoch: 22/32 [70528/105216 (67%)]\tLoss: 0.000774\n",
      " Train Epoch: 22/32 [76928/105216 (73%)]\tLoss: 0.001161\n",
      " Train Epoch: 22/32 [83328/105216 (79%)]\tLoss: 0.000582\n",
      " Train Epoch: 22/32 [89728/105216 (85%)]\tLoss: 0.001245\n",
      " Train Epoch: 22/32 [96128/105216 (91%)]\tLoss: 0.000794\n",
      " Train Epoch: 22/32 [102528/105216 (97%)]\tLoss: 0.000817\n",
      " Train Epoch: 23/32 [128/105216 (0%)]\tLoss: 0.000925\n",
      " Train Epoch: 23/32 [6528/105216 (6%)]\tLoss: 0.000454\n",
      " Train Epoch: 23/32 [12928/105216 (12%)]\tLoss: 0.000664\n",
      " Train Epoch: 23/32 [19328/105216 (18%)]\tLoss: 0.000525\n",
      " Train Epoch: 23/32 [25728/105216 (24%)]\tLoss: 0.000593\n",
      " Train Epoch: 23/32 [32128/105216 (31%)]\tLoss: 0.000474\n",
      " Train Epoch: 23/32 [38528/105216 (37%)]\tLoss: 0.000637\n",
      " Train Epoch: 23/32 [44928/105216 (43%)]\tLoss: 0.000777\n",
      " Train Epoch: 23/32 [51328/105216 (49%)]\tLoss: 0.000615\n",
      " Train Epoch: 23/32 [57728/105216 (55%)]\tLoss: 0.000518\n",
      " Train Epoch: 23/32 [64128/105216 (61%)]\tLoss: 0.000506\n",
      " Train Epoch: 23/32 [70528/105216 (67%)]\tLoss: 0.000753\n",
      " Train Epoch: 23/32 [76928/105216 (73%)]\tLoss: 0.001120\n",
      " Train Epoch: 23/32 [83328/105216 (79%)]\tLoss: 0.000523\n",
      " Train Epoch: 23/32 [89728/105216 (85%)]\tLoss: 0.001167\n",
      " Train Epoch: 23/32 [96128/105216 (91%)]\tLoss: 0.000729\n",
      " Train Epoch: 23/32 [102528/105216 (97%)]\tLoss: 0.000762\n",
      " Train Epoch: 24/32 [128/105216 (0%)]\tLoss: 0.000880\n",
      " Train Epoch: 24/32 [6528/105216 (6%)]\tLoss: 0.000398\n",
      " Train Epoch: 24/32 [12928/105216 (12%)]\tLoss: 0.000593\n",
      " Train Epoch: 24/32 [19328/105216 (18%)]\tLoss: 0.000468\n",
      " Train Epoch: 24/32 [25728/105216 (24%)]\tLoss: 0.000554\n",
      " Train Epoch: 24/32 [32128/105216 (31%)]\tLoss: 0.000457\n",
      " Train Epoch: 24/32 [38528/105216 (37%)]\tLoss: 0.000611\n",
      " Train Epoch: 24/32 [44928/105216 (43%)]\tLoss: 0.000694\n",
      " Train Epoch: 24/32 [51328/105216 (49%)]\tLoss: 0.000561\n",
      " Train Epoch: 24/32 [57728/105216 (55%)]\tLoss: 0.000462\n",
      " Train Epoch: 24/32 [64128/105216 (61%)]\tLoss: 0.000490\n",
      " Train Epoch: 24/32 [70528/105216 (67%)]\tLoss: 0.000714\n",
      " Train Epoch: 24/32 [76928/105216 (73%)]\tLoss: 0.001135\n",
      " Train Epoch: 24/32 [83328/105216 (79%)]\tLoss: 0.000456\n",
      " Train Epoch: 24/32 [89728/105216 (85%)]\tLoss: 0.001050\n",
      " Train Epoch: 24/32 [96128/105216 (91%)]\tLoss: 0.000645\n",
      " Train Epoch: 24/32 [102528/105216 (97%)]\tLoss: 0.000716\n",
      " Train Epoch: 25/32 [128/105216 (0%)]\tLoss: 0.000831\n",
      " Train Epoch: 25/32 [6528/105216 (6%)]\tLoss: 0.000351\n",
      " Train Epoch: 25/32 [12928/105216 (12%)]\tLoss: 0.000509\n",
      " Train Epoch: 25/32 [19328/105216 (18%)]\tLoss: 0.000406\n",
      " Train Epoch: 25/32 [25728/105216 (24%)]\tLoss: 0.000501\n",
      " Train Epoch: 25/32 [32128/105216 (31%)]\tLoss: 0.000441\n",
      " Train Epoch: 25/32 [38528/105216 (37%)]\tLoss: 0.000596\n",
      " Train Epoch: 25/32 [44928/105216 (43%)]\tLoss: 0.000615\n",
      " Train Epoch: 25/32 [51328/105216 (49%)]\tLoss: 0.000511\n",
      " Train Epoch: 25/32 [57728/105216 (55%)]\tLoss: 0.000399\n",
      " Train Epoch: 25/32 [64128/105216 (61%)]\tLoss: 0.000471\n",
      " Train Epoch: 25/32 [70528/105216 (67%)]\tLoss: 0.000688\n",
      " Train Epoch: 25/32 [76928/105216 (73%)]\tLoss: 0.001125\n",
      " Train Epoch: 25/32 [83328/105216 (79%)]\tLoss: 0.000399\n",
      " Train Epoch: 25/32 [89728/105216 (85%)]\tLoss: 0.000953\n",
      " Train Epoch: 25/32 [96128/105216 (91%)]\tLoss: 0.000553\n",
      " Train Epoch: 25/32 [102528/105216 (97%)]\tLoss: 0.000698\n",
      " Train Epoch: 26/32 [128/105216 (0%)]\tLoss: 0.000806\n",
      " Train Epoch: 26/32 [6528/105216 (6%)]\tLoss: 0.000344\n",
      " Train Epoch: 26/32 [12928/105216 (12%)]\tLoss: 0.000440\n",
      " Train Epoch: 26/32 [19328/105216 (18%)]\tLoss: 0.000354\n",
      " Train Epoch: 26/32 [25728/105216 (24%)]\tLoss: 0.000449\n",
      " Train Epoch: 26/32 [32128/105216 (31%)]\tLoss: 0.000433\n",
      " Train Epoch: 26/32 [38528/105216 (37%)]\tLoss: 0.000591\n",
      " Train Epoch: 26/32 [44928/105216 (43%)]\tLoss: 0.000542\n",
      " Train Epoch: 26/32 [51328/105216 (49%)]\tLoss: 0.000471\n",
      " Train Epoch: 26/32 [57728/105216 (55%)]\tLoss: 0.000344\n",
      " Train Epoch: 26/32 [64128/105216 (61%)]\tLoss: 0.000464\n",
      " Train Epoch: 26/32 [70528/105216 (67%)]\tLoss: 0.000668\n",
      " Train Epoch: 26/32 [76928/105216 (73%)]\tLoss: 0.001072\n",
      " Train Epoch: 26/32 [83328/105216 (79%)]\tLoss: 0.000356\n",
      " Train Epoch: 26/32 [89728/105216 (85%)]\tLoss: 0.000872\n",
      " Train Epoch: 26/32 [96128/105216 (91%)]\tLoss: 0.000481\n",
      " Train Epoch: 26/32 [102528/105216 (97%)]\tLoss: 0.000675\n",
      " Train Epoch: 27/32 [128/105216 (0%)]\tLoss: 0.000806\n",
      " Train Epoch: 27/32 [6528/105216 (6%)]\tLoss: 0.000336\n",
      " Train Epoch: 27/32 [12928/105216 (12%)]\tLoss: 0.000399\n",
      " Train Epoch: 27/32 [19328/105216 (18%)]\tLoss: 0.000315\n",
      " Train Epoch: 27/32 [25728/105216 (24%)]\tLoss: 0.000410\n",
      " Train Epoch: 27/32 [32128/105216 (31%)]\tLoss: 0.000422\n",
      " Train Epoch: 27/32 [38528/105216 (37%)]\tLoss: 0.000597\n",
      " Train Epoch: 27/32 [44928/105216 (43%)]\tLoss: 0.000487\n",
      " Train Epoch: 27/32 [51328/105216 (49%)]\tLoss: 0.000446\n",
      " Train Epoch: 27/32 [57728/105216 (55%)]\tLoss: 0.000307\n",
      " Train Epoch: 27/32 [64128/105216 (61%)]\tLoss: 0.000463\n",
      " Train Epoch: 27/32 [70528/105216 (67%)]\tLoss: 0.000657\n",
      " Train Epoch: 27/32 [76928/105216 (73%)]\tLoss: 0.001043\n",
      " Train Epoch: 27/32 [83328/105216 (79%)]\tLoss: 0.000326\n",
      " Train Epoch: 27/32 [89728/105216 (85%)]\tLoss: 0.000829\n",
      " Train Epoch: 27/32 [96128/105216 (91%)]\tLoss: 0.000437\n",
      " Train Epoch: 27/32 [102528/105216 (97%)]\tLoss: 0.000664\n",
      " Train Epoch: 28/32 [128/105216 (0%)]\tLoss: 0.000798\n",
      " Train Epoch: 28/32 [6528/105216 (6%)]\tLoss: 0.000331\n",
      " Train Epoch: 28/32 [12928/105216 (12%)]\tLoss: 0.000366\n",
      " Train Epoch: 28/32 [19328/105216 (18%)]\tLoss: 0.000290\n",
      " Train Epoch: 28/32 [25728/105216 (24%)]\tLoss: 0.000386\n",
      " Train Epoch: 28/32 [32128/105216 (31%)]\tLoss: 0.000416\n",
      " Train Epoch: 28/32 [38528/105216 (37%)]\tLoss: 0.000609\n",
      " Train Epoch: 28/32 [44928/105216 (43%)]\tLoss: 0.000449\n",
      " Train Epoch: 28/32 [51328/105216 (49%)]\tLoss: 0.000426\n",
      " Train Epoch: 28/32 [57728/105216 (55%)]\tLoss: 0.000281\n",
      " Train Epoch: 28/32 [64128/105216 (61%)]\tLoss: 0.000466\n",
      " Train Epoch: 28/32 [70528/105216 (67%)]\tLoss: 0.000650\n",
      " Train Epoch: 28/32 [76928/105216 (73%)]\tLoss: 0.001014\n",
      " Train Epoch: 28/32 [83328/105216 (79%)]\tLoss: 0.000303\n",
      " Train Epoch: 28/32 [89728/105216 (85%)]\tLoss: 0.000802\n",
      " Train Epoch: 28/32 [96128/105216 (91%)]\tLoss: 0.000411\n",
      " Train Epoch: 28/32 [102528/105216 (97%)]\tLoss: 0.000657\n",
      " Train Epoch: 29/32 [128/105216 (0%)]\tLoss: 0.000778\n",
      " Train Epoch: 29/32 [6528/105216 (6%)]\tLoss: 0.000324\n",
      " Train Epoch: 29/32 [12928/105216 (12%)]\tLoss: 0.000344\n",
      " Train Epoch: 29/32 [19328/105216 (18%)]\tLoss: 0.000273\n",
      " Train Epoch: 29/32 [25728/105216 (24%)]\tLoss: 0.000368\n",
      " Train Epoch: 29/32 [32128/105216 (31%)]\tLoss: 0.000412\n",
      " Train Epoch: 29/32 [38528/105216 (37%)]\tLoss: 0.000614\n",
      " Train Epoch: 29/32 [44928/105216 (43%)]\tLoss: 0.000424\n",
      " Train Epoch: 29/32 [51328/105216 (49%)]\tLoss: 0.000411\n",
      " Train Epoch: 29/32 [57728/105216 (55%)]\tLoss: 0.000265\n",
      " Train Epoch: 29/32 [64128/105216 (61%)]\tLoss: 0.000462\n",
      " Train Epoch: 29/32 [70528/105216 (67%)]\tLoss: 0.000633\n",
      " Train Epoch: 29/32 [76928/105216 (73%)]\tLoss: 0.000992\n",
      " Train Epoch: 29/32 [83328/105216 (79%)]\tLoss: 0.000287\n",
      " Train Epoch: 29/32 [89728/105216 (85%)]\tLoss: 0.000777\n",
      " Train Epoch: 29/32 [96128/105216 (91%)]\tLoss: 0.000395\n",
      " Train Epoch: 29/32 [102528/105216 (97%)]\tLoss: 0.000637\n",
      " Train Epoch: 30/32 [128/105216 (0%)]\tLoss: 0.000762\n",
      " Train Epoch: 30/32 [6528/105216 (6%)]\tLoss: 0.000317\n",
      " Train Epoch: 30/32 [12928/105216 (12%)]\tLoss: 0.000330\n",
      " Train Epoch: 30/32 [19328/105216 (18%)]\tLoss: 0.000264\n",
      " Train Epoch: 30/32 [25728/105216 (24%)]\tLoss: 0.000358\n",
      " Train Epoch: 30/32 [32128/105216 (31%)]\tLoss: 0.000408\n",
      " Train Epoch: 30/32 [38528/105216 (37%)]\tLoss: 0.000614\n",
      " Train Epoch: 30/32 [44928/105216 (43%)]\tLoss: 0.000408\n",
      " Train Epoch: 30/32 [51328/105216 (49%)]\tLoss: 0.000403\n",
      " Train Epoch: 30/32 [57728/105216 (55%)]\tLoss: 0.000256\n",
      " Train Epoch: 30/32 [64128/105216 (61%)]\tLoss: 0.000455\n",
      " Train Epoch: 30/32 [70528/105216 (67%)]\tLoss: 0.000626\n",
      " Train Epoch: 30/32 [76928/105216 (73%)]\tLoss: 0.000969\n",
      " Train Epoch: 30/32 [83328/105216 (79%)]\tLoss: 0.000277\n",
      " Train Epoch: 30/32 [89728/105216 (85%)]\tLoss: 0.000751\n",
      " Train Epoch: 30/32 [96128/105216 (91%)]\tLoss: 0.000387\n",
      " Train Epoch: 30/32 [102528/105216 (97%)]\tLoss: 0.000618\n",
      " Train Epoch: 31/32 [128/105216 (0%)]\tLoss: 0.000754\n",
      " Train Epoch: 31/32 [6528/105216 (6%)]\tLoss: 0.000312\n",
      " Train Epoch: 31/32 [12928/105216 (12%)]\tLoss: 0.000321\n",
      " Train Epoch: 31/32 [19328/105216 (18%)]\tLoss: 0.000260\n",
      " Train Epoch: 31/32 [25728/105216 (24%)]\tLoss: 0.000352\n",
      " Train Epoch: 31/32 [32128/105216 (31%)]\tLoss: 0.000406\n",
      " Train Epoch: 31/32 [38528/105216 (37%)]\tLoss: 0.000610\n",
      " Train Epoch: 31/32 [44928/105216 (43%)]\tLoss: 0.000399\n",
      " Train Epoch: 31/32 [51328/105216 (49%)]\tLoss: 0.000398\n",
      " Train Epoch: 31/32 [57728/105216 (55%)]\tLoss: 0.000251\n",
      " Train Epoch: 31/32 [64128/105216 (61%)]\tLoss: 0.000449\n",
      " Train Epoch: 31/32 [70528/105216 (67%)]\tLoss: 0.000615\n",
      " Train Epoch: 31/32 [76928/105216 (73%)]\tLoss: 0.000951\n",
      " Train Epoch: 31/32 [83328/105216 (79%)]\tLoss: 0.000272\n",
      " Train Epoch: 31/32 [89728/105216 (85%)]\tLoss: 0.000731\n",
      " Train Epoch: 31/32 [96128/105216 (91%)]\tLoss: 0.000383\n",
      " Train Epoch: 31/32 [102528/105216 (97%)]\tLoss: 0.000605\n",
      " Train Epoch: 32/32 [128/105216 (0%)]\tLoss: 0.000744\n",
      " Train Epoch: 32/32 [6528/105216 (6%)]\tLoss: 0.000307\n",
      " Train Epoch: 32/32 [12928/105216 (12%)]\tLoss: 0.000315\n",
      " Train Epoch: 32/32 [19328/105216 (18%)]\tLoss: 0.000257\n",
      " Train Epoch: 32/32 [25728/105216 (24%)]\tLoss: 0.000347\n",
      " Train Epoch: 32/32 [32128/105216 (31%)]\tLoss: 0.000403\n",
      " Train Epoch: 32/32 [38528/105216 (37%)]\tLoss: 0.000606\n",
      " Train Epoch: 32/32 [44928/105216 (43%)]\tLoss: 0.000392\n",
      " Train Epoch: 32/32 [51328/105216 (49%)]\tLoss: 0.000394\n",
      " Train Epoch: 32/32 [57728/105216 (55%)]\tLoss: 0.000247\n",
      " Train Epoch: 32/32 [64128/105216 (61%)]\tLoss: 0.000446\n",
      " Train Epoch: 32/32 [70528/105216 (67%)]\tLoss: 0.000609\n",
      " Train Epoch: 32/32 [76928/105216 (73%)]\tLoss: 0.000932\n",
      " Train Epoch: 32/32 [83328/105216 (79%)]\tLoss: 0.000268\n",
      " Train Epoch: 32/32 [89728/105216 (85%)]\tLoss: 0.000716\n",
      " Train Epoch: 32/32 [96128/105216 (91%)]\tLoss: 0.000377\n",
      " Train Epoch: 32/32 [102528/105216 (97%)]\tLoss: 0.000599"
     ]
    }
   ],
   "source": [
    "losses = []\n",
    "EPOCHS = 32\n",
    "for epoch in range(EPOCHS):\n",
    "    model.train()\n",
    "    for batch_idx, (data,target) in enumerate(trn_dataloader):\n",
    "        data = torch.autograd.Variable(data)\n",
    "        optimizer.zero_grad()\n",
    "        pred = model(data)\n",
    "        loss = critereon(pred, data)\n",
    "        losses.append(loss.cpu().data.item())\n",
    "        \n",
    "        # Backpropagation\n",
    "        loss.backward()\n",
    "        optimizer.step()\n",
    "        \n",
    "        # Display\n",
    "        if batch_idx % 50 == 1:\n",
    "            print('\\n Train Epoch: {}/{} [{}/{} ({:.0f}%)]\\tLoss: {:.6f}'.format(\n",
    "                epoch+1,\n",
    "                EPOCHS,\n",
    "                batch_idx * len(data), \n",
    "                len(trn_dataloader.dataset),\n",
    "                100. * batch_idx / len(trn_dataloader), \n",
    "                loss.cpu().data.item()), \n",
    "                end='')"
   ]
  },
  {
   "cell_type": "code",
   "execution_count": 8,
   "metadata": {},
   "outputs": [
    {
     "data": {
      "image/png": "[encoded data removed]",
      "text/plain": [
       "<Figure size 1152x576 with 1 Axes>"
      ]
     },
     "metadata": {},
     "output_type": "display_data"
    }
   ],
   "source": [
    "fig = plt.figure(figsize=(16,8))\n",
    "plt.plot(np.arange(len(losses)),losses)\n",
    "plt.title('Loss (Training) Einfacher AE',fontsize=20)\n",
    "loss_fn = '{}_AE_model_loss.pdf'.format(arrow.now().format('YYYYMMDD'))\n",
    "fn = os.path.join(fig_path, loss_fn)\n",
    "fig.savefig(fn, bbox_inches = 'tight', pad_inches = 0)"
   ]
  },
  {
   "cell_type": "markdown",
   "metadata": {},
   "source": [
    "### Save Modell"
   ]
  },
  {
   "cell_type": "code",
   "execution_count": 9,
   "metadata": {},
   "outputs": [
    {
     "name": "stdout",
     "output_type": "stream",
     "text": [
      "Model Name: 20200303_firstAE_model.pt\n"
     ]
    }
   ],
   "source": [
    "model_fn = '{}_firstAE_model.pt'.format(arrow.now().format('YYYYMMDD'))\n",
    "print('Model Name: {}'.format(model_fn))\n",
    "torch.save(model.state_dict(), os.path.join(model_bib_path, model_fn))"
   ]
  },
  {
   "cell_type": "markdown",
   "metadata": {},
   "source": [
    "# Logistic Regression zum Lernen des Thresholds"
   ]
  },
  {
   "cell_type": "code",
   "execution_count": 10,
   "metadata": {},
   "outputs": [
    {
     "data": {
      "text/plain": [
       "<torch._C.Generator at 0x130e45990>"
      ]
     },
     "execution_count": 10,
     "metadata": {},
     "output_type": "execute_result"
    }
   ],
   "source": [
    "from sklearn.linear_model import LogisticRegression\n",
    "from utils.evalUtils import calc_cm_metrics\n",
    "\n",
    "from models.SimpleAutoEncoder import SimpleAutoEncoder\n",
    "torch.manual_seed(42)"
   ]
  },
  {
   "cell_type": "code",
   "execution_count": 24,
   "metadata": {},
   "outputs": [],
   "source": [
    "s_labels = df_data_anormal['label']\n",
    "df_data_anormal.drop('label', axis=1, inplace=True)"
   ]
  },
  {
   "cell_type": "code",
   "execution_count": 16,
   "metadata": {},
   "outputs": [
    {
     "data": {
      "text/plain": [
       "SimpleAutoEncoder(\n",
       "  (encoder): Sequential(\n",
       "    (0): Linear(in_features=17, out_features=12, bias=True)\n",
       "    (1): ReLU(inplace=True)\n",
       "    (2): Linear(in_features=12, out_features=8, bias=True)\n",
       "    (3): Tanh()\n",
       "  )\n",
       "  (decoder): Sequential(\n",
       "    (0): Linear(in_features=8, out_features=12, bias=True)\n",
       "    (1): ReLU(inplace=True)\n",
       "    (2): Linear(in_features=12, out_features=17, bias=True)\n",
       "    (3): Tanh()\n",
       "  )\n",
       ")"
      ]
     },
     "execution_count": 16,
     "metadata": {},
     "output_type": "execute_result"
    }
   ],
   "source": [
    "num_inpus = len(df_data_anormal.columns)\n",
    "val_lambda = 42 * 0.01\n",
    "fn_now = os.path.join(model_path, 'model_bib' ,'20200303_firstAE_model.pt')\n",
    "model = SimpleAutoEncoder(num_inputs=num_inpus, val_lambda=val_lambda)\n",
    "model.load_state_dict(torch.load(fn_now))\n",
    "model.eval()"
   ]
  },
  {
   "cell_type": "code",
   "execution_count": 17,
   "metadata": {},
   "outputs": [
    {
     "name": "stdout",
     "output_type": "stream",
     "text": [
      "Shape of anormal data: (35040, 18)\n"
     ]
    }
   ],
   "source": [
    "data_fn_anormal = os.path.join(data_path, 'anomalous_data_y_2022_reduced.h5')\n",
    "df_data_anormal = pd.read_hdf(data_fn_anormal, key='df')\n",
    "print('Shape of anormal data: {}'.format(df_data_anormal.shape))"
   ]
  },
  {
   "cell_type": "code",
   "execution_count": 18,
   "metadata": {},
   "outputs": [],
   "source": [
    "scaler_train = MinMaxScaler((-1,1))"
   ]
  },
  {
   "cell_type": "code",
   "execution_count": 19,
   "metadata": {},
   "outputs": [],
   "source": [
    "scaler_train = scaler_train.fit(df_data)"
   ]
  },
  {
   "cell_type": "code",
   "execution_count": 25,
   "metadata": {},
   "outputs": [
    {
     "data": {
      "text/plain": [
       "(35040, 17)"
      ]
     },
     "execution_count": 25,
     "metadata": {},
     "output_type": "execute_result"
    }
   ],
   "source": [
    "df_data_anormal.shape"
   ]
  },
  {
   "cell_type": "code",
   "execution_count": 26,
   "metadata": {},
   "outputs": [],
   "source": [
    "scaled_anormal = scaler_train.transform(df_data_anormal.to_numpy())"
   ]
  },
  {
   "cell_type": "code",
   "execution_count": 27,
   "metadata": {},
   "outputs": [],
   "source": [
    "# build tensor from numpy\n",
    "anormal_torch_tensor = torch.from_numpy(scaled_anormal).type(torch.FloatTensor)"
   ]
  },
  {
   "cell_type": "code",
   "execution_count": 28,
   "metadata": {},
   "outputs": [],
   "source": [
    "# build TensorDataset from Tensor\n",
    "anormal_dataset = TensorDataset(anormal_torch_tensor, anormal_torch_tensor)"
   ]
  },
  {
   "cell_type": "code",
   "execution_count": 29,
   "metadata": {},
   "outputs": [],
   "source": [
    "# build DataLoader from TensorDataset\n",
    "anormal_dataloader = torch.utils.data.DataLoader(anormal_dataset,batch_size=128,shuffle=False, num_workers=0)"
   ]
  },
  {
   "cell_type": "code",
   "execution_count": 30,
   "metadata": {},
   "outputs": [],
   "source": [
    "losses_anormal = []\n",
    "for val in anormal_torch_tensor:\n",
    "    loss = model.calc_reconstruction_error(val)\n",
    "    losses_anormal.append(loss.item())\n",
    "    \n",
    "s_losses_anormal = pd.Series(losses_anormal)"
   ]
  },
  {
   "cell_type": "code",
   "execution_count": 31,
   "metadata": {},
   "outputs": [],
   "source": [
    "X = s_losses_anormal.to_numpy()\n",
    "X = X.reshape(-1, 1)\n",
    "y = [1 if x > 0 else 0 for x in s_labels]"
   ]
  },
  {
   "cell_type": "code",
   "execution_count": 32,
   "metadata": {},
   "outputs": [
    {
     "data": {
      "text/plain": [
       "LogisticRegression(C=1.0, class_weight={1: 2.0}, dual=False, fit_intercept=True,\n",
       "                   intercept_scaling=1, l1_ratio=None, max_iter=100,\n",
       "                   multi_class='auto', n_jobs=None, penalty='l2',\n",
       "                   random_state=42, solver='liblinear', tol=0.0001, verbose=0,\n",
       "                   warm_start=False)"
      ]
     },
     "execution_count": 32,
     "metadata": {},
     "output_type": "execute_result"
    }
   ],
   "source": [
    "clf = LogisticRegression(random_state=42, fit_intercept=True, solver='liblinear', class_weight={1:2.0})\n",
    "clf.fit(X, y)"
   ]
  },
  {
   "cell_type": "code",
   "execution_count": 33,
   "metadata": {},
   "outputs": [],
   "source": [
    "predictions = []\n",
    "for val in X:\n",
    "    val = val.reshape(1,-1)\n",
    "    pred = clf.predict(val)\n",
    "    predictions.append(pred[0])"
   ]
  },
  {
   "cell_type": "code",
   "execution_count": 34,
   "metadata": {},
   "outputs": [],
   "source": [
    "from sklearn.metrics import confusion_matrix\n",
    "from sklearn.metrics import accuracy_score\n",
    "from sklearn.metrics import precision_score\n",
    "from mlxtend.plotting import plot_confusion_matrix\n",
    "import joblib"
   ]
  },
  {
   "cell_type": "code",
   "execution_count": 35,
   "metadata": {},
   "outputs": [],
   "source": [
    "cm = confusion_matrix(y, predictions)\n",
    "tn, fp, fn, tp  = confusion_matrix(y, predictions).ravel()"
   ]
  },
  {
   "cell_type": "code",
   "execution_count": 36,
   "metadata": {},
   "outputs": [
    {
     "name": "stdout",
     "output_type": "stream",
     "text": [
      "Accuracy: 99.70034246572497\n",
      "Precision: 99.99999999958195\n",
      "Specifity: 93.15299842562096\n",
      "Sensitivity: 95.79495394435004\n",
      "F1-Score: 97.85232153794672\n"
     ]
    }
   ],
   "source": [
    "accuracy, precision, specifity, sensitivity, f1_score = calc_cm_metrics(tp, tn, fp, fn)\n",
    "print('Accuracy: {}'.format(accuracy))\n",
    "print('Precision: {}'.format(precision))\n",
    "print('Specifity: {}'.format(specifity))\n",
    "print('Sensitivity: {}'.format(sensitivity))\n",
    "print('F1-Score: {}'.format(f1_score))"
   ]
  },
  {
   "cell_type": "markdown",
   "metadata": {},
   "source": [
    "### Save Model"
   ]
  },
  {
   "cell_type": "code",
   "execution_count": 38,
   "metadata": {},
   "outputs": [
    {
     "data": {
      "text/plain": [
       "['/Users/torge/Development/master/masterthesis_code/02_Experimente/AnomalyDetection/models/model_bib/20200303_LogRegModell.save']"
      ]
     },
     "execution_count": 38,
     "metadata": {},
     "output_type": "execute_result"
    }
   ],
   "source": [
    "model_fn = '{}_LogRegModell.save'.format(arrow.now().format('YYYYMMDD'))\n",
    "filename = os.path.join(model_bib_path, model_fn)\n",
    "joblib.dump(clf, filename)"
   ]
  },
  {
   "cell_type": "code",
   "execution_count": null,
   "metadata": {},
   "outputs": [],
   "source": []
  }
 ],
 "metadata": {
  "kernelspec": {
   "display_name": "ma_modells",
   "language": "python",
   "name": "ma_modells"
  },
  "language_info": {
   "codemirror_mode": {
    "name": "ipython",
    "version": 3
   },
   "file_extension": ".py",
   "mimetype": "text/x-python",
   "name": "python",
   "nbconvert_exporter": "python",
   "pygments_lexer": "ipython3",
   "version": "3.7.6"
  }
 },
 "nbformat": 4,
 "nbformat_minor": 4
}
