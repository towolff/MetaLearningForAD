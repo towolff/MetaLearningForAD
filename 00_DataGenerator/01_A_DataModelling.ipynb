{
 "cells": [
  {
   "cell_type": "markdown",
   "metadata": {},
   "source": [
    "# Data Modelling"
   ]
  },
  {
   "cell_type": "markdown",
   "metadata": {},
   "source": [
    "**Building of the initial dataset, which is used in PandaPower later.**\n",
    "\n",
    "- Every time series ist normed to 1000 kWh/a \n",
    "- Due to the leap year in 2020 some time series, which were not created for 2020, are not normed to 1000 "
   ]
  },
  {
   "cell_type": "code",
   "execution_count": 1,
   "metadata": {},
   "outputs": [],
   "source": [
    "import os\n",
    "import arrow\n",
    "import pandas as pd\n",
    "import numpy as np\n",
    "import matplotlib.pyplot as plt"
   ]
  },
  {
   "cell_type": "code",
   "execution_count": 2,
   "metadata": {},
   "outputs": [
    {
     "name": "stdout",
     "output_type": "stream",
     "text": [
      "/Users/torge/Development/master/masterthesis_code/02_Experimente/DataGenerator\n",
      "/Users/torge/Development/master/masterthesis_code/02_Experimente/DataGenerator/data_modelling/profiles\n"
     ]
    }
   ],
   "source": [
    "cwd = os.getcwd()\n",
    "print(cwd)\n",
    "profiles_fn = os.path.join(cwd, 'data_modelling', 'profiles')\n",
    "print(profiles_fn)"
   ]
  },
  {
   "cell_type": "markdown",
   "metadata": {},
   "source": [
    "## Build Index depending on duration"
   ]
  },
  {
   "cell_type": "code",
   "execution_count": 3,
   "metadata": {},
   "outputs": [],
   "source": [
    "start_ts = arrow.get('01.01.2020')\n",
    "duration_years = 4\n",
    "duration = 365 * duration_years"
   ]
  },
  {
   "cell_type": "code",
   "execution_count": 4,
   "metadata": {},
   "outputs": [
    {
     "name": "stdout",
     "output_type": "stream",
     "text": [
      "2020-01-01T00:00:00+00:00\n"
     ]
    }
   ],
   "source": [
    "print(start_ts)"
   ]
  },
  {
   "cell_type": "code",
   "execution_count": 5,
   "metadata": {},
   "outputs": [],
   "source": [
    "end_ts = start_ts.shift(days=duration, hours=23, minutes=45)"
   ]
  },
  {
   "cell_type": "code",
   "execution_count": 6,
   "metadata": {},
   "outputs": [
    {
     "name": "stdout",
     "output_type": "stream",
     "text": [
      "2023-12-31T23:45:00+00:00\n"
     ]
    }
   ],
   "source": [
    "print(end_ts)"
   ]
  },
  {
   "cell_type": "code",
   "execution_count": 7,
   "metadata": {},
   "outputs": [],
   "source": [
    "fmt = 'YYYY-MM-DD HH:mm:ss' # index date has to be in the correct format for pandapower\n",
    "current_ts = start_ts\n",
    "ts_list = []\n",
    "ts_list.append(current_ts.format(fmt))\n",
    "\n",
    "while current_ts < end_ts:\n",
    "    current_ts = current_ts.shift(minutes=15)\n",
    "    ts_list.append(current_ts.format(fmt))"
   ]
  },
  {
   "cell_type": "code",
   "execution_count": 8,
   "metadata": {},
   "outputs": [
    {
     "data": {
      "text/plain": [
       "'2020-01-03 02:15:00'"
      ]
     },
     "execution_count": 8,
     "metadata": {},
     "output_type": "execute_result"
    }
   ],
   "source": [
    "ts_list[201]"
   ]
  },
  {
   "cell_type": "code",
   "execution_count": 9,
   "metadata": {},
   "outputs": [],
   "source": [
    "current_day = start_ts\n",
    "end_day = start_ts.shift(days=duration)\n",
    "days_list = []\n",
    "days_list.append(start_ts)\n",
    "\n",
    "while current_day < end_day:\n",
    "    current_day = current_day.shift(days=1)\n",
    "    days_list.append(current_day)"
   ]
  },
  {
   "cell_type": "code",
   "execution_count": 10,
   "metadata": {},
   "outputs": [],
   "source": [
    "current_month = start_ts\n",
    "month_list = []\n",
    "month_list.append(current_month.month)\n",
    "\n",
    "while current_month <= end_day:\n",
    "    current_month = current_month.shift(months=1)\n",
    "    month_list.append(current_month.month)"
   ]
  },
  {
   "cell_type": "code",
   "execution_count": 11,
   "metadata": {},
   "outputs": [],
   "source": [
    "month_list = month_list[:-1] # delete last item since its not neccessary"
   ]
  },
  {
   "cell_type": "code",
   "execution_count": 12,
   "metadata": {},
   "outputs": [],
   "source": [
    "winter = [12, 1, 2]\n",
    "sommer = [6, 7, 8]\n",
    "uebergang = [3, 4, 5, 9, 10, 11]"
   ]
  },
  {
   "cell_type": "markdown",
   "metadata": {},
   "source": [
    "## Read profiles"
   ]
  },
  {
   "cell_type": "code",
   "execution_count": 13,
   "metadata": {},
   "outputs": [],
   "source": [
    "df_h0_profiles = pd.read_csv(os.path.join(profiles_fn, 'H0_profile.csv'),sep=';', dtype=np.float64, decimal=',')"
   ]
  },
  {
   "cell_type": "code",
   "execution_count": 14,
   "metadata": {},
   "outputs": [],
   "source": [
    "df_l0_profiles = pd.read_csv(os.path.join(profiles_fn, 'L0_profile.csv'),sep=';', dtype=np.float64, decimal=',')"
   ]
  },
  {
   "cell_type": "code",
   "execution_count": 15,
   "metadata": {},
   "outputs": [],
   "source": [
    "df_g0_profiles = pd.read_csv(os.path.join(profiles_fn, 'G0_profile.csv'),sep=';', dtype=np.float64, decimal=',')"
   ]
  },
  {
   "cell_type": "code",
   "execution_count": 16,
   "metadata": {},
   "outputs": [],
   "source": [
    "df_pv_profiles = pd.read_csv(os.path.join(profiles_fn, 'PV_profile.csv'),sep=';', dtype=np.float64, decimal=',')"
   ]
  },
  {
   "cell_type": "code",
   "execution_count": 17,
   "metadata": {},
   "outputs": [],
   "source": [
    "df_wind_data = pd.read_csv(os.path.join(profiles_fn, 'WND_profile.csv'), sep=';', dtype=np.float64, decimal=',')"
   ]
  },
  {
   "cell_type": "code",
   "execution_count": 18,
   "metadata": {},
   "outputs": [],
   "source": [
    "df_gas_data = pd.read_csv(os.path.join(profiles_fn, 'gas_profile.csv'), sep=';', dtype=np.float64, decimal=',')"
   ]
  },
  {
   "cell_type": "markdown",
   "metadata": {},
   "source": [
    "## Build Dataset"
   ]
  },
  {
   "cell_type": "code",
   "execution_count": 19,
   "metadata": {},
   "outputs": [],
   "source": [
    "def build_tag(profile, month, day):\n",
    "    tmplt = '{}_{}_{}'\n",
    "     \n",
    "    if month in winter:\n",
    "        season_txt = 'winter'\n",
    "    elif month in sommer:\n",
    "        season_txt = 'sommer'\n",
    "    elif month in uebergang:\n",
    "        season_txt = 'uebergang'\n",
    "        \n",
    "    if day == 6:\n",
    "        day_txt = 'sa'\n",
    "    elif day == 7:\n",
    "        day_txt = 'so'\n",
    "    else:\n",
    "        day_txt = 'wt'\n",
    "    \n",
    "    return tmplt.format(profile, season_txt, day_txt)"
   ]
  },
  {
   "cell_type": "code",
   "execution_count": 20,
   "metadata": {},
   "outputs": [],
   "source": [
    "def build_tag_pv(month, day):\n",
    "    tmplt = \"pv_{}_{}\"\n",
    "    \n",
    "    if month == 1:\n",
    "        month_txt = 'jan'\n",
    "        season_txt = 'winter'\n",
    "    elif month == 2:\n",
    "        month_txt = 'feb'\n",
    "        season_txt = 'winter'\n",
    "    elif month == 3:\n",
    "        month_txt = 'mrz'\n",
    "        season_txt = 'winter'\n",
    "    elif month == 4:\n",
    "        month_txt = 'apr'\n",
    "        season_txt = 'sommer'\n",
    "    elif month == 5:\n",
    "        month_txt = 'mai'\n",
    "        season_txt = 'sommer'\n",
    "    elif month == 6:\n",
    "        month_txt = 'jun'\n",
    "        season_txt = 'sommer'\n",
    "    elif month == 7:\n",
    "        month_txt = 'jul'\n",
    "        season_txt = 'sommer'\n",
    "    elif month == 8:\n",
    "        month_txt = 'aug'\n",
    "        season_txt = 'sommer'\n",
    "    elif month == 9:\n",
    "        month_txt = 'sep'\n",
    "        season_txt = 'sommer'\n",
    "    elif month == 10:\n",
    "        month_txt = 'okt'\n",
    "        season_txt = 'sommer'\n",
    "    elif month == 11:\n",
    "        month_txt = 'nov'\n",
    "        season_txt = 'sommer'\n",
    "    elif month == 12:\n",
    "        month_txt = 'dez'\n",
    "        season_txt = 'sommer'\n",
    "        \n",
    "    return tmplt.format(season_txt, month_txt)"
   ]
  },
  {
   "cell_type": "code",
   "execution_count": 21,
   "metadata": {},
   "outputs": [],
   "source": [
    "def build_tag_wind(year, month):\n",
    "    tmplt = 'wind_{}'\n",
    "    leap_years = [2020, 2024, 2028, 2032]\n",
    "    \n",
    "    if year in leap_years and month == 2:\n",
    "        return 'wind_feb_leap_y'\n",
    "    \n",
    "    if month == 1:\n",
    "        month_txt = 'jan'\n",
    "    elif month == 2:\n",
    "        month_txt = 'feb'\n",
    "    elif month == 3:\n",
    "        month_txt = 'mrz'\n",
    "    elif month == 4:\n",
    "        month_txt = 'apr'\n",
    "    elif month == 5:\n",
    "        month_txt = 'mai'\n",
    "    elif month == 6:\n",
    "        month_txt = 'jun'\n",
    "    elif month == 7:\n",
    "        month_txt = 'jul'\n",
    "    elif month == 8:\n",
    "        month_txt = 'aug'\n",
    "    elif month == 9:\n",
    "        month_txt = 'sep'\n",
    "    elif month == 10:\n",
    "        month_txt = 'okt'\n",
    "    elif month == 11:\n",
    "        month_txt = 'nov'\n",
    "    elif month == 12:\n",
    "        month_txt = 'dez'\n",
    "    \n",
    "    return tmplt.format(month_txt)"
   ]
  },
  {
   "cell_type": "code",
   "execution_count": 22,
   "metadata": {},
   "outputs": [],
   "source": [
    "def select_wind(year, month):\n",
    "    \n",
    "    select_tag = build_tag_wind(year, month)\n",
    "    wnd_df = df_wind_data[select_tag]\n",
    "    \n",
    "    wnd_df.dropna(inplace=True)\n",
    "\n",
    "    return wnd_df"
   ]
  },
  {
   "cell_type": "code",
   "execution_count": 23,
   "metadata": {},
   "outputs": [],
   "source": [
    "def build_tag_gas(year, month):\n",
    "    tmplt = 'gas_{}'\n",
    "    leap_years = [2020, 2024, 2028, 2032]\n",
    "    \n",
    "    if year in leap_years and month == 2:\n",
    "        return 'gas_feb_leap_y'\n",
    "    \n",
    "    if month == 1:\n",
    "        month_txt = 'jan'\n",
    "    elif month == 2:\n",
    "        month_txt = 'feb'\n",
    "    elif month == 3:\n",
    "        month_txt = 'mrz'\n",
    "    elif month == 4:\n",
    "        month_txt = 'apr'\n",
    "    elif month == 5:\n",
    "        month_txt = 'mai'\n",
    "    elif month == 6:\n",
    "        month_txt = 'jun'\n",
    "    elif month == 7:\n",
    "        month_txt = 'jul'\n",
    "    elif month == 8:\n",
    "        month_txt = 'aug'\n",
    "    elif month == 9:\n",
    "        month_txt = 'sep'\n",
    "    elif month == 10:\n",
    "        month_txt = 'okt'\n",
    "    elif month == 11:\n",
    "        month_txt = 'nov'\n",
    "    elif month == 12:\n",
    "        month_txt = 'dez'\n",
    "    \n",
    "    return tmplt.format(month_txt)"
   ]
  },
  {
   "cell_type": "code",
   "execution_count": 24,
   "metadata": {},
   "outputs": [],
   "source": [
    "def select_gas(year, month):\n",
    "    \n",
    "    select_tag = build_tag_gas(year, month)\n",
    "    print(select_tag)\n",
    "    gas_df = df_gas_data[select_tag]\n",
    "    \n",
    "    gas_df.dropna(inplace=True)\n",
    "\n",
    "    return gas_df"
   ]
  },
  {
   "cell_type": "markdown",
   "metadata": {},
   "source": [
    "## Append Data per Day"
   ]
  },
  {
   "cell_type": "code",
   "execution_count": 25,
   "metadata": {},
   "outputs": [],
   "source": [
    "h0_data = []\n",
    "g0_data = []\n",
    "l0_data = []\n",
    "pv_data = []\n",
    "\n",
    "for day in days_list:\n",
    "    day_of_week = day.isoweekday()\n",
    "    month = day.month\n",
    "    year = day.year\n",
    "    \n",
    "    h0_select = build_tag('h0', month, day_of_week)\n",
    "    g0_select = build_tag('g0', month, day_of_week)\n",
    "    l0_select = build_tag('l0', month, day_of_week)\n",
    "    pv_select = build_tag_pv(month, day_of_week)\n",
    "    \n",
    "    h0_tmp = df_h0_profiles[h0_select]\n",
    "    g0_tmp = df_g0_profiles[g0_select]\n",
    "    l0_tmp = df_l0_profiles[l0_select]\n",
    "    pv_tmp = df_pv_profiles[pv_select]\n",
    "    \n",
    "    for item in h0_tmp:\n",
    "        h0_data.append(item)\n",
    "    \n",
    "    for item in g0_tmp:\n",
    "        g0_data.append(item)\n",
    "        \n",
    "    for item in l0_tmp:\n",
    "        l0_data.append(item)\n",
    "        \n",
    "    for item in pv_tmp:\n",
    "        pv_data.append(item)\n",
    "        \n"
   ]
  },
  {
   "cell_type": "markdown",
   "metadata": {},
   "source": [
    "### Append Data per Month"
   ]
  },
  {
   "cell_type": "code",
   "execution_count": 26,
   "metadata": {},
   "outputs": [
    {
     "name": "stdout",
     "output_type": "stream",
     "text": [
      "gas_jan\n",
      "gas_feb_leap_y\n",
      "gas_mrz\n",
      "gas_apr\n",
      "gas_mai\n",
      "gas_jun\n",
      "gas_jul\n",
      "gas_aug\n",
      "gas_sep\n",
      "gas_okt\n",
      "gas_nov\n",
      "gas_dez\n",
      "gas_jan\n",
      "gas_feb\n",
      "gas_mrz\n",
      "gas_apr\n",
      "gas_mai\n",
      "gas_jun\n",
      "gas_jul\n",
      "gas_aug\n",
      "gas_sep\n",
      "gas_okt\n",
      "gas_nov\n",
      "gas_dez\n",
      "gas_jan\n",
      "gas_feb\n",
      "gas_mrz\n",
      "gas_apr\n",
      "gas_mai\n",
      "gas_jun\n",
      "gas_jul\n",
      "gas_aug\n",
      "gas_sep\n",
      "gas_okt\n",
      "gas_nov\n",
      "gas_dez\n",
      "gas_jan\n",
      "gas_feb\n",
      "gas_mrz\n",
      "gas_apr\n",
      "gas_mai\n",
      "gas_jun\n",
      "gas_jul\n",
      "gas_aug\n",
      "gas_sep\n",
      "gas_okt\n",
      "gas_nov\n",
      "gas_dez\n"
     ]
    }
   ],
   "source": [
    "wnd_data = []\n",
    "gas_data = []\n",
    "\n",
    "current_year = 2020\n",
    "last_month = 0\n",
    "\n",
    "for month in month_list:\n",
    "\n",
    "    if last_month == 12 and month == 1:\n",
    "        current_year += 1\n",
    "    \n",
    "    wnd_tmp = select_wind(current_year, month)\n",
    "    gas_tmp = select_gas(current_year, month)\n",
    "    \n",
    "    last_month = month\n",
    "    \n",
    "    for item in wnd_tmp:\n",
    "        wnd_data.append(item)\n",
    "        \n",
    "    for item in gas_tmp:\n",
    "        gas_data.append(item)\n",
    "    "
   ]
  },
  {
   "cell_type": "code",
   "execution_count": 27,
   "metadata": {},
   "outputs": [],
   "source": [
    "## Build initial DataFrame\n",
    "df_data = pd.DataFrame(index=ts_list)"
   ]
  },
  {
   "cell_type": "code",
   "execution_count": 28,
   "metadata": {},
   "outputs": [],
   "source": [
    "## Negate every genereration\n",
    "pv_data = [x * -1 for x in pv_data]\n",
    "wind_data = [x * -1 for x in wnd_data]\n",
    "gas_data_list = [x * -1 for x in gas_data]"
   ]
  },
  {
   "cell_type": "code",
   "execution_count": 29,
   "metadata": {},
   "outputs": [],
   "source": [
    "df_data['load_h0_normed_kW'] = h0_data\n",
    "df_data['load_g0_normed_kW'] = g0_data\n",
    "df_data['load_l0_normed_kW'] = l0_data\n",
    "df_data['gen_pv_normed_kW'] = pv_data\n",
    "df_data['gen_wind_normed_kW'] = wind_data\n",
    "df_data['gen_gas_normed_kW'] = gas_data_list"
   ]
  },
  {
   "cell_type": "code",
   "execution_count": 30,
   "metadata": {},
   "outputs": [
    {
     "data": {
      "text/html": [
       "<div>\n",
       "<style scoped>\n",
       "    .dataframe tbody tr th:only-of-type {\n",
       "        vertical-align: middle;\n",
       "    }\n",
       "\n",
       "    .dataframe tbody tr th {\n",
       "        vertical-align: top;\n",
       "    }\n",
       "\n",
       "    .dataframe thead th {\n",
       "        text-align: right;\n",
       "    }\n",
       "</style>\n",
       "<table border=\"1\" class=\"dataframe\">\n",
       "  <thead>\n",
       "    <tr style=\"text-align: right;\">\n",
       "      <th></th>\n",
       "      <th>load_h0_normed_kW</th>\n",
       "      <th>load_g0_normed_kW</th>\n",
       "      <th>load_l0_normed_kW</th>\n",
       "      <th>gen_pv_normed_kW</th>\n",
       "      <th>gen_wind_normed_kW</th>\n",
       "      <th>gen_gas_normed_kW</th>\n",
       "    </tr>\n",
       "  </thead>\n",
       "  <tbody>\n",
       "    <tr>\n",
       "      <th>2020-01-01 00:00:00</th>\n",
       "      <td>67.6</td>\n",
       "      <td>65.5</td>\n",
       "      <td>72.4</td>\n",
       "      <td>-0.0</td>\n",
       "      <td>-0.167</td>\n",
       "      <td>-0.058531</td>\n",
       "    </tr>\n",
       "    <tr>\n",
       "      <th>2020-01-01 00:15:00</th>\n",
       "      <td>60.8</td>\n",
       "      <td>62.6</td>\n",
       "      <td>69.4</td>\n",
       "      <td>-0.0</td>\n",
       "      <td>-0.166</td>\n",
       "      <td>-0.058531</td>\n",
       "    </tr>\n",
       "    <tr>\n",
       "      <th>2020-01-01 00:30:00</th>\n",
       "      <td>54.9</td>\n",
       "      <td>59.6</td>\n",
       "      <td>66.9</td>\n",
       "      <td>-0.0</td>\n",
       "      <td>-0.165</td>\n",
       "      <td>-0.058531</td>\n",
       "    </tr>\n",
       "    <tr>\n",
       "      <th>2020-01-01 00:45:00</th>\n",
       "      <td>49.9</td>\n",
       "      <td>57.0</td>\n",
       "      <td>64.8</td>\n",
       "      <td>-0.0</td>\n",
       "      <td>-0.164</td>\n",
       "      <td>-0.058531</td>\n",
       "    </tr>\n",
       "    <tr>\n",
       "      <th>2020-01-01 01:00:00</th>\n",
       "      <td>46.2</td>\n",
       "      <td>54.8</td>\n",
       "      <td>63.2</td>\n",
       "      <td>-0.0</td>\n",
       "      <td>-0.163</td>\n",
       "      <td>-0.058531</td>\n",
       "    </tr>\n",
       "    <tr>\n",
       "      <th>2020-01-01 01:15:00</th>\n",
       "      <td>43.6</td>\n",
       "      <td>53.1</td>\n",
       "      <td>61.9</td>\n",
       "      <td>-0.0</td>\n",
       "      <td>-0.162</td>\n",
       "      <td>-0.058531</td>\n",
       "    </tr>\n",
       "    <tr>\n",
       "      <th>2020-01-01 01:30:00</th>\n",
       "      <td>41.9</td>\n",
       "      <td>51.7</td>\n",
       "      <td>61.0</td>\n",
       "      <td>-0.0</td>\n",
       "      <td>-0.162</td>\n",
       "      <td>-0.058531</td>\n",
       "    </tr>\n",
       "    <tr>\n",
       "      <th>2020-01-01 01:45:00</th>\n",
       "      <td>40.8</td>\n",
       "      <td>50.5</td>\n",
       "      <td>60.2</td>\n",
       "      <td>-0.0</td>\n",
       "      <td>-0.161</td>\n",
       "      <td>-0.058531</td>\n",
       "    </tr>\n",
       "    <tr>\n",
       "      <th>2020-01-01 02:00:00</th>\n",
       "      <td>40.1</td>\n",
       "      <td>49.4</td>\n",
       "      <td>59.6</td>\n",
       "      <td>-0.0</td>\n",
       "      <td>-0.160</td>\n",
       "      <td>-0.058531</td>\n",
       "    </tr>\n",
       "    <tr>\n",
       "      <th>2020-01-01 02:15:00</th>\n",
       "      <td>39.6</td>\n",
       "      <td>48.5</td>\n",
       "      <td>59.2</td>\n",
       "      <td>-0.0</td>\n",
       "      <td>-0.159</td>\n",
       "      <td>-0.058531</td>\n",
       "    </tr>\n",
       "  </tbody>\n",
       "</table>\n",
       "</div>"
      ],
      "text/plain": [
       "                     load_h0_normed_kW  load_g0_normed_kW  load_l0_normed_kW  \\\n",
       "2020-01-01 00:00:00               67.6               65.5               72.4   \n",
       "2020-01-01 00:15:00               60.8               62.6               69.4   \n",
       "2020-01-01 00:30:00               54.9               59.6               66.9   \n",
       "2020-01-01 00:45:00               49.9               57.0               64.8   \n",
       "2020-01-01 01:00:00               46.2               54.8               63.2   \n",
       "2020-01-01 01:15:00               43.6               53.1               61.9   \n",
       "2020-01-01 01:30:00               41.9               51.7               61.0   \n",
       "2020-01-01 01:45:00               40.8               50.5               60.2   \n",
       "2020-01-01 02:00:00               40.1               49.4               59.6   \n",
       "2020-01-01 02:15:00               39.6               48.5               59.2   \n",
       "\n",
       "                     gen_pv_normed_kW  gen_wind_normed_kW  gen_gas_normed_kW  \n",
       "2020-01-01 00:00:00              -0.0              -0.167          -0.058531  \n",
       "2020-01-01 00:15:00              -0.0              -0.166          -0.058531  \n",
       "2020-01-01 00:30:00              -0.0              -0.165          -0.058531  \n",
       "2020-01-01 00:45:00              -0.0              -0.164          -0.058531  \n",
       "2020-01-01 01:00:00              -0.0              -0.163          -0.058531  \n",
       "2020-01-01 01:15:00              -0.0              -0.162          -0.058531  \n",
       "2020-01-01 01:30:00              -0.0              -0.162          -0.058531  \n",
       "2020-01-01 01:45:00              -0.0              -0.161          -0.058531  \n",
       "2020-01-01 02:00:00              -0.0              -0.160          -0.058531  \n",
       "2020-01-01 02:15:00              -0.0              -0.159          -0.058531  "
      ]
     },
     "execution_count": 30,
     "metadata": {},
     "output_type": "execute_result"
    }
   ],
   "source": [
    "df_data.head(10)"
   ]
  },
  {
   "cell_type": "code",
   "execution_count": 31,
   "metadata": {},
   "outputs": [],
   "source": [
    "df_data.to_csv(os.path.join(cwd, 'data_modelling', 'main_profiles.csv'),sep=';', index_label='index')"
   ]
  },
  {
   "cell_type": "code",
   "execution_count": null,
   "metadata": {},
   "outputs": [],
   "source": []
  }
 ],
 "metadata": {
  "kernelspec": {
   "display_name": "ma_vorstudie",
   "language": "python",
   "name": "ma_vorstudie"
  },
  "language_info": {
   "codemirror_mode": {
    "name": "ipython",
    "version": 3
   },
   "file_extension": ".py",
   "mimetype": "text/x-python",
   "name": "python",
   "nbconvert_exporter": "python",
   "pygments_lexer": "ipython3",
   "version": "3.7.5"
  }
 },
 "nbformat": 4,
 "nbformat_minor": 4
}
