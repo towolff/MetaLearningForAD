{
 "cells": [
  {
   "cell_type": "markdown",
   "metadata": {},
   "source": [
    "# Fine Tuning Modell M2 in Phase II"
   ]
  },
  {
   "cell_type": "code",
   "execution_count": 1,
   "metadata": {},
   "outputs": [],
   "source": [
    "import arrow\n",
    "import learn2learn as l2l\n",
    "import numpy as np\n",
    "import os\n",
    "import pickle\n",
    "import torch\n",
    "from torch.utils.data import TensorDataset\n",
    "from sklearn.model_selection import train_test_split\n",
    "import pandas as pd\n",
    "import matplotlib.pyplot as plt\n",
    "import joblib\n",
    "\n",
    "from utils.evalUtils import print_confusion_matrix\n",
    "\n",
    "from sklearn.preprocessing import MinMaxScaler\n",
    "from models.SimpleAutoEncoder import SimpleAutoEncoder"
   ]
  },
  {
   "cell_type": "code",
   "execution_count": 2,
   "metadata": {},
   "outputs": [
    {
     "name": "stdout",
     "output_type": "stream",
     "text": [
      "Set configs..\n"
     ]
    }
   ],
   "source": [
    "%run -i ./scripts/setConfigs.py"
   ]
  },
  {
   "cell_type": "markdown",
   "metadata": {},
   "source": [
    "## Prepare the Data"
   ]
  },
  {
   "cell_type": "markdown",
   "metadata": {},
   "source": [
    "#### Load data"
   ]
  },
  {
   "cell_type": "code",
   "execution_count": 3,
   "metadata": {},
   "outputs": [
    {
     "name": "stdout",
     "output_type": "stream",
     "text": [
      "Shape of X_train data: (105216, 17)\n"
     ]
    }
   ],
   "source": [
    "data_fn = os.path.join(data_path, 'simulation_data_y_2020_2021_reduced.h5')\n",
    "df_data_train = pd.read_hdf(data_fn, key='df')\n",
    "print('Shape of X_train data: {}'.format(df_data_train.shape))"
   ]
  },
  {
   "cell_type": "code",
   "execution_count": 4,
   "metadata": {},
   "outputs": [
    {
     "name": "stdout",
     "output_type": "stream",
     "text": [
      "Shape of X_test: (35040, 18)\n"
     ]
    }
   ],
   "source": [
    "anomalous_data_fn = os.path.join(data_path, 'anomalous_data_y_2022_reduced.h5')\n",
    "df_x_test = pd.read_hdf(anomalous_data_fn, key='df')\n",
    "print('Shape of X_test: {}'.format(df_x_test.shape))"
   ]
  },
  {
   "cell_type": "code",
   "execution_count": 5,
   "metadata": {},
   "outputs": [
    {
     "name": "stdout",
     "output_type": "stream",
     "text": [
      "Shape of X_drifted: (35040, 18)\n"
     ]
    }
   ],
   "source": [
    "drifted_data_fn = os.path.join(data_path, 'drifted_data_y_2023_reduced_more_cos_phi.h5')\n",
    "df_x_drifted = pd.read_hdf(drifted_data_fn, key='df')\n",
    "print('Shape of X_drifted: {}'.format(df_x_drifted.shape))"
   ]
  },
  {
   "cell_type": "code",
   "execution_count": 6,
   "metadata": {},
   "outputs": [
    {
     "name": "stdout",
     "output_type": "stream",
     "text": [
      "Shape of X_anomal,drifted : (35040, 19)\n"
     ]
    }
   ],
   "source": [
    "anomalous_drifted_data_fn = os.path.join(data_path, 'anomalous_drifted_data_y_2023_reduced_more_cos_phi.h5')\n",
    "df_x_anormal_drifted = pd.read_hdf(anomalous_drifted_data_fn, key='df')\n",
    "print('Shape of X_anomal,drifted : {}'.format(df_x_anormal_drifted.shape))"
   ]
  },
  {
   "cell_type": "markdown",
   "metadata": {},
   "source": [
    "#### Split labels"
   ]
  },
  {
   "cell_type": "code",
   "execution_count": 7,
   "metadata": {},
   "outputs": [],
   "source": [
    "y_anormal = [1 if x > 0 else 0 for x in df_x_test['label']]\n",
    "df_x_test.drop('label', inplace=True, axis=1)"
   ]
  },
  {
   "cell_type": "code",
   "execution_count": 8,
   "metadata": {},
   "outputs": [
    {
     "name": "stdout",
     "output_type": "stream",
     "text": [
      "Shape of X_drifted : (35040, 17)\n"
     ]
    }
   ],
   "source": [
    "s_x_drifted_drift_labels = df_x_drifted['drift_labels']\n",
    "df_x_drifted.drop('drift_labels',axis=1, inplace=True)\n",
    "print('Shape of X_drifted : {}'.format(df_x_drifted.shape))"
   ]
  },
  {
   "cell_type": "code",
   "execution_count": 9,
   "metadata": {},
   "outputs": [
    {
     "name": "stdout",
     "output_type": "stream",
     "text": [
      "Shape of X_anomal,drifted : (35040, 17)\n"
     ]
    }
   ],
   "source": [
    "y_anormal_drifted = [1 if x > 0 else 0 for x in df_x_anormal_drifted['anomaly_labels']]\n",
    "df_x_anormal_drifted.drop(['anomaly_labels', 'drift_labels'], inplace=True, axis=1)\n",
    "print('Shape of X_anomal,drifted : {}'.format(df_x_anormal_drifted.shape))"
   ]
  },
  {
   "cell_type": "markdown",
   "metadata": {},
   "source": [
    "#### Scale data"
   ]
  },
  {
   "cell_type": "code",
   "execution_count": 10,
   "metadata": {},
   "outputs": [
    {
     "name": "stdout",
     "output_type": "stream",
     "text": [
      "Scale data..\n"
     ]
    }
   ],
   "source": [
    "print('Scale data..')\n",
    "scaler_train = MinMaxScaler((-1,1))\n",
    "scaler_train = scaler_train.fit(df_data_train)\n",
    "scaled_train = scaler_train.transform(df_data_train.to_numpy())\n",
    "\n",
    "x_anormal = scaler_train.transform(df_x_test.to_numpy())\n",
    "x_anormal_drifted = scaler_train.transform(df_x_anormal_drifted.to_numpy())\n",
    "x_drifted = scaler_train.transform(df_x_drifted.to_numpy())"
   ]
  },
  {
   "cell_type": "markdown",
   "metadata": {},
   "source": [
    "#### Build PyTorch Objects"
   ]
  },
  {
   "cell_type": "code",
   "execution_count": 11,
   "metadata": {},
   "outputs": [],
   "source": [
    "x_anormal_torch_tensor = torch.from_numpy(x_anormal).type(torch.FloatTensor)\n",
    "x_anormal_drifted_torch_tensor = torch.from_numpy(x_anormal_drifted).type(torch.FloatTensor)\n",
    "x_drifted_torch_tensor = torch.from_numpy(x_drifted).type(torch.FloatTensor)\n",
    "y_drifted_torch_tensor = torch.from_numpy(s_x_drifted_drift_labels.to_numpy()).type(torch.FloatTensor)"
   ]
  },
  {
   "cell_type": "code",
   "execution_count": 12,
   "metadata": {},
   "outputs": [],
   "source": [
    "# build pytorch dataset from tensor\n",
    "drifted_torch_dataset = TensorDataset(x_drifted_torch_tensor,y_drifted_torch_tensor)"
   ]
  },
  {
   "cell_type": "markdown",
   "metadata": {},
   "source": [
    "#### Read Model M_2 and LogReg"
   ]
  },
  {
   "cell_type": "code",
   "execution_count": 13,
   "metadata": {},
   "outputs": [
    {
     "data": {
      "text/plain": [
       "SimpleAutoEncoder(\n",
       "  (encoder): Sequential(\n",
       "    (0): Linear(in_features=17, out_features=12, bias=True)\n",
       "    (1): ReLU(inplace=True)\n",
       "    (2): Linear(in_features=12, out_features=8, bias=True)\n",
       "    (3): Tanh()\n",
       "  )\n",
       "  (decoder): Sequential(\n",
       "    (0): Linear(in_features=8, out_features=12, bias=True)\n",
       "    (1): ReLU(inplace=True)\n",
       "    (2): Linear(in_features=12, out_features=17, bias=True)\n",
       "    (3): Tanh()\n",
       "  )\n",
       ")"
      ]
     },
     "execution_count": 13,
     "metadata": {},
     "output_type": "execute_result"
    }
   ],
   "source": [
    "num_inpus = 17\n",
    "val_lambda = 42 * 0.0\n",
    "1\n",
    "model_name = '20200302_firstAE_model.pt'\n",
    "model_fn = os.path.join(model_bib_path, model_name)\n",
    "\n",
    "model = SimpleAutoEncoder(num_inputs=num_inpus, val_lambda=val_lambda)\n",
    "model.load_state_dict(torch.load(model_fn))\n",
    "model.train()"
   ]
  },
  {
   "cell_type": "code",
   "execution_count": 14,
   "metadata": {},
   "outputs": [
    {
     "name": "stdout",
     "output_type": "stream",
     "text": [
      "LogisticRegression(C=1.0, class_weight={1: 2.0}, dual=False, fit_intercept=True,\n",
      "                   intercept_scaling=1, l1_ratio=None, max_iter=100,\n",
      "                   multi_class='auto', n_jobs=None, penalty='l2',\n",
      "                   random_state=42, solver='liblinear', tol=0.0001, verbose=0,\n",
      "                   warm_start=False)\n"
     ]
    },
    {
     "name": "stderr",
     "output_type": "stream",
     "text": [
      "/home/torge/anaconda3/envs/ma_modells/lib/python3.7/site-packages/sklearn/base.py:318: UserWarning: Trying to unpickle estimator LogisticRegression from version 0.22.2 when using version 0.22.1. This might lead to breaking code or invalid results. Use at your own risk.\n",
      "  UserWarning)\n"
     ]
    }
   ],
   "source": [
    "model_fn = '20200303_LogRegModell.save'\n",
    "logreg_filename = os.path.join(model_bib_path, model_fn)\n",
    "logreg = joblib.load(logreg_filename)\n",
    "print(logreg)"
   ]
  },
  {
   "cell_type": "code",
   "execution_count": 15,
   "metadata": {},
   "outputs": [],
   "source": [
    "fn = '20200410_teilfaktorieller_versuchsplan_phase2_m2.csv'\n",
    "full_fn = os.path.join(exp_data_path, 'versuchsplan', fn)\n",
    "versuchsplan = pd.read_csv(full_fn, sep=';')"
   ]
  },
  {
   "cell_type": "code",
   "execution_count": 16,
   "metadata": {},
   "outputs": [
    {
     "data": {
      "text/html": [
       "<div>\n",
       "<style scoped>\n",
       "    .dataframe tbody tr th:only-of-type {\n",
       "        vertical-align: middle;\n",
       "    }\n",
       "\n",
       "    .dataframe tbody tr th {\n",
       "        vertical-align: top;\n",
       "    }\n",
       "\n",
       "    .dataframe thead th {\n",
       "        text-align: right;\n",
       "    }\n",
       "</style>\n",
       "<table border=\"1\" class=\"dataframe\">\n",
       "  <thead>\n",
       "    <tr style=\"text-align: right;\">\n",
       "      <th></th>\n",
       "      <th>k_train</th>\n",
       "      <th>optimizer</th>\n",
       "      <th>num_iter</th>\n",
       "      <th>lr</th>\n",
       "      <th>filter_cde</th>\n",
       "    </tr>\n",
       "  </thead>\n",
       "  <tbody>\n",
       "    <tr>\n",
       "      <th>0</th>\n",
       "      <td>5</td>\n",
       "      <td>Adam</td>\n",
       "      <td>128</td>\n",
       "      <td>0.01</td>\n",
       "      <td>(1,)</td>\n",
       "    </tr>\n",
       "    <tr>\n",
       "      <th>1</th>\n",
       "      <td>20</td>\n",
       "      <td>Adam</td>\n",
       "      <td>1</td>\n",
       "      <td>0.01</td>\n",
       "      <td>(1, 2, 3)</td>\n",
       "    </tr>\n",
       "    <tr>\n",
       "      <th>2</th>\n",
       "      <td>20</td>\n",
       "      <td>SGD</td>\n",
       "      <td>128</td>\n",
       "      <td>0.01</td>\n",
       "      <td>(2, 3)</td>\n",
       "    </tr>\n",
       "    <tr>\n",
       "      <th>3</th>\n",
       "      <td>5</td>\n",
       "      <td>SGD</td>\n",
       "      <td>1</td>\n",
       "      <td>0.10</td>\n",
       "      <td>(1, 3)</td>\n",
       "    </tr>\n",
       "    <tr>\n",
       "      <th>4</th>\n",
       "      <td>10</td>\n",
       "      <td>Adam</td>\n",
       "      <td>1</td>\n",
       "      <td>0.01</td>\n",
       "      <td>(1,)</td>\n",
       "    </tr>\n",
       "  </tbody>\n",
       "</table>\n",
       "</div>"
      ],
      "text/plain": [
       "   k_train optimizer  num_iter    lr filter_cde\n",
       "0        5      Adam       128  0.01       (1,)\n",
       "1       20      Adam         1  0.01  (1, 2, 3)\n",
       "2       20       SGD       128  0.01     (2, 3)\n",
       "3        5       SGD         1  0.10     (1, 3)\n",
       "4       10      Adam         1  0.01       (1,)"
      ]
     },
     "execution_count": 16,
     "metadata": {},
     "output_type": "execute_result"
    }
   ],
   "source": [
    "versuchsplan.head()"
   ]
  },
  {
   "cell_type": "code",
   "execution_count": 17,
   "metadata": {},
   "outputs": [
    {
     "data": {
      "text/plain": [
       "37"
      ]
     },
     "execution_count": 17,
     "metadata": {},
     "output_type": "execute_result"
    }
   ],
   "source": [
    "len(versuchsplan)"
   ]
  },
  {
   "cell_type": "markdown",
   "metadata": {},
   "source": [
    "## Start Fine-Tuning"
   ]
  },
  {
   "cell_type": "code",
   "execution_count": 18,
   "metadata": {},
   "outputs": [],
   "source": [
    "from Experiments.FineTuneExperiment import FineTuneExperiment"
   ]
  },
  {
   "cell_type": "code",
   "execution_count": 19,
   "metadata": {},
   "outputs": [],
   "source": [
    "def _build_filter_list(filter_cde_string):\n",
    "    l = []\n",
    "\n",
    "    if '1' in filter_cde_string:\n",
    "        l.append(1)\n",
    "    if '2' in filter_cde_string:\n",
    "        l.append(2)\n",
    "    if '3' in filter_cde_string:\n",
    "        l.append(3)\n",
    "        \n",
    "    return l"
   ]
  },
  {
   "cell_type": "code",
   "execution_count": 20,
   "metadata": {},
   "outputs": [
    {
     "name": "stdout",
     "output_type": "stream",
     "text": [
      "Current Iteration: 1 of 37, Optimizer: Adam, K: 5, LR: 0.01, Filter CDE: [1], Model Name: M2, Started: 02:26:23, Ended: 02:27:17, Duration: 0:00:54.479553\n",
      "Current Iteration: 2 of 37, Optimizer: Adam, K: 20, LR: 0.01, Filter CDE: [1, 2, 3], Model Name: M2, Started: 02:27:17, Ended: 02:28:11, Duration: 0:00:53.563966\n",
      "Current Iteration: 3 of 37, Optimizer: SGD, K: 20, LR: 0.01, Filter CDE: [2, 3], Model Name: M2, Started: 02:28:11, Ended: 02:29:12, Duration: 0:01:01.173906\n",
      "Current Iteration: 4 of 37, Optimizer: SGD, K: 5, LR: 0.1, Filter CDE: [1, 3], Model Name: M2, Started: 02:29:12, Ended: 02:30:08, Duration: 0:00:56.735554\n",
      "Current Iteration: 5 of 37, Optimizer: Adam, K: 10, LR: 0.01, Filter CDE: [1], Model Name: M2, Started: 02:30:08, Ended: 02:31:02, Duration: 0:00:53.238037\n",
      "Current Iteration: 6 of 37, Optimizer: SGD, K: 5, LR: 0.01, Filter CDE: [1, 3], Model Name: M2, Started: 02:31:02, Ended: 02:31:46, Duration: 0:00:44.192998\n",
      "Current Iteration: 7 of 37, Optimizer: Adam, K: 10, LR: 0.001, Filter CDE: [1, 2, 3], Model Name: M2, Started: 02:31:46, Ended: 02:32:32, Duration: 0:00:45.998362\n",
      "Current Iteration: 8 of 37, Optimizer: SGD, K: 20, LR: 0.01, Filter CDE: [1, 3], Model Name: M2, Started: 02:32:32, Ended: 02:33:13, Duration: 0:00:41.547964\n",
      "Current Iteration: 9 of 37, Optimizer: SGD, K: 10, LR: 0.01, Filter CDE: [1, 2], Model Name: M2, Started: 02:33:13, Ended: 02:33:58, Duration: 0:00:44.295385\n",
      "Current Iteration: 10 of 37, Optimizer: Adam, K: 20, LR: 0.001, Filter CDE: [1], Model Name: M2, Started: 02:33:58, Ended: 02:34:42, Duration: 0:00:44.250204\n",
      "Current Iteration: 11 of 37, Optimizer: Adam, K: 20, LR: 0.1, Filter CDE: [2], Model Name: M2, Started: 02:34:42, Ended: 02:35:31, Duration: 0:00:48.958117\n",
      "Current Iteration: 12 of 37, Optimizer: SGD, K: 10, LR: 0.001, Filter CDE: [1, 2], Model Name: M2, Started: 02:35:31, Ended: 02:36:20, Duration: 0:00:48.779980\n",
      "Current Iteration: 13 of 37, Optimizer: SGD, K: 20, LR: 0.001, Filter CDE: [2, 3], Model Name: M2, Started: 02:36:20, Ended: 02:37:00, Duration: 0:00:40.134478\n",
      "Current Iteration: 14 of 37, Optimizer: Adam, K: 20, LR: 0.1, Filter CDE: [1, 3], Model Name: M2, Started: 02:37:00, Ended: 02:37:42, Duration: 0:00:42.586578\n",
      "Current Iteration: 15 of 37, Optimizer: SGD, K: 10, LR: 0.01, Filter CDE: [2, 3], Model Name: M2, Started: 02:37:42, Ended: 02:38:21, Duration: 0:00:38.682163\n",
      "Current Iteration: 16 of 37, Optimizer: SGD, K: 10, LR: 0.001, Filter CDE: [2], Model Name: M2, Started: 02:38:21, Ended: 02:39:00, Duration: 0:00:38.596895\n",
      "Current Iteration: 17 of 37, Optimizer: SGD, K: 5, LR: 0.001, Filter CDE: [1, 3], Model Name: M2, Started: 02:39:00, Ended: 02:39:46, Duration: 0:00:46.001118\n",
      "Current Iteration: 18 of 37, Optimizer: SGD, K: 10, LR: 0.1, Filter CDE: [1, 2], Model Name: M2, Started: 02:39:46, Ended: 02:40:27, Duration: 0:00:40.842085\n",
      "Current Iteration: 19 of 37, Optimizer: SGD, K: 5, LR: 0.01, Filter CDE: [1, 2], Model Name: M2, Started: 02:40:27, Ended: 02:41:10, Duration: 0:00:43.735747\n",
      "Current Iteration: 20 of 37, Optimizer: SGD, K: 10, LR: 0.01, Filter CDE: [1, 2], Model Name: M2, Started: 02:41:10, Ended: 02:41:53, Duration: 0:00:42.658408\n",
      "Current Iteration: 21 of 37, Optimizer: Adam, K: 20, LR: 0.1, Filter CDE: [1, 3], Model Name: M2, Started: 02:41:53, Ended: 02:42:30, Duration: 0:00:37.282333\n",
      "Current Iteration: 22 of 37, Optimizer: Adam, K: 20, LR: 0.1, Filter CDE: [1, 2], Model Name: M2, Started: 02:42:30, Ended: 02:43:21, Duration: 0:00:50.644353\n",
      "Current Iteration: 23 of 37, Optimizer: Adam, K: 10, LR: 0.01, Filter CDE: [1, 2, 3], Model Name: M2, Started: 02:43:21, Ended: 02:44:00, Duration: 0:00:39.249247\n",
      "Current Iteration: 24 of 37, Optimizer: SGD, K: 20, LR: 0.1, Filter CDE: [1, 2], Model Name: M2, Started: 02:44:00, Ended: 02:44:43, Duration: 0:00:42.682111\n",
      "Current Iteration: 25 of 37, Optimizer: Adam, K: 10, LR: 0.001, Filter CDE: [1, 2], Model Name: M2, Started: 02:44:43, Ended: 02:45:23, Duration: 0:00:39.786939\n",
      "Current Iteration: 26 of 37, Optimizer: SGD, K: 10, LR: 0.01, Filter CDE: [1], Model Name: M2, Started: 02:45:23, Ended: 02:46:07, Duration: 0:00:44.060385\n",
      "Current Iteration: 27 of 37, Optimizer: SGD, K: 5, LR: 0.1, Filter CDE: [1], Model Name: M2, Started: 02:46:07, Ended: 02:46:47, Duration: 0:00:40.514482\n",
      "Current Iteration: 28 of 37, Optimizer: Adam, K: 5, LR: 0.1, Filter CDE: [2, 3], Model Name: M2, Started: 02:46:47, Ended: 02:47:35, Duration: 0:00:47.375931\n",
      "Current Iteration: 29 of 37, Optimizer: SGD, K: 5, LR: 0.01, Filter CDE: [2, 3], Model Name: M2, Started: 02:47:35, Ended: 02:48:18, Duration: 0:00:43.647276\n",
      "Current Iteration: 30 of 37, Optimizer: Adam, K: 20, LR: 0.001, Filter CDE: [1, 2], Model Name: M2, Started: 02:48:18, Ended: 02:48:59, Duration: 0:00:40.355629\n",
      "Current Iteration: 31 of 37, Optimizer: Adam, K: 10, LR: 0.1, Filter CDE: [3], Model Name: M2, Started: 02:48:59, Ended: 02:49:44, Duration: 0:00:45.536891\n",
      "Current Iteration: 32 of 37, Optimizer: Adam, K: 5, LR: 0.001, Filter CDE: [3], Model Name: M2, Started: 02:49:44, Ended: 02:50:20, Duration: 0:00:36.129642\n",
      "Current Iteration: 33 of 37, Optimizer: Adam, K: 10, LR: 0.1, Filter CDE: [1], Model Name: M2, Started: 02:50:20, Ended: 02:50:59, Duration: 0:00:38.476403\n",
      "Current Iteration: 34 of 37, Optimizer: Adam, K: 10, LR: 0.1, Filter CDE: [1, 2], Model Name: M2, Started: 02:50:59, Ended: 02:51:39, Duration: 0:00:40.665366\n",
      "Current Iteration: 35 of 37, Optimizer: SGD, K: 5, LR: 0.01, Filter CDE: [1], Model Name: M2, Started: 02:51:39, Ended: 02:52:28, Duration: 0:00:48.094992\n",
      "Current Iteration: 36 of 37, Optimizer: SGD, K: 20, LR: 0.001, Filter CDE: [1, 2], Model Name: M2, Started: 02:52:28, Ended: 02:53:12, Duration: 0:00:44.422213\n",
      "Current Iteration: 37 of 37, Optimizer: Adam, K: 10, LR: 0.001, Filter CDE: [2, 3], Model Name: M2, Started: 02:53:12, Ended: 02:54:00, Duration: 0:00:48.480581\n"
     ]
    }
   ],
   "source": [
    "for i, vp in versuchsplan.iterrows():\n",
    "    start_ts = arrow.now()\n",
    "    optimizer_name = vp['optimizer']\n",
    "    k = vp['k_train']\n",
    "    num_iter = vp['num_iter']\n",
    "    lr = vp['lr']\n",
    "    filter_cde = _build_filter_list(vp['filter_cde'])\n",
    "    name_model = 'M2'\n",
    "    \n",
    "    string_lr = str(lr).replace('.', '_')\n",
    "    \n",
    "    fine_tuned_model_fn = '{}_tVPII_M2_FINE_TUNED_MODEL__K_{}_OPTIMIZER_{}_NUM_ITER_{}_LR_{}_FILTER_CDE_{}_MODEL_{}.pt'.format(arrow.now().format('YYYYMMDD'), k, optimizer_name,\n",
    "                                                                                                                                            num_iter, string_lr, filter_cde, name_model)\n",
    "    \n",
    "    fine_tuned_model_fn = os.path.join(exp_models_path, 'fine_tuned_models', fine_tuned_model_fn)\n",
    "    \n",
    "    exp_name_fn = '{}_tVPII_M2_EXPERIMENT_FINE_TUNED_MODEL__K_{}_OPTIMIZER_{}_NUM_ITER_{}_LR_{}_FILTER_CDE_{}_MODEL_{}.csv'.format(arrow.now().format('YYYYMMDD'), k, optimizer_name,\n",
    "                                                                                                                                            num_iter, string_lr, filter_cde, name_model)\n",
    "    \n",
    "    exp_name_fn = os.path.join(exp_data_path, 'experiment', 'fine_tuning', exp_name_fn)\n",
    "    \n",
    "    \n",
    "    ft_exp = FineTuneExperiment(model=model, fine_tune_data_x_drifted=drifted_torch_dataset, eval_data_x_test=x_anormal_torch_tensor, eval_label_x_test=y_anormal,\n",
    "                               eval_data_x_drifted_ano=x_anormal_drifted_torch_tensor, eval_label_x_drifted_ano=y_anormal_drifted, k=k, fine_tune_iterations=num_iter, optimizer_name=optimizer_name,\n",
    "                               fine_tune_classes=filter_cde, classifier=logreg, lr=lr, name_pretrained_model=name_model, fine_tuned_model_fn=fine_tuned_model_fn, pretrained_model_fn= model_fn,\n",
    "                               logreg_fn=logreg_filename, exp_name_fn=exp_name_fn)\n",
    "    \n",
    "    ft_exp.run()\n",
    "    end_ts = arrow.now()\n",
    "    duration = end_ts - start_ts\n",
    "    print('Current Iteration: {} of {}, Optimizer: {}, K: {}, LR: {}, Filter CDE: {}, Model Name: {}, Num Iter: {}, Started: {}, Ended: {}, Duration: {}'.format(i+1, len(versuchsplan), optimizer_name, k, lr,\n",
    "                                                                                                                                             filter_cde, name_model, num_iter, start_ts.format('hh:mm:ss'), \n",
    "                                                                                                                                             end_ts.format('hh:mm:ss'), duration))"
   ]
  },
  {
   "cell_type": "code",
   "execution_count": 21,
   "metadata": {},
   "outputs": [],
   "source": [
    "exp = pd.read_csv(exp_name_fn, sep=';')"
   ]
  },
  {
   "cell_type": "code",
   "execution_count": 22,
   "metadata": {},
   "outputs": [
    {
     "data": {
      "text/html": [
       "<div>\n",
       "<style scoped>\n",
       "    .dataframe tbody tr th:only-of-type {\n",
       "        vertical-align: middle;\n",
       "    }\n",
       "\n",
       "    .dataframe tbody tr th {\n",
       "        vertical-align: top;\n",
       "    }\n",
       "\n",
       "    .dataframe thead th {\n",
       "        text-align: right;\n",
       "    }\n",
       "</style>\n",
       "<table border=\"1\" class=\"dataframe\">\n",
       "  <thead>\n",
       "    <tr style=\"text-align: right;\">\n",
       "      <th></th>\n",
       "      <th>optimizer</th>\n",
       "      <th>fine_tune_classes</th>\n",
       "      <th>name_pretrained_model</th>\n",
       "      <th>k</th>\n",
       "      <th>fine_tune_iterations</th>\n",
       "      <th>lr</th>\n",
       "      <th>model_fn</th>\n",
       "      <th>pretrained_model_fn</th>\n",
       "      <th>logreg_fn</th>\n",
       "      <th>TP_x_test</th>\n",
       "      <th>TN_x_test</th>\n",
       "      <th>FP_x_test</th>\n",
       "      <th>FN_x_test</th>\n",
       "      <th>TP_x_drifted_ano</th>\n",
       "      <th>TN_x_drifted_ano</th>\n",
       "      <th>FP_x_drifted_ano</th>\n",
       "      <th>FN_x_drifted_ano</th>\n",
       "      <th>Accuracy_x_test</th>\n",
       "      <th>Precision_x_test</th>\n",
       "      <th>Specifity_x_test</th>\n",
       "      <th>Sensitivity_x_test</th>\n",
       "      <th>Accuracy_x_drifted_ano</th>\n",
       "      <th>Precision_x_drifted_ano</th>\n",
       "      <th>Specifity_x_drifted_ano</th>\n",
       "      <th>Sensitivity_x_drifted_ano</th>\n",
       "    </tr>\n",
       "  </thead>\n",
       "  <tbody>\n",
       "    <tr>\n",
       "      <th>0</th>\n",
       "      <td>Adam</td>\n",
       "      <td>[2, 3]</td>\n",
       "      <td>M2</td>\n",
       "      <td>10</td>\n",
       "      <td>128</td>\n",
       "      <td>0.001</td>\n",
       "      <td>/home/torge/dev/masterthesis_code/02_Experimen...</td>\n",
       "      <td>20200303_LogRegModell.save</td>\n",
       "      <td>/home/torge/dev/masterthesis_code/02_Experimen...</td>\n",
       "      <td>2493</td>\n",
       "      <td>7068</td>\n",
       "      <td>25475</td>\n",
       "      <td>4</td>\n",
       "      <td>2491</td>\n",
       "      <td>6324</td>\n",
       "      <td>26219</td>\n",
       "      <td>6</td>\n",
       "      <td>27.285959</td>\n",
       "      <td>8.913759</td>\n",
       "      <td>73.925322</td>\n",
       "      <td>99.839808</td>\n",
       "      <td>25.156963</td>\n",
       "      <td>8.676419</td>\n",
       "      <td>71.74135</td>\n",
       "      <td>99.759712</td>\n",
       "    </tr>\n",
       "  </tbody>\n",
       "</table>\n",
       "</div>"
      ],
      "text/plain": [
       "  optimizer fine_tune_classes name_pretrained_model   k  fine_tune_iterations  \\\n",
       "0      Adam            [2, 3]                    M2  10                   128   \n",
       "\n",
       "      lr                                           model_fn  \\\n",
       "0  0.001  /home/torge/dev/masterthesis_code/02_Experimen...   \n",
       "\n",
       "          pretrained_model_fn  \\\n",
       "0  20200303_LogRegModell.save   \n",
       "\n",
       "                                           logreg_fn  TP_x_test  TN_x_test  \\\n",
       "0  /home/torge/dev/masterthesis_code/02_Experimen...       2493       7068   \n",
       "\n",
       "   FP_x_test  FN_x_test  TP_x_drifted_ano  TN_x_drifted_ano  FP_x_drifted_ano  \\\n",
       "0      25475          4              2491              6324             26219   \n",
       "\n",
       "   FN_x_drifted_ano  Accuracy_x_test  Precision_x_test  Specifity_x_test  \\\n",
       "0                 6        27.285959          8.913759         73.925322   \n",
       "\n",
       "   Sensitivity_x_test  Accuracy_x_drifted_ano  Precision_x_drifted_ano  \\\n",
       "0           99.839808               25.156963                 8.676419   \n",
       "\n",
       "   Specifity_x_drifted_ano  Sensitivity_x_drifted_ano  \n",
       "0                 71.74135                  99.759712  "
      ]
     },
     "execution_count": 22,
     "metadata": {},
     "output_type": "execute_result"
    }
   ],
   "source": [
    "exp.head()"
   ]
  },
  {
   "cell_type": "code",
   "execution_count": null,
   "metadata": {},
   "outputs": [],
   "source": []
  }
 ],
 "metadata": {
  "kernelspec": {
   "display_name": "ma_modells",
   "language": "python",
   "name": "ma_modells"
  },
  "language_info": {
   "codemirror_mode": {
    "name": "ipython",
    "version": 3
   },
   "file_extension": ".py",
   "mimetype": "text/x-python",
   "name": "python",
   "nbconvert_exporter": "python",
   "pygments_lexer": "ipython3",
   "version": "3.7.6"
  }
 },
 "nbformat": 4,
 "nbformat_minor": 4
}
