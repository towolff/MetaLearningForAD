{
 "cells": [
  {
   "cell_type": "markdown",
   "metadata": {},
   "source": [
    "# Fine Tuning Modell M1 in Phase II"
   ]
  },
  {
   "cell_type": "code",
   "execution_count": 1,
   "metadata": {},
   "outputs": [],
   "source": [
    "import arrow\n",
    "import learn2learn as l2l\n",
    "import numpy as np\n",
    "import os\n",
    "import pickle\n",
    "import torch\n",
    "from torch.utils.data import TensorDataset\n",
    "from sklearn.model_selection import train_test_split\n",
    "import pandas as pd\n",
    "import matplotlib.pyplot as plt\n",
    "import joblib\n",
    "\n",
    "from utils.evalUtils import print_confusion_matrix\n",
    "\n",
    "from sklearn.preprocessing import MinMaxScaler\n",
    "from models.SimpleAutoEncoder import SimpleAutoEncoder"
   ]
  },
  {
   "cell_type": "code",
   "execution_count": 2,
   "metadata": {},
   "outputs": [
    {
     "name": "stdout",
     "output_type": "stream",
     "text": [
      "Set configs..\n"
     ]
    }
   ],
   "source": [
    "%run -i ./scripts/setConfigs.py"
   ]
  },
  {
   "cell_type": "markdown",
   "metadata": {},
   "source": [
    "## Prepare the Data"
   ]
  },
  {
   "cell_type": "markdown",
   "metadata": {},
   "source": [
    "#### Load data"
   ]
  },
  {
   "cell_type": "code",
   "execution_count": 3,
   "metadata": {},
   "outputs": [
    {
     "name": "stdout",
     "output_type": "stream",
     "text": [
      "Shape of X_train data: (105216, 17)\n"
     ]
    }
   ],
   "source": [
    "data_fn = os.path.join(data_path, 'simulation_data_y_2020_2021_reduced.h5')\n",
    "df_data_train = pd.read_hdf(data_fn, key='df')\n",
    "print('Shape of X_train data: {}'.format(df_data_train.shape))"
   ]
  },
  {
   "cell_type": "code",
   "execution_count": 4,
   "metadata": {},
   "outputs": [
    {
     "name": "stdout",
     "output_type": "stream",
     "text": [
      "Shape of X_test: (35040, 18)\n"
     ]
    }
   ],
   "source": [
    "anomalous_data_fn = os.path.join(data_path, 'anomalous_data_y_2022_reduced.h5')\n",
    "df_x_test = pd.read_hdf(anomalous_data_fn, key='df')\n",
    "print('Shape of X_test: {}'.format(df_x_test.shape))"
   ]
  },
  {
   "cell_type": "code",
   "execution_count": 5,
   "metadata": {},
   "outputs": [
    {
     "name": "stdout",
     "output_type": "stream",
     "text": [
      "Shape of X_drifted: (35040, 18)\n"
     ]
    }
   ],
   "source": [
    "drifted_data_fn = os.path.join(data_path, 'drifted_data_y_2023_reduced_more_cos_phi.h5')\n",
    "df_x_drifted = pd.read_hdf(drifted_data_fn, key='df')\n",
    "print('Shape of X_drifted: {}'.format(df_x_drifted.shape))"
   ]
  },
  {
   "cell_type": "code",
   "execution_count": 6,
   "metadata": {},
   "outputs": [
    {
     "name": "stdout",
     "output_type": "stream",
     "text": [
      "Shape of X_anomal,drifted : (35040, 19)\n"
     ]
    }
   ],
   "source": [
    "anomalous_drifted_data_fn = os.path.join(data_path, 'anomalous_drifted_data_y_2023_reduced_more_cos_phi.h5')\n",
    "df_x_anormal_drifted = pd.read_hdf(anomalous_drifted_data_fn, key='df')\n",
    "print('Shape of X_anomal,drifted : {}'.format(df_x_anormal_drifted.shape))"
   ]
  },
  {
   "cell_type": "markdown",
   "metadata": {},
   "source": [
    "#### Split labels"
   ]
  },
  {
   "cell_type": "code",
   "execution_count": 7,
   "metadata": {},
   "outputs": [],
   "source": [
    "y_anormal = [1 if x > 0 else 0 for x in df_x_test['label']]\n",
    "df_x_test.drop('label', inplace=True, axis=1)"
   ]
  },
  {
   "cell_type": "code",
   "execution_count": 8,
   "metadata": {},
   "outputs": [
    {
     "name": "stdout",
     "output_type": "stream",
     "text": [
      "Shape of X_drifted : (35040, 17)\n"
     ]
    }
   ],
   "source": [
    "s_x_drifted_drift_labels = df_x_drifted['drift_labels']\n",
    "df_x_drifted.drop('drift_labels',axis=1, inplace=True)\n",
    "print('Shape of X_drifted : {}'.format(df_x_drifted.shape))"
   ]
  },
  {
   "cell_type": "code",
   "execution_count": 9,
   "metadata": {},
   "outputs": [
    {
     "name": "stdout",
     "output_type": "stream",
     "text": [
      "Shape of X_anomal,drifted : (35040, 17)\n"
     ]
    }
   ],
   "source": [
    "y_anormal_drifted = [1 if x > 0 else 0 for x in df_x_anormal_drifted['anomaly_labels']]\n",
    "df_x_anormal_drifted.drop(['anomaly_labels', 'drift_labels'], inplace=True, axis=1)\n",
    "print('Shape of X_anomal,drifted : {}'.format(df_x_anormal_drifted.shape))"
   ]
  },
  {
   "cell_type": "markdown",
   "metadata": {},
   "source": [
    "#### Scale data"
   ]
  },
  {
   "cell_type": "code",
   "execution_count": 10,
   "metadata": {},
   "outputs": [
    {
     "name": "stdout",
     "output_type": "stream",
     "text": [
      "Scale data..\n"
     ]
    }
   ],
   "source": [
    "print('Scale data..')\n",
    "scaler_train = MinMaxScaler((-1,1))\n",
    "scaler_train = scaler_train.fit(df_data_train)\n",
    "scaled_train = scaler_train.transform(df_data_train.to_numpy())\n",
    "\n",
    "x_anormal = scaler_train.transform(df_x_test.to_numpy())\n",
    "x_anormal_drifted = scaler_train.transform(df_x_anormal_drifted.to_numpy())\n",
    "x_drifted = scaler_train.transform(df_x_drifted.to_numpy())"
   ]
  },
  {
   "cell_type": "markdown",
   "metadata": {},
   "source": [
    "#### Build PyTorch Objects"
   ]
  },
  {
   "cell_type": "code",
   "execution_count": 11,
   "metadata": {},
   "outputs": [],
   "source": [
    "x_anormal_torch_tensor = torch.from_numpy(x_anormal).type(torch.FloatTensor)\n",
    "x_anormal_drifted_torch_tensor = torch.from_numpy(x_anormal_drifted).type(torch.FloatTensor)\n",
    "x_drifted_torch_tensor = torch.from_numpy(x_drifted).type(torch.FloatTensor)\n",
    "y_drifted_torch_tensor = torch.from_numpy(s_x_drifted_drift_labels.to_numpy()).type(torch.FloatTensor)"
   ]
  },
  {
   "cell_type": "code",
   "execution_count": 12,
   "metadata": {},
   "outputs": [],
   "source": [
    "# build pytorch dataset from tensor\n",
    "drifted_torch_dataset = TensorDataset(x_drifted_torch_tensor,y_drifted_torch_tensor)"
   ]
  },
  {
   "cell_type": "code",
   "execution_count": 16,
   "metadata": {},
   "outputs": [
    {
     "data": {
      "text/html": [
       "<div>\n",
       "<style scoped>\n",
       "    .dataframe tbody tr th:only-of-type {\n",
       "        vertical-align: middle;\n",
       "    }\n",
       "\n",
       "    .dataframe tbody tr th {\n",
       "        vertical-align: top;\n",
       "    }\n",
       "\n",
       "    .dataframe thead th {\n",
       "        text-align: right;\n",
       "    }\n",
       "</style>\n",
       "<table border=\"1\" class=\"dataframe\">\n",
       "  <thead>\n",
       "    <tr style=\"text-align: right;\">\n",
       "      <th></th>\n",
       "      <th>model_fn</th>\n",
       "      <th>logreg_fn</th>\n",
       "      <th>Precision_x_ano_drifted</th>\n",
       "    </tr>\n",
       "  </thead>\n",
       "  <tbody>\n",
       "    <tr>\n",
       "      <th>0</th>\n",
       "      <td>/home/torge/dev/masterthesis_code/02_Experimen...</td>\n",
       "      <td>/home/torge/dev/masterthesis_code/02_Experimen...</td>\n",
       "      <td>40.733453</td>\n",
       "    </tr>\n",
       "    <tr>\n",
       "      <th>1</th>\n",
       "      <td>/home/torge/dev/masterthesis_code/02_Experimen...</td>\n",
       "      <td>/home/torge/dev/masterthesis_code/02_Experimen...</td>\n",
       "      <td>41.290094</td>\n",
       "    </tr>\n",
       "    <tr>\n",
       "      <th>2</th>\n",
       "      <td>/home/torge/dev/masterthesis_code/02_Experimen...</td>\n",
       "      <td>/home/torge/dev/masterthesis_code/02_Experimen...</td>\n",
       "      <td>41.425035</td>\n",
       "    </tr>\n",
       "  </tbody>\n",
       "</table>\n",
       "</div>"
      ],
      "text/plain": [
       "                                            model_fn  \\\n",
       "0  /home/torge/dev/masterthesis_code/02_Experimen...   \n",
       "1  /home/torge/dev/masterthesis_code/02_Experimen...   \n",
       "2  /home/torge/dev/masterthesis_code/02_Experimen...   \n",
       "\n",
       "                                           logreg_fn  Precision_x_ano_drifted  \n",
       "0  /home/torge/dev/masterthesis_code/02_Experimen...                40.733453  \n",
       "1  /home/torge/dev/masterthesis_code/02_Experimen...                41.290094  \n",
       "2  /home/torge/dev/masterthesis_code/02_Experimen...                41.425035  "
      ]
     },
     "execution_count": 16,
     "metadata": {},
     "output_type": "execute_result"
    }
   ],
   "source": [
    "df_top_3_best_fn.head()"
   ]
  },
  {
   "cell_type": "markdown",
   "metadata": {},
   "source": [
    "#### Read top 6 Models from Phase I"
   ]
  },
  {
   "cell_type": "code",
   "execution_count": 13,
   "metadata": {},
   "outputs": [],
   "source": [
    "fn = '20200410_top_3_best_models_by_precision.csv'\n",
    "best_fn = os.path.join(os.getcwd(), 'exp_data', 'selected_models_fn', fn)\n",
    "df_top_3_best_fn = pd.read_csv(best_fn, sep=';')"
   ]
  },
  {
   "cell_type": "code",
   "execution_count": 14,
   "metadata": {},
   "outputs": [
    {
     "data": {
      "text/plain": [
       "SimpleAutoEncoder(\n",
       "  (encoder): Sequential(\n",
       "    (0): Linear(in_features=17, out_features=12, bias=True)\n",
       "    (1): ReLU(inplace=True)\n",
       "    (2): Linear(in_features=12, out_features=8, bias=True)\n",
       "    (3): Tanh()\n",
       "  )\n",
       "  (decoder): Sequential(\n",
       "    (0): Linear(in_features=8, out_features=12, bias=True)\n",
       "    (1): ReLU(inplace=True)\n",
       "    (2): Linear(in_features=12, out_features=17, bias=True)\n",
       "    (3): Tanh()\n",
       "  )\n",
       ")"
      ]
     },
     "execution_count": 14,
     "metadata": {},
     "output_type": "execute_result"
    }
   ],
   "source": [
    "model_best_4 = SimpleAutoEncoder(num_inputs=17, val_lambda=42)\n",
    "model_best_4.load_state_dict(torch.load(df_top_3_best_fn['model_fn'][0]))\n",
    "model_best_4.train()\n",
    "\n",
    "model_best_5 = SimpleAutoEncoder(num_inputs=17, val_lambda=42)\n",
    "model_best_5.load_state_dict(torch.load(df_top_3_best_fn['model_fn'][1]))\n",
    "model_best_5.train()\n",
    "\n",
    "model_best_6 = SimpleAutoEncoder(num_inputs=17, val_lambda=42)\n",
    "model_best_6.load_state_dict(torch.load(df_top_3_best_fn['model_fn'][2]))\n",
    "model_best_6.train()"
   ]
  },
  {
   "cell_type": "code",
   "execution_count": 15,
   "metadata": {},
   "outputs": [
    {
     "data": {
      "text/html": [
       "<div>\n",
       "<style scoped>\n",
       "    .dataframe tbody tr th:only-of-type {\n",
       "        vertical-align: middle;\n",
       "    }\n",
       "\n",
       "    .dataframe tbody tr th {\n",
       "        vertical-align: top;\n",
       "    }\n",
       "\n",
       "    .dataframe thead th {\n",
       "        text-align: right;\n",
       "    }\n",
       "</style>\n",
       "<table border=\"1\" class=\"dataframe\">\n",
       "  <thead>\n",
       "    <tr style=\"text-align: right;\">\n",
       "      <th></th>\n",
       "      <th>model_fn</th>\n",
       "      <th>logreg_fn</th>\n",
       "      <th>Precision_x_ano_drifted</th>\n",
       "    </tr>\n",
       "  </thead>\n",
       "  <tbody>\n",
       "    <tr>\n",
       "      <th>0</th>\n",
       "      <td>/home/torge/dev/masterthesis_code/02_Experimen...</td>\n",
       "      <td>/home/torge/dev/masterthesis_code/02_Experimen...</td>\n",
       "      <td>40.733453</td>\n",
       "    </tr>\n",
       "    <tr>\n",
       "      <th>1</th>\n",
       "      <td>/home/torge/dev/masterthesis_code/02_Experimen...</td>\n",
       "      <td>/home/torge/dev/masterthesis_code/02_Experimen...</td>\n",
       "      <td>41.290094</td>\n",
       "    </tr>\n",
       "    <tr>\n",
       "      <th>2</th>\n",
       "      <td>/home/torge/dev/masterthesis_code/02_Experimen...</td>\n",
       "      <td>/home/torge/dev/masterthesis_code/02_Experimen...</td>\n",
       "      <td>41.425035</td>\n",
       "    </tr>\n",
       "  </tbody>\n",
       "</table>\n",
       "</div>"
      ],
      "text/plain": [
       "                                            model_fn  \\\n",
       "0  /home/torge/dev/masterthesis_code/02_Experimen...   \n",
       "1  /home/torge/dev/masterthesis_code/02_Experimen...   \n",
       "2  /home/torge/dev/masterthesis_code/02_Experimen...   \n",
       "\n",
       "                                           logreg_fn  Precision_x_ano_drifted  \n",
       "0  /home/torge/dev/masterthesis_code/02_Experimen...                40.733453  \n",
       "1  /home/torge/dev/masterthesis_code/02_Experimen...                41.290094  \n",
       "2  /home/torge/dev/masterthesis_code/02_Experimen...                41.425035  "
      ]
     },
     "execution_count": 15,
     "metadata": {},
     "output_type": "execute_result"
    }
   ],
   "source": [
    "df_top_3_best_fn.head()"
   ]
  },
  {
   "cell_type": "code",
   "execution_count": 16,
   "metadata": {},
   "outputs": [],
   "source": [
    "model_fn = df_top_3_best_fn['logreg_fn'][0]\n",
    "logreg_4 = joblib.load(model_fn)\n",
    "\n",
    "model_fn = df_top_3_best_fn['logreg_fn'][1]\n",
    "logreg_5 = joblib.load(model_fn)\n",
    "\n",
    "model_fn = df_top_3_best_fn['logreg_fn'][2]\n",
    "logreg_6 = joblib.load(model_fn)"
   ]
  },
  {
   "cell_type": "code",
   "execution_count": 18,
   "metadata": {},
   "outputs": [],
   "source": [
    "fn = '20200410_top_3_worst_models_by_precision.csv'\n",
    "worst_fn = os.path.join(os.getcwd(), 'exp_data', 'selected_models_fn', fn)\n",
    "df_top_3_worst_fn = pd.read_csv(worst_fn, sep=';')"
   ]
  },
  {
   "cell_type": "code",
   "execution_count": 19,
   "metadata": {},
   "outputs": [
    {
     "data": {
      "text/html": [
       "<div>\n",
       "<style scoped>\n",
       "    .dataframe tbody tr th:only-of-type {\n",
       "        vertical-align: middle;\n",
       "    }\n",
       "\n",
       "    .dataframe tbody tr th {\n",
       "        vertical-align: top;\n",
       "    }\n",
       "\n",
       "    .dataframe thead th {\n",
       "        text-align: right;\n",
       "    }\n",
       "</style>\n",
       "<table border=\"1\" class=\"dataframe\">\n",
       "  <thead>\n",
       "    <tr style=\"text-align: right;\">\n",
       "      <th></th>\n",
       "      <th>model_fn</th>\n",
       "      <th>logreg_fn</th>\n",
       "      <th>Precision_x_ano_drifted</th>\n",
       "    </tr>\n",
       "  </thead>\n",
       "  <tbody>\n",
       "    <tr>\n",
       "      <th>0</th>\n",
       "      <td>/home/torge/dev/masterthesis_code/02_Experimen...</td>\n",
       "      <td>/home/torge/dev/masterthesis_code/02_Experimen...</td>\n",
       "      <td>42.272173</td>\n",
       "    </tr>\n",
       "    <tr>\n",
       "      <th>1</th>\n",
       "      <td>/home/torge/dev/masterthesis_code/02_Experimen...</td>\n",
       "      <td>/home/torge/dev/masterthesis_code/02_Experimen...</td>\n",
       "      <td>42.241980</td>\n",
       "    </tr>\n",
       "    <tr>\n",
       "      <th>2</th>\n",
       "      <td>/home/torge/dev/masterthesis_code/02_Experimen...</td>\n",
       "      <td>/home/torge/dev/masterthesis_code/02_Experimen...</td>\n",
       "      <td>42.231909</td>\n",
       "    </tr>\n",
       "  </tbody>\n",
       "</table>\n",
       "</div>"
      ],
      "text/plain": [
       "                                            model_fn  \\\n",
       "0  /home/torge/dev/masterthesis_code/02_Experimen...   \n",
       "1  /home/torge/dev/masterthesis_code/02_Experimen...   \n",
       "2  /home/torge/dev/masterthesis_code/02_Experimen...   \n",
       "\n",
       "                                           logreg_fn  Precision_x_ano_drifted  \n",
       "0  /home/torge/dev/masterthesis_code/02_Experimen...                42.272173  \n",
       "1  /home/torge/dev/masterthesis_code/02_Experimen...                42.241980  \n",
       "2  /home/torge/dev/masterthesis_code/02_Experimen...                42.231909  "
      ]
     },
     "execution_count": 19,
     "metadata": {},
     "output_type": "execute_result"
    }
   ],
   "source": [
    "df_top_3_worst_fn.head()"
   ]
  },
  {
   "cell_type": "code",
   "execution_count": 18,
   "metadata": {},
   "outputs": [
    {
     "data": {
      "text/plain": [
       "SimpleAutoEncoder(\n",
       "  (encoder): Sequential(\n",
       "    (0): Linear(in_features=17, out_features=12, bias=True)\n",
       "    (1): ReLU(inplace=True)\n",
       "    (2): Linear(in_features=12, out_features=8, bias=True)\n",
       "    (3): Tanh()\n",
       "  )\n",
       "  (decoder): Sequential(\n",
       "    (0): Linear(in_features=8, out_features=12, bias=True)\n",
       "    (1): ReLU(inplace=True)\n",
       "    (2): Linear(in_features=12, out_features=17, bias=True)\n",
       "    (3): Tanh()\n",
       "  )\n",
       ")"
      ]
     },
     "execution_count": 18,
     "metadata": {},
     "output_type": "execute_result"
    }
   ],
   "source": [
    "model_worst_1 = SimpleAutoEncoder(num_inputs=17, val_lambda=42)\n",
    "model_worst_1.load_state_dict(torch.load(df_top_3_worst_fn['model_fn'][0]))\n",
    "model_worst_1.train()\n",
    "\n",
    "model_worst_2 = SimpleAutoEncoder(num_inputs=17, val_lambda=42)\n",
    "model_worst_2.load_state_dict(torch.load(df_top_3_worst_fn['model_fn'][1]))\n",
    "model_worst_2.train()\n",
    "\n",
    "model_worst_3 = SimpleAutoEncoder(num_inputs=17, val_lambda=42)\n",
    "model_worst_3.load_state_dict(torch.load(df_top_3_worst_fn['model_fn'][2]))\n",
    "model_worst_3.train()"
   ]
  },
  {
   "cell_type": "code",
   "execution_count": 19,
   "metadata": {},
   "outputs": [],
   "source": [
    "model_fn = df_top_3_worst_fn['logreg_fn'][0]\n",
    "logreg_1 = joblib.load(model_fn)\n",
    "\n",
    "model_fn = df_top_3_worst_fn['logreg_fn'][1]\n",
    "logreg_2 = joblib.load(model_fn)\n",
    "\n",
    "model_fn = df_top_3_worst_fn['logreg_fn'][2]\n",
    "logreg_3 = joblib.load(model_fn)"
   ]
  },
  {
   "cell_type": "code",
   "execution_count": 20,
   "metadata": {},
   "outputs": [],
   "source": [
    "model_mapping_dict = {\n",
    "    1: (model_worst_1, logreg_1, df_top_3_worst_fn['model_fn'][0], df_top_3_worst_fn['logreg_fn'][0]),\n",
    "    2: (model_worst_2, logreg_2, df_top_3_worst_fn['model_fn'][1], df_top_3_worst_fn['logreg_fn'][1]),\n",
    "    3: (model_worst_3, logreg_3, df_top_3_worst_fn['model_fn'][2], df_top_3_worst_fn['logreg_fn'][2]),\n",
    "    4: (model_best_4, logreg_4, df_top_3_best_fn['model_fn'][0], df_top_3_best_fn['logreg_fn'][0]),\n",
    "    5: (model_best_5, logreg_5, df_top_3_best_fn['model_fn'][1], df_top_3_best_fn['logreg_fn'][1]),\n",
    "    6: (model_best_6, logreg_6, df_top_3_best_fn['model_fn'][2], df_top_3_best_fn['logreg_fn'][2])\n",
    "}"
   ]
  },
  {
   "cell_type": "code",
   "execution_count": 21,
   "metadata": {},
   "outputs": [],
   "source": [
    "fn = '20200410_teilfaktorieller_versuchsplan_phase2_m1.csv'\n",
    "full_fn = os.path.join(exp_data_path, 'versuchsplan', fn)\n",
    "versuchsplan = pd.read_csv(full_fn, sep=';')"
   ]
  },
  {
   "cell_type": "code",
   "execution_count": 22,
   "metadata": {},
   "outputs": [
    {
     "data": {
      "text/html": [
       "<div>\n",
       "<style scoped>\n",
       "    .dataframe tbody tr th:only-of-type {\n",
       "        vertical-align: middle;\n",
       "    }\n",
       "\n",
       "    .dataframe tbody tr th {\n",
       "        vertical-align: top;\n",
       "    }\n",
       "\n",
       "    .dataframe thead th {\n",
       "        text-align: right;\n",
       "    }\n",
       "</style>\n",
       "<table border=\"1\" class=\"dataframe\">\n",
       "  <thead>\n",
       "    <tr style=\"text-align: right;\">\n",
       "      <th></th>\n",
       "      <th>k_train</th>\n",
       "      <th>optimizer</th>\n",
       "      <th>num_iter</th>\n",
       "      <th>lr</th>\n",
       "      <th>filter_cde</th>\n",
       "      <th>model</th>\n",
       "    </tr>\n",
       "  </thead>\n",
       "  <tbody>\n",
       "    <tr>\n",
       "      <th>0</th>\n",
       "      <td>20</td>\n",
       "      <td>Adam</td>\n",
       "      <td>128</td>\n",
       "      <td>0.001</td>\n",
       "      <td>(1, 3)</td>\n",
       "      <td>6</td>\n",
       "    </tr>\n",
       "    <tr>\n",
       "      <th>1</th>\n",
       "      <td>5</td>\n",
       "      <td>Adam</td>\n",
       "      <td>64</td>\n",
       "      <td>0.100</td>\n",
       "      <td>(1, 3)</td>\n",
       "      <td>5</td>\n",
       "    </tr>\n",
       "    <tr>\n",
       "      <th>2</th>\n",
       "      <td>20</td>\n",
       "      <td>Adam</td>\n",
       "      <td>1</td>\n",
       "      <td>0.100</td>\n",
       "      <td>(1, 2)</td>\n",
       "      <td>3</td>\n",
       "    </tr>\n",
       "    <tr>\n",
       "      <th>3</th>\n",
       "      <td>20</td>\n",
       "      <td>Adam</td>\n",
       "      <td>1</td>\n",
       "      <td>0.100</td>\n",
       "      <td>(1,)</td>\n",
       "      <td>3</td>\n",
       "    </tr>\n",
       "    <tr>\n",
       "      <th>4</th>\n",
       "      <td>10</td>\n",
       "      <td>Adam</td>\n",
       "      <td>64</td>\n",
       "      <td>0.010</td>\n",
       "      <td>(1, 3)</td>\n",
       "      <td>3</td>\n",
       "    </tr>\n",
       "  </tbody>\n",
       "</table>\n",
       "</div>"
      ],
      "text/plain": [
       "   k_train optimizer  num_iter     lr filter_cde  model\n",
       "0       20      Adam       128  0.001     (1, 3)      6\n",
       "1        5      Adam        64  0.100     (1, 3)      5\n",
       "2       20      Adam         1  0.100     (1, 2)      3\n",
       "3       20      Adam         1  0.100       (1,)      3\n",
       "4       10      Adam        64  0.010     (1, 3)      3"
      ]
     },
     "execution_count": 22,
     "metadata": {},
     "output_type": "execute_result"
    }
   ],
   "source": [
    "versuchsplan.head()"
   ]
  },
  {
   "cell_type": "code",
   "execution_count": 23,
   "metadata": {},
   "outputs": [
    {
     "data": {
      "text/plain": [
       "226"
      ]
     },
     "execution_count": 23,
     "metadata": {},
     "output_type": "execute_result"
    }
   ],
   "source": [
    "len(versuchsplan)"
   ]
  },
  {
   "cell_type": "markdown",
   "metadata": {},
   "source": [
    "## Start Fine-Tuning"
   ]
  },
  {
   "cell_type": "code",
   "execution_count": 24,
   "metadata": {},
   "outputs": [],
   "source": [
    "from Experiments.FineTuneExperiment import FineTuneExperiment"
   ]
  },
  {
   "cell_type": "code",
   "execution_count": 25,
   "metadata": {},
   "outputs": [],
   "source": [
    "def _build_filter_list(filter_cde_string):\n",
    "    l = []\n",
    "\n",
    "    if '1' in filter_cde_string:\n",
    "        l.append(1)\n",
    "    if '2' in filter_cde_string:\n",
    "        l.append(2)\n",
    "    if '3' in filter_cde_string:\n",
    "        l.append(3)\n",
    "        \n",
    "    return l"
   ]
  },
  {
   "cell_type": "code",
   "execution_count": 26,
   "metadata": {},
   "outputs": [
    {
     "data": {
      "text/plain": [
       "<Arrow [2020-04-10T11:59:17.687045+02:00]>"
      ]
     },
     "execution_count": 26,
     "metadata": {},
     "output_type": "execute_result"
    }
   ],
   "source": [
    "arrow.now()"
   ]
  },
  {
   "cell_type": "code",
   "execution_count": 27,
   "metadata": {},
   "outputs": [
    {
     "name": "stdout",
     "output_type": "stream",
     "text": [
      "Current Iteration: 1 of 226, Optimizer: Adam, K: 20, LR: 0.001, Filter CDE: [1, 3], Model Name: 6, Started: 10.04 11:17, Ended: 10.04 12:04, Duration: 0:00:47.194977\n",
      "Current Iteration: 2 of 226, Optimizer: Adam, K: 5, LR: 0.1, Filter CDE: [1, 3], Model Name: 5, Started: 10.04 12:04, Ended: 10.04 12:41, Duration: 0:00:36.644507\n",
      "Current Iteration: 3 of 226, Optimizer: Adam, K: 20, LR: 0.1, Filter CDE: [1, 2], Model Name: 3, Started: 10.04 12:41, Ended: 10.04 12:25, Duration: 0:00:44.200702\n",
      "Current Iteration: 4 of 226, Optimizer: Adam, K: 20, LR: 0.1, Filter CDE: [1], Model Name: 3, Started: 10.04 12:25, Ended: 10.04 12:12, Duration: 0:00:46.976701\n",
      "Current Iteration: 5 of 226, Optimizer: Adam, K: 10, LR: 0.01, Filter CDE: [1, 3], Model Name: 3, Started: 10.04 12:12, Ended: 10.04 12:50, Duration: 0:00:37.352557\n",
      "Current Iteration: 6 of 226, Optimizer: SGD, K: 10, LR: 0.1, Filter CDE: [2, 3], Model Name: 2, Started: 10.04 12:50, Ended: 10.04 12:36, Duration: 0:00:46.496620\n",
      "Current Iteration: 7 of 226, Optimizer: Adam, K: 20, LR: 0.1, Filter CDE: [1, 2, 3], Model Name: 5, Started: 10.04 12:36, Ended: 10.04 12:13, Duration: 0:00:36.685758\n",
      "Current Iteration: 8 of 226, Optimizer: SGD, K: 5, LR: 0.01, Filter CDE: [1], Model Name: 3, Started: 10.04 12:13, Ended: 10.04 12:53, Duration: 0:00:39.811077\n",
      "Current Iteration: 9 of 226, Optimizer: Adam, K: 10, LR: 0.1, Filter CDE: [3], Model Name: 6, Started: 10.04 12:53, Ended: 10.04 12:33, Duration: 0:00:40.368665\n",
      "Current Iteration: 10 of 226, Optimizer: Adam, K: 5, LR: 0.1, Filter CDE: [2, 3], Model Name: 6, Started: 10.04 12:33, Ended: 10.04 12:12, Duration: 0:00:39.534152\n",
      "Current Iteration: 11 of 226, Optimizer: Adam, K: 5, LR: 0.01, Filter CDE: [2, 3], Model Name: 5, Started: 10.04 12:12, Ended: 10.04 12:52, Duration: 0:00:39.581635\n",
      "Current Iteration: 12 of 226, Optimizer: SGD, K: 10, LR: 0.001, Filter CDE: [1, 2, 3], Model Name: 4, Started: 10.04 12:52, Ended: 10.04 12:32, Duration: 0:00:39.712400\n",
      "Current Iteration: 13 of 226, Optimizer: SGD, K: 10, LR: 0.1, Filter CDE: [3], Model Name: 2, Started: 10.04 12:32, Ended: 10.04 12:18, Duration: 0:00:46.501198\n",
      "Current Iteration: 14 of 226, Optimizer: SGD, K: 20, LR: 0.001, Filter CDE: [1, 2], Model Name: 1, Started: 10.04 12:18, Ended: 10.04 12:58, Duration: 0:00:39.429119\n",
      "Current Iteration: 15 of 226, Optimizer: Adam, K: 20, LR: 0.001, Filter CDE: [1, 3], Model Name: 4, Started: 10.04 12:58, Ended: 10.04 12:46, Duration: 0:00:48.095917\n",
      "Current Iteration: 16 of 226, Optimizer: SGD, K: 5, LR: 0.1, Filter CDE: [2, 3], Model Name: 1, Started: 10.04 12:46, Ended: 10.04 12:22, Duration: 0:00:35.709547\n",
      "Current Iteration: 17 of 226, Optimizer: SGD, K: 10, LR: 0.1, Filter CDE: [2], Model Name: 4, Started: 10.04 12:22, Ended: 10.04 12:01, Duration: 0:00:39.062892\n",
      "Current Iteration: 18 of 226, Optimizer: SGD, K: 5, LR: 0.1, Filter CDE: [1, 2, 3], Model Name: 5, Started: 10.04 12:01, Ended: 10.04 12:38, Duration: 0:00:37.070492\n",
      "Current Iteration: 19 of 226, Optimizer: SGD, K: 20, LR: 0.001, Filter CDE: [1], Model Name: 4, Started: 10.04 12:38, Ended: 10.04 12:17, Duration: 0:00:39.170171\n",
      "Current Iteration: 20 of 226, Optimizer: Adam, K: 10, LR: 0.1, Filter CDE: [1], Model Name: 4, Started: 10.04 12:17, Ended: 10.04 12:55, Duration: 0:00:38.531535\n",
      "Current Iteration: 21 of 226, Optimizer: SGD, K: 5, LR: 0.1, Filter CDE: [3], Model Name: 2, Started: 10.04 12:55, Ended: 10.04 12:47, Duration: 0:00:51.358359\n",
      "Current Iteration: 22 of 226, Optimizer: SGD, K: 10, LR: 0.01, Filter CDE: [1, 2, 3], Model Name: 6, Started: 10.04 12:47, Ended: 10.04 12:30, Duration: 0:00:43.470884\n",
      "Current Iteration: 23 of 226, Optimizer: SGD, K: 20, LR: 0.001, Filter CDE: [1], Model Name: 2, Started: 10.04 12:30, Ended: 10.04 12:06, Duration: 0:00:35.699151\n",
      "Current Iteration: 24 of 226, Optimizer: Adam, K: 20, LR: 0.001, Filter CDE: [1], Model Name: 3, Started: 10.04 12:06, Ended: 10.04 12:50, Duration: 0:00:44.034626\n",
      "Current Iteration: 25 of 226, Optimizer: SGD, K: 10, LR: 0.001, Filter CDE: [1, 2], Model Name: 4, Started: 10.04 12:50, Ended: 10.04 12:30, Duration: 0:00:39.764725\n",
      "Current Iteration: 26 of 226, Optimizer: Adam, K: 5, LR: 0.1, Filter CDE: [3], Model Name: 4, Started: 10.04 12:30, Ended: 10.04 12:17, Duration: 0:00:47.562218\n",
      "Current Iteration: 27 of 226, Optimizer: SGD, K: 10, LR: 0.1, Filter CDE: [1, 3], Model Name: 3, Started: 10.04 12:17, Ended: 10.04 12:56, Duration: 0:00:38.532670\n",
      "Current Iteration: 28 of 226, Optimizer: SGD, K: 10, LR: 0.01, Filter CDE: [2, 3], Model Name: 4, Started: 10.04 12:56, Ended: 10.04 12:32, Duration: 0:00:36.073493\n",
      "Current Iteration: 29 of 226, Optimizer: SGD, K: 20, LR: 0.1, Filter CDE: [1, 3], Model Name: 5, Started: 10.04 12:32, Ended: 10.04 12:09, Duration: 0:00:37.476383\n",
      "Current Iteration: 30 of 226, Optimizer: Adam, K: 10, LR: 0.01, Filter CDE: [2, 3], Model Name: 4, Started: 10.04 12:09, Ended: 10.04 12:57, Duration: 0:00:47.886738\n",
      "Current Iteration: 31 of 226, Optimizer: Adam, K: 20, LR: 0.001, Filter CDE: [3], Model Name: 5, Started: 10.04 12:57, Ended: 10.04 12:54, Duration: 0:00:57.217036\n",
      "Current Iteration: 32 of 226, Optimizer: SGD, K: 10, LR: 0.01, Filter CDE: [1], Model Name: 3, Started: 10.04 12:54, Ended: 10.04 12:32, Duration: 0:00:37.934058\n",
      "Current Iteration: 33 of 226, Optimizer: Adam, K: 10, LR: 0.001, Filter CDE: [1], Model Name: 3, Started: 10.04 12:32, Ended: 10.04 12:08, Duration: 0:00:35.343902\n",
      "Current Iteration: 34 of 226, Optimizer: Adam, K: 10, LR: 0.001, Filter CDE: [1], Model Name: 3, Started: 10.04 12:08, Ended: 10.04 12:44, Duration: 0:00:36.095783\n",
      "Current Iteration: 35 of 226, Optimizer: SGD, K: 10, LR: 0.001, Filter CDE: [2, 3], Model Name: 3, Started: 10.04 12:44, Ended: 10.04 12:21, Duration: 0:00:36.703376\n",
      "Current Iteration: 36 of 226, Optimizer: Adam, K: 20, LR: 0.01, Filter CDE: [2, 3], Model Name: 6, Started: 10.04 12:21, Ended: 10.04 12:56, Duration: 0:00:35.087042\n",
      "Current Iteration: 37 of 226, Optimizer: Adam, K: 5, LR: 0.01, Filter CDE: [1, 2], Model Name: 4, Started: 10.04 12:56, Ended: 10.04 12:32, Duration: 0:00:36.058557\n",
      "Current Iteration: 38 of 226, Optimizer: SGD, K: 10, LR: 0.1, Filter CDE: [1, 2], Model Name: 1, Started: 10.04 12:32, Ended: 10.04 12:08, Duration: 0:00:36.548057\n",
      "Current Iteration: 39 of 226, Optimizer: SGD, K: 5, LR: 0.01, Filter CDE: [2, 3], Model Name: 1, Started: 10.04 12:08, Ended: 10.04 12:46, Duration: 0:00:37.503827\n",
      "Current Iteration: 40 of 226, Optimizer: Adam, K: 20, LR: 0.001, Filter CDE: [2, 3], Model Name: 4, Started: 10.04 12:46, Ended: 10.04 12:25, Duration: 0:00:38.778430\n",
      "Current Iteration: 41 of 226, Optimizer: SGD, K: 20, LR: 0.01, Filter CDE: [2, 3], Model Name: 6, Started: 10.04 12:25, Ended: 10.04 12:02, Duration: 0:00:37.278606\n",
      "Current Iteration: 42 of 226, Optimizer: Adam, K: 5, LR: 0.01, Filter CDE: [1, 2], Model Name: 2, Started: 10.04 12:02, Ended: 10.04 12:37, Duration: 0:00:35.296613\n",
      "Current Iteration: 43 of 226, Optimizer: Adam, K: 5, LR: 0.01, Filter CDE: [2], Model Name: 2, Started: 10.04 12:37, Ended: 10.04 12:13, Duration: 0:00:35.719117\n",
      "Current Iteration: 44 of 226, Optimizer: Adam, K: 10, LR: 0.01, Filter CDE: [1, 2, 3], Model Name: 6, Started: 10.04 12:13, Ended: 10.04 12:51, Duration: 0:00:38.504039\n",
      "Current Iteration: 45 of 226, Optimizer: SGD, K: 5, LR: 0.01, Filter CDE: [2], Model Name: 1, Started: 10.04 12:51, Ended: 10.04 12:27, Duration: 0:00:35.238314\n",
      "Current Iteration: 46 of 226, Optimizer: SGD, K: 20, LR: 0.01, Filter CDE: [2], Model Name: 3, Started: 10.04 12:27, Ended: 10.04 12:02, Duration: 0:00:35.772900\n",
      "Current Iteration: 47 of 226, Optimizer: SGD, K: 5, LR: 0.001, Filter CDE: [1, 2], Model Name: 6, Started: 10.04 12:02, Ended: 10.04 12:38, Duration: 0:00:35.499937\n",
      "Current Iteration: 48 of 226, Optimizer: SGD, K: 10, LR: 0.01, Filter CDE: [1], Model Name: 4, Started: 10.04 12:38, Ended: 10.04 12:13, Duration: 0:00:34.833219\n",
      "Current Iteration: 49 of 226, Optimizer: Adam, K: 5, LR: 0.01, Filter CDE: [1, 2], Model Name: 1, Started: 10.04 12:13, Ended: 10.04 12:49, Duration: 0:00:36.431190\n",
      "Current Iteration: 50 of 226, Optimizer: Adam, K: 5, LR: 0.1, Filter CDE: [1, 3], Model Name: 1, Started: 10.04 12:49, Ended: 10.04 12:25, Duration: 0:00:36.321908\n",
      "Current Iteration: 51 of 226, Optimizer: SGD, K: 10, LR: 0.001, Filter CDE: [2], Model Name: 1, Started: 10.04 12:25, Ended: 10.04 12:01, Duration: 0:00:35.313792\n",
      "Current Iteration: 52 of 226, Optimizer: Adam, K: 10, LR: 0.001, Filter CDE: [1, 2], Model Name: 4, Started: 10.04 12:01, Ended: 10.04 12:38, Duration: 0:00:37.242016\n",
      "Current Iteration: 53 of 226, Optimizer: SGD, K: 10, LR: 0.01, Filter CDE: [1, 2, 3], Model Name: 1, Started: 10.04 12:38, Ended: 10.04 12:17, Duration: 0:00:38.938020\n",
      "Current Iteration: 54 of 226, Optimizer: Adam, K: 5, LR: 0.1, Filter CDE: [2], Model Name: 1, Started: 10.04 12:17, Ended: 10.04 12:53, Duration: 0:00:35.619878\n",
      "Current Iteration: 55 of 226, Optimizer: SGD, K: 10, LR: 0.01, Filter CDE: [1, 2, 3], Model Name: 1, Started: 10.04 12:53, Ended: 10.04 12:29, Duration: 0:00:36.479384\n",
      "Current Iteration: 56 of 226, Optimizer: Adam, K: 10, LR: 0.001, Filter CDE: [2], Model Name: 5, Started: 10.04 12:29, Ended: 10.04 12:05, Duration: 0:00:36.165808\n",
      "Current Iteration: 57 of 226, Optimizer: SGD, K: 5, LR: 0.001, Filter CDE: [3], Model Name: 4, Started: 10.04 12:05, Ended: 10.04 12:40, Duration: 0:00:35.198766\n",
      "Current Iteration: 58 of 226, Optimizer: Adam, K: 20, LR: 0.001, Filter CDE: [2, 3], Model Name: 6, Started: 10.04 12:40, Ended: 10.04 12:20, Duration: 0:00:40.123703\n",
      "Current Iteration: 59 of 226, Optimizer: Adam, K: 20, LR: 0.001, Filter CDE: [1, 2, 3], Model Name: 6, Started: 10.04 12:20, Ended: 10.04 12:01, Duration: 0:00:40.819018\n",
      "Current Iteration: 60 of 226, Optimizer: SGD, K: 5, LR: 0.001, Filter CDE: [2, 3], Model Name: 5, Started: 10.04 12:01, Ended: 10.04 12:37, Duration: 0:00:35.887460\n",
      "Current Iteration: 61 of 226, Optimizer: Adam, K: 20, LR: 0.1, Filter CDE: [2], Model Name: 6, Started: 10.04 12:37, Ended: 10.04 12:17, Duration: 0:00:40.066385\n",
      "Current Iteration: 62 of 226, Optimizer: SGD, K: 20, LR: 0.001, Filter CDE: [1, 3], Model Name: 1, Started: 10.04 12:17, Ended: 10.04 12:55, Duration: 0:00:37.778525\n",
      "Current Iteration: 63 of 226, Optimizer: SGD, K: 20, LR: 0.01, Filter CDE: [1, 2, 3], Model Name: 1, Started: 10.04 12:55, Ended: 10.04 12:32, Duration: 0:00:37.121025\n",
      "Current Iteration: 64 of 226, Optimizer: SGD, K: 5, LR: 0.001, Filter CDE: [1, 2, 3], Model Name: 2, Started: 10.04 12:32, Ended: 10.04 12:08, Duration: 0:00:36.140373\n",
      "Current Iteration: 65 of 226, Optimizer: SGD, K: 5, LR: 0.001, Filter CDE: [1, 3], Model Name: 5, Started: 10.04 12:08, Ended: 10.04 12:44, Duration: 0:00:36.090303\n",
      "Current Iteration: 66 of 226, Optimizer: Adam, K: 5, LR: 0.01, Filter CDE: [1], Model Name: 3, Started: 10.04 12:44, Ended: 10.04 12:19, Duration: 0:00:35.031684\n",
      "Current Iteration: 67 of 226, Optimizer: Adam, K: 20, LR: 0.1, Filter CDE: [1, 2, 3], Model Name: 6, Started: 10.04 12:19, Ended: 10.04 12:58, Duration: 0:00:38.932288\n",
      "Current Iteration: 68 of 226, Optimizer: SGD, K: 10, LR: 0.1, Filter CDE: [1], Model Name: 5, Started: 10.04 12:58, Ended: 10.04 12:35, Duration: 0:00:36.372785\n",
      "Current Iteration: 69 of 226, Optimizer: Adam, K: 20, LR: 0.1, Filter CDE: [2, 3], Model Name: 1, Started: 10.04 12:35, Ended: 10.04 12:15, Duration: 0:00:40.345376\n",
      "Current Iteration: 70 of 226, Optimizer: SGD, K: 10, LR: 0.01, Filter CDE: [2], Model Name: 3, Started: 10.04 12:15, Ended: 10.04 12:50, Duration: 0:00:35.204637\n",
      "Current Iteration: 71 of 226, Optimizer: Adam, K: 10, LR: 0.001, Filter CDE: [1, 2], Model Name: 1, Started: 10.04 12:50, Ended: 10.04 12:27, Duration: 0:00:36.603412\n",
      "Current Iteration: 72 of 226, Optimizer: SGD, K: 20, LR: 0.001, Filter CDE: [2, 3], Model Name: 2, Started: 10.04 12:27, Ended: 10.04 12:03, Duration: 0:00:36.397354\n",
      "Current Iteration: 73 of 226, Optimizer: Adam, K: 10, LR: 0.01, Filter CDE: [3], Model Name: 2, Started: 10.04 12:03, Ended: 10.04 12:40, Duration: 0:00:36.908952\n",
      "Current Iteration: 74 of 226, Optimizer: Adam, K: 5, LR: 0.1, Filter CDE: [1, 2], Model Name: 2, Started: 10.04 12:40, Ended: 10.04 12:16, Duration: 0:00:35.969662\n",
      "Current Iteration: 75 of 226, Optimizer: Adam, K: 20, LR: 0.001, Filter CDE: [2], Model Name: 3, Started: 10.04 12:16, Ended: 10.04 12:53, Duration: 0:00:36.739763\n",
      "Current Iteration: 76 of 226, Optimizer: Adam, K: 10, LR: 0.001, Filter CDE: [3], Model Name: 3, Started: 10.04 12:53, Ended: 10.04 12:30, Duration: 0:00:36.784708\n",
      "Current Iteration: 77 of 226, Optimizer: Adam, K: 20, LR: 0.1, Filter CDE: [2, 3], Model Name: 4, Started: 10.04 12:30, Ended: 10.04 12:07, Duration: 0:00:37.325454\n",
      "Current Iteration: 78 of 226, Optimizer: Adam, K: 20, LR: 0.01, Filter CDE: [1, 2, 3], Model Name: 3, Started: 10.04 12:07, Ended: 10.04 12:43, Duration: 0:00:35.856488\n",
      "Current Iteration: 79 of 226, Optimizer: Adam, K: 10, LR: 0.001, Filter CDE: [1, 2, 3], Model Name: 6, Started: 10.04 12:43, Ended: 10.04 12:20, Duration: 0:00:36.647950\n",
      "Current Iteration: 80 of 226, Optimizer: Adam, K: 5, LR: 0.1, Filter CDE: [2, 3], Model Name: 1, Started: 10.04 12:20, Ended: 10.04 12:55, Duration: 0:00:35.792181\n",
      "Current Iteration: 81 of 226, Optimizer: SGD, K: 5, LR: 0.001, Filter CDE: [1, 2, 3], Model Name: 4, Started: 10.04 12:55, Ended: 10.04 12:31, Duration: 0:00:35.707888\n",
      "Current Iteration: 82 of 226, Optimizer: Adam, K: 5, LR: 0.001, Filter CDE: [2], Model Name: 4, Started: 10.04 12:31, Ended: 10.04 12:06, Duration: 0:00:35.432405\n",
      "Current Iteration: 83 of 226, Optimizer: SGD, K: 20, LR: 0.001, Filter CDE: [2, 3], Model Name: 6, Started: 10.04 12:06, Ended: 10.04 12:41, Duration: 0:00:35.019641\n",
      "Current Iteration: 84 of 226, Optimizer: Adam, K: 5, LR: 0.001, Filter CDE: [1, 2, 3], Model Name: 5, Started: 10.04 12:41, Ended: 10.04 12:18, Duration: 0:00:36.426523\n",
      "Current Iteration: 85 of 226, Optimizer: Adam, K: 10, LR: 0.1, Filter CDE: [1, 2, 3], Model Name: 3, Started: 10.04 12:18, Ended: 10.04 12:54, Duration: 0:00:36.518885\n",
      "Current Iteration: 86 of 226, Optimizer: SGD, K: 5, LR: 0.01, Filter CDE: [2], Model Name: 6, Started: 10.04 12:54, Ended: 10.04 12:29, Duration: 0:00:34.934610\n",
      "Current Iteration: 87 of 226, Optimizer: SGD, K: 10, LR: 0.001, Filter CDE: [1, 2], Model Name: 6, Started: 10.04 12:29, Ended: 10.04 12:05, Duration: 0:00:35.278810\n",
      "Current Iteration: 88 of 226, Optimizer: Adam, K: 20, LR: 0.1, Filter CDE: [1, 2, 3], Model Name: 1, Started: 10.04 12:05, Ended: 10.04 12:40, Duration: 0:00:35.629231\n",
      "Current Iteration: 89 of 226, Optimizer: Adam, K: 20, LR: 0.01, Filter CDE: [2], Model Name: 4, Started: 10.04 12:40, Ended: 10.04 12:17, Duration: 0:00:36.836757\n",
      "Current Iteration: 90 of 226, Optimizer: Adam, K: 20, LR: 0.001, Filter CDE: [2, 3], Model Name: 5, Started: 10.04 12:17, Ended: 10.04 12:52, Duration: 0:00:35.355244\n",
      "Current Iteration: 91 of 226, Optimizer: Adam, K: 5, LR: 0.001, Filter CDE: [1], Model Name: 3, Started: 10.04 12:52, Ended: 10.04 12:28, Duration: 0:00:35.793908\n",
      "Current Iteration: 92 of 226, Optimizer: SGD, K: 5, LR: 0.1, Filter CDE: [1, 2, 3], Model Name: 5, Started: 10.04 12:28, Ended: 10.04 12:04, Duration: 0:00:35.811200\n",
      "Current Iteration: 93 of 226, Optimizer: SGD, K: 5, LR: 0.1, Filter CDE: [1, 3], Model Name: 5, Started: 10.04 12:04, Ended: 10.04 12:40, Duration: 0:00:35.514015\n",
      "Current Iteration: 94 of 226, Optimizer: SGD, K: 10, LR: 0.01, Filter CDE: [3], Model Name: 1, Started: 10.04 12:40, Ended: 10.04 12:14, Duration: 0:00:34.886863\n",
      "Current Iteration: 95 of 226, Optimizer: Adam, K: 20, LR: 0.001, Filter CDE: [2], Model Name: 2, Started: 10.04 12:14, Ended: 10.04 12:53, Duration: 0:00:38.209946\n",
      "Current Iteration: 96 of 226, Optimizer: SGD, K: 10, LR: 0.1, Filter CDE: [2, 3], Model Name: 6, Started: 10.04 12:53, Ended: 10.04 01:29, Duration: 0:00:36.278084\n",
      "Current Iteration: 97 of 226, Optimizer: SGD, K: 5, LR: 0.001, Filter CDE: [1, 2, 3], Model Name: 2, Started: 10.04 01:29, Ended: 10.04 01:05, Duration: 0:00:36.282635\n",
      "Current Iteration: 98 of 226, Optimizer: SGD, K: 20, LR: 0.1, Filter CDE: [2, 3], Model Name: 2, Started: 10.04 01:05, Ended: 10.04 01:41, Duration: 0:00:35.678030\n",
      "Current Iteration: 99 of 226, Optimizer: SGD, K: 20, LR: 0.01, Filter CDE: [1], Model Name: 6, Started: 10.04 01:41, Ended: 10.04 01:16, Duration: 0:00:35.067728\n",
      "Current Iteration: 100 of 226, Optimizer: Adam, K: 10, LR: 0.1, Filter CDE: [1], Model Name: 1, Started: 10.04 01:16, Ended: 10.04 01:04, Duration: 0:00:48.426049\n",
      "Current Iteration: 101 of 226, Optimizer: Adam, K: 10, LR: 0.001, Filter CDE: [3], Model Name: 5, Started: 10.04 01:04, Ended: 10.04 01:40, Duration: 0:00:35.228112\n",
      "Current Iteration: 102 of 226, Optimizer: Adam, K: 20, LR: 0.001, Filter CDE: [1, 2], Model Name: 1, Started: 10.04 01:40, Ended: 10.04 01:15, Duration: 0:00:35.780599\n",
      "Current Iteration: 103 of 226, Optimizer: Adam, K: 5, LR: 0.001, Filter CDE: [2], Model Name: 1, Started: 10.04 01:15, Ended: 10.04 01:51, Duration: 0:00:35.219076\n",
      "Current Iteration: 104 of 226, Optimizer: SGD, K: 10, LR: 0.001, Filter CDE: [2], Model Name: 1, Started: 10.04 01:51, Ended: 10.04 01:27, Duration: 0:00:36.222772\n",
      "Current Iteration: 105 of 226, Optimizer: SGD, K: 20, LR: 0.001, Filter CDE: [1, 2, 3], Model Name: 1, Started: 10.04 01:27, Ended: 10.04 01:03, Duration: 0:00:36.083674\n",
      "Current Iteration: 106 of 226, Optimizer: Adam, K: 5, LR: 0.001, Filter CDE: [1], Model Name: 5, Started: 10.04 01:03, Ended: 10.04 01:39, Duration: 0:00:35.816118\n",
      "Current Iteration: 107 of 226, Optimizer: SGD, K: 5, LR: 0.1, Filter CDE: [1], Model Name: 6, Started: 10.04 01:39, Ended: 10.04 01:14, Duration: 0:00:35.121788\n",
      "Current Iteration: 108 of 226, Optimizer: SGD, K: 5, LR: 0.001, Filter CDE: [2, 3], Model Name: 3, Started: 10.04 01:14, Ended: 10.04 01:50, Duration: 0:00:35.716116\n",
      "Current Iteration: 109 of 226, Optimizer: SGD, K: 10, LR: 0.01, Filter CDE: [1, 2], Model Name: 1, Started: 10.04 01:50, Ended: 10.04 01:26, Duration: 0:00:36.309797\n",
      "Current Iteration: 110 of 226, Optimizer: Adam, K: 20, LR: 0.1, Filter CDE: [1, 3], Model Name: 2, Started: 10.04 01:26, Ended: 10.04 01:06, Duration: 0:00:40.547937\n",
      "Current Iteration: 111 of 226, Optimizer: Adam, K: 5, LR: 0.001, Filter CDE: [1], Model Name: 6, Started: 10.04 01:06, Ended: 10.04 01:42, Duration: 0:00:35.143434\n",
      "Current Iteration: 112 of 226, Optimizer: Adam, K: 20, LR: 0.01, Filter CDE: [1, 3], Model Name: 3, Started: 10.04 01:42, Ended: 10.04 01:20, Duration: 0:00:37.882127\n",
      "Current Iteration: 113 of 226, Optimizer: SGD, K: 5, LR: 0.1, Filter CDE: [2], Model Name: 4, Started: 10.04 01:20, Ended: 10.04 01:56, Duration: 0:00:36.140386\n",
      "Current Iteration: 114 of 226, Optimizer: Adam, K: 10, LR: 0.01, Filter CDE: [1, 2], Model Name: 2, Started: 10.04 01:56, Ended: 10.04 01:32, Duration: 0:00:36.747750\n",
      "Current Iteration: 115 of 226, Optimizer: SGD, K: 5, LR: 0.01, Filter CDE: [1, 2], Model Name: 2, Started: 10.04 01:32, Ended: 10.04 01:08, Duration: 0:00:35.989550\n",
      "Current Iteration: 116 of 226, Optimizer: SGD, K: 20, LR: 0.001, Filter CDE: [2], Model Name: 2, Started: 10.04 01:08, Ended: 10.04 01:45, Duration: 0:00:37.100907\n",
      "Current Iteration: 117 of 226, Optimizer: SGD, K: 20, LR: 0.01, Filter CDE: [3], Model Name: 5, Started: 10.04 01:45, Ended: 10.04 01:23, Duration: 0:00:37.127874\n",
      "Current Iteration: 118 of 226, Optimizer: Adam, K: 20, LR: 0.1, Filter CDE: [2, 3], Model Name: 5, Started: 10.04 01:23, Ended: 10.04 01:02, Duration: 0:00:39.158144\n",
      "Current Iteration: 119 of 226, Optimizer: Adam, K: 20, LR: 0.001, Filter CDE: [3], Model Name: 5, Started: 10.04 01:02, Ended: 10.04 01:42, Duration: 0:00:39.787355\n",
      "Current Iteration: 120 of 226, Optimizer: Adam, K: 5, LR: 0.001, Filter CDE: [1, 3], Model Name: 6, Started: 10.04 01:42, Ended: 10.04 01:18, Duration: 0:00:36.350514\n",
      "Current Iteration: 121 of 226, Optimizer: SGD, K: 10, LR: 0.01, Filter CDE: [2, 3], Model Name: 5, Started: 10.04 01:18, Ended: 10.04 01:54, Duration: 0:00:36.119607\n",
      "Current Iteration: 122 of 226, Optimizer: SGD, K: 10, LR: 0.01, Filter CDE: [2, 3], Model Name: 2, Started: 10.04 01:54, Ended: 10.04 01:30, Duration: 0:00:36.422086\n",
      "Current Iteration: 123 of 226, Optimizer: Adam, K: 5, LR: 0.01, Filter CDE: [2], Model Name: 2, Started: 10.04 01:30, Ended: 10.04 01:05, Duration: 0:00:35.019268\n",
      "Current Iteration: 124 of 226, Optimizer: Adam, K: 10, LR: 0.001, Filter CDE: [2, 3], Model Name: 4, Started: 10.04 01:05, Ended: 10.04 01:42, Duration: 0:00:36.365449\n",
      "Current Iteration: 125 of 226, Optimizer: SGD, K: 5, LR: 0.001, Filter CDE: [1, 2], Model Name: 4, Started: 10.04 01:42, Ended: 10.04 01:18, Duration: 0:00:36.067819\n",
      "Current Iteration: 126 of 226, Optimizer: Adam, K: 20, LR: 0.001, Filter CDE: [1, 2], Model Name: 3, Started: 10.04 01:18, Ended: 10.04 01:56, Duration: 0:00:37.685604\n",
      "Current Iteration: 127 of 226, Optimizer: SGD, K: 10, LR: 0.1, Filter CDE: [1], Model Name: 3, Started: 10.04 01:56, Ended: 10.04 01:31, Duration: 0:00:35.201631\n",
      "Current Iteration: 128 of 226, Optimizer: SGD, K: 20, LR: 0.01, Filter CDE: [1], Model Name: 1, Started: 10.04 01:31, Ended: 10.04 01:06, Duration: 0:00:35.245317\n",
      "Current Iteration: 129 of 226, Optimizer: SGD, K: 5, LR: 0.1, Filter CDE: [1], Model Name: 1, Started: 10.04 01:06, Ended: 10.04 01:42, Duration: 0:00:35.760491\n",
      "Current Iteration: 130 of 226, Optimizer: Adam, K: 10, LR: 0.001, Filter CDE: [1, 2, 3], Model Name: 3, Started: 10.04 01:42, Ended: 10.04 01:20, Duration: 0:00:37.811424\n",
      "Current Iteration: 131 of 226, Optimizer: SGD, K: 5, LR: 0.001, Filter CDE: [1, 3], Model Name: 1, Started: 10.04 01:20, Ended: 10.04 01:56, Duration: 0:00:36.186237\n",
      "Current Iteration: 132 of 226, Optimizer: Adam, K: 10, LR: 0.01, Filter CDE: [2], Model Name: 2, Started: 10.04 01:56, Ended: 10.04 01:32, Duration: 0:00:35.746759\n",
      "Current Iteration: 133 of 226, Optimizer: Adam, K: 20, LR: 0.1, Filter CDE: [1, 3], Model Name: 1, Started: 10.04 01:32, Ended: 10.04 01:15, Duration: 0:00:43.604338\n",
      "Current Iteration: 134 of 226, Optimizer: SGD, K: 20, LR: 0.001, Filter CDE: [3], Model Name: 6, Started: 10.04 01:15, Ended: 10.04 01:58, Duration: 0:00:43.293929\n",
      "Current Iteration: 135 of 226, Optimizer: SGD, K: 10, LR: 0.001, Filter CDE: [2], Model Name: 4, Started: 10.04 01:58, Ended: 10.04 01:41, Duration: 0:00:42.704755\n",
      "Current Iteration: 136 of 226, Optimizer: SGD, K: 20, LR: 0.01, Filter CDE: [1, 2, 3], Model Name: 4, Started: 10.04 01:41, Ended: 10.04 01:22, Duration: 0:00:40.442147\n",
      "Current Iteration: 137 of 226, Optimizer: Adam, K: 20, LR: 0.1, Filter CDE: [2], Model Name: 2, Started: 10.04 01:22, Ended: 10.04 01:03, Duration: 0:00:41.150325\n",
      "Current Iteration: 138 of 226, Optimizer: Adam, K: 5, LR: 0.01, Filter CDE: [1, 3], Model Name: 1, Started: 10.04 01:03, Ended: 10.04 01:42, Duration: 0:00:39.474540\n",
      "Current Iteration: 139 of 226, Optimizer: Adam, K: 10, LR: 0.001, Filter CDE: [2], Model Name: 4, Started: 10.04 01:42, Ended: 10.04 01:23, Duration: 0:00:40.645922\n",
      "Current Iteration: 140 of 226, Optimizer: Adam, K: 10, LR: 0.01, Filter CDE: [1, 2], Model Name: 3, Started: 10.04 01:23, Ended: 10.04 01:11, Duration: 0:00:48.152823\n",
      "Current Iteration: 141 of 226, Optimizer: Adam, K: 5, LR: 0.001, Filter CDE: [1, 2, 3], Model Name: 1, Started: 10.04 01:11, Ended: 10.04 01:50, Duration: 0:00:38.816573\n",
      "Current Iteration: 142 of 226, Optimizer: SGD, K: 10, LR: 0.1, Filter CDE: [1, 2], Model Name: 1, Started: 10.04 01:50, Ended: 10.04 01:42, Duration: 0:00:51.864381\n",
      "Current Iteration: 143 of 226, Optimizer: Adam, K: 20, LR: 0.01, Filter CDE: [2, 3], Model Name: 6, Started: 10.04 01:42, Ended: 10.04 01:29, Duration: 0:00:47.009675\n",
      "Current Iteration: 144 of 226, Optimizer: SGD, K: 20, LR: 0.1, Filter CDE: [1], Model Name: 2, Started: 10.04 01:29, Ended: 10.04 01:12, Duration: 0:00:42.952669\n",
      "Current Iteration: 145 of 226, Optimizer: Adam, K: 10, LR: 0.1, Filter CDE: [2, 3], Model Name: 3, Started: 10.04 01:12, Ended: 10.04 01:53, Duration: 0:00:41.431130\n",
      "Current Iteration: 146 of 226, Optimizer: SGD, K: 5, LR: 0.001, Filter CDE: [1, 3], Model Name: 2, Started: 10.04 01:53, Ended: 10.04 01:31, Duration: 0:00:37.880777\n",
      "Current Iteration: 147 of 226, Optimizer: Adam, K: 10, LR: 0.01, Filter CDE: [1], Model Name: 2, Started: 10.04 01:31, Ended: 10.04 01:15, Duration: 0:00:43.655277\n",
      "Current Iteration: 148 of 226, Optimizer: Adam, K: 10, LR: 0.1, Filter CDE: [1, 2, 3], Model Name: 1, Started: 10.04 01:15, Ended: 10.04 01:58, Duration: 0:00:43.023193\n",
      "Current Iteration: 149 of 226, Optimizer: Adam, K: 5, LR: 0.01, Filter CDE: [1, 2, 3], Model Name: 2, Started: 10.04 01:58, Ended: 10.04 01:36, Duration: 0:00:38.525003\n",
      "Current Iteration: 150 of 226, Optimizer: SGD, K: 10, LR: 0.001, Filter CDE: [1], Model Name: 6, Started: 10.04 01:36, Ended: 10.04 01:13, Duration: 0:00:36.299707\n",
      "Current Iteration: 151 of 226, Optimizer: SGD, K: 10, LR: 0.1, Filter CDE: [1], Model Name: 3, Started: 10.04 01:13, Ended: 10.04 01:05, Duration: 0:00:52.308685\n",
      "Current Iteration: 152 of 226, Optimizer: Adam, K: 5, LR: 0.001, Filter CDE: [3], Model Name: 1, Started: 10.04 01:05, Ended: 10.04 01:55, Duration: 0:00:50.295416\n",
      "Current Iteration: 153 of 226, Optimizer: SGD, K: 5, LR: 0.1, Filter CDE: [2, 3], Model Name: 6, Started: 10.04 01:55, Ended: 10.04 01:38, Duration: 0:00:43.244534\n",
      "Current Iteration: 154 of 226, Optimizer: SGD, K: 5, LR: 0.01, Filter CDE: [2, 3], Model Name: 5, Started: 10.04 01:38, Ended: 10.04 01:18, Duration: 0:00:39.214238\n",
      "Current Iteration: 155 of 226, Optimizer: Adam, K: 5, LR: 0.001, Filter CDE: [1], Model Name: 1, Started: 10.04 01:18, Ended: 10.04 01:57, Duration: 0:00:38.973823\n",
      "Current Iteration: 156 of 226, Optimizer: Adam, K: 10, LR: 0.1, Filter CDE: [2, 3], Model Name: 6, Started: 10.04 01:57, Ended: 10.04 01:39, Duration: 0:00:42.893891\n",
      "Current Iteration: 157 of 226, Optimizer: Adam, K: 10, LR: 0.1, Filter CDE: [1, 2], Model Name: 3, Started: 10.04 01:39, Ended: 10.04 01:22, Duration: 0:00:42.447747\n",
      "Current Iteration: 158 of 226, Optimizer: Adam, K: 5, LR: 0.1, Filter CDE: [1, 2], Model Name: 6, Started: 10.04 01:22, Ended: 10.04 01:08, Duration: 0:00:46.171546\n",
      "Current Iteration: 159 of 226, Optimizer: Adam, K: 5, LR: 0.01, Filter CDE: [3], Model Name: 5, Started: 10.04 01:08, Ended: 10.04 01:53, Duration: 0:00:44.798753\n",
      "Current Iteration: 160 of 226, Optimizer: Adam, K: 5, LR: 0.001, Filter CDE: [3], Model Name: 5, Started: 10.04 01:53, Ended: 10.04 01:30, Duration: 0:00:37.002898\n",
      "Current Iteration: 161 of 226, Optimizer: SGD, K: 20, LR: 0.001, Filter CDE: [2], Model Name: 4, Started: 10.04 01:30, Ended: 10.04 01:14, Duration: 0:00:44.221641\n",
      "Current Iteration: 162 of 226, Optimizer: Adam, K: 10, LR: 0.001, Filter CDE: [1, 3], Model Name: 5, Started: 10.04 01:14, Ended: 10.04 01:55, Duration: 0:00:41.137329\n",
      "Current Iteration: 163 of 226, Optimizer: SGD, K: 5, LR: 0.1, Filter CDE: [1, 3], Model Name: 3, Started: 10.04 01:55, Ended: 10.04 01:39, Duration: 0:00:43.933232\n",
      "Current Iteration: 164 of 226, Optimizer: SGD, K: 10, LR: 0.001, Filter CDE: [1, 2, 3], Model Name: 5, Started: 10.04 01:39, Ended: 10.04 01:20, Duration: 0:00:40.482699\n",
      "Current Iteration: 165 of 226, Optimizer: SGD, K: 10, LR: 0.1, Filter CDE: [3], Model Name: 1, Started: 10.04 01:20, Ended: 10.04 01:00, Duration: 0:00:40.452049\n",
      "Current Iteration: 166 of 226, Optimizer: SGD, K: 20, LR: 0.001, Filter CDE: [3], Model Name: 3, Started: 10.04 01:00, Ended: 10.04 01:42, Duration: 0:00:41.904325\n",
      "Current Iteration: 167 of 226, Optimizer: Adam, K: 20, LR: 0.001, Filter CDE: [3], Model Name: 2, Started: 10.04 01:42, Ended: 10.04 01:28, Duration: 0:00:46.340478\n",
      "Current Iteration: 168 of 226, Optimizer: Adam, K: 5, LR: 0.001, Filter CDE: [1, 2, 3], Model Name: 2, Started: 10.04 01:28, Ended: 10.04 01:13, Duration: 0:00:44.438666\n",
      "Current Iteration: 169 of 226, Optimizer: Adam, K: 10, LR: 0.001, Filter CDE: [2, 3], Model Name: 3, Started: 10.04 01:13, Ended: 10.04 01:21, Duration: 0:01:07.892808\n",
      "Current Iteration: 170 of 226, Optimizer: Adam, K: 10, LR: 0.001, Filter CDE: [2], Model Name: 1, Started: 10.04 01:21, Ended: 10.04 01:01, Duration: 0:00:40.763891\n",
      "Current Iteration: 171 of 226, Optimizer: Adam, K: 5, LR: 0.001, Filter CDE: [1, 2, 3], Model Name: 6, Started: 10.04 01:01, Ended: 10.04 01:40, Duration: 0:00:39.043019\n",
      "Current Iteration: 172 of 226, Optimizer: Adam, K: 10, LR: 0.001, Filter CDE: [1], Model Name: 2, Started: 10.04 01:40, Ended: 10.04 01:22, Duration: 0:00:41.716514\n",
      "Current Iteration: 173 of 226, Optimizer: SGD, K: 5, LR: 0.1, Filter CDE: [1, 2], Model Name: 4, Started: 10.04 01:22, Ended: 10.04 01:02, Duration: 0:00:39.480366\n",
      "Current Iteration: 174 of 226, Optimizer: SGD, K: 20, LR: 0.01, Filter CDE: [1, 2], Model Name: 3, Started: 10.04 01:02, Ended: 10.04 01:59, Duration: 0:00:56.841858\n",
      "Current Iteration: 175 of 226, Optimizer: Adam, K: 5, LR: 0.01, Filter CDE: [1], Model Name: 5, Started: 10.04 01:59, Ended: 10.04 01:00, Duration: 0:01:01.132178\n",
      "Current Iteration: 176 of 226, Optimizer: SGD, K: 10, LR: 0.01, Filter CDE: [3], Model Name: 6, Started: 10.04 01:00, Ended: 10.04 01:42, Duration: 0:00:42.633416\n",
      "Current Iteration: 177 of 226, Optimizer: SGD, K: 20, LR: 0.001, Filter CDE: [2, 3], Model Name: 4, Started: 10.04 01:42, Ended: 10.04 01:28, Duration: 0:00:45.581575\n",
      "Current Iteration: 178 of 226, Optimizer: Adam, K: 5, LR: 0.01, Filter CDE: [1], Model Name: 2, Started: 10.04 01:28, Ended: 10.04 01:10, Duration: 0:00:41.691758\n",
      "Current Iteration: 179 of 226, Optimizer: SGD, K: 10, LR: 0.01, Filter CDE: [2], Model Name: 5, Started: 10.04 01:10, Ended: 10.04 01:49, Duration: 0:00:39.441227\n",
      "Current Iteration: 180 of 226, Optimizer: SGD, K: 10, LR: 0.1, Filter CDE: [2, 3], Model Name: 3, Started: 10.04 01:49, Ended: 10.04 01:31, Duration: 0:00:42.078259\n",
      "Current Iteration: 181 of 226, Optimizer: Adam, K: 5, LR: 0.01, Filter CDE: [1, 3], Model Name: 6, Started: 10.04 01:31, Ended: 10.04 01:13, Duration: 0:00:41.863331\n",
      "Current Iteration: 182 of 226, Optimizer: Adam, K: 10, LR: 0.1, Filter CDE: [3], Model Name: 4, Started: 10.04 01:13, Ended: 10.04 01:53, Duration: 0:00:39.853316\n",
      "Current Iteration: 183 of 226, Optimizer: Adam, K: 20, LR: 0.01, Filter CDE: [1], Model Name: 4, Started: 10.04 01:53, Ended: 10.04 01:36, Duration: 0:00:43.110694\n",
      "Current Iteration: 184 of 226, Optimizer: SGD, K: 10, LR: 0.001, Filter CDE: [1, 3], Model Name: 3, Started: 10.04 01:36, Ended: 10.04 02:15, Duration: 0:00:39.336914\n",
      "Current Iteration: 185 of 226, Optimizer: SGD, K: 20, LR: 0.1, Filter CDE: [2], Model Name: 4, Started: 10.04 02:15, Ended: 10.04 02:09, Duration: 0:00:53.807846\n",
      "Current Iteration: 186 of 226, Optimizer: Adam, K: 10, LR: 0.01, Filter CDE: [1, 2, 3], Model Name: 6, Started: 10.04 02:09, Ended: 10.04 02:47, Duration: 0:00:37.617794\n",
      "Current Iteration: 187 of 226, Optimizer: SGD, K: 20, LR: 0.1, Filter CDE: [1, 3], Model Name: 6, Started: 10.04 02:47, Ended: 10.04 02:27, Duration: 0:00:40.665913\n",
      "Current Iteration: 188 of 226, Optimizer: Adam, K: 10, LR: 0.1, Filter CDE: [3], Model Name: 3, Started: 10.04 02:27, Ended: 10.04 02:04, Duration: 0:00:36.876413\n",
      "Current Iteration: 189 of 226, Optimizer: SGD, K: 20, LR: 0.1, Filter CDE: [1, 2], Model Name: 5, Started: 10.04 02:04, Ended: 10.04 02:41, Duration: 0:00:36.736596\n",
      "Current Iteration: 190 of 226, Optimizer: Adam, K: 10, LR: 0.001, Filter CDE: [2, 3], Model Name: 2, Started: 10.04 02:41, Ended: 10.04 02:21, Duration: 0:00:40.034825\n",
      "Current Iteration: 191 of 226, Optimizer: Adam, K: 10, LR: 0.1, Filter CDE: [1, 2, 3], Model Name: 6, Started: 10.04 02:21, Ended: 10.04 02:06, Duration: 0:00:44.522554\n",
      "Current Iteration: 192 of 226, Optimizer: SGD, K: 5, LR: 0.01, Filter CDE: [2], Model Name: 5, Started: 10.04 02:06, Ended: 10.04 02:46, Duration: 0:00:40.894787\n",
      "Current Iteration: 193 of 226, Optimizer: Adam, K: 5, LR: 0.1, Filter CDE: [2], Model Name: 6, Started: 10.04 02:46, Ended: 10.04 02:30, Duration: 0:00:43.839195\n",
      "Current Iteration: 194 of 226, Optimizer: Adam, K: 5, LR: 0.001, Filter CDE: [1, 2], Model Name: 3, Started: 10.04 02:30, Ended: 10.04 02:10, Duration: 0:00:39.912198\n",
      "Current Iteration: 195 of 226, Optimizer: SGD, K: 20, LR: 0.1, Filter CDE: [1, 2, 3], Model Name: 1, Started: 10.04 02:10, Ended: 10.04 02:55, Duration: 0:00:44.902360\n",
      "Current Iteration: 196 of 226, Optimizer: SGD, K: 10, LR: 0.001, Filter CDE: [1, 2, 3], Model Name: 3, Started: 10.04 02:55, Ended: 10.04 02:38, Duration: 0:00:42.498300\n",
      "Current Iteration: 197 of 226, Optimizer: SGD, K: 10, LR: 0.01, Filter CDE: [1], Model Name: 6, Started: 10.04 02:38, Ended: 10.04 02:22, Duration: 0:00:43.956938\n",
      "Current Iteration: 198 of 226, Optimizer: SGD, K: 20, LR: 0.1, Filter CDE: [1], Model Name: 2, Started: 10.04 02:22, Ended: 10.04 02:07, Duration: 0:00:45.338087\n",
      "Current Iteration: 199 of 226, Optimizer: SGD, K: 5, LR: 0.1, Filter CDE: [1, 2], Model Name: 5, Started: 10.04 02:07, Ended: 10.04 02:50, Duration: 0:00:43.415901\n",
      "Current Iteration: 200 of 226, Optimizer: SGD, K: 10, LR: 0.1, Filter CDE: [3], Model Name: 4, Started: 10.04 02:50, Ended: 10.04 02:32, Duration: 0:00:41.952870\n",
      "Current Iteration: 201 of 226, Optimizer: Adam, K: 5, LR: 0.001, Filter CDE: [3], Model Name: 5, Started: 10.04 02:32, Ended: 10.04 02:15, Duration: 0:00:42.917437\n",
      "Current Iteration: 202 of 226, Optimizer: Adam, K: 10, LR: 0.01, Filter CDE: [1, 2, 3], Model Name: 4, Started: 10.04 02:15, Ended: 10.04 02:56, Duration: 0:00:40.778456\n",
      "Current Iteration: 203 of 226, Optimizer: SGD, K: 5, LR: 0.01, Filter CDE: [3], Model Name: 3, Started: 10.04 02:56, Ended: 10.04 02:40, Duration: 0:00:44.309755\n",
      "Current Iteration: 204 of 226, Optimizer: Adam, K: 20, LR: 0.01, Filter CDE: [2, 3], Model Name: 2, Started: 10.04 02:40, Ended: 10.04 02:24, Duration: 0:00:44.041455\n",
      "Current Iteration: 205 of 226, Optimizer: SGD, K: 10, LR: 0.1, Filter CDE: [2, 3], Model Name: 5, Started: 10.04 02:24, Ended: 10.04 02:09, Duration: 0:00:44.425060\n",
      "Current Iteration: 206 of 226, Optimizer: Adam, K: 10, LR: 0.1, Filter CDE: [1, 2, 3], Model Name: 6, Started: 10.04 02:09, Ended: 10.04 02:53, Duration: 0:00:44.309064\n",
      "Current Iteration: 207 of 226, Optimizer: SGD, K: 20, LR: 0.01, Filter CDE: [1], Model Name: 1, Started: 10.04 02:53, Ended: 10.04 02:44, Duration: 0:00:51.467608\n",
      "Current Iteration: 208 of 226, Optimizer: SGD, K: 20, LR: 0.1, Filter CDE: [1, 3], Model Name: 4, Started: 10.04 02:44, Ended: 10.04 02:31, Duration: 0:00:46.351526\n",
      "Current Iteration: 209 of 226, Optimizer: Adam, K: 20, LR: 0.1, Filter CDE: [3], Model Name: 2, Started: 10.04 02:31, Ended: 10.04 02:10, Duration: 0:00:38.865475\n",
      "Current Iteration: 210 of 226, Optimizer: Adam, K: 5, LR: 0.001, Filter CDE: [3], Model Name: 3, Started: 10.04 02:10, Ended: 10.04 02:49, Duration: 0:00:38.846745\n",
      "Current Iteration: 211 of 226, Optimizer: SGD, K: 20, LR: 0.1, Filter CDE: [1, 2, 3], Model Name: 4, Started: 10.04 02:49, Ended: 10.04 02:33, Duration: 0:00:44.088578\n",
      "Current Iteration: 212 of 226, Optimizer: Adam, K: 5, LR: 0.001, Filter CDE: [1, 2, 3], Model Name: 4, Started: 10.04 02:33, Ended: 10.04 02:17, Duration: 0:00:44.460892\n",
      "Current Iteration: 213 of 226, Optimizer: SGD, K: 20, LR: 0.01, Filter CDE: [2], Model Name: 6, Started: 10.04 02:17, Ended: 10.04 02:03, Duration: 0:00:45.437733\n",
      "Current Iteration: 214 of 226, Optimizer: Adam, K: 20, LR: 0.01, Filter CDE: [3], Model Name: 6, Started: 10.04 02:03, Ended: 10.04 02:39, Duration: 0:00:36.788825\n",
      "Current Iteration: 215 of 226, Optimizer: SGD, K: 5, LR: 0.001, Filter CDE: [2, 3], Model Name: 6, Started: 10.04 02:39, Ended: 10.04 02:21, Duration: 0:00:41.703286\n",
      "Current Iteration: 216 of 226, Optimizer: Adam, K: 5, LR: 0.001, Filter CDE: [1, 3], Model Name: 6, Started: 10.04 02:21, Ended: 10.04 02:01, Duration: 0:00:40.448377\n",
      "Current Iteration: 217 of 226, Optimizer: SGD, K: 10, LR: 0.1, Filter CDE: [1, 3], Model Name: 1, Started: 10.04 02:01, Ended: 10.04 02:47, Duration: 0:00:45.156241\n",
      "Current Iteration: 218 of 226, Optimizer: SGD, K: 5, LR: 0.001, Filter CDE: [1, 3], Model Name: 1, Started: 10.04 02:47, Ended: 10.04 02:26, Duration: 0:00:39.645679\n",
      "Current Iteration: 219 of 226, Optimizer: Adam, K: 5, LR: 0.01, Filter CDE: [2, 3], Model Name: 3, Started: 10.04 02:26, Ended: 10.04 02:07, Duration: 0:00:40.750189\n",
      "Current Iteration: 220 of 226, Optimizer: SGD, K: 5, LR: 0.01, Filter CDE: [1], Model Name: 6, Started: 10.04 02:07, Ended: 10.04 02:46, Duration: 0:00:39.308332\n",
      "Current Iteration: 221 of 226, Optimizer: SGD, K: 10, LR: 0.001, Filter CDE: [3], Model Name: 1, Started: 10.04 02:46, Ended: 10.04 02:36, Duration: 0:00:49.503039\n",
      "Current Iteration: 222 of 226, Optimizer: Adam, K: 10, LR: 0.1, Filter CDE: [1, 2], Model Name: 1, Started: 10.04 02:36, Ended: 10.04 02:25, Duration: 0:00:48.898949\n",
      "Current Iteration: 223 of 226, Optimizer: Adam, K: 10, LR: 0.01, Filter CDE: [1, 2, 3], Model Name: 5, Started: 10.04 02:25, Ended: 10.04 02:23, Duration: 0:00:58.729111\n",
      "Current Iteration: 224 of 226, Optimizer: SGD, K: 5, LR: 0.01, Filter CDE: [1, 3], Model Name: 4, Started: 10.04 02:23, Ended: 10.04 02:19, Duration: 0:00:55.746233\n",
      "Current Iteration: 225 of 226, Optimizer: Adam, K: 20, LR: 0.01, Filter CDE: [1, 2], Model Name: 2, Started: 10.04 02:19, Ended: 10.04 02:26, Duration: 0:01:06.352463\n",
      "Current Iteration: 226 of 226, Optimizer: Adam, K: 10, LR: 0.01, Filter CDE: [1], Model Name: 6, Started: 10.04 02:26, Ended: 10.04 02:17, Duration: 0:00:51.418214\n"
     ]
    }
   ],
   "source": [
    "for i, vp in versuchsplan.iterrows():\n",
    "    start_ts = arrow.now()\n",
    "    optimizer_name = vp['optimizer']\n",
    "    k = vp['k_train']\n",
    "    num_iter = vp['num_iter']\n",
    "    lr = vp['lr']\n",
    "    filter_cde = _build_filter_list(vp['filter_cde'])\n",
    "    name_model = vp['model']\n",
    "    model = model_mapping_dict[vp['model']][0]\n",
    "    logreg = model_mapping_dict[vp['model']][1]\n",
    "    pretrained_model_fn = model_mapping_dict[vp['model']][2]\n",
    "    logreg_fn = model_mapping_dict[vp['model']][3]\n",
    "    \n",
    "    string_lr = str(lr).replace('.', '_')\n",
    "    \n",
    "    fine_tuned_model_fn = '{}_FINE_TUNED_MODEL__K_{}_OPTIMIZER_{}_NUM_ITER_{}_LR_{}_FILTER_CDE_{}_MODEL_{}.pt'.format(arrow.now().format('YYYYMMDD'), k, optimizer_name,\n",
    "                                                                                                                                            num_iter, string_lr, filter_cde, name_model)\n",
    "    \n",
    "    fine_tuned_model_fn = os.path.join(exp_models_path, 'fine_tuned_models', fine_tuned_model_fn)\n",
    "    \n",
    "    exp_name_fn = '{}_EXPERIMENT_FINE_TUNED_MODEL__K_{}_OPTIMIZER_{}_NUM_ITER_{}_LR_{}_FILTER_CDE_{}_MODEL_{}.csv'.format(arrow.now().format('YYYYMMDD'), k, optimizer_name,\n",
    "                                                                                                                                            num_iter, string_lr, filter_cde, name_model)\n",
    "    \n",
    "    exp_name_fn = os.path.join(exp_data_path, 'experiment', 'fine_tuning', exp_name_fn)\n",
    "    \n",
    "    \n",
    "    ft_exp = FineTuneExperiment(model=model, fine_tune_data_x_drifted=drifted_torch_dataset, eval_data_x_test=x_anormal_torch_tensor, eval_label_x_test=y_anormal,\n",
    "                               eval_data_x_drifted_ano=x_anormal_drifted_torch_tensor, eval_label_x_drifted_ano=y_anormal_drifted, k=k, fine_tune_iterations=num_iter, optimizer_name=optimizer_name,\n",
    "                               fine_tune_classes=filter_cde, classifier=logreg, lr=lr, name_pretrained_model=name_model, fine_tuned_model_fn=fine_tuned_model_fn, pretrained_model_fn= pretrained_model_fn,\n",
    "                               logreg_fn=logreg_fn, exp_name_fn=exp_name_fn)\n",
    "    \n",
    "    ft_exp.run()\n",
    "    end_ts = arrow.now()\n",
    "    duration = end_ts - start_ts\n",
    "    print('Current Iteration: {} of {}, Optimizer: {}, K: {}, LR: {}, Filter CDE: {}, Model Name: {}, Started: {}, Ended: {}, Duration: {}'.format(i+1, len(versuchsplan), optimizer_name, k, lr,\n",
    "                                                                                                                                             filter_cde, name_model, start_ts.format('hh:mm:ss'), \n",
    "                                                                                                                                             end_ts.format('hh:mm:ss'), duration))"
   ]
  },
  {
   "cell_type": "code",
   "execution_count": 28,
   "metadata": {},
   "outputs": [],
   "source": [
    "exp = pd.read_csv(exp_name_fn, sep=';')"
   ]
  },
  {
   "cell_type": "code",
   "execution_count": 29,
   "metadata": {},
   "outputs": [
    {
     "data": {
      "text/html": [
       "<div>\n",
       "<style scoped>\n",
       "    .dataframe tbody tr th:only-of-type {\n",
       "        vertical-align: middle;\n",
       "    }\n",
       "\n",
       "    .dataframe tbody tr th {\n",
       "        vertical-align: top;\n",
       "    }\n",
       "\n",
       "    .dataframe thead th {\n",
       "        text-align: right;\n",
       "    }\n",
       "</style>\n",
       "<table border=\"1\" class=\"dataframe\">\n",
       "  <thead>\n",
       "    <tr style=\"text-align: right;\">\n",
       "      <th></th>\n",
       "      <th>optimizer</th>\n",
       "      <th>fine_tune_classes</th>\n",
       "      <th>name_pretrained_model</th>\n",
       "      <th>k</th>\n",
       "      <th>fine_tune_iterations</th>\n",
       "      <th>lr</th>\n",
       "      <th>model_fn</th>\n",
       "      <th>pretrained_model_fn</th>\n",
       "      <th>logreg_fn</th>\n",
       "      <th>TP_x_test</th>\n",
       "      <th>TN_x_test</th>\n",
       "      <th>FP_x_test</th>\n",
       "      <th>FN_x_test</th>\n",
       "      <th>TP_x_drifted_ano</th>\n",
       "      <th>TN_x_drifted_ano</th>\n",
       "      <th>FP_x_drifted_ano</th>\n",
       "      <th>FN_x_drifted_ano</th>\n",
       "      <th>Accuracy_x_test</th>\n",
       "      <th>Precision_x_test</th>\n",
       "      <th>Specifity_x_test</th>\n",
       "      <th>Sensitivity_x_test</th>\n",
       "      <th>Accuracy_x_drifted_ano</th>\n",
       "      <th>Precision_x_drifted_ano</th>\n",
       "      <th>Specifity_x_drifted_ano</th>\n",
       "      <th>Sensitivity_x_drifted_ano</th>\n",
       "    </tr>\n",
       "  </thead>\n",
       "  <tbody>\n",
       "    <tr>\n",
       "      <th>0</th>\n",
       "      <td>Adam</td>\n",
       "      <td>[1]</td>\n",
       "      <td>6</td>\n",
       "      <td>10</td>\n",
       "      <td>64</td>\n",
       "      <td>0.01</td>\n",
       "      <td>/home/torge/dev/masterthesis_code/02_Experimen...</td>\n",
       "      <td>/home/torge/dev/masterthesis_code/02_Experimen...</td>\n",
       "      <td>/home/torge/dev/masterthesis_code/02_Experimen...</td>\n",
       "      <td>2489</td>\n",
       "      <td>4242</td>\n",
       "      <td>28301</td>\n",
       "      <td>8</td>\n",
       "      <td>2495</td>\n",
       "      <td>3791</td>\n",
       "      <td>28752</td>\n",
       "      <td>2</td>\n",
       "      <td>19.209475</td>\n",
       "      <td>8.083793</td>\n",
       "      <td>63.021839</td>\n",
       "      <td>99.679616</td>\n",
       "      <td>17.939498</td>\n",
       "      <td>7.984767</td>\n",
       "      <td>60.308622</td>\n",
       "      <td>99.919904</td>\n",
       "    </tr>\n",
       "  </tbody>\n",
       "</table>\n",
       "</div>"
      ],
      "text/plain": [
       "  optimizer fine_tune_classes  name_pretrained_model   k  \\\n",
       "0      Adam               [1]                      6  10   \n",
       "\n",
       "   fine_tune_iterations    lr  \\\n",
       "0                    64  0.01   \n",
       "\n",
       "                                            model_fn  \\\n",
       "0  /home/torge/dev/masterthesis_code/02_Experimen...   \n",
       "\n",
       "                                 pretrained_model_fn  \\\n",
       "0  /home/torge/dev/masterthesis_code/02_Experimen...   \n",
       "\n",
       "                                           logreg_fn  TP_x_test  TN_x_test  \\\n",
       "0  /home/torge/dev/masterthesis_code/02_Experimen...       2489       4242   \n",
       "\n",
       "   FP_x_test  FN_x_test  TP_x_drifted_ano  TN_x_drifted_ano  FP_x_drifted_ano  \\\n",
       "0      28301          8              2495              3791             28752   \n",
       "\n",
       "   FN_x_drifted_ano  Accuracy_x_test  Precision_x_test  Specifity_x_test  \\\n",
       "0                 2        19.209475          8.083793         63.021839   \n",
       "\n",
       "   Sensitivity_x_test  Accuracy_x_drifted_ano  Precision_x_drifted_ano  \\\n",
       "0           99.679616               17.939498                 7.984767   \n",
       "\n",
       "   Specifity_x_drifted_ano  Sensitivity_x_drifted_ano  \n",
       "0                60.308622                  99.919904  "
      ]
     },
     "execution_count": 29,
     "metadata": {},
     "output_type": "execute_result"
    }
   ],
   "source": [
    "exp.head()"
   ]
  },
  {
   "cell_type": "code",
   "execution_count": null,
   "metadata": {},
   "outputs": [],
   "source": []
  }
 ],
 "metadata": {
  "kernelspec": {
   "display_name": "ma_modells",
   "language": "python",
   "name": "ma_modells"
  },
  "language_info": {
   "codemirror_mode": {
    "name": "ipython",
    "version": 3
   },
   "file_extension": ".py",
   "mimetype": "text/x-python",
   "name": "python",
   "nbconvert_exporter": "python",
   "pygments_lexer": "ipython3",
   "version": "3.7.6"
  }
 },
 "nbformat": 4,
 "nbformat_minor": 4
}
