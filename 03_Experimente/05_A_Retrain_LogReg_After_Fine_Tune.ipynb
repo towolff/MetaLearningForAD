{
 "cells": [
  {
   "cell_type": "code",
   "execution_count": null,
   "metadata": {},
   "outputs": [],
   "source": []
  },
  {
   "cell_type": "code",
   "execution_count": 1,
   "metadata": {},
   "outputs": [],
   "source": [
    "import arrow\n",
    "import numpy as np\n",
    "import os\n",
    "import glob\n",
    "import pandas as pd\n",
    "import matplotlib.pyplot as plt\n",
    "import seaborn as sns\n",
    "import torch\n",
    "import joblib \n",
    "from sklearn.preprocessing import MinMaxScaler\n",
    "from torch.utils.data import TensorDataset\n",
    "from sklearn.metrics import confusion_matrix\n",
    "\n",
    "from models.SimpleAutoEncoder import SimpleAutoEncoder\n",
    "\n",
    "from utils.evalUtils import calc_cm_metrics\n",
    "from utils.evalUtils import print_confusion_matrix"
   ]
  },
  {
   "cell_type": "code",
   "execution_count": 2,
   "metadata": {},
   "outputs": [],
   "source": [
    "from matplotlib import rc\n",
    "rc('text', usetex=True)"
   ]
  },
  {
   "cell_type": "code",
   "execution_count": 3,
   "metadata": {},
   "outputs": [
    {
     "name": "stdout",
     "output_type": "stream",
     "text": [
      "Set configs..\n"
     ]
    }
   ],
   "source": [
    "%run -i ./scripts/setConfigs.py"
   ]
  },
  {
   "cell_type": "code",
   "execution_count": 4,
   "metadata": {},
   "outputs": [
    {
     "data": {
      "text/plain": [
       "'/home/torge/dev/masterthesis_code/02_Experimente/03_Experimente'"
      ]
     },
     "execution_count": 4,
     "metadata": {},
     "output_type": "execute_result"
    }
   ],
   "source": [
    "os.getcwd()"
   ]
  },
  {
   "cell_type": "code",
   "execution_count": 5,
   "metadata": {},
   "outputs": [
    {
     "name": "stdout",
     "output_type": "stream",
     "text": [
      "Set configs..\n",
      "Read the data..\n",
      "Shape of normal data (X_sim): (105216, 17)\n",
      "Shape of anormal data (X_test): (35040, 18)\n",
      "Shape of drifted data (X_drifted): (35040, 18)\n",
      "Shape of drifted anormal data (X_drifted,anormal): (35040, 19)\n",
      "Save label..\n",
      "Shape of anormal data (X_test): (35040, 17)\n",
      "Shape of drifted data (X_drifted): (35040, 17)\n",
      "Shape of drifted anormal data (X_drifted,anormal): (35040, 17)\n",
      "Scale data..\n",
      "Prepare data for PyTorch..\n"
     ]
    }
   ],
   "source": [
    "%run -i ./scripts/EvalPreperations.py"
   ]
  },
  {
   "cell_type": "code",
   "execution_count": 6,
   "metadata": {},
   "outputs": [
    {
     "data": {
      "text/plain": [
       "torch.Tensor"
      ]
     },
     "execution_count": 6,
     "metadata": {},
     "output_type": "execute_result"
    }
   ],
   "source": [
    "type(drifted_anormal_torch_tensor)"
   ]
  },
  {
   "cell_type": "code",
   "execution_count": 7,
   "metadata": {},
   "outputs": [],
   "source": [
    "path = os.path.join(exp_data_path, 'experiment', 'fine_tuning', '*.csv')\n",
    "result = glob.glob(path)"
   ]
  },
  {
   "cell_type": "code",
   "execution_count": 8,
   "metadata": {},
   "outputs": [],
   "source": [
    "real_results = []\n",
    "for r in result:\n",
    "    if 'tVPII_M2' not in r:\n",
    "        real_results.append(r)"
   ]
  },
  {
   "cell_type": "code",
   "execution_count": 9,
   "metadata": {},
   "outputs": [
    {
     "data": {
      "text/plain": [
       "'/home/torge/dev/masterthesis_code/02_Experimente/03_Experimente/exp_data/experiment/fine_tuning/20200410_EXPERIMENT_FINE_TUNED_MODEL__K_20_OPTIMIZER_Adam_NUM_ITER_64_LR_0_001_FILTER_CDE_[2]_MODEL_3.csv'"
      ]
     },
     "execution_count": 9,
     "metadata": {},
     "output_type": "execute_result"
    }
   ],
   "source": [
    "real_results[0]"
   ]
  },
  {
   "cell_type": "code",
   "execution_count": 10,
   "metadata": {},
   "outputs": [],
   "source": [
    "df_tVP2_m1 = pd.read_csv(real_results[0], sep=';')"
   ]
  },
  {
   "cell_type": "code",
   "execution_count": 11,
   "metadata": {},
   "outputs": [],
   "source": [
    "for file in real_results[1:]:\n",
    "    df = pd.read_csv(file, sep=';')\n",
    "    df_tVP2_m1 = df_tVP2_m1.append(df)"
   ]
  },
  {
   "cell_type": "code",
   "execution_count": 12,
   "metadata": {},
   "outputs": [
    {
     "data": {
      "text/html": [
       "<div>\n",
       "<style scoped>\n",
       "    .dataframe tbody tr th:only-of-type {\n",
       "        vertical-align: middle;\n",
       "    }\n",
       "\n",
       "    .dataframe tbody tr th {\n",
       "        vertical-align: top;\n",
       "    }\n",
       "\n",
       "    .dataframe thead th {\n",
       "        text-align: right;\n",
       "    }\n",
       "</style>\n",
       "<table border=\"1\" class=\"dataframe\">\n",
       "  <thead>\n",
       "    <tr style=\"text-align: right;\">\n",
       "      <th></th>\n",
       "      <th>optimizer</th>\n",
       "      <th>fine_tune_classes</th>\n",
       "      <th>name_pretrained_model</th>\n",
       "      <th>k</th>\n",
       "      <th>fine_tune_iterations</th>\n",
       "      <th>lr</th>\n",
       "      <th>model_fn</th>\n",
       "      <th>pretrained_model_fn</th>\n",
       "      <th>logreg_fn</th>\n",
       "      <th>TP_x_test</th>\n",
       "      <th>TN_x_test</th>\n",
       "      <th>FP_x_test</th>\n",
       "      <th>FN_x_test</th>\n",
       "      <th>TP_x_drifted_ano</th>\n",
       "      <th>TN_x_drifted_ano</th>\n",
       "      <th>FP_x_drifted_ano</th>\n",
       "      <th>FN_x_drifted_ano</th>\n",
       "      <th>Accuracy_x_test</th>\n",
       "      <th>Precision_x_test</th>\n",
       "      <th>Specifity_x_test</th>\n",
       "      <th>Sensitivity_x_test</th>\n",
       "      <th>Accuracy_x_drifted_ano</th>\n",
       "      <th>Precision_x_drifted_ano</th>\n",
       "      <th>Specifity_x_drifted_ano</th>\n",
       "      <th>Sensitivity_x_drifted_ano</th>\n",
       "    </tr>\n",
       "  </thead>\n",
       "  <tbody>\n",
       "    <tr>\n",
       "      <th>0</th>\n",
       "      <td>Adam</td>\n",
       "      <td>[2]</td>\n",
       "      <td>3</td>\n",
       "      <td>20</td>\n",
       "      <td>64</td>\n",
       "      <td>0.001</td>\n",
       "      <td>/home/torge/dev/masterthesis_code/02_Experimen...</td>\n",
       "      <td>/home/torge/dev/masterthesis_code/02_Experimen...</td>\n",
       "      <td>/home/torge/dev/masterthesis_code/02_Experimen...</td>\n",
       "      <td>2413</td>\n",
       "      <td>31468</td>\n",
       "      <td>1075</td>\n",
       "      <td>84</td>\n",
       "      <td>2412</td>\n",
       "      <td>28402</td>\n",
       "      <td>4141</td>\n",
       "      <td>85</td>\n",
       "      <td>96.692352</td>\n",
       "      <td>69.180046</td>\n",
       "      <td>92.878014</td>\n",
       "      <td>96.635963</td>\n",
       "      <td>87.939498</td>\n",
       "      <td>36.807569</td>\n",
       "      <td>92.172389</td>\n",
       "      <td>96.595915</td>\n",
       "    </tr>\n",
       "    <tr>\n",
       "      <th>0</th>\n",
       "      <td>SGD</td>\n",
       "      <td>[1, 2, 3]</td>\n",
       "      <td>6</td>\n",
       "      <td>10</td>\n",
       "      <td>64</td>\n",
       "      <td>0.010</td>\n",
       "      <td>/home/torge/dev/masterthesis_code/02_Experimen...</td>\n",
       "      <td>/home/torge/dev/masterthesis_code/02_Experimen...</td>\n",
       "      <td>/home/torge/dev/masterthesis_code/02_Experimen...</td>\n",
       "      <td>2487</td>\n",
       "      <td>15098</td>\n",
       "      <td>17445</td>\n",
       "      <td>10</td>\n",
       "      <td>2487</td>\n",
       "      <td>13630</td>\n",
       "      <td>18913</td>\n",
       "      <td>10</td>\n",
       "      <td>50.185502</td>\n",
       "      <td>12.477423</td>\n",
       "      <td>85.857265</td>\n",
       "      <td>99.599519</td>\n",
       "      <td>45.996005</td>\n",
       "      <td>11.621495</td>\n",
       "      <td>84.569089</td>\n",
       "      <td>99.599519</td>\n",
       "    </tr>\n",
       "    <tr>\n",
       "      <th>0</th>\n",
       "      <td>SGD</td>\n",
       "      <td>[2, 3]</td>\n",
       "      <td>5</td>\n",
       "      <td>5</td>\n",
       "      <td>1</td>\n",
       "      <td>0.010</td>\n",
       "      <td>/home/torge/dev/masterthesis_code/02_Experimen...</td>\n",
       "      <td>/home/torge/dev/masterthesis_code/02_Experimen...</td>\n",
       "      <td>/home/torge/dev/masterthesis_code/02_Experimen...</td>\n",
       "      <td>2456</td>\n",
       "      <td>28811</td>\n",
       "      <td>3732</td>\n",
       "      <td>41</td>\n",
       "      <td>2466</td>\n",
       "      <td>25853</td>\n",
       "      <td>6690</td>\n",
       "      <td>31</td>\n",
       "      <td>89.232306</td>\n",
       "      <td>39.689722</td>\n",
       "      <td>92.145073</td>\n",
       "      <td>98.358030</td>\n",
       "      <td>80.819064</td>\n",
       "      <td>26.933159</td>\n",
       "      <td>91.292065</td>\n",
       "      <td>98.758510</td>\n",
       "    </tr>\n",
       "    <tr>\n",
       "      <th>0</th>\n",
       "      <td>Adam</td>\n",
       "      <td>[1]</td>\n",
       "      <td>3</td>\n",
       "      <td>10</td>\n",
       "      <td>1</td>\n",
       "      <td>0.001</td>\n",
       "      <td>/home/torge/dev/masterthesis_code/02_Experimen...</td>\n",
       "      <td>/home/torge/dev/masterthesis_code/02_Experimen...</td>\n",
       "      <td>/home/torge/dev/masterthesis_code/02_Experimen...</td>\n",
       "      <td>2440</td>\n",
       "      <td>30601</td>\n",
       "      <td>1942</td>\n",
       "      <td>57</td>\n",
       "      <td>2441</td>\n",
       "      <td>27641</td>\n",
       "      <td>4902</td>\n",
       "      <td>56</td>\n",
       "      <td>94.295091</td>\n",
       "      <td>55.682337</td>\n",
       "      <td>92.615236</td>\n",
       "      <td>97.717261</td>\n",
       "      <td>85.850457</td>\n",
       "      <td>33.242544</td>\n",
       "      <td>91.885513</td>\n",
       "      <td>97.757309</td>\n",
       "    </tr>\n",
       "    <tr>\n",
       "      <th>0</th>\n",
       "      <td>Adam</td>\n",
       "      <td>[1, 3]</td>\n",
       "      <td>6</td>\n",
       "      <td>5</td>\n",
       "      <td>128</td>\n",
       "      <td>0.001</td>\n",
       "      <td>/home/torge/dev/masterthesis_code/02_Experimen...</td>\n",
       "      <td>/home/torge/dev/masterthesis_code/02_Experimen...</td>\n",
       "      <td>/home/torge/dev/masterthesis_code/02_Experimen...</td>\n",
       "      <td>2484</td>\n",
       "      <td>13784</td>\n",
       "      <td>18759</td>\n",
       "      <td>13</td>\n",
       "      <td>2485</td>\n",
       "      <td>12328</td>\n",
       "      <td>20215</td>\n",
       "      <td>12</td>\n",
       "      <td>46.426941</td>\n",
       "      <td>11.693264</td>\n",
       "      <td>84.730760</td>\n",
       "      <td>99.479375</td>\n",
       "      <td>42.274543</td>\n",
       "      <td>10.947137</td>\n",
       "      <td>83.224195</td>\n",
       "      <td>99.519423</td>\n",
       "    </tr>\n",
       "  </tbody>\n",
       "</table>\n",
       "</div>"
      ],
      "text/plain": [
       "  optimizer fine_tune_classes  name_pretrained_model   k  \\\n",
       "0      Adam               [2]                      3  20   \n",
       "0       SGD         [1, 2, 3]                      6  10   \n",
       "0       SGD            [2, 3]                      5   5   \n",
       "0      Adam               [1]                      3  10   \n",
       "0      Adam            [1, 3]                      6   5   \n",
       "\n",
       "   fine_tune_iterations     lr  \\\n",
       "0                    64  0.001   \n",
       "0                    64  0.010   \n",
       "0                     1  0.010   \n",
       "0                     1  0.001   \n",
       "0                   128  0.001   \n",
       "\n",
       "                                            model_fn  \\\n",
       "0  /home/torge/dev/masterthesis_code/02_Experimen...   \n",
       "0  /home/torge/dev/masterthesis_code/02_Experimen...   \n",
       "0  /home/torge/dev/masterthesis_code/02_Experimen...   \n",
       "0  /home/torge/dev/masterthesis_code/02_Experimen...   \n",
       "0  /home/torge/dev/masterthesis_code/02_Experimen...   \n",
       "\n",
       "                                 pretrained_model_fn  \\\n",
       "0  /home/torge/dev/masterthesis_code/02_Experimen...   \n",
       "0  /home/torge/dev/masterthesis_code/02_Experimen...   \n",
       "0  /home/torge/dev/masterthesis_code/02_Experimen...   \n",
       "0  /home/torge/dev/masterthesis_code/02_Experimen...   \n",
       "0  /home/torge/dev/masterthesis_code/02_Experimen...   \n",
       "\n",
       "                                           logreg_fn  TP_x_test  TN_x_test  \\\n",
       "0  /home/torge/dev/masterthesis_code/02_Experimen...       2413      31468   \n",
       "0  /home/torge/dev/masterthesis_code/02_Experimen...       2487      15098   \n",
       "0  /home/torge/dev/masterthesis_code/02_Experimen...       2456      28811   \n",
       "0  /home/torge/dev/masterthesis_code/02_Experimen...       2440      30601   \n",
       "0  /home/torge/dev/masterthesis_code/02_Experimen...       2484      13784   \n",
       "\n",
       "   FP_x_test  FN_x_test  TP_x_drifted_ano  TN_x_drifted_ano  FP_x_drifted_ano  \\\n",
       "0       1075         84              2412             28402              4141   \n",
       "0      17445         10              2487             13630             18913   \n",
       "0       3732         41              2466             25853              6690   \n",
       "0       1942         57              2441             27641              4902   \n",
       "0      18759         13              2485             12328             20215   \n",
       "\n",
       "   FN_x_drifted_ano  Accuracy_x_test  Precision_x_test  Specifity_x_test  \\\n",
       "0                85        96.692352         69.180046         92.878014   \n",
       "0                10        50.185502         12.477423         85.857265   \n",
       "0                31        89.232306         39.689722         92.145073   \n",
       "0                56        94.295091         55.682337         92.615236   \n",
       "0                12        46.426941         11.693264         84.730760   \n",
       "\n",
       "   Sensitivity_x_test  Accuracy_x_drifted_ano  Precision_x_drifted_ano  \\\n",
       "0           96.635963               87.939498                36.807569   \n",
       "0           99.599519               45.996005                11.621495   \n",
       "0           98.358030               80.819064                26.933159   \n",
       "0           97.717261               85.850457                33.242544   \n",
       "0           99.479375               42.274543                10.947137   \n",
       "\n",
       "   Specifity_x_drifted_ano  Sensitivity_x_drifted_ano  \n",
       "0                92.172389                  96.595915  \n",
       "0                84.569089                  99.599519  \n",
       "0                91.292065                  98.758510  \n",
       "0                91.885513                  97.757309  \n",
       "0                83.224195                  99.519423  "
      ]
     },
     "execution_count": 12,
     "metadata": {},
     "output_type": "execute_result"
    }
   ],
   "source": [
    "df_tVP2_m1.head()"
   ]
  },
  {
   "cell_type": "code",
   "execution_count": 15,
   "metadata": {},
   "outputs": [
    {
     "data": {
      "text/plain": [
       "optimizer                                                                  SGD\n",
       "fine_tune_classes                                                    [1, 2, 3]\n",
       "name_pretrained_model                                                        5\n",
       "k                                                                            5\n",
       "fine_tune_iterations                                                       128\n",
       "lr                                                                         0.1\n",
       "model_fn                     /home/torge/dev/masterthesis_code/02_Experimen...\n",
       "pretrained_model_fn          /home/torge/dev/masterthesis_code/02_Experimen...\n",
       "logreg_fn                    /home/torge/dev/masterthesis_code/02_Experimen...\n",
       "TP_x_test                                                                 2497\n",
       "TN_x_test                                                                    0\n",
       "FP_x_test                                                                32543\n",
       "FN_x_test                                                                    0\n",
       "TP_x_drifted_ano                                                          2497\n",
       "TN_x_drifted_ano                                                             0\n",
       "FP_x_drifted_ano                                                         32543\n",
       "FN_x_drifted_ano                                                             0\n",
       "Accuracy_x_test                                                        7.12614\n",
       "Precision_x_test                                                       7.12614\n",
       "Specifity_x_test                                                             0\n",
       "Sensitivity_x_test                                                         100\n",
       "Accuracy_x_drifted_ano                                                 7.12614\n",
       "Precision_x_drifted_ano                                                7.12614\n",
       "Specifity_x_drifted_ano                                                      0\n",
       "Sensitivity_x_drifted_ano                                                  100\n",
       "Name: 0, dtype: object"
      ]
     },
     "execution_count": 15,
     "metadata": {},
     "output_type": "execute_result"
    }
   ],
   "source": [
    "df_tVP2_m1.sort_values(by='Precision_x_drifted_ano', ascending=True).head(3).iloc[0]"
   ]
  },
  {
   "cell_type": "code",
   "execution_count": 16,
   "metadata": {},
   "outputs": [],
   "source": [
    "model_fn = df_tVP2_m1.sort_values(by='Precision_x_drifted_ano', ascending=True).head(3).iloc[0]['model_fn']"
   ]
  },
  {
   "cell_type": "code",
   "execution_count": 17,
   "metadata": {},
   "outputs": [
    {
     "name": "stdout",
     "output_type": "stream",
     "text": [
      "Load weights..\n"
     ]
    },
    {
     "data": {
      "text/plain": [
       "SimpleAutoEncoder(\n",
       "  (encoder): Sequential(\n",
       "    (0): Linear(in_features=17, out_features=12, bias=True)\n",
       "    (1): ReLU(inplace=True)\n",
       "    (2): Linear(in_features=12, out_features=8, bias=True)\n",
       "    (3): Tanh()\n",
       "  )\n",
       "  (decoder): Sequential(\n",
       "    (0): Linear(in_features=8, out_features=12, bias=True)\n",
       "    (1): ReLU(inplace=True)\n",
       "    (2): Linear(in_features=12, out_features=17, bias=True)\n",
       "    (3): Tanh()\n",
       "  )\n",
       ")"
      ]
     },
     "execution_count": 17,
     "metadata": {},
     "output_type": "execute_result"
    }
   ],
   "source": [
    "model = SimpleAutoEncoder(num_inputs=17, val_lambda=42)\n",
    "print('Load weights..')\n",
    "model.load_state_dict(torch.load(model_fn))\n",
    "model.eval()"
   ]
  },
  {
   "cell_type": "code",
   "execution_count": 18,
   "metadata": {},
   "outputs": [],
   "source": [
    "losses = []\n",
    "for val in anormal_torch_tensor:\n",
    "    loss = model.calc_reconstruction_error(val)\n",
    "    losses.append(loss.item())\n",
    "\n",
    "s_losses_anormal = pd.Series(losses)\n",
    "\n",
    "X = s_losses_anormal.to_numpy()\n",
    "X = X.reshape(-1, 1)"
   ]
  },
  {
   "cell_type": "code",
   "execution_count": 19,
   "metadata": {},
   "outputs": [
    {
     "data": {
      "text/plain": [
       "35040"
      ]
     },
     "execution_count": 19,
     "metadata": {},
     "output_type": "execute_result"
    }
   ],
   "source": [
    "len(X)"
   ]
  },
  {
   "cell_type": "code",
   "execution_count": 20,
   "metadata": {},
   "outputs": [],
   "source": [
    "y = [1 if x > 0 else 0 for x in s_labels]\n",
    "y_drifted = [1 if x > 0 else 0 for x in s_ano_labels_drifted_ano]"
   ]
  },
  {
   "cell_type": "code",
   "execution_count": 21,
   "metadata": {},
   "outputs": [
    {
     "data": {
      "text/plain": [
       "35040"
      ]
     },
     "execution_count": 21,
     "metadata": {},
     "output_type": "execute_result"
    }
   ],
   "source": [
    "len(y)"
   ]
  },
  {
   "cell_type": "code",
   "execution_count": 22,
   "metadata": {},
   "outputs": [],
   "source": [
    "from sklearn.linear_model import LogisticRegression"
   ]
  },
  {
   "cell_type": "code",
   "execution_count": 23,
   "metadata": {},
   "outputs": [
    {
     "data": {
      "text/plain": [
       "LogisticRegression(C=1.0, class_weight={1: 2.0}, dual=False, fit_intercept=True,\n",
       "                   intercept_scaling=1, l1_ratio=None, max_iter=100,\n",
       "                   multi_class='auto', n_jobs=None, penalty='l2',\n",
       "                   random_state=42, solver='liblinear', tol=0.0001, verbose=0,\n",
       "                   warm_start=False)"
      ]
     },
     "execution_count": 23,
     "metadata": {},
     "output_type": "execute_result"
    }
   ],
   "source": [
    "clf_meta = LogisticRegression(random_state=42, fit_intercept=True, solver='liblinear', class_weight={1:2.0})\n",
    "clf_meta.fit(X, y)"
   ]
  },
  {
   "cell_type": "code",
   "execution_count": 24,
   "metadata": {},
   "outputs": [],
   "source": [
    "losses_drifted_anormal = []\n",
    "for val in drifted_anormal_torch_tensor:\n",
    "    loss = model.calc_reconstruction_error(val)\n",
    "    losses_drifted_anormal.append(loss.item())\n",
    "\n",
    "s_losses_drifted_anormal = pd.Series(losses_drifted_anormal)\n",
    "\n",
    "X_drifted_ano = s_losses_drifted_anormal.to_numpy()\n",
    "X_drifted_ano = X_drifted_ano.reshape(-1, 1)"
   ]
  },
  {
   "cell_type": "code",
   "execution_count": 25,
   "metadata": {},
   "outputs": [],
   "source": [
    "preds_x_drifted_ano = []\n",
    "for val in X_drifted_ano:\n",
    "    val = val.reshape(1,-1)\n",
    "    pred = clf_meta.predict(val)\n",
    "    preds_x_drifted_ano.append(pred[0])"
   ]
  },
  {
   "cell_type": "code",
   "execution_count": 26,
   "metadata": {},
   "outputs": [],
   "source": [
    "from sklearn.metrics import confusion_matrix\n",
    "from sklearn.metrics import accuracy_score\n",
    "from sklearn.metrics import precision_score\n",
    "from mlxtend.plotting import plot_confusion_matrix\n",
    "import joblib"
   ]
  },
  {
   "cell_type": "code",
   "execution_count": 29,
   "metadata": {},
   "outputs": [
    {
     "name": "stdout",
     "output_type": "stream",
     "text": [
      "[[29196  3347]\n",
      " [  256  2241]]\n"
     ]
    }
   ],
   "source": [
    "cm = confusion_matrix(y_drifted, preds_x_drifted_ano)\n",
    "tn, fp, fn, tp  = cm.ravel()\n",
    "print(cm)"
   ]
  },
  {
   "cell_type": "code",
   "execution_count": 28,
   "metadata": {},
   "outputs": [
    {
     "name": "stdout",
     "output_type": "stream",
     "text": [
      "Accuracy: 89.71746575339907\n",
      "Precision: 40.10379384387956\n",
      "Specifity: 92.87145720008498\n",
      "Sensitivity: 89.7476972363246\n",
      "F1-Score: 55.43599257878115\n"
     ]
    }
   ],
   "source": [
    "accuracy, precision, specifity, sensitivity, f1_score = calc_cm_metrics(int(tp), int(tn), int(fp), int(fn))\n",
    "print('Accuracy: {}'.format(accuracy))\n",
    "print('Precision: {}'.format(precision))\n",
    "print('Specifity: {}'.format(specifity))\n",
    "print('Sensitivity: {}'.format(sensitivity))\n",
    "print('F1-Score: {}'.format(f1_score))"
   ]
  },
  {
   "cell_type": "code",
   "execution_count": null,
   "metadata": {},
   "outputs": [],
   "source": []
  },
  {
   "cell_type": "code",
   "execution_count": null,
   "metadata": {},
   "outputs": [],
   "source": []
  }
 ],
 "metadata": {
  "kernelspec": {
   "display_name": "ma_modells",
   "language": "python",
   "name": "ma_modells"
  },
  "language_info": {
   "codemirror_mode": {
    "name": "ipython",
    "version": 3
   },
   "file_extension": ".py",
   "mimetype": "text/x-python",
   "name": "python",
   "nbconvert_exporter": "python",
   "pygments_lexer": "ipython3",
   "version": "3.7.6"
  }
 },
 "nbformat": 4,
 "nbformat_minor": 4
}
