{
 "cells": [
  {
   "cell_type": "markdown",
   "metadata": {},
   "source": [
    "# Sample Kombinationen aus vollfaktoriellem Versuchsplan"
   ]
  },
  {
   "cell_type": "code",
   "execution_count": 1,
   "metadata": {},
   "outputs": [],
   "source": [
    "import arrow\n",
    "import os\n",
    "import itertools\n",
    "import numpy as np\n",
    "import pandas as pd\n",
    "import matplotlib.pyplot as plt"
   ]
  },
  {
   "cell_type": "code",
   "execution_count": 2,
   "metadata": {},
   "outputs": [],
   "source": [
    "from matplotlib import rc\n",
    "rc('text', usetex=True)"
   ]
  },
  {
   "cell_type": "markdown",
   "metadata": {},
   "source": [
    "## VP Phase I Modell 1"
   ]
  },
  {
   "cell_type": "code",
   "execution_count": 3,
   "metadata": {},
   "outputs": [],
   "source": [
    "k_train = [5, 10, 20]\n",
    "num_train = [32, 64, 128]\n",
    "num_eval = [16, 32]\n",
    "num_iter = [100, 300, 500]\n",
    "optimizer = ['Adam', 'SGD']\n",
    "meta_lr = [1e-3, 1e-2, 1e-1]\n",
    "adaption_steps = [5, 10, 15]"
   ]
  },
  {
   "cell_type": "code",
   "execution_count": 4,
   "metadata": {},
   "outputs": [],
   "source": [
    "vollfak_versuchsplan_phase_1_m1 = {\n",
    "    'k_train': [],\n",
    "    'num_train': [],\n",
    "    'num_eval': [],\n",
    "    'num_iter': [],\n",
    "    'optimizer': [],\n",
    "    'meta_lr': [],\n",
    "    'adaption_steps': []\n",
    "}\n",
    "\n",
    "for i in itertools.product(k_train, num_train, num_eval, num_iter, optimizer, meta_lr, adaption_steps):\n",
    "    vollfak_versuchsplan_phase_1_m1['k_train'].append(i[0])\n",
    "    vollfak_versuchsplan_phase_1_m1['num_train'].append(i[1])\n",
    "    vollfak_versuchsplan_phase_1_m1['num_eval'].append(i[2])\n",
    "    vollfak_versuchsplan_phase_1_m1['num_iter'].append(i[3])\n",
    "    vollfak_versuchsplan_phase_1_m1['optimizer'].append(i[4])\n",
    "    vollfak_versuchsplan_phase_1_m1['meta_lr'].append(i[5])\n",
    "    vollfak_versuchsplan_phase_1_m1['adaption_steps'].append(i[6])\n"
   ]
  },
  {
   "cell_type": "code",
   "execution_count": 5,
   "metadata": {},
   "outputs": [],
   "source": [
    "df_versuchsplan_phase1_m1 = pd.DataFrame(vollfak_versuchsplan_phase_1_m1)"
   ]
  },
  {
   "cell_type": "code",
   "execution_count": 6,
   "metadata": {},
   "outputs": [
    {
     "data": {
      "text/plain": [
       "972"
      ]
     },
     "execution_count": 6,
     "metadata": {},
     "output_type": "execute_result"
    }
   ],
   "source": [
    "len(df_versuchsplan_phase1_m1)"
   ]
  },
  {
   "cell_type": "code",
   "execution_count": 7,
   "metadata": {},
   "outputs": [
    {
     "data": {
      "text/html": [
       "<div>\n",
       "<style scoped>\n",
       "    .dataframe tbody tr th:only-of-type {\n",
       "        vertical-align: middle;\n",
       "    }\n",
       "\n",
       "    .dataframe tbody tr th {\n",
       "        vertical-align: top;\n",
       "    }\n",
       "\n",
       "    .dataframe thead th {\n",
       "        text-align: right;\n",
       "    }\n",
       "</style>\n",
       "<table border=\"1\" class=\"dataframe\">\n",
       "  <thead>\n",
       "    <tr style=\"text-align: right;\">\n",
       "      <th></th>\n",
       "      <th>k_train</th>\n",
       "      <th>num_train</th>\n",
       "      <th>num_eval</th>\n",
       "      <th>num_iter</th>\n",
       "      <th>optimizer</th>\n",
       "      <th>meta_lr</th>\n",
       "      <th>adaption_steps</th>\n",
       "    </tr>\n",
       "  </thead>\n",
       "  <tbody>\n",
       "    <tr>\n",
       "      <th>0</th>\n",
       "      <td>5</td>\n",
       "      <td>32</td>\n",
       "      <td>16</td>\n",
       "      <td>100</td>\n",
       "      <td>Adam</td>\n",
       "      <td>0.001</td>\n",
       "      <td>5</td>\n",
       "    </tr>\n",
       "    <tr>\n",
       "      <th>1</th>\n",
       "      <td>5</td>\n",
       "      <td>32</td>\n",
       "      <td>16</td>\n",
       "      <td>100</td>\n",
       "      <td>Adam</td>\n",
       "      <td>0.001</td>\n",
       "      <td>10</td>\n",
       "    </tr>\n",
       "    <tr>\n",
       "      <th>2</th>\n",
       "      <td>5</td>\n",
       "      <td>32</td>\n",
       "      <td>16</td>\n",
       "      <td>100</td>\n",
       "      <td>Adam</td>\n",
       "      <td>0.001</td>\n",
       "      <td>15</td>\n",
       "    </tr>\n",
       "    <tr>\n",
       "      <th>3</th>\n",
       "      <td>5</td>\n",
       "      <td>32</td>\n",
       "      <td>16</td>\n",
       "      <td>100</td>\n",
       "      <td>Adam</td>\n",
       "      <td>0.010</td>\n",
       "      <td>5</td>\n",
       "    </tr>\n",
       "    <tr>\n",
       "      <th>4</th>\n",
       "      <td>5</td>\n",
       "      <td>32</td>\n",
       "      <td>16</td>\n",
       "      <td>100</td>\n",
       "      <td>Adam</td>\n",
       "      <td>0.010</td>\n",
       "      <td>10</td>\n",
       "    </tr>\n",
       "  </tbody>\n",
       "</table>\n",
       "</div>"
      ],
      "text/plain": [
       "   k_train  num_train  num_eval  num_iter optimizer  meta_lr  adaption_steps\n",
       "0        5         32        16       100      Adam    0.001               5\n",
       "1        5         32        16       100      Adam    0.001              10\n",
       "2        5         32        16       100      Adam    0.001              15\n",
       "3        5         32        16       100      Adam    0.010               5\n",
       "4        5         32        16       100      Adam    0.010              10"
      ]
     },
     "execution_count": 7,
     "metadata": {},
     "output_type": "execute_result"
    }
   ],
   "source": [
    "df_versuchsplan_phase1_m1.head()"
   ]
  },
  {
   "cell_type": "code",
   "execution_count": 68,
   "metadata": {},
   "outputs": [
    {
     "name": "stdout",
     "output_type": "stream",
     "text": [
      "/home/torge/dev/masterthesis_code/02_Experimente/03_Experimente/exp_data/20200407_vollfaktorieller_versuchsplan.csv\n"
     ]
    }
   ],
   "source": [
    "fn = '{}_vollfaktorieller_versuchsplan_phase_1_m1.csv'.format(arrow.now().format('YYYYMMDD'))\n",
    "full_fn = os.path.join(os.getcwd(), 'exp_data', fn)\n",
    "print(full_fn)\n",
    "df_versuchsplan_phase1_m1.to_csv(full_fn, sep=';')"
   ]
  },
  {
   "cell_type": "code",
   "execution_count": 46,
   "metadata": {},
   "outputs": [],
   "source": [
    "sample_prct = 10\n",
    "num_to_sample = int(len(df_versuchsplan_phase1_m1) / 100 * sample_prct)"
   ]
  },
  {
   "cell_type": "code",
   "execution_count": 61,
   "metadata": {},
   "outputs": [],
   "source": [
    "sampled_versuchsplan_p1_m1 = df_versuchsplan_phase1_m1.sample(num_to_sample)"
   ]
  },
  {
   "cell_type": "code",
   "execution_count": 67,
   "metadata": {},
   "outputs": [
    {
     "name": "stdout",
     "output_type": "stream",
     "text": [
      "/home/torge/dev/masterthesis_code/02_Experimente/03_Experimente/exp_data/20200407_teilfaktorieller_versuchsplan_gesampelt.csv\n"
     ]
    }
   ],
   "source": [
    "fn = '{}_teilfaktorieller_versuchsplan_gesampelt.csv'.format(arrow.now().format('YYYYMMDD'))\n",
    "full_fn = os.path.join(os.getcwd(), 'exp_data', fn)\n",
    "print(full_fn)\n",
    "sampled_versuchsplan.to_csv(full_fn, sep=';', index=False)"
   ]
  },
  {
   "cell_type": "code",
   "execution_count": 185,
   "metadata": {},
   "outputs": [
    {
     "data": {
      "image/png": "[encoded data removed]",
      "text/plain": [
       "<Figure size 1440x720 with 9 Axes>"
      ]
     },
     "metadata": {
      "needs_background": "light"
     },
     "output_type": "display_data"
    }
   ],
   "source": [
    "fig, ax= plt.subplots(3,3, figsize=(20,10))\n",
    "\n",
    "sampled_versuchsplan['num_train'].value_counts().sort_index().plot.bar(ax=ax[0][0])\n",
    "ax[0][0].set_title('Anzahl an Samples zum Training',fontsize=26)\n",
    "ax[0][0].tick_params(axis='both', which='major', labelsize=22)\n",
    "\n",
    "sampled_versuchsplan['k_train'].value_counts().sort_index().plot.bar(ax=ax[0][1])\n",
    "ax[0][1].set_title('k zur Adaption',fontsize=26)\n",
    "ax[0][1].tick_params(axis='both', which='major', labelsize=22)\n",
    "\n",
    "sampled_versuchsplan['num_eval'].value_counts().sort_index().plot.bar(ax=ax[0][2])\n",
    "ax[0][2].set_title('Anzahl Samples zur Evaluation',fontsize=26)\n",
    "ax[0][2].tick_params(axis='both', which='major', labelsize=22)\n",
    "\n",
    "sampled_versuchsplan['num_iter'].value_counts().sort_index().plot.bar(ax=ax[1][0])\n",
    "ax[1][0].set_title('Anzahl Iterationen',fontsize=26)\n",
    "ax[1][0].tick_params(axis='both', which='major', labelsize=22)\n",
    "\n",
    "sampled_versuchsplan['optimizer'].value_counts().sort_index().plot.bar(ax=ax[1][1])\n",
    "ax[1][1].set_title('Lernalgorithmus',fontsize=26)\n",
    "ax[1][1].tick_params(axis='both', which='major', labelsize=22)\n",
    "\n",
    "sampled_versuchsplan['meta_lr'].value_counts().sort_index().plot.bar(ax=ax[1][2])\n",
    "ax[1][2].set_title('Meta-Lernrate',fontsize=26)\n",
    "ax[1][2].tick_params(axis='both', which='major', labelsize=22)\n",
    "\n",
    "sampled_versuchsplan['adaption_steps'].value_counts().sort_index().plot.bar(ax=ax[2][0])\n",
    "ax[2][0].set_title('Schritte zur Adaption',fontsize=26)\n",
    "ax[2][0].tick_params(axis='both', which='major', labelsize=22)\n",
    "\n",
    "ax[2][1].axis('off')\n",
    "ax[2][2].axis('off')\n",
    "\n",
    "fig.suptitle('Histogramme der Faktoren des Versuchsplans  $\\displaystyle tVP^{I}_{M_1}$', fontsize=30)\n",
    "fig.tight_layout(rect=[0, 0.03, 1, 0.95])\n",
    "\n",
    "save = True\n",
    "if save:\n",
    "    fn = os.path.join(os.getcwd(), 'figs', '{}_histogramm_sampled_versuchsplan.pdf'.format(arrow.now().format('YYYYMMDD')))\n",
    "    fig.savefig(fn, bbox_inches='tight', pad_inches=0)"
   ]
  },
  {
   "cell_type": "markdown",
   "metadata": {},
   "source": [
    "## VP Phase II Modell 1"
   ]
  },
  {
   "cell_type": "code",
   "execution_count": 3,
   "metadata": {},
   "outputs": [],
   "source": [
    "k_train = [5, 10, 20]\n",
    "optimizer = ['Adam', 'SGD']\n",
    "num_iter = [1, 64, 128]\n",
    "lr = [0.001, 0.01, 0.1]\n",
    "filter_cde = [(1,), (2,), (3,), (1, 2), (1, 3), (2, 3), (1, 2, 3)]\n",
    "model_n = [1,2,3,4,5,6]"
   ]
  },
  {
   "cell_type": "code",
   "execution_count": 4,
   "metadata": {},
   "outputs": [],
   "source": [
    "vollfak_versuchsplan_phase2_m1 = {\n",
    "    'k_train': [],\n",
    "    'optimizer': [],\n",
    "    'num_iter': [],\n",
    "    'lr': [],\n",
    "    'filter_cde': [],\n",
    "    'model': []\n",
    "}\n",
    "\n",
    "for i in itertools.product(k_train, optimizer, num_iter, lr, filter_cde, model_n):\n",
    "    vollfak_versuchsplan_phase2_m1['k_train'].append(i[0])\n",
    "    vollfak_versuchsplan_phase2_m1['optimizer'].append(i[1])\n",
    "    vollfak_versuchsplan_phase2_m1['num_iter'].append(i[2])\n",
    "    vollfak_versuchsplan_phase2_m1['lr'].append(i[3])\n",
    "    vollfak_versuchsplan_phase2_m1['filter_cde'].append(i[4])\n",
    "    vollfak_versuchsplan_phase2_m1['model'].append(i[5])\n"
   ]
  },
  {
   "cell_type": "code",
   "execution_count": 5,
   "metadata": {},
   "outputs": [],
   "source": [
    "df_versuchsplan_phase_2_m1 = pd.DataFrame(vollfak_versuchsplan_phase2_m1)"
   ]
  },
  {
   "cell_type": "code",
   "execution_count": 6,
   "metadata": {},
   "outputs": [
    {
     "name": "stdout",
     "output_type": "stream",
     "text": [
      "/home/torge/dev/masterthesis_code/02_Experimente/03_Experimente/exp_data/20200410_vollfaktorieller_versuchsplan_phase_2_m1.csv\n"
     ]
    }
   ],
   "source": [
    "fn = '{}_vollfaktorieller_versuchsplan_phase_2_m1.csv'.format(arrow.now().format('YYYYMMDD'))\n",
    "full_fn = os.path.join(os.getcwd(), 'exp_data', fn)\n",
    "print(full_fn)\n",
    "df_versuchsplan_phase_2_m1.to_csv(full_fn, sep=';')"
   ]
  },
  {
   "cell_type": "code",
   "execution_count": 7,
   "metadata": {},
   "outputs": [],
   "source": [
    "sample_prct = 10\n",
    "num_to_sample = int(len(df_versuchsplan_phase_2_m1) / 100 * sample_prct)"
   ]
  },
  {
   "cell_type": "code",
   "execution_count": 8,
   "metadata": {},
   "outputs": [],
   "source": [
    "sampled_phase2_m1 = df_versuchsplan_phase_2_m1.sample(num_to_sample)"
   ]
  },
  {
   "cell_type": "code",
   "execution_count": 9,
   "metadata": {},
   "outputs": [
    {
     "data": {
      "text/html": [
       "<div>\n",
       "<style scoped>\n",
       "    .dataframe tbody tr th:only-of-type {\n",
       "        vertical-align: middle;\n",
       "    }\n",
       "\n",
       "    .dataframe tbody tr th {\n",
       "        vertical-align: top;\n",
       "    }\n",
       "\n",
       "    .dataframe thead th {\n",
       "        text-align: right;\n",
       "    }\n",
       "</style>\n",
       "<table border=\"1\" class=\"dataframe\">\n",
       "  <thead>\n",
       "    <tr style=\"text-align: right;\">\n",
       "      <th></th>\n",
       "      <th>k_train</th>\n",
       "      <th>optimizer</th>\n",
       "      <th>num_iter</th>\n",
       "      <th>lr</th>\n",
       "      <th>filter_cde</th>\n",
       "      <th>model</th>\n",
       "    </tr>\n",
       "  </thead>\n",
       "  <tbody>\n",
       "    <tr>\n",
       "      <th>1793</th>\n",
       "      <td>20</td>\n",
       "      <td>Adam</td>\n",
       "      <td>128</td>\n",
       "      <td>0.001</td>\n",
       "      <td>(1, 3)</td>\n",
       "      <td>6</td>\n",
       "    </tr>\n",
       "    <tr>\n",
       "      <th>238</th>\n",
       "      <td>5</td>\n",
       "      <td>Adam</td>\n",
       "      <td>64</td>\n",
       "      <td>0.100</td>\n",
       "      <td>(1, 3)</td>\n",
       "      <td>5</td>\n",
       "    </tr>\n",
       "    <tr>\n",
       "      <th>1616</th>\n",
       "      <td>20</td>\n",
       "      <td>Adam</td>\n",
       "      <td>1</td>\n",
       "      <td>0.100</td>\n",
       "      <td>(1, 2)</td>\n",
       "      <td>3</td>\n",
       "    </tr>\n",
       "    <tr>\n",
       "      <th>1598</th>\n",
       "      <td>20</td>\n",
       "      <td>Adam</td>\n",
       "      <td>1</td>\n",
       "      <td>0.100</td>\n",
       "      <td>(1,)</td>\n",
       "      <td>3</td>\n",
       "    </tr>\n",
       "    <tr>\n",
       "      <th>950</th>\n",
       "      <td>10</td>\n",
       "      <td>Adam</td>\n",
       "      <td>64</td>\n",
       "      <td>0.010</td>\n",
       "      <td>(1, 3)</td>\n",
       "      <td>3</td>\n",
       "    </tr>\n",
       "  </tbody>\n",
       "</table>\n",
       "</div>"
      ],
      "text/plain": [
       "      k_train optimizer  num_iter     lr filter_cde  model\n",
       "1793       20      Adam       128  0.001     (1, 3)      6\n",
       "238         5      Adam        64  0.100     (1, 3)      5\n",
       "1616       20      Adam         1  0.100     (1, 2)      3\n",
       "1598       20      Adam         1  0.100       (1,)      3\n",
       "950        10      Adam        64  0.010     (1, 3)      3"
      ]
     },
     "execution_count": 9,
     "metadata": {},
     "output_type": "execute_result"
    }
   ],
   "source": [
    "sampled_phase2_m1.head()"
   ]
  },
  {
   "cell_type": "code",
   "execution_count": 28,
   "metadata": {},
   "outputs": [
    {
     "data": {
      "text/plain": [
       "'\\\\begin{longtable}{rlrrlr}\\n\\\\toprule\\n k\\\\_train & optimizer &  num\\\\_iter &     lr & filter\\\\_cde &  model \\\\\\\\\\n\\\\midrule\\n\\\\endhead\\n\\\\midrule\\n\\\\multicolumn{6}{r}{{Continued on next page}} \\\\\\\\\\n\\\\midrule\\n\\\\endfoot\\n\\n\\\\bottomrule\\n\\\\endlastfoot\\n      20 &      Adam &       128 &  0.001 &     (1, 3) &      6 \\\\\\\\\\n       5 &      Adam &        64 &  0.100 &     (1, 3) &      5 \\\\\\\\\\n      20 &      Adam &         1 &  0.100 &     (1, 2) &      3 \\\\\\\\\\n      20 &      Adam &         1 &  0.100 &       (1,) &      3 \\\\\\\\\\n      10 &      Adam &        64 &  0.010 &     (1, 3) &      3 \\\\\\\\\\n      10 &       SGD &       128 &  0.100 &     (2, 3) &      2 \\\\\\\\\\n      20 &      Adam &         1 &  0.100 &  (1, 2, 3) &      5 \\\\\\\\\\n       5 &       SGD &       128 &  0.010 &       (1,) &      3 \\\\\\\\\\n      10 &      Adam &       128 &  0.100 &       (3,) &      6 \\\\\\\\\\n       5 &      Adam &        64 &  0.100 &     (2, 3) &      6 \\\\\\\\\\n       5 &      Adam &        64 &  0.010 &     (2, 3) &      5 \\\\\\\\\\n      10 &       SGD &         1 &  0.001 &  (1, 2, 3) &      4 \\\\\\\\\\n      10 &       SGD &         1 &  0.100 &       (3,) &      2 \\\\\\\\\\n      20 &       SGD &         1 &  0.001 &     (1, 2) &      1 \\\\\\\\\\n      20 &      Adam &       128 &  0.001 &     (1, 3) &      4 \\\\\\\\\\n       5 &       SGD &         1 &  0.100 &     (2, 3) &      1 \\\\\\\\\\n      10 &       SGD &       128 &  0.100 &       (2,) &      4 \\\\\\\\\\n       5 &       SGD &       128 &  0.100 &  (1, 2, 3) &      5 \\\\\\\\\\n      20 &       SGD &        64 &  0.001 &       (1,) &      4 \\\\\\\\\\n      10 &      Adam &         1 &  0.100 &       (1,) &      4 \\\\\\\\\\n       5 &       SGD &         1 &  0.100 &       (3,) &      2 \\\\\\\\\\n      10 &       SGD &        64 &  0.010 &  (1, 2, 3) &      6 \\\\\\\\\\n      20 &       SGD &         1 &  0.001 &       (1,) &      2 \\\\\\\\\\n      20 &      Adam &        64 &  0.001 &       (1,) &      3 \\\\\\\\\\n      10 &       SGD &       128 &  0.001 &     (1, 2) &      4 \\\\\\\\\\n       5 &      Adam &         1 &  0.100 &       (3,) &      4 \\\\\\\\\\n      10 &       SGD &         1 &  0.100 &     (1, 3) &      3 \\\\\\\\\\n      10 &       SGD &         1 &  0.010 &     (2, 3) &      4 \\\\\\\\\\n      20 &       SGD &        64 &  0.100 &     (1, 3) &      5 \\\\\\\\\\n      10 &      Adam &        64 &  0.010 &     (2, 3) &      4 \\\\\\\\\\n      20 &      Adam &        64 &  0.001 &       (3,) &      5 \\\\\\\\\\n      10 &       SGD &        64 &  0.010 &       (1,) &      3 \\\\\\\\\\n      10 &      Adam &         1 &  0.001 &       (1,) &      3 \\\\\\\\\\n      10 &      Adam &        64 &  0.001 &       (1,) &      3 \\\\\\\\\\n      10 &       SGD &       128 &  0.001 &     (2, 3) &      3 \\\\\\\\\\n      20 &      Adam &         1 &  0.010 &     (2, 3) &      6 \\\\\\\\\\n       5 &      Adam &        64 &  0.010 &     (1, 2) &      4 \\\\\\\\\\n      10 &       SGD &       128 &  0.100 &     (1, 2) &      1 \\\\\\\\\\n       5 &       SGD &       128 &  0.010 &     (2, 3) &      1 \\\\\\\\\\n      20 &      Adam &       128 &  0.001 &     (2, 3) &      4 \\\\\\\\\\n      20 &       SGD &       128 &  0.010 &     (2, 3) &      6 \\\\\\\\\\n       5 &      Adam &         1 &  0.010 &     (1, 2) &      2 \\\\\\\\\\n       5 &      Adam &       128 &  0.010 &       (2,) &      2 \\\\\\\\\\n      10 &      Adam &       128 &  0.010 &  (1, 2, 3) &      6 \\\\\\\\\\n       5 &       SGD &       128 &  0.010 &       (2,) &      1 \\\\\\\\\\n      20 &       SGD &        64 &  0.010 &       (2,) &      3 \\\\\\\\\\n       5 &       SGD &         1 &  0.001 &     (1, 2) &      6 \\\\\\\\\\n      10 &       SGD &         1 &  0.010 &       (1,) &      4 \\\\\\\\\\n       5 &      Adam &       128 &  0.010 &     (1, 2) &      1 \\\\\\\\\\n       5 &      Adam &       128 &  0.100 &     (1, 3) &      1 \\\\\\\\\\n      10 &       SGD &        64 &  0.001 &       (2,) &      1 \\\\\\\\\\n      10 &      Adam &       128 &  0.001 &     (1, 2) &      4 \\\\\\\\\\n      10 &       SGD &       128 &  0.010 &  (1, 2, 3) &      1 \\\\\\\\\\n       5 &      Adam &         1 &  0.100 &       (2,) &      1 \\\\\\\\\\n      10 &       SGD &        64 &  0.010 &  (1, 2, 3) &      1 \\\\\\\\\\n      10 &      Adam &        64 &  0.001 &       (2,) &      5 \\\\\\\\\\n       5 &       SGD &         1 &  0.001 &       (3,) &      4 \\\\\\\\\\n      20 &      Adam &       128 &  0.001 &     (2, 3) &      6 \\\\\\\\\\n      20 &      Adam &       128 &  0.001 &  (1, 2, 3) &      6 \\\\\\\\\\n       5 &       SGD &       128 &  0.001 &     (2, 3) &      5 \\\\\\\\\\n      20 &      Adam &       128 &  0.100 &       (2,) &      6 \\\\\\\\\\n      20 &       SGD &       128 &  0.001 &     (1, 3) &      1 \\\\\\\\\\n      20 &       SGD &        64 &  0.010 &  (1, 2, 3) &      1 \\\\\\\\\\n       5 &       SGD &        64 &  0.001 &  (1, 2, 3) &      2 \\\\\\\\\\n       5 &       SGD &        64 &  0.001 &     (1, 3) &      5 \\\\\\\\\\n       5 &      Adam &         1 &  0.010 &       (1,) &      3 \\\\\\\\\\n      20 &      Adam &        64 &  0.100 &  (1, 2, 3) &      6 \\\\\\\\\\n      10 &       SGD &       128 &  0.100 &       (1,) &      5 \\\\\\\\\\n      20 &      Adam &       128 &  0.100 &     (2, 3) &      1 \\\\\\\\\\n      10 &       SGD &         1 &  0.010 &       (2,) &      3 \\\\\\\\\\n      10 &      Adam &        64 &  0.001 &     (1, 2) &      1 \\\\\\\\\\n      20 &       SGD &        64 &  0.001 &     (2, 3) &      2 \\\\\\\\\\n      10 &      Adam &       128 &  0.010 &       (3,) &      2 \\\\\\\\\\n       5 &      Adam &        64 &  0.100 &     (1, 2) &      2 \\\\\\\\\\n      20 &      Adam &        64 &  0.001 &       (2,) &      3 \\\\\\\\\\n      10 &      Adam &       128 &  0.001 &       (3,) &      3 \\\\\\\\\\n      20 &      Adam &        64 &  0.100 &     (2, 3) &      4 \\\\\\\\\\n      20 &      Adam &         1 &  0.010 &  (1, 2, 3) &      3 \\\\\\\\\\n      10 &      Adam &        64 &  0.001 &  (1, 2, 3) &      6 \\\\\\\\\\n       5 &      Adam &       128 &  0.100 &     (2, 3) &      1 \\\\\\\\\\n       5 &       SGD &         1 &  0.001 &  (1, 2, 3) &      4 \\\\\\\\\\n       5 &      Adam &        64 &  0.001 &       (2,) &      4 \\\\\\\\\\n      20 &       SGD &         1 &  0.001 &     (2, 3) &      6 \\\\\\\\\\n       5 &      Adam &       128 &  0.001 &  (1, 2, 3) &      5 \\\\\\\\\\n      10 &      Adam &        64 &  0.100 &  (1, 2, 3) &      3 \\\\\\\\\\n       5 &       SGD &         1 &  0.010 &       (2,) &      6 \\\\\\\\\\n      10 &       SGD &         1 &  0.001 &     (1, 2) &      6 \\\\\\\\\\n      20 &      Adam &         1 &  0.100 &  (1, 2, 3) &      1 \\\\\\\\\\n      20 &      Adam &        64 &  0.010 &       (2,) &      4 \\\\\\\\\\n      20 &      Adam &         1 &  0.001 &     (2, 3) &      5 \\\\\\\\\\n       5 &      Adam &       128 &  0.001 &       (1,) &      3 \\\\\\\\\\n       5 &       SGD &        64 &  0.100 &  (1, 2, 3) &      5 \\\\\\\\\\n       5 &       SGD &        64 &  0.100 &     (1, 3) &      5 \\\\\\\\\\n      10 &       SGD &         1 &  0.010 &       (3,) &      1 \\\\\\\\\\n      20 &      Adam &       128 &  0.001 &       (2,) &      2 \\\\\\\\\\n      10 &       SGD &       128 &  0.100 &     (2, 3) &      6 \\\\\\\\\\n       5 &       SGD &       128 &  0.001 &  (1, 2, 3) &      2 \\\\\\\\\\n      20 &       SGD &         1 &  0.100 &     (2, 3) &      2 \\\\\\\\\\n      20 &       SGD &         1 &  0.010 &       (1,) &      6 \\\\\\\\\\n      10 &      Adam &        64 &  0.100 &       (1,) &      1 \\\\\\\\\\n      10 &      Adam &         1 &  0.001 &       (3,) &      5 \\\\\\\\\\n      20 &      Adam &         1 &  0.001 &     (1, 2) &      1 \\\\\\\\\\n       5 &      Adam &         1 &  0.001 &       (2,) &      1 \\\\\\\\\\n      10 &       SGD &       128 &  0.001 &       (2,) &      1 \\\\\\\\\\n      20 &       SGD &         1 &  0.001 &  (1, 2, 3) &      1 \\\\\\\\\\n       5 &      Adam &        64 &  0.001 &       (1,) &      5 \\\\\\\\\\n       5 &       SGD &         1 &  0.100 &       (1,) &      6 \\\\\\\\\\n       5 &       SGD &        64 &  0.001 &     (2, 3) &      3 \\\\\\\\\\n      10 &       SGD &        64 &  0.010 &     (1, 2) &      1 \\\\\\\\\\n      20 &      Adam &       128 &  0.100 &     (1, 3) &      2 \\\\\\\\\\n       5 &      Adam &         1 &  0.001 &       (1,) &      6 \\\\\\\\\\n      20 &      Adam &        64 &  0.010 &     (1, 3) &      3 \\\\\\\\\\n       5 &       SGD &        64 &  0.100 &       (2,) &      4 \\\\\\\\\\n      10 &      Adam &        64 &  0.010 &     (1, 2) &      2 \\\\\\\\\\n       5 &       SGD &        64 &  0.010 &     (1, 2) &      2 \\\\\\\\\\n      20 &       SGD &       128 &  0.001 &       (2,) &      2 \\\\\\\\\\n      20 &       SGD &       128 &  0.010 &       (3,) &      5 \\\\\\\\\\n      20 &      Adam &       128 &  0.100 &     (2, 3) &      5 \\\\\\\\\\n      20 &      Adam &       128 &  0.001 &       (3,) &      5 \\\\\\\\\\n       5 &      Adam &       128 &  0.001 &     (1, 3) &      6 \\\\\\\\\\n      10 &       SGD &        64 &  0.010 &     (2, 3) &      5 \\\\\\\\\\n      10 &       SGD &       128 &  0.010 &     (2, 3) &      2 \\\\\\\\\\n       5 &      Adam &         1 &  0.010 &       (2,) &      2 \\\\\\\\\\n      10 &      Adam &        64 &  0.001 &     (2, 3) &      4 \\\\\\\\\\n       5 &       SGD &       128 &  0.001 &     (1, 2) &      4 \\\\\\\\\\n      20 &      Adam &        64 &  0.001 &     (1, 2) &      3 \\\\\\\\\\n      10 &       SGD &         1 &  0.100 &       (1,) &      3 \\\\\\\\\\n      20 &       SGD &         1 &  0.010 &       (1,) &      1 \\\\\\\\\\n       5 &       SGD &        64 &  0.100 &       (1,) &      1 \\\\\\\\\\n      10 &      Adam &       128 &  0.001 &  (1, 2, 3) &      3 \\\\\\\\\\n       5 &       SGD &         1 &  0.001 &     (1, 3) &      1 \\\\\\\\\\n      10 &      Adam &         1 &  0.010 &       (2,) &      2 \\\\\\\\\\n      20 &      Adam &        64 &  0.100 &     (1, 3) &      1 \\\\\\\\\\n      20 &       SGD &        64 &  0.001 &       (3,) &      6 \\\\\\\\\\n      10 &       SGD &         1 &  0.001 &       (2,) &      4 \\\\\\\\\\n      20 &       SGD &         1 &  0.010 &  (1, 2, 3) &      4 \\\\\\\\\\n      20 &      Adam &         1 &  0.100 &       (2,) &      2 \\\\\\\\\\n       5 &      Adam &         1 &  0.010 &     (1, 3) &      1 \\\\\\\\\\n      10 &      Adam &         1 &  0.001 &       (2,) &      4 \\\\\\\\\\n      10 &      Adam &       128 &  0.010 &     (1, 2) &      3 \\\\\\\\\\n       5 &      Adam &       128 &  0.001 &  (1, 2, 3) &      1 \\\\\\\\\\n      10 &       SGD &        64 &  0.100 &     (1, 2) &      1 \\\\\\\\\\n      20 &      Adam &       128 &  0.010 &     (2, 3) &      6 \\\\\\\\\\n      20 &       SGD &       128 &  0.100 &       (1,) &      2 \\\\\\\\\\n      10 &      Adam &         1 &  0.100 &     (2, 3) &      3 \\\\\\\\\\n       5 &       SGD &       128 &  0.001 &     (1, 3) &      2 \\\\\\\\\\n      10 &      Adam &        64 &  0.010 &       (1,) &      2 \\\\\\\\\\n      10 &      Adam &       128 &  0.100 &  (1, 2, 3) &      1 \\\\\\\\\\n       5 &      Adam &         1 &  0.010 &  (1, 2, 3) &      2 \\\\\\\\\\n      10 &       SGD &         1 &  0.001 &       (1,) &      6 \\\\\\\\\\n      10 &       SGD &        64 &  0.100 &       (1,) &      3 \\\\\\\\\\n       5 &      Adam &       128 &  0.001 &       (3,) &      1 \\\\\\\\\\n       5 &       SGD &         1 &  0.100 &     (2, 3) &      6 \\\\\\\\\\n       5 &       SGD &         1 &  0.010 &     (2, 3) &      5 \\\\\\\\\\n       5 &      Adam &        64 &  0.001 &       (1,) &      1 \\\\\\\\\\n      10 &      Adam &        64 &  0.100 &     (2, 3) &      6 \\\\\\\\\\n      10 &      Adam &       128 &  0.100 &     (1, 2) &      3 \\\\\\\\\\n       5 &      Adam &        64 &  0.100 &     (1, 2) &      6 \\\\\\\\\\n       5 &      Adam &       128 &  0.010 &       (3,) &      5 \\\\\\\\\\n       5 &      Adam &       128 &  0.001 &       (3,) &      5 \\\\\\\\\\n      20 &       SGD &        64 &  0.001 &       (2,) &      4 \\\\\\\\\\n      10 &      Adam &         1 &  0.001 &     (1, 3) &      5 \\\\\\\\\\n       5 &       SGD &        64 &  0.100 &     (1, 3) &      3 \\\\\\\\\\n      10 &       SGD &       128 &  0.001 &  (1, 2, 3) &      5 \\\\\\\\\\n      10 &       SGD &       128 &  0.100 &       (3,) &      1 \\\\\\\\\\n      20 &       SGD &         1 &  0.001 &       (3,) &      3 \\\\\\\\\\n      20 &      Adam &        64 &  0.001 &       (3,) &      2 \\\\\\\\\\n       5 &      Adam &       128 &  0.001 &  (1, 2, 3) &      2 \\\\\\\\\\n      10 &      Adam &        64 &  0.001 &     (2, 3) &      3 \\\\\\\\\\n      10 &      Adam &         1 &  0.001 &       (2,) &      1 \\\\\\\\\\n       5 &      Adam &         1 &  0.001 &  (1, 2, 3) &      6 \\\\\\\\\\n      10 &      Adam &       128 &  0.001 &       (1,) &      2 \\\\\\\\\\n       5 &       SGD &        64 &  0.100 &     (1, 2) &      4 \\\\\\\\\\n      20 &       SGD &       128 &  0.010 &     (1, 2) &      3 \\\\\\\\\\n       5 &      Adam &       128 &  0.010 &       (1,) &      5 \\\\\\\\\\n      10 &       SGD &         1 &  0.010 &       (3,) &      6 \\\\\\\\\\n      20 &       SGD &         1 &  0.001 &     (2, 3) &      4 \\\\\\\\\\n       5 &      Adam &       128 &  0.010 &       (1,) &      2 \\\\\\\\\\n      10 &       SGD &       128 &  0.010 &       (2,) &      5 \\\\\\\\\\n      10 &       SGD &       128 &  0.100 &     (2, 3) &      3 \\\\\\\\\\n       5 &      Adam &       128 &  0.010 &     (1, 3) &      6 \\\\\\\\\\n      10 &      Adam &        64 &  0.100 &       (3,) &      4 \\\\\\\\\\n      20 &      Adam &        64 &  0.010 &       (1,) &      4 \\\\\\\\\\n      10 &       SGD &       128 &  0.001 &     (1, 3) &      3 \\\\\\\\\\n      20 &       SGD &       128 &  0.100 &       (2,) &      4 \\\\\\\\\\n      10 &      Adam &        64 &  0.010 &  (1, 2, 3) &      6 \\\\\\\\\\n      20 &       SGD &       128 &  0.100 &     (1, 3) &      6 \\\\\\\\\\n      10 &      Adam &         1 &  0.100 &       (3,) &      3 \\\\\\\\\\n      20 &       SGD &         1 &  0.100 &     (1, 2) &      5 \\\\\\\\\\n      10 &      Adam &        64 &  0.001 &     (2, 3) &      2 \\\\\\\\\\n      10 &      Adam &       128 &  0.100 &  (1, 2, 3) &      6 \\\\\\\\\\n       5 &       SGD &         1 &  0.010 &       (2,) &      5 \\\\\\\\\\n       5 &      Adam &         1 &  0.100 &       (2,) &      6 \\\\\\\\\\n       5 &      Adam &       128 &  0.001 &     (1, 2) &      3 \\\\\\\\\\n      20 &       SGD &       128 &  0.100 &  (1, 2, 3) &      1 \\\\\\\\\\n      10 &       SGD &       128 &  0.001 &  (1, 2, 3) &      3 \\\\\\\\\\n      10 &       SGD &        64 &  0.010 &       (1,) &      6 \\\\\\\\\\n      20 &       SGD &         1 &  0.100 &       (1,) &      2 \\\\\\\\\\n       5 &       SGD &       128 &  0.100 &     (1, 2) &      5 \\\\\\\\\\n      10 &       SGD &       128 &  0.100 &       (3,) &      4 \\\\\\\\\\n       5 &      Adam &         1 &  0.001 &       (3,) &      5 \\\\\\\\\\n      10 &      Adam &         1 &  0.010 &  (1, 2, 3) &      4 \\\\\\\\\\n       5 &       SGD &       128 &  0.010 &       (3,) &      3 \\\\\\\\\\n      20 &      Adam &        64 &  0.010 &     (2, 3) &      2 \\\\\\\\\\n      10 &       SGD &        64 &  0.100 &     (2, 3) &      5 \\\\\\\\\\n      10 &      Adam &        64 &  0.100 &  (1, 2, 3) &      6 \\\\\\\\\\n      20 &       SGD &       128 &  0.010 &       (1,) &      1 \\\\\\\\\\n      20 &       SGD &         1 &  0.100 &     (1, 3) &      4 \\\\\\\\\\n      20 &      Adam &         1 &  0.100 &       (3,) &      2 \\\\\\\\\\n       5 &      Adam &        64 &  0.001 &       (3,) &      3 \\\\\\\\\\n      20 &       SGD &       128 &  0.100 &  (1, 2, 3) &      4 \\\\\\\\\\n       5 &      Adam &         1 &  0.001 &  (1, 2, 3) &      4 \\\\\\\\\\n      20 &       SGD &       128 &  0.010 &       (2,) &      6 \\\\\\\\\\n      20 &      Adam &         1 &  0.010 &       (3,) &      6 \\\\\\\\\\n       5 &       SGD &       128 &  0.001 &     (2, 3) &      6 \\\\\\\\\\n       5 &      Adam &        64 &  0.001 &     (1, 3) &      6 \\\\\\\\\\n      10 &       SGD &        64 &  0.100 &     (1, 3) &      1 \\\\\\\\\\n       5 &       SGD &        64 &  0.001 &     (1, 3) &      1 \\\\\\\\\\n       5 &      Adam &       128 &  0.010 &     (2, 3) &      3 \\\\\\\\\\n       5 &       SGD &         1 &  0.010 &       (1,) &      6 \\\\\\\\\\n      10 &       SGD &         1 &  0.001 &       (3,) &      1 \\\\\\\\\\n      10 &      Adam &         1 &  0.100 &     (1, 2) &      1 \\\\\\\\\\n      10 &      Adam &       128 &  0.010 &  (1, 2, 3) &      5 \\\\\\\\\\n       5 &       SGD &        64 &  0.010 &     (1, 3) &      4 \\\\\\\\\\n      20 &      Adam &       128 &  0.010 &     (1, 2) &      2 \\\\\\\\\\n      10 &      Adam &        64 &  0.010 &       (1,) &      6 \\\\\\\\\\n\\\\end{longtable}\\n'"
      ]
     },
     "execution_count": 28,
     "metadata": {},
     "output_type": "execute_result"
    }
   ],
   "source": [
    "sampled_phase2_m1.to_latex(longtable=True, index=False)"
   ]
  },
  {
   "cell_type": "code",
   "execution_count": 10,
   "metadata": {},
   "outputs": [
    {
     "name": "stdout",
     "output_type": "stream",
     "text": [
      "/home/torge/dev/masterthesis_code/02_Experimente/03_Experimente/exp_data/20200410_teilfaktorieller_versuchsplan_phase2_m1.csv\n"
     ]
    }
   ],
   "source": [
    "fn = '{}_teilfaktorieller_versuchsplan_phase2_m1.csv'.format(arrow.now().format('YYYYMMDD'))\n",
    "full_fn = os.path.join(os.getcwd(), 'exp_data', fn)\n",
    "print(full_fn)\n",
    "sampled_phase2_m1.to_csv(full_fn, sep=';', index=False)"
   ]
  },
  {
   "cell_type": "code",
   "execution_count": 13,
   "metadata": {},
   "outputs": [
    {
     "data": {
      "image/png": "[encoded data removed]",
      "text/plain": [
       "<Figure size 1440x720 with 6 Axes>"
      ]
     },
     "metadata": {
      "needs_background": "light"
     },
     "output_type": "display_data"
    }
   ],
   "source": [
    "fig, ax= plt.subplots(2,3, figsize=(20,10))\n",
    "\n",
    "sampled_phase2_m1['k_train'].value_counts().sort_index().plot.bar(ax=ax[0][0])\n",
    "ax[0][0].set_title('k zur Adaption',fontsize=26)\n",
    "ax[0][0].tick_params(axis='both', which='major', labelsize=22)\n",
    "\n",
    "sampled_phase2_m1['num_iter'].value_counts().sort_index().plot.bar(ax=ax[0][1])\n",
    "ax[0][1].set_title('Anzahl Iterationen zur Adaption',fontsize=26)\n",
    "ax[0][1].tick_params(axis='both', which='major', labelsize=22)\n",
    "\n",
    "sampled_phase2_m1['model'].value_counts().sort_index().plot.bar(ax=ax[0][2])\n",
    "ax[0][2].set_title('Votrainiertes Modell',fontsize=26)\n",
    "ax[0][2].tick_params(axis='both', which='major', labelsize=22)\n",
    "\n",
    "sampled_phase2_m1['optimizer'].value_counts().sort_index().plot.bar(ax=ax[1][0])\n",
    "ax[1][0].set_title('Lernalgorithmus',fontsize=26)\n",
    "ax[1][0].tick_params(axis='both', which='major', labelsize=22)\n",
    "\n",
    "sampled_phase2_m1['lr'].value_counts().sort_index().plot.bar(ax=ax[1][1])\n",
    "ax[1][1].set_title('Lernrate',fontsize=26)\n",
    "ax[1][1].tick_params(axis='both', which='major', labelsize=22)\n",
    "\n",
    "sampled_phase2_m1['filter_cde'].value_counts().sort_index().plot.bar(ax=ax[1][2])\n",
    "ax[1][2].set_title('Filter Concept Drift Events',fontsize=26)\n",
    "ax[1][2].tick_params(axis='both', which='major', labelsize=22)\n",
    "\n",
    "fig.suptitle('Histogramme der Faktoren des Versuchsplans  $\\displaystyle tVP^{II}_{M_1}$', fontsize=30)\n",
    "fig.tight_layout(rect=[0, 0.03, 1, 0.95])\n",
    "\n",
    "save = True\n",
    "if save:\n",
    "    fn = os.path.join(os.getcwd(), 'figs', '{}_histogramm_sampled_versuchsplan_phase2_m1.pdf'.format(arrow.now().format('YYYYMMDD')))\n",
    "    fig.savefig(fn, bbox_inches='tight', pad_inches=0)"
   ]
  },
  {
   "cell_type": "markdown",
   "metadata": {},
   "source": [
    "## VP Phase II Modell 2"
   ]
  },
  {
   "cell_type": "code",
   "execution_count": 17,
   "metadata": {},
   "outputs": [],
   "source": [
    "k_train = [5, 10, 20]\n",
    "optimizer = ['Adam', 'SGD']\n",
    "num_iter = [1, 64, 128]\n",
    "lr = [0.001, 0.01, 0.1]\n",
    "filter_cde = [(1,), (2,), (3,), (1, 2), (1, 3), (2, 3), (1, 2, 3)]"
   ]
  },
  {
   "cell_type": "code",
   "execution_count": 14,
   "metadata": {},
   "outputs": [],
   "source": [
    "vollfak_versuchsplan_phase2_m2 = {\n",
    "    'k_train': [],\n",
    "    'optimizer': [],\n",
    "    'num_iter': [],\n",
    "    'lr': [],\n",
    "    'filter_cde': [],\n",
    "}\n",
    "\n",
    "for i in itertools.product(k_train, optimizer, num_iter, lr, filter_cde):\n",
    "    vollfak_versuchsplan_phase2_m2['k_train'].append(i[0])\n",
    "    vollfak_versuchsplan_phase2_m2['optimizer'].append(i[1])\n",
    "    vollfak_versuchsplan_phase2_m2['num_iter'].append(i[2])\n",
    "    vollfak_versuchsplan_phase2_m2['lr'].append(i[3])\n",
    "    vollfak_versuchsplan_phase2_m2['filter_cde'].append(i[4])\n"
   ]
  },
  {
   "cell_type": "code",
   "execution_count": 15,
   "metadata": {},
   "outputs": [],
   "source": [
    "df_versuchsplan_phase_2_m2 = pd.DataFrame(vollfak_versuchsplan_phase2_m2)"
   ]
  },
  {
   "cell_type": "code",
   "execution_count": 16,
   "metadata": {},
   "outputs": [
    {
     "name": "stdout",
     "output_type": "stream",
     "text": [
      "/home/torge/dev/masterthesis_code/02_Experimente/03_Experimente/exp_data/20200410_vollfaktorieller_versuchsplan_phase_2_m2.csv\n"
     ]
    }
   ],
   "source": [
    "fn = '{}_vollfaktorieller_versuchsplan_phase_2_m2.csv'.format(arrow.now().format('YYYYMMDD'))\n",
    "full_fn = os.path.join(os.getcwd(), 'exp_data', fn)\n",
    "print(full_fn)\n",
    "df_versuchsplan_phase_2_m2.to_csv(full_fn, sep=';')"
   ]
  },
  {
   "cell_type": "code",
   "execution_count": 17,
   "metadata": {},
   "outputs": [],
   "source": [
    "sample_prct = 10\n",
    "num_to_sample = int(len(df_versuchsplan_phase_2_m2) / 100 * sample_prct)"
   ]
  },
  {
   "cell_type": "code",
   "execution_count": 18,
   "metadata": {},
   "outputs": [],
   "source": [
    "sampled_phase2_m2 = df_versuchsplan_phase_2_m2.sample(num_to_sample)"
   ]
  },
  {
   "cell_type": "code",
   "execution_count": 23,
   "metadata": {},
   "outputs": [
    {
     "data": {
      "text/html": [
       "<div>\n",
       "<style scoped>\n",
       "    .dataframe tbody tr th:only-of-type {\n",
       "        vertical-align: middle;\n",
       "    }\n",
       "\n",
       "    .dataframe tbody tr th {\n",
       "        vertical-align: top;\n",
       "    }\n",
       "\n",
       "    .dataframe thead th {\n",
       "        text-align: right;\n",
       "    }\n",
       "</style>\n",
       "<table border=\"1\" class=\"dataframe\">\n",
       "  <thead>\n",
       "    <tr style=\"text-align: right;\">\n",
       "      <th></th>\n",
       "      <th>k_train</th>\n",
       "      <th>optimizer</th>\n",
       "      <th>num_iter</th>\n",
       "      <th>lr</th>\n",
       "      <th>filter_cde</th>\n",
       "    </tr>\n",
       "  </thead>\n",
       "  <tbody>\n",
       "    <tr>\n",
       "      <th>49</th>\n",
       "      <td>5</td>\n",
       "      <td>Adam</td>\n",
       "      <td>128</td>\n",
       "      <td>0.01</td>\n",
       "      <td>(1,)</td>\n",
       "    </tr>\n",
       "    <tr>\n",
       "      <th>265</th>\n",
       "      <td>20</td>\n",
       "      <td>Adam</td>\n",
       "      <td>1</td>\n",
       "      <td>0.01</td>\n",
       "      <td>(1, 2, 3)</td>\n",
       "    </tr>\n",
       "    <tr>\n",
       "      <th>369</th>\n",
       "      <td>20</td>\n",
       "      <td>SGD</td>\n",
       "      <td>128</td>\n",
       "      <td>0.01</td>\n",
       "      <td>(2, 3)</td>\n",
       "    </tr>\n",
       "    <tr>\n",
       "      <th>81</th>\n",
       "      <td>5</td>\n",
       "      <td>SGD</td>\n",
       "      <td>1</td>\n",
       "      <td>0.10</td>\n",
       "      <td>(1, 3)</td>\n",
       "    </tr>\n",
       "    <tr>\n",
       "      <th>133</th>\n",
       "      <td>10</td>\n",
       "      <td>Adam</td>\n",
       "      <td>1</td>\n",
       "      <td>0.01</td>\n",
       "      <td>(1,)</td>\n",
       "    </tr>\n",
       "  </tbody>\n",
       "</table>\n",
       "</div>"
      ],
      "text/plain": [
       "     k_train optimizer  num_iter    lr filter_cde\n",
       "49         5      Adam       128  0.01       (1,)\n",
       "265       20      Adam         1  0.01  (1, 2, 3)\n",
       "369       20       SGD       128  0.01     (2, 3)\n",
       "81         5       SGD         1  0.10     (1, 3)\n",
       "133       10      Adam         1  0.01       (1,)"
      ]
     },
     "execution_count": 23,
     "metadata": {},
     "output_type": "execute_result"
    }
   ],
   "source": [
    "sampled_phase2_m2.head()"
   ]
  },
  {
   "cell_type": "code",
   "execution_count": 20,
   "metadata": {},
   "outputs": [
    {
     "name": "stdout",
     "output_type": "stream",
     "text": [
      "/home/torge/dev/masterthesis_code/02_Experimente/03_Experimente/exp_data/20200410_teilfaktorieller_versuchsplan_phase2_m2.csv\n"
     ]
    }
   ],
   "source": [
    "fn = '{}_teilfaktorieller_versuchsplan_phase2_m2.csv'.format(arrow.now().format('YYYYMMDD'))\n",
    "full_fn = os.path.join(os.getcwd(), 'exp_data', fn)\n",
    "print(full_fn)\n",
    "sampled_phase2_m2.to_csv(full_fn, sep=';', index=False)"
   ]
  },
  {
   "cell_type": "code",
   "execution_count": 22,
   "metadata": {},
   "outputs": [
    {
     "data": {
      "image/png": "[encoded data removed]",
      "text/plain": [
       "<Figure size 1440x720 with 6 Axes>"
      ]
     },
     "metadata": {
      "needs_background": "light"
     },
     "output_type": "display_data"
    }
   ],
   "source": [
    "fig, ax= plt.subplots(2,3, figsize=(20,10))\n",
    "\n",
    "sampled_phase2_m2['k_train'].value_counts().sort_index().plot.bar(ax=ax[0][0])\n",
    "ax[0][0].set_title('k zur Adaption',fontsize=26)\n",
    "ax[0][0].tick_params(axis='both', which='major', labelsize=22)\n",
    "\n",
    "sampled_phase2_m2['num_iter'].value_counts().sort_index().plot.bar(ax=ax[0][1])\n",
    "ax[0][1].set_title('Anzahl Iterationen zur Adaption',fontsize=26)\n",
    "ax[0][1].tick_params(axis='both', which='major', labelsize=22)\n",
    "\n",
    "sampled_phase2_m2['optimizer'].value_counts().sort_index().plot.bar(ax=ax[0][2])\n",
    "ax[0][2].set_title('Lernalgorithmus',fontsize=26)\n",
    "ax[0][2].tick_params(axis='both', which='major', labelsize=22)\n",
    "\n",
    "sampled_phase2_m2['lr'].value_counts().sort_index().plot.bar(ax=ax[1][0])\n",
    "ax[1][0].set_title('Lernrate',fontsize=26)\n",
    "ax[1][0].tick_params(axis='both', which='major', labelsize=22)\n",
    "\n",
    "sampled_phase2_m2['filter_cde'].value_counts().sort_index().plot.bar(ax=ax[1][1])\n",
    "ax[1][1].set_title('Filter Concept Drift Events',fontsize=26)\n",
    "ax[1][1].tick_params(axis='both', which='major', labelsize=22)\n",
    "\n",
    "ax[1][2].axis('off')\n",
    "\n",
    "\n",
    "fig.suptitle('Histogramme der Faktoren des Versuchsplans  $\\displaystyle tVP^{II}_{M_2}$', fontsize=30)\n",
    "fig.tight_layout(rect=[0, 0.03, 1, 0.95])\n",
    "\n",
    "\n",
    "save = True\n",
    "if save:\n",
    "    fn = os.path.join(os.getcwd(), 'figs', '{}_histogramm_sampled_versuchsplan_phase2_m2.pdf'.format(arrow.now().format('YYYYMMDD')))\n",
    "    fig.savefig(fn, bbox_inches='tight', pad_inches=0)"
   ]
  },
  {
   "cell_type": "markdown",
   "metadata": {},
   "source": [
    "# Spielwiese"
   ]
  },
  {
   "cell_type": "code",
   "execution_count": 114,
   "metadata": {},
   "outputs": [],
   "source": [
    "import numpy as np\n",
    "import matplotlib.pyplot as plt\n",
    "\n",
    "#makes a Latin Hyper Cube sample\n",
    "#returns a matrix X of size n by p\n",
    "#of a LHS of n values on each of p variables\n",
    "#for each column of X, the n values are randomly\n",
    "#distributed with one from each interval\n",
    "#(0,1/n), (1/n,2/n), ..., (1-1/n,1)\n",
    "#and they are randomly permuted\n",
    "\n",
    "def lhssample(n=10,p=4):\n",
    "    x = np.random.uniform(size=[n,p])\n",
    "    for i in range(0,p):\n",
    "        x[:,i] = (np.argsort(x[:,i])+0.5)/n\n",
    "    return x\n",
    "\n",
    "x = lhssample(10,4)"
   ]
  },
  {
   "cell_type": "code",
   "execution_count": 121,
   "metadata": {},
   "outputs": [],
   "source": [
    "import lhsmdu\n",
    "import numpy as np"
   ]
  },
  {
   "cell_type": "code",
   "execution_count": 125,
   "metadata": {},
   "outputs": [
    {
     "data": {
      "image/png": "[encoded data removed]",
      "text/plain": [
       "<Figure size 432x288 with 1 Axes>"
      ]
     },
     "metadata": {
      "needs_background": "light"
     },
     "output_type": "display_data"
    }
   ],
   "source": [
    "k = lhsmdu.sample(2, 20) # Latin Hypercube Sampling with multi-dimensional uniformity\n",
    "k = np.array(k)\n",
    "import matplotlib.pyplot as plt\n",
    "fig = plt.figure()\n",
    "ax = fig.gca()\n",
    "ax.set_xticks(np.arange(0,1,0.1))\n",
    "ax.set_yticks(np.arange(0,1,0.1))\n",
    "plt.scatter(k[0], k[1], color=\"g\", label=\"LHS-MDU\")\n",
    "plt.grid()\n",
    "plt.show()"
   ]
  },
  {
   "cell_type": "code",
   "execution_count": 128,
   "metadata": {},
   "outputs": [],
   "source": [
    "k = lhsmdu.sample(3, 10) # Latin Hypercube Sampling with multi-dimensional uniformity"
   ]
  },
  {
   "cell_type": "code",
   "execution_count": 134,
   "metadata": {},
   "outputs": [
    {
     "data": {
      "image/png": "[encoded data removed]",
      "text/plain": [
       "<Figure size 432x288 with 1 Axes>"
      ]
     },
     "metadata": {
      "needs_background": "light"
     },
     "output_type": "display_data"
    }
   ],
   "source": [
    "k = np.array(k)\n",
    "import matplotlib.pyplot as plt\n",
    "from mpl_toolkits.mplot3d import Axes3D \n",
    "fig = plt.figure()\n",
    "ax = fig.add_subplot(111, projection='3d')\n",
    "ax.set_xticks(np.arange(0,1,0.1))\n",
    "ax.set_yticks(np.arange(0,1,0.1))\n",
    "ax.set_zticks(np.arange(0,1,0.1))\n",
    "plt.scatter(k[0], k[1], k[2], color=\"g\", label=\"LHS-MDU\")\n",
    "plt.grid()\n",
    "plt.show()"
   ]
  },
  {
   "cell_type": "code",
   "execution_count": 135,
   "metadata": {},
   "outputs": [],
   "source": [
    "k2 = lhsmdu.sample(8, 10) # Latin Hypercube Sampling with multi-dimensional uniformity"
   ]
  },
  {
   "cell_type": "code",
   "execution_count": 136,
   "metadata": {},
   "outputs": [
    {
     "data": {
      "text/plain": [
       "matrix([[0.31031239, 0.89025529, 0.25052524, 0.58264575, 0.03200496,\n",
       "         0.48955232, 0.93892017, 0.10108377, 0.6905382 , 0.70912867],\n",
       "        [0.43193136, 0.6950062 , 0.39506071, 0.85734379, 0.76318372,\n",
       "         0.94484455, 0.22932108, 0.53286645, 0.16725185, 0.07523745],\n",
       "        [0.0791579 , 0.97896181, 0.40912061, 0.14944203, 0.60575588,\n",
       "         0.35495289, 0.54415305, 0.28877042, 0.7350915 , 0.8117067 ],\n",
       "        [0.81429917, 0.17615106, 0.46182181, 0.71011227, 0.90841068,\n",
       "         0.37009691, 0.5072763 , 0.68218601, 0.07062422, 0.20813488],\n",
       "        [0.40848377, 0.39866396, 0.13742708, 0.73706421, 0.68127996,\n",
       "         0.29472486, 0.09860011, 0.97533782, 0.83762596, 0.50835007],\n",
       "        [0.87771469, 0.65584042, 0.2424222 , 0.09063544, 0.91111975,\n",
       "         0.44926251, 0.70113536, 0.54686606, 0.10563033, 0.31188179],\n",
       "        [0.71175262, 0.06492103, 0.67460449, 0.85833688, 0.39621725,\n",
       "         0.13748706, 0.52857121, 0.98685991, 0.22235958, 0.49632225],\n",
       "        [0.30121545, 0.29698788, 0.00431599, 0.18911431, 0.75277011,\n",
       "         0.59929648, 0.60737966, 0.95538543, 0.49693025, 0.85230978]])"
      ]
     },
     "execution_count": 136,
     "metadata": {},
     "output_type": "execute_result"
    }
   ],
   "source": [
    "k2"
   ]
  },
  {
   "cell_type": "code",
   "execution_count": null,
   "metadata": {},
   "outputs": [],
   "source": []
  }
 ],
 "metadata": {
  "kernelspec": {
   "display_name": "ma_modells",
   "language": "python",
   "name": "ma_modells"
  },
  "language_info": {
   "codemirror_mode": {
    "name": "ipython",
    "version": 3
   },
   "file_extension": ".py",
   "mimetype": "text/x-python",
   "name": "python",
   "nbconvert_exporter": "python",
   "pygments_lexer": "ipython3",
   "version": "3.7.6"
  }
 },
 "nbformat": 4,
 "nbformat_minor": 4
}
