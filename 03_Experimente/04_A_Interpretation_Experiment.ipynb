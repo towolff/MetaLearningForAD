{
 "cells": [
  {
   "cell_type": "markdown",
   "metadata": {},
   "source": [
    "# Interpretation der Ergebnisse der Durchläufe der verschiedenen Versuchspläne"
   ]
  },
  {
   "cell_type": "code",
   "execution_count": 1,
   "metadata": {},
   "outputs": [],
   "source": [
    "import arrow\n",
    "import numpy as np\n",
    "import os\n",
    "import glob\n",
    "import pandas as pd\n",
    "import matplotlib.pyplot as plt\n",
    "import seaborn as sns\n",
    "import torch"
   ]
  },
  {
   "cell_type": "code",
   "execution_count": 2,
   "metadata": {},
   "outputs": [],
   "source": [
    "from matplotlib import rc\n",
    "rc('text', usetex=True)"
   ]
  },
  {
   "cell_type": "code",
   "execution_count": 3,
   "metadata": {},
   "outputs": [
    {
     "name": "stdout",
     "output_type": "stream",
     "text": [
      "Set configs..\n"
     ]
    }
   ],
   "source": [
    "%run -i ./scripts/setConfigs.py"
   ]
  },
  {
   "cell_type": "markdown",
   "metadata": {},
   "source": [
    "## Read Versuchsplan results"
   ]
  },
  {
   "cell_type": "code",
   "execution_count": 4,
   "metadata": {},
   "outputs": [],
   "source": [
    "df_tVP2_m1 = None\n",
    "df_tVP2_m2 = None\n",
    "df_tVP1_m1 = None"
   ]
  },
  {
   "cell_type": "code",
   "execution_count": 5,
   "metadata": {},
   "outputs": [],
   "source": [
    "os.chdir(os.path.join(exp_data_path, 'experiment', 'fine_tuning'))\n",
    "extension = 'csv'\n",
    "result = glob.glob('*.{}'.format(extension))"
   ]
  },
  {
   "cell_type": "code",
   "execution_count": 6,
   "metadata": {},
   "outputs": [],
   "source": [
    "files_tVP2_m1 = []\n",
    "files_tVP2_m2 = []\n",
    "\n",
    "for res in result:\n",
    "    if 'tVPII' in res:\n",
    "        files_tVP2_m2.append(res)\n",
    "    else:\n",
    "        files_tVP2_m1.append(res)"
   ]
  },
  {
   "cell_type": "code",
   "execution_count": 7,
   "metadata": {},
   "outputs": [],
   "source": [
    "df_tVP2_m1 = pd.read_csv(files_tVP2_m1[0], sep=';')\n",
    "df_tVP2_m2 = pd.read_csv(files_tVP2_m2[0], sep=';')"
   ]
  },
  {
   "cell_type": "code",
   "execution_count": 8,
   "metadata": {},
   "outputs": [],
   "source": [
    "for file in files_tVP2_m1[1:]:\n",
    "    df = pd.read_csv(file, sep=';')\n",
    "    df_tVP2_m1 = df_tVP2_m1.append(df)"
   ]
  },
  {
   "cell_type": "code",
   "execution_count": 9,
   "metadata": {},
   "outputs": [],
   "source": [
    "for file in files_tVP2_m2[1:]:\n",
    "    df = pd.read_csv(file, sep=';')\n",
    "    df_tVP2_m2 = df_tVP2_m2.append(df)"
   ]
  },
  {
   "cell_type": "code",
   "execution_count": 10,
   "metadata": {},
   "outputs": [],
   "source": [
    "os.chdir('..')"
   ]
  },
  {
   "cell_type": "code",
   "execution_count": 11,
   "metadata": {},
   "outputs": [],
   "source": [
    "extension = 'csv'\n",
    "files_tVP1_m1 = glob.glob('*.{}'.format(extension))"
   ]
  },
  {
   "cell_type": "code",
   "execution_count": 12,
   "metadata": {},
   "outputs": [],
   "source": [
    "df_tVP1_m1 = pd.read_csv(files_tVP1_m1[0])"
   ]
  },
  {
   "cell_type": "code",
   "execution_count": 13,
   "metadata": {},
   "outputs": [],
   "source": [
    "for file in files_tVP1_m1[1:]:\n",
    "    df = pd.read_csv(file)\n",
    "    df_tVP1_m1 = df_tVP1_m1.append(df)"
   ]
  },
  {
   "cell_type": "code",
   "execution_count": 14,
   "metadata": {},
   "outputs": [
    {
     "data": {
      "text/plain": [
       "226"
      ]
     },
     "execution_count": 14,
     "metadata": {},
     "output_type": "execute_result"
    }
   ],
   "source": [
    "len(df_tVP2_m1)"
   ]
  },
  {
   "cell_type": "code",
   "execution_count": 15,
   "metadata": {},
   "outputs": [
    {
     "data": {
      "text/html": [
       "<div>\n",
       "<style scoped>\n",
       "    .dataframe tbody tr th:only-of-type {\n",
       "        vertical-align: middle;\n",
       "    }\n",
       "\n",
       "    .dataframe tbody tr th {\n",
       "        vertical-align: top;\n",
       "    }\n",
       "\n",
       "    .dataframe thead th {\n",
       "        text-align: right;\n",
       "    }\n",
       "</style>\n",
       "<table border=\"1\" class=\"dataframe\">\n",
       "  <thead>\n",
       "    <tr style=\"text-align: right;\">\n",
       "      <th></th>\n",
       "      <th>optimizer</th>\n",
       "      <th>fine_tune_classes</th>\n",
       "      <th>name_pretrained_model</th>\n",
       "      <th>k</th>\n",
       "      <th>fine_tune_iterations</th>\n",
       "      <th>lr</th>\n",
       "      <th>model_fn</th>\n",
       "      <th>pretrained_model_fn</th>\n",
       "      <th>logreg_fn</th>\n",
       "      <th>TP_x_test</th>\n",
       "      <th>TN_x_test</th>\n",
       "      <th>FP_x_test</th>\n",
       "      <th>FN_x_test</th>\n",
       "      <th>TP_x_drifted_ano</th>\n",
       "      <th>TN_x_drifted_ano</th>\n",
       "      <th>FP_x_drifted_ano</th>\n",
       "      <th>FN_x_drifted_ano</th>\n",
       "      <th>Accuracy_x_test</th>\n",
       "      <th>Precision_x_test</th>\n",
       "      <th>Specifity_x_test</th>\n",
       "      <th>Sensitivity_x_test</th>\n",
       "      <th>Accuracy_x_drifted_ano</th>\n",
       "      <th>Precision_x_drifted_ano</th>\n",
       "      <th>Specifity_x_drifted_ano</th>\n",
       "      <th>Sensitivity_x_drifted_ano</th>\n",
       "    </tr>\n",
       "  </thead>\n",
       "  <tbody>\n",
       "    <tr>\n",
       "      <th>0</th>\n",
       "      <td>Adam</td>\n",
       "      <td>[2]</td>\n",
       "      <td>3</td>\n",
       "      <td>20</td>\n",
       "      <td>64</td>\n",
       "      <td>0.001</td>\n",
       "      <td>/home/torge/dev/masterthesis_code/02_Experimen...</td>\n",
       "      <td>/home/torge/dev/masterthesis_code/02_Experimen...</td>\n",
       "      <td>/home/torge/dev/masterthesis_code/02_Experimen...</td>\n",
       "      <td>2413</td>\n",
       "      <td>31468</td>\n",
       "      <td>1075</td>\n",
       "      <td>84</td>\n",
       "      <td>2412</td>\n",
       "      <td>28402</td>\n",
       "      <td>4141</td>\n",
       "      <td>85</td>\n",
       "      <td>96.692352</td>\n",
       "      <td>69.180046</td>\n",
       "      <td>92.878014</td>\n",
       "      <td>96.635963</td>\n",
       "      <td>87.939498</td>\n",
       "      <td>36.807569</td>\n",
       "      <td>92.172389</td>\n",
       "      <td>96.595915</td>\n",
       "    </tr>\n",
       "    <tr>\n",
       "      <th>0</th>\n",
       "      <td>SGD</td>\n",
       "      <td>[1, 2, 3]</td>\n",
       "      <td>6</td>\n",
       "      <td>10</td>\n",
       "      <td>64</td>\n",
       "      <td>0.010</td>\n",
       "      <td>/home/torge/dev/masterthesis_code/02_Experimen...</td>\n",
       "      <td>/home/torge/dev/masterthesis_code/02_Experimen...</td>\n",
       "      <td>/home/torge/dev/masterthesis_code/02_Experimen...</td>\n",
       "      <td>2487</td>\n",
       "      <td>15098</td>\n",
       "      <td>17445</td>\n",
       "      <td>10</td>\n",
       "      <td>2487</td>\n",
       "      <td>13630</td>\n",
       "      <td>18913</td>\n",
       "      <td>10</td>\n",
       "      <td>50.185502</td>\n",
       "      <td>12.477423</td>\n",
       "      <td>85.857265</td>\n",
       "      <td>99.599519</td>\n",
       "      <td>45.996005</td>\n",
       "      <td>11.621495</td>\n",
       "      <td>84.569089</td>\n",
       "      <td>99.599519</td>\n",
       "    </tr>\n",
       "    <tr>\n",
       "      <th>0</th>\n",
       "      <td>SGD</td>\n",
       "      <td>[2, 3]</td>\n",
       "      <td>5</td>\n",
       "      <td>5</td>\n",
       "      <td>1</td>\n",
       "      <td>0.010</td>\n",
       "      <td>/home/torge/dev/masterthesis_code/02_Experimen...</td>\n",
       "      <td>/home/torge/dev/masterthesis_code/02_Experimen...</td>\n",
       "      <td>/home/torge/dev/masterthesis_code/02_Experimen...</td>\n",
       "      <td>2456</td>\n",
       "      <td>28811</td>\n",
       "      <td>3732</td>\n",
       "      <td>41</td>\n",
       "      <td>2466</td>\n",
       "      <td>25853</td>\n",
       "      <td>6690</td>\n",
       "      <td>31</td>\n",
       "      <td>89.232306</td>\n",
       "      <td>39.689722</td>\n",
       "      <td>92.145073</td>\n",
       "      <td>98.358030</td>\n",
       "      <td>80.819064</td>\n",
       "      <td>26.933159</td>\n",
       "      <td>91.292065</td>\n",
       "      <td>98.758510</td>\n",
       "    </tr>\n",
       "    <tr>\n",
       "      <th>0</th>\n",
       "      <td>Adam</td>\n",
       "      <td>[1]</td>\n",
       "      <td>3</td>\n",
       "      <td>10</td>\n",
       "      <td>1</td>\n",
       "      <td>0.001</td>\n",
       "      <td>/home/torge/dev/masterthesis_code/02_Experimen...</td>\n",
       "      <td>/home/torge/dev/masterthesis_code/02_Experimen...</td>\n",
       "      <td>/home/torge/dev/masterthesis_code/02_Experimen...</td>\n",
       "      <td>2440</td>\n",
       "      <td>30601</td>\n",
       "      <td>1942</td>\n",
       "      <td>57</td>\n",
       "      <td>2441</td>\n",
       "      <td>27641</td>\n",
       "      <td>4902</td>\n",
       "      <td>56</td>\n",
       "      <td>94.295091</td>\n",
       "      <td>55.682337</td>\n",
       "      <td>92.615236</td>\n",
       "      <td>97.717261</td>\n",
       "      <td>85.850457</td>\n",
       "      <td>33.242544</td>\n",
       "      <td>91.885513</td>\n",
       "      <td>97.757309</td>\n",
       "    </tr>\n",
       "    <tr>\n",
       "      <th>0</th>\n",
       "      <td>Adam</td>\n",
       "      <td>[1, 3]</td>\n",
       "      <td>6</td>\n",
       "      <td>5</td>\n",
       "      <td>128</td>\n",
       "      <td>0.001</td>\n",
       "      <td>/home/torge/dev/masterthesis_code/02_Experimen...</td>\n",
       "      <td>/home/torge/dev/masterthesis_code/02_Experimen...</td>\n",
       "      <td>/home/torge/dev/masterthesis_code/02_Experimen...</td>\n",
       "      <td>2484</td>\n",
       "      <td>13784</td>\n",
       "      <td>18759</td>\n",
       "      <td>13</td>\n",
       "      <td>2485</td>\n",
       "      <td>12328</td>\n",
       "      <td>20215</td>\n",
       "      <td>12</td>\n",
       "      <td>46.426941</td>\n",
       "      <td>11.693264</td>\n",
       "      <td>84.730760</td>\n",
       "      <td>99.479375</td>\n",
       "      <td>42.274543</td>\n",
       "      <td>10.947137</td>\n",
       "      <td>83.224195</td>\n",
       "      <td>99.519423</td>\n",
       "    </tr>\n",
       "  </tbody>\n",
       "</table>\n",
       "</div>"
      ],
      "text/plain": [
       "  optimizer fine_tune_classes  name_pretrained_model   k  \\\n",
       "0      Adam               [2]                      3  20   \n",
       "0       SGD         [1, 2, 3]                      6  10   \n",
       "0       SGD            [2, 3]                      5   5   \n",
       "0      Adam               [1]                      3  10   \n",
       "0      Adam            [1, 3]                      6   5   \n",
       "\n",
       "   fine_tune_iterations     lr  \\\n",
       "0                    64  0.001   \n",
       "0                    64  0.010   \n",
       "0                     1  0.010   \n",
       "0                     1  0.001   \n",
       "0                   128  0.001   \n",
       "\n",
       "                                            model_fn  \\\n",
       "0  /home/torge/dev/masterthesis_code/02_Experimen...   \n",
       "0  /home/torge/dev/masterthesis_code/02_Experimen...   \n",
       "0  /home/torge/dev/masterthesis_code/02_Experimen...   \n",
       "0  /home/torge/dev/masterthesis_code/02_Experimen...   \n",
       "0  /home/torge/dev/masterthesis_code/02_Experimen...   \n",
       "\n",
       "                                 pretrained_model_fn  \\\n",
       "0  /home/torge/dev/masterthesis_code/02_Experimen...   \n",
       "0  /home/torge/dev/masterthesis_code/02_Experimen...   \n",
       "0  /home/torge/dev/masterthesis_code/02_Experimen...   \n",
       "0  /home/torge/dev/masterthesis_code/02_Experimen...   \n",
       "0  /home/torge/dev/masterthesis_code/02_Experimen...   \n",
       "\n",
       "                                           logreg_fn  TP_x_test  TN_x_test  \\\n",
       "0  /home/torge/dev/masterthesis_code/02_Experimen...       2413      31468   \n",
       "0  /home/torge/dev/masterthesis_code/02_Experimen...       2487      15098   \n",
       "0  /home/torge/dev/masterthesis_code/02_Experimen...       2456      28811   \n",
       "0  /home/torge/dev/masterthesis_code/02_Experimen...       2440      30601   \n",
       "0  /home/torge/dev/masterthesis_code/02_Experimen...       2484      13784   \n",
       "\n",
       "   FP_x_test  FN_x_test  TP_x_drifted_ano  TN_x_drifted_ano  FP_x_drifted_ano  \\\n",
       "0       1075         84              2412             28402              4141   \n",
       "0      17445         10              2487             13630             18913   \n",
       "0       3732         41              2466             25853              6690   \n",
       "0       1942         57              2441             27641              4902   \n",
       "0      18759         13              2485             12328             20215   \n",
       "\n",
       "   FN_x_drifted_ano  Accuracy_x_test  Precision_x_test  Specifity_x_test  \\\n",
       "0                85        96.692352         69.180046         92.878014   \n",
       "0                10        50.185502         12.477423         85.857265   \n",
       "0                31        89.232306         39.689722         92.145073   \n",
       "0                56        94.295091         55.682337         92.615236   \n",
       "0                12        46.426941         11.693264         84.730760   \n",
       "\n",
       "   Sensitivity_x_test  Accuracy_x_drifted_ano  Precision_x_drifted_ano  \\\n",
       "0           96.635963               87.939498                36.807569   \n",
       "0           99.599519               45.996005                11.621495   \n",
       "0           98.358030               80.819064                26.933159   \n",
       "0           97.717261               85.850457                33.242544   \n",
       "0           99.479375               42.274543                10.947137   \n",
       "\n",
       "   Specifity_x_drifted_ano  Sensitivity_x_drifted_ano  \n",
       "0                92.172389                  96.595915  \n",
       "0                84.569089                  99.599519  \n",
       "0                91.292065                  98.758510  \n",
       "0                91.885513                  97.757309  \n",
       "0                83.224195                  99.519423  "
      ]
     },
     "execution_count": 15,
     "metadata": {},
     "output_type": "execute_result"
    }
   ],
   "source": [
    "df_tVP2_m1.head()"
   ]
  },
  {
   "cell_type": "code",
   "execution_count": 16,
   "metadata": {},
   "outputs": [
    {
     "data": {
      "text/plain": [
       "37"
      ]
     },
     "execution_count": 16,
     "metadata": {},
     "output_type": "execute_result"
    }
   ],
   "source": [
    "len(df_tVP2_m2)"
   ]
  },
  {
   "cell_type": "code",
   "execution_count": 17,
   "metadata": {},
   "outputs": [
    {
     "data": {
      "text/html": [
       "<div>\n",
       "<style scoped>\n",
       "    .dataframe tbody tr th:only-of-type {\n",
       "        vertical-align: middle;\n",
       "    }\n",
       "\n",
       "    .dataframe tbody tr th {\n",
       "        vertical-align: top;\n",
       "    }\n",
       "\n",
       "    .dataframe thead th {\n",
       "        text-align: right;\n",
       "    }\n",
       "</style>\n",
       "<table border=\"1\" class=\"dataframe\">\n",
       "  <thead>\n",
       "    <tr style=\"text-align: right;\">\n",
       "      <th></th>\n",
       "      <th>optimizer</th>\n",
       "      <th>fine_tune_classes</th>\n",
       "      <th>name_pretrained_model</th>\n",
       "      <th>k</th>\n",
       "      <th>fine_tune_iterations</th>\n",
       "      <th>lr</th>\n",
       "      <th>model_fn</th>\n",
       "      <th>pretrained_model_fn</th>\n",
       "      <th>logreg_fn</th>\n",
       "      <th>TP_x_test</th>\n",
       "      <th>TN_x_test</th>\n",
       "      <th>FP_x_test</th>\n",
       "      <th>FN_x_test</th>\n",
       "      <th>TP_x_drifted_ano</th>\n",
       "      <th>TN_x_drifted_ano</th>\n",
       "      <th>FP_x_drifted_ano</th>\n",
       "      <th>FN_x_drifted_ano</th>\n",
       "      <th>Accuracy_x_test</th>\n",
       "      <th>Precision_x_test</th>\n",
       "      <th>Specifity_x_test</th>\n",
       "      <th>Sensitivity_x_test</th>\n",
       "      <th>Accuracy_x_drifted_ano</th>\n",
       "      <th>Precision_x_drifted_ano</th>\n",
       "      <th>Specifity_x_drifted_ano</th>\n",
       "      <th>Sensitivity_x_drifted_ano</th>\n",
       "    </tr>\n",
       "  </thead>\n",
       "  <tbody>\n",
       "    <tr>\n",
       "      <th>0</th>\n",
       "      <td>Adam</td>\n",
       "      <td>[2, 3]</td>\n",
       "      <td>M2</td>\n",
       "      <td>5</td>\n",
       "      <td>1</td>\n",
       "      <td>0.10</td>\n",
       "      <td>/home/torge/dev/masterthesis_code/02_Experimen...</td>\n",
       "      <td>20200303_LogRegModell.save</td>\n",
       "      <td>/home/torge/dev/masterthesis_code/02_Experimen...</td>\n",
       "      <td>2496</td>\n",
       "      <td>4831</td>\n",
       "      <td>27712</td>\n",
       "      <td>1</td>\n",
       "      <td>2494</td>\n",
       "      <td>4339</td>\n",
       "      <td>28204</td>\n",
       "      <td>3</td>\n",
       "      <td>20.910388</td>\n",
       "      <td>8.262712</td>\n",
       "      <td>65.934216</td>\n",
       "      <td>99.959952</td>\n",
       "      <td>19.500571</td>\n",
       "      <td>8.124308</td>\n",
       "      <td>63.500659</td>\n",
       "      <td>99.879856</td>\n",
       "    </tr>\n",
       "    <tr>\n",
       "      <th>0</th>\n",
       "      <td>SGD</td>\n",
       "      <td>[1]</td>\n",
       "      <td>M2</td>\n",
       "      <td>5</td>\n",
       "      <td>1</td>\n",
       "      <td>0.01</td>\n",
       "      <td>/home/torge/dev/masterthesis_code/02_Experimen...</td>\n",
       "      <td>20200303_LogRegModell.save</td>\n",
       "      <td>/home/torge/dev/masterthesis_code/02_Experimen...</td>\n",
       "      <td>2486</td>\n",
       "      <td>7984</td>\n",
       "      <td>24559</td>\n",
       "      <td>11</td>\n",
       "      <td>2490</td>\n",
       "      <td>7042</td>\n",
       "      <td>25501</td>\n",
       "      <td>7</td>\n",
       "      <td>29.880137</td>\n",
       "      <td>9.192087</td>\n",
       "      <td>76.255969</td>\n",
       "      <td>99.559471</td>\n",
       "      <td>27.203196</td>\n",
       "      <td>8.895716</td>\n",
       "      <td>73.877465</td>\n",
       "      <td>99.719664</td>\n",
       "    </tr>\n",
       "    <tr>\n",
       "      <th>0</th>\n",
       "      <td>Adam</td>\n",
       "      <td>[1]</td>\n",
       "      <td>M2</td>\n",
       "      <td>10</td>\n",
       "      <td>64</td>\n",
       "      <td>0.10</td>\n",
       "      <td>/home/torge/dev/masterthesis_code/02_Experimen...</td>\n",
       "      <td>20200303_LogRegModell.save</td>\n",
       "      <td>/home/torge/dev/masterthesis_code/02_Experimen...</td>\n",
       "      <td>2494</td>\n",
       "      <td>1005</td>\n",
       "      <td>31538</td>\n",
       "      <td>3</td>\n",
       "      <td>2497</td>\n",
       "      <td>962</td>\n",
       "      <td>31581</td>\n",
       "      <td>0</td>\n",
       "      <td>9.985731</td>\n",
       "      <td>7.328397</td>\n",
       "      <td>28.722492</td>\n",
       "      <td>99.879856</td>\n",
       "      <td>9.871575</td>\n",
       "      <td>7.327308</td>\n",
       "      <td>27.811506</td>\n",
       "      <td>100.000000</td>\n",
       "    </tr>\n",
       "    <tr>\n",
       "      <th>0</th>\n",
       "      <td>SGD</td>\n",
       "      <td>[1, 3]</td>\n",
       "      <td>M2</td>\n",
       "      <td>5</td>\n",
       "      <td>1</td>\n",
       "      <td>0.10</td>\n",
       "      <td>/home/torge/dev/masterthesis_code/02_Experimen...</td>\n",
       "      <td>20200303_LogRegModell.save</td>\n",
       "      <td>/home/torge/dev/masterthesis_code/02_Experimen...</td>\n",
       "      <td>2400</td>\n",
       "      <td>32543</td>\n",
       "      <td>0</td>\n",
       "      <td>97</td>\n",
       "      <td>2394</td>\n",
       "      <td>29230</td>\n",
       "      <td>3313</td>\n",
       "      <td>103</td>\n",
       "      <td>99.723174</td>\n",
       "      <td>100.000000</td>\n",
       "      <td>93.131672</td>\n",
       "      <td>96.115338</td>\n",
       "      <td>90.251142</td>\n",
       "      <td>41.948484</td>\n",
       "      <td>92.429800</td>\n",
       "      <td>95.875050</td>\n",
       "    </tr>\n",
       "    <tr>\n",
       "      <th>0</th>\n",
       "      <td>Adam</td>\n",
       "      <td>[2]</td>\n",
       "      <td>M2</td>\n",
       "      <td>20</td>\n",
       "      <td>64</td>\n",
       "      <td>0.10</td>\n",
       "      <td>/home/torge/dev/masterthesis_code/02_Experimen...</td>\n",
       "      <td>20200303_LogRegModell.save</td>\n",
       "      <td>/home/torge/dev/masterthesis_code/02_Experimen...</td>\n",
       "      <td>2485</td>\n",
       "      <td>15295</td>\n",
       "      <td>17248</td>\n",
       "      <td>12</td>\n",
       "      <td>2485</td>\n",
       "      <td>13652</td>\n",
       "      <td>18891</td>\n",
       "      <td>12</td>\n",
       "      <td>50.742009</td>\n",
       "      <td>12.593118</td>\n",
       "      <td>86.023622</td>\n",
       "      <td>99.519423</td>\n",
       "      <td>46.053082</td>\n",
       "      <td>11.625187</td>\n",
       "      <td>84.600607</td>\n",
       "      <td>99.519423</td>\n",
       "    </tr>\n",
       "  </tbody>\n",
       "</table>\n",
       "</div>"
      ],
      "text/plain": [
       "  optimizer fine_tune_classes name_pretrained_model   k  fine_tune_iterations  \\\n",
       "0      Adam            [2, 3]                    M2   5                     1   \n",
       "0       SGD               [1]                    M2   5                     1   \n",
       "0      Adam               [1]                    M2  10                    64   \n",
       "0       SGD            [1, 3]                    M2   5                     1   \n",
       "0      Adam               [2]                    M2  20                    64   \n",
       "\n",
       "     lr                                           model_fn  \\\n",
       "0  0.10  /home/torge/dev/masterthesis_code/02_Experimen...   \n",
       "0  0.01  /home/torge/dev/masterthesis_code/02_Experimen...   \n",
       "0  0.10  /home/torge/dev/masterthesis_code/02_Experimen...   \n",
       "0  0.10  /home/torge/dev/masterthesis_code/02_Experimen...   \n",
       "0  0.10  /home/torge/dev/masterthesis_code/02_Experimen...   \n",
       "\n",
       "          pretrained_model_fn  \\\n",
       "0  20200303_LogRegModell.save   \n",
       "0  20200303_LogRegModell.save   \n",
       "0  20200303_LogRegModell.save   \n",
       "0  20200303_LogRegModell.save   \n",
       "0  20200303_LogRegModell.save   \n",
       "\n",
       "                                           logreg_fn  TP_x_test  TN_x_test  \\\n",
       "0  /home/torge/dev/masterthesis_code/02_Experimen...       2496       4831   \n",
       "0  /home/torge/dev/masterthesis_code/02_Experimen...       2486       7984   \n",
       "0  /home/torge/dev/masterthesis_code/02_Experimen...       2494       1005   \n",
       "0  /home/torge/dev/masterthesis_code/02_Experimen...       2400      32543   \n",
       "0  /home/torge/dev/masterthesis_code/02_Experimen...       2485      15295   \n",
       "\n",
       "   FP_x_test  FN_x_test  TP_x_drifted_ano  TN_x_drifted_ano  FP_x_drifted_ano  \\\n",
       "0      27712          1              2494              4339             28204   \n",
       "0      24559         11              2490              7042             25501   \n",
       "0      31538          3              2497               962             31581   \n",
       "0          0         97              2394             29230              3313   \n",
       "0      17248         12              2485             13652             18891   \n",
       "\n",
       "   FN_x_drifted_ano  Accuracy_x_test  Precision_x_test  Specifity_x_test  \\\n",
       "0                 3        20.910388          8.262712         65.934216   \n",
       "0                 7        29.880137          9.192087         76.255969   \n",
       "0                 0         9.985731          7.328397         28.722492   \n",
       "0               103        99.723174        100.000000         93.131672   \n",
       "0                12        50.742009         12.593118         86.023622   \n",
       "\n",
       "   Sensitivity_x_test  Accuracy_x_drifted_ano  Precision_x_drifted_ano  \\\n",
       "0           99.959952               19.500571                 8.124308   \n",
       "0           99.559471               27.203196                 8.895716   \n",
       "0           99.879856                9.871575                 7.327308   \n",
       "0           96.115338               90.251142                41.948484   \n",
       "0           99.519423               46.053082                11.625187   \n",
       "\n",
       "   Specifity_x_drifted_ano  Sensitivity_x_drifted_ano  \n",
       "0                63.500659                  99.879856  \n",
       "0                73.877465                  99.719664  \n",
       "0                27.811506                 100.000000  \n",
       "0                92.429800                  95.875050  \n",
       "0                84.600607                  99.519423  "
      ]
     },
     "execution_count": 17,
     "metadata": {},
     "output_type": "execute_result"
    }
   ],
   "source": [
    "df_tVP2_m2.head()"
   ]
  },
  {
   "cell_type": "code",
   "execution_count": 18,
   "metadata": {},
   "outputs": [
    {
     "data": {
      "text/plain": [
       "0    0.001\n",
       "Name: meta_lr, dtype: float64"
      ]
     },
     "execution_count": 18,
     "metadata": {},
     "output_type": "execute_result"
    }
   ],
   "source": [
    "df_tVP1_m1['meta_lr'].sample()"
   ]
  },
  {
   "cell_type": "code",
   "execution_count": 19,
   "metadata": {},
   "outputs": [
    {
     "data": {
      "text/plain": [
       "97"
      ]
     },
     "execution_count": 19,
     "metadata": {},
     "output_type": "execute_result"
    }
   ],
   "source": [
    "len(df_tVP1_m1)"
   ]
  },
  {
   "cell_type": "code",
   "execution_count": 20,
   "metadata": {},
   "outputs": [
    {
     "data": {
      "text/html": [
       "<div>\n",
       "<style scoped>\n",
       "    .dataframe tbody tr th:only-of-type {\n",
       "        vertical-align: middle;\n",
       "    }\n",
       "\n",
       "    .dataframe tbody tr th {\n",
       "        vertical-align: top;\n",
       "    }\n",
       "\n",
       "    .dataframe thead th {\n",
       "        text-align: right;\n",
       "    }\n",
       "</style>\n",
       "<table border=\"1\" class=\"dataframe\">\n",
       "  <thead>\n",
       "    <tr style=\"text-align: right;\">\n",
       "      <th></th>\n",
       "      <th>Unnamed: 0</th>\n",
       "      <th>optimizer</th>\n",
       "      <th>adaption_steps</th>\n",
       "      <th>meta_lr</th>\n",
       "      <th>num_iterations</th>\n",
       "      <th>k_train</th>\n",
       "      <th>num_train</th>\n",
       "      <th>num_eval</th>\n",
       "      <th>model_fn</th>\n",
       "      <th>logreg_fn</th>\n",
       "      <th>num_samples_x_test</th>\n",
       "      <th>num_samples_x_ano_drifted</th>\n",
       "      <th>TP_x_test</th>\n",
       "      <th>TN_x_test</th>\n",
       "      <th>FP_x_test</th>\n",
       "      <th>FN_x_test</th>\n",
       "      <th>TP_x_ano_drifted</th>\n",
       "      <th>TN_x_ano_drifted</th>\n",
       "      <th>FP_x_ano_drifted</th>\n",
       "      <th>FN_x_ano_drifted</th>\n",
       "      <th>Accuracy_x_test</th>\n",
       "      <th>Precision_x_test</th>\n",
       "      <th>Specifity_x_test</th>\n",
       "      <th>Sensitivity_x_test</th>\n",
       "      <th>F1_x_test</th>\n",
       "      <th>Accuracy_x_ano_drifted</th>\n",
       "      <th>Precision_x_ano_drifted</th>\n",
       "      <th>Specifity_x_ano_drifted</th>\n",
       "      <th>Sensitivity_x_ano_drifted</th>\n",
       "      <th>F1_x_ano_drifted</th>\n",
       "    </tr>\n",
       "  </thead>\n",
       "  <tbody>\n",
       "    <tr>\n",
       "      <th>0</th>\n",
       "      <td>0</td>\n",
       "      <td>Adam</td>\n",
       "      <td>15</td>\n",
       "      <td>0.10</td>\n",
       "      <td>100</td>\n",
       "      <td>5</td>\n",
       "      <td>32</td>\n",
       "      <td>32</td>\n",
       "      <td>/home/torge/dev/masterthesis_code/02_Experimen...</td>\n",
       "      <td>/home/torge/dev/masterthesis_code/02_Experimen...</td>\n",
       "      <td>35040</td>\n",
       "      <td>35040</td>\n",
       "      <td>2407</td>\n",
       "      <td>32543</td>\n",
       "      <td>0</td>\n",
       "      <td>90</td>\n",
       "      <td>2417</td>\n",
       "      <td>29230</td>\n",
       "      <td>3313</td>\n",
       "      <td>80</td>\n",
       "      <td>99.743151</td>\n",
       "      <td>100.0</td>\n",
       "      <td>93.113019</td>\n",
       "      <td>96.395675</td>\n",
       "      <td>98.164763</td>\n",
       "      <td>90.316781</td>\n",
       "      <td>42.181501</td>\n",
       "      <td>92.362625</td>\n",
       "      <td>96.796155</td>\n",
       "      <td>58.757749</td>\n",
       "    </tr>\n",
       "    <tr>\n",
       "      <th>0</th>\n",
       "      <td>0</td>\n",
       "      <td>SGD</td>\n",
       "      <td>15</td>\n",
       "      <td>0.01</td>\n",
       "      <td>100</td>\n",
       "      <td>20</td>\n",
       "      <td>128</td>\n",
       "      <td>32</td>\n",
       "      <td>/home/torge/dev/masterthesis_code/02_Experimen...</td>\n",
       "      <td>/home/torge/dev/masterthesis_code/02_Experimen...</td>\n",
       "      <td>35040</td>\n",
       "      <td>35040</td>\n",
       "      <td>2401</td>\n",
       "      <td>32543</td>\n",
       "      <td>0</td>\n",
       "      <td>96</td>\n",
       "      <td>2410</td>\n",
       "      <td>29230</td>\n",
       "      <td>3313</td>\n",
       "      <td>87</td>\n",
       "      <td>99.726027</td>\n",
       "      <td>100.0</td>\n",
       "      <td>93.129006</td>\n",
       "      <td>96.155386</td>\n",
       "      <td>98.040016</td>\n",
       "      <td>90.296804</td>\n",
       "      <td>42.110781</td>\n",
       "      <td>92.383059</td>\n",
       "      <td>96.515819</td>\n",
       "      <td>58.637470</td>\n",
       "    </tr>\n",
       "    <tr>\n",
       "      <th>0</th>\n",
       "      <td>0</td>\n",
       "      <td>SGD</td>\n",
       "      <td>15</td>\n",
       "      <td>0.10</td>\n",
       "      <td>300</td>\n",
       "      <td>20</td>\n",
       "      <td>32</td>\n",
       "      <td>16</td>\n",
       "      <td>/home/torge/dev/masterthesis_code/02_Experimen...</td>\n",
       "      <td>/home/torge/dev/masterthesis_code/02_Experimen...</td>\n",
       "      <td>35040</td>\n",
       "      <td>35040</td>\n",
       "      <td>2391</td>\n",
       "      <td>32543</td>\n",
       "      <td>0</td>\n",
       "      <td>106</td>\n",
       "      <td>2401</td>\n",
       "      <td>29230</td>\n",
       "      <td>3313</td>\n",
       "      <td>96</td>\n",
       "      <td>99.697489</td>\n",
       "      <td>100.0</td>\n",
       "      <td>93.155665</td>\n",
       "      <td>95.754906</td>\n",
       "      <td>97.831424</td>\n",
       "      <td>90.271119</td>\n",
       "      <td>42.019601</td>\n",
       "      <td>92.409345</td>\n",
       "      <td>96.155386</td>\n",
       "      <td>58.482523</td>\n",
       "    </tr>\n",
       "    <tr>\n",
       "      <th>0</th>\n",
       "      <td>0</td>\n",
       "      <td>SGD</td>\n",
       "      <td>10</td>\n",
       "      <td>0.10</td>\n",
       "      <td>100</td>\n",
       "      <td>20</td>\n",
       "      <td>128</td>\n",
       "      <td>32</td>\n",
       "      <td>/home/torge/dev/masterthesis_code/02_Experimen...</td>\n",
       "      <td>/home/torge/dev/masterthesis_code/02_Experimen...</td>\n",
       "      <td>35040</td>\n",
       "      <td>35040</td>\n",
       "      <td>2397</td>\n",
       "      <td>32543</td>\n",
       "      <td>0</td>\n",
       "      <td>100</td>\n",
       "      <td>2406</td>\n",
       "      <td>29230</td>\n",
       "      <td>3313</td>\n",
       "      <td>91</td>\n",
       "      <td>99.714612</td>\n",
       "      <td>100.0</td>\n",
       "      <td>93.139668</td>\n",
       "      <td>95.995194</td>\n",
       "      <td>97.956682</td>\n",
       "      <td>90.285388</td>\n",
       "      <td>42.070292</td>\n",
       "      <td>92.394740</td>\n",
       "      <td>96.355627</td>\n",
       "      <td>58.568647</td>\n",
       "    </tr>\n",
       "    <tr>\n",
       "      <th>0</th>\n",
       "      <td>0</td>\n",
       "      <td>SGD</td>\n",
       "      <td>10</td>\n",
       "      <td>0.01</td>\n",
       "      <td>100</td>\n",
       "      <td>5</td>\n",
       "      <td>32</td>\n",
       "      <td>32</td>\n",
       "      <td>/home/torge/dev/masterthesis_code/02_Experimen...</td>\n",
       "      <td>/home/torge/dev/masterthesis_code/02_Experimen...</td>\n",
       "      <td>35040</td>\n",
       "      <td>35040</td>\n",
       "      <td>2406</td>\n",
       "      <td>32543</td>\n",
       "      <td>0</td>\n",
       "      <td>91</td>\n",
       "      <td>2414</td>\n",
       "      <td>29230</td>\n",
       "      <td>3313</td>\n",
       "      <td>83</td>\n",
       "      <td>99.740297</td>\n",
       "      <td>100.0</td>\n",
       "      <td>93.115683</td>\n",
       "      <td>96.355627</td>\n",
       "      <td>98.143993</td>\n",
       "      <td>90.308219</td>\n",
       "      <td>42.151214</td>\n",
       "      <td>92.371382</td>\n",
       "      <td>96.676011</td>\n",
       "      <td>58.706226</td>\n",
       "    </tr>\n",
       "  </tbody>\n",
       "</table>\n",
       "</div>"
      ],
      "text/plain": [
       "   Unnamed: 0 optimizer  adaption_steps  meta_lr  num_iterations  k_train  \\\n",
       "0           0      Adam              15     0.10             100        5   \n",
       "0           0       SGD              15     0.01             100       20   \n",
       "0           0       SGD              15     0.10             300       20   \n",
       "0           0       SGD              10     0.10             100       20   \n",
       "0           0       SGD              10     0.01             100        5   \n",
       "\n",
       "   num_train  num_eval                                           model_fn  \\\n",
       "0         32        32  /home/torge/dev/masterthesis_code/02_Experimen...   \n",
       "0        128        32  /home/torge/dev/masterthesis_code/02_Experimen...   \n",
       "0         32        16  /home/torge/dev/masterthesis_code/02_Experimen...   \n",
       "0        128        32  /home/torge/dev/masterthesis_code/02_Experimen...   \n",
       "0         32        32  /home/torge/dev/masterthesis_code/02_Experimen...   \n",
       "\n",
       "                                           logreg_fn  num_samples_x_test  \\\n",
       "0  /home/torge/dev/masterthesis_code/02_Experimen...               35040   \n",
       "0  /home/torge/dev/masterthesis_code/02_Experimen...               35040   \n",
       "0  /home/torge/dev/masterthesis_code/02_Experimen...               35040   \n",
       "0  /home/torge/dev/masterthesis_code/02_Experimen...               35040   \n",
       "0  /home/torge/dev/masterthesis_code/02_Experimen...               35040   \n",
       "\n",
       "   num_samples_x_ano_drifted  TP_x_test  TN_x_test  FP_x_test  FN_x_test  \\\n",
       "0                      35040       2407      32543          0         90   \n",
       "0                      35040       2401      32543          0         96   \n",
       "0                      35040       2391      32543          0        106   \n",
       "0                      35040       2397      32543          0        100   \n",
       "0                      35040       2406      32543          0         91   \n",
       "\n",
       "   TP_x_ano_drifted  TN_x_ano_drifted  FP_x_ano_drifted  FN_x_ano_drifted  \\\n",
       "0              2417             29230              3313                80   \n",
       "0              2410             29230              3313                87   \n",
       "0              2401             29230              3313                96   \n",
       "0              2406             29230              3313                91   \n",
       "0              2414             29230              3313                83   \n",
       "\n",
       "   Accuracy_x_test  Precision_x_test  Specifity_x_test  Sensitivity_x_test  \\\n",
       "0        99.743151             100.0         93.113019           96.395675   \n",
       "0        99.726027             100.0         93.129006           96.155386   \n",
       "0        99.697489             100.0         93.155665           95.754906   \n",
       "0        99.714612             100.0         93.139668           95.995194   \n",
       "0        99.740297             100.0         93.115683           96.355627   \n",
       "\n",
       "   F1_x_test  Accuracy_x_ano_drifted  Precision_x_ano_drifted  \\\n",
       "0  98.164763               90.316781                42.181501   \n",
       "0  98.040016               90.296804                42.110781   \n",
       "0  97.831424               90.271119                42.019601   \n",
       "0  97.956682               90.285388                42.070292   \n",
       "0  98.143993               90.308219                42.151214   \n",
       "\n",
       "   Specifity_x_ano_drifted  Sensitivity_x_ano_drifted  F1_x_ano_drifted  \n",
       "0                92.362625                  96.796155         58.757749  \n",
       "0                92.383059                  96.515819         58.637470  \n",
       "0                92.409345                  96.155386         58.482523  \n",
       "0                92.394740                  96.355627         58.568647  \n",
       "0                92.371382                  96.676011         58.706226  "
      ]
     },
     "execution_count": 20,
     "metadata": {},
     "output_type": "execute_result"
    }
   ],
   "source": [
    "df_tVP1_m1.head()"
   ]
  },
  {
   "cell_type": "markdown",
   "metadata": {},
   "source": [
    "## Ignore irrelevant columns"
   ]
  },
  {
   "cell_type": "code",
   "execution_count": 21,
   "metadata": {},
   "outputs": [],
   "source": [
    "cols = ['optimizer', 'adaption_steps', 'meta_lr', 'num_iterations', 'k_train','num_train', 'num_eval', \n",
    "        'TP_x_test', 'TN_x_test', 'FP_x_test', 'FN_x_test', \n",
    "        'TP_x_ano_drifted', 'TN_x_ano_drifted', 'FP_x_ano_drifted', 'FN_x_ano_drifted', \n",
    "        'Accuracy_x_test', 'Precision_x_test', 'Specifity_x_test', 'Sensitivity_x_test',\n",
    "        'Accuracy_x_ano_drifted', 'Precision_x_ano_drifted', 'Specifity_x_ano_drifted', 'Sensitivity_x_ano_drifted']\n",
    "\n",
    "df_tVP1_m1 = df_tVP1_m1[cols]"
   ]
  },
  {
   "cell_type": "code",
   "execution_count": 22,
   "metadata": {},
   "outputs": [
    {
     "data": {
      "text/html": [
       "<div>\n",
       "<style scoped>\n",
       "    .dataframe tbody tr th:only-of-type {\n",
       "        vertical-align: middle;\n",
       "    }\n",
       "\n",
       "    .dataframe tbody tr th {\n",
       "        vertical-align: top;\n",
       "    }\n",
       "\n",
       "    .dataframe thead th {\n",
       "        text-align: right;\n",
       "    }\n",
       "</style>\n",
       "<table border=\"1\" class=\"dataframe\">\n",
       "  <thead>\n",
       "    <tr style=\"text-align: right;\">\n",
       "      <th></th>\n",
       "      <th>optimizer</th>\n",
       "      <th>adaption_steps</th>\n",
       "      <th>meta_lr</th>\n",
       "      <th>num_iterations</th>\n",
       "      <th>k_train</th>\n",
       "      <th>num_train</th>\n",
       "      <th>num_eval</th>\n",
       "      <th>TP_x_test</th>\n",
       "      <th>TN_x_test</th>\n",
       "      <th>FP_x_test</th>\n",
       "      <th>FN_x_test</th>\n",
       "      <th>TP_x_ano_drifted</th>\n",
       "      <th>TN_x_ano_drifted</th>\n",
       "      <th>FP_x_ano_drifted</th>\n",
       "      <th>FN_x_ano_drifted</th>\n",
       "      <th>Accuracy_x_test</th>\n",
       "      <th>Precision_x_test</th>\n",
       "      <th>Specifity_x_test</th>\n",
       "      <th>Sensitivity_x_test</th>\n",
       "      <th>Accuracy_x_ano_drifted</th>\n",
       "      <th>Precision_x_ano_drifted</th>\n",
       "      <th>Specifity_x_ano_drifted</th>\n",
       "      <th>Sensitivity_x_ano_drifted</th>\n",
       "    </tr>\n",
       "  </thead>\n",
       "  <tbody>\n",
       "    <tr>\n",
       "      <th>0</th>\n",
       "      <td>Adam</td>\n",
       "      <td>15</td>\n",
       "      <td>0.1</td>\n",
       "      <td>100</td>\n",
       "      <td>5</td>\n",
       "      <td>32</td>\n",
       "      <td>32</td>\n",
       "      <td>2407</td>\n",
       "      <td>32543</td>\n",
       "      <td>0</td>\n",
       "      <td>90</td>\n",
       "      <td>2417</td>\n",
       "      <td>29230</td>\n",
       "      <td>3313</td>\n",
       "      <td>80</td>\n",
       "      <td>99.743151</td>\n",
       "      <td>100.0</td>\n",
       "      <td>93.113019</td>\n",
       "      <td>96.395675</td>\n",
       "      <td>90.316781</td>\n",
       "      <td>42.181501</td>\n",
       "      <td>92.362625</td>\n",
       "      <td>96.796155</td>\n",
       "    </tr>\n",
       "  </tbody>\n",
       "</table>\n",
       "</div>"
      ],
      "text/plain": [
       "  optimizer  adaption_steps  meta_lr  num_iterations  k_train  num_train  \\\n",
       "0      Adam              15      0.1             100        5         32   \n",
       "\n",
       "   num_eval  TP_x_test  TN_x_test  FP_x_test  FN_x_test  TP_x_ano_drifted  \\\n",
       "0        32       2407      32543          0         90              2417   \n",
       "\n",
       "   TN_x_ano_drifted  FP_x_ano_drifted  FN_x_ano_drifted  Accuracy_x_test  \\\n",
       "0             29230              3313                80        99.743151   \n",
       "\n",
       "   Precision_x_test  Specifity_x_test  Sensitivity_x_test  \\\n",
       "0             100.0         93.113019           96.395675   \n",
       "\n",
       "   Accuracy_x_ano_drifted  Precision_x_ano_drifted  Specifity_x_ano_drifted  \\\n",
       "0               90.316781                42.181501                92.362625   \n",
       "\n",
       "   Sensitivity_x_ano_drifted  \n",
       "0                  96.796155  "
      ]
     },
     "execution_count": 22,
     "metadata": {},
     "output_type": "execute_result"
    }
   ],
   "source": [
    "df_tVP1_m1.head(1)"
   ]
  },
  {
   "cell_type": "code",
   "execution_count": 23,
   "metadata": {},
   "outputs": [],
   "source": [
    "cols = ['optimizer', 'fine_tune_classes', 'name_pretrained_model', 'k',\n",
    "       'fine_tune_iterations', 'lr','TP_x_test', 'TN_x_test', 'FP_x_test', 'FN_x_test',\n",
    "       'TP_x_drifted_ano', 'TN_x_drifted_ano', 'FP_x_drifted_ano',\n",
    "       'FN_x_drifted_ano', 'Accuracy_x_test', 'Precision_x_test',\n",
    "       'Specifity_x_test', 'Sensitivity_x_test', 'Accuracy_x_drifted_ano',\n",
    "       'Precision_x_drifted_ano', 'Specifity_x_drifted_ano',\n",
    "       'Sensitivity_x_drifted_ano']\n",
    "\n",
    "df_tVP2_m1 = df_tVP2_m1[cols]"
   ]
  },
  {
   "cell_type": "code",
   "execution_count": 24,
   "metadata": {},
   "outputs": [
    {
     "data": {
      "text/html": [
       "<div>\n",
       "<style scoped>\n",
       "    .dataframe tbody tr th:only-of-type {\n",
       "        vertical-align: middle;\n",
       "    }\n",
       "\n",
       "    .dataframe tbody tr th {\n",
       "        vertical-align: top;\n",
       "    }\n",
       "\n",
       "    .dataframe thead th {\n",
       "        text-align: right;\n",
       "    }\n",
       "</style>\n",
       "<table border=\"1\" class=\"dataframe\">\n",
       "  <thead>\n",
       "    <tr style=\"text-align: right;\">\n",
       "      <th></th>\n",
       "      <th>optimizer</th>\n",
       "      <th>fine_tune_classes</th>\n",
       "      <th>name_pretrained_model</th>\n",
       "      <th>k</th>\n",
       "      <th>fine_tune_iterations</th>\n",
       "      <th>lr</th>\n",
       "      <th>TP_x_test</th>\n",
       "      <th>TN_x_test</th>\n",
       "      <th>FP_x_test</th>\n",
       "      <th>FN_x_test</th>\n",
       "      <th>TP_x_drifted_ano</th>\n",
       "      <th>TN_x_drifted_ano</th>\n",
       "      <th>FP_x_drifted_ano</th>\n",
       "      <th>FN_x_drifted_ano</th>\n",
       "      <th>Accuracy_x_test</th>\n",
       "      <th>Precision_x_test</th>\n",
       "      <th>Specifity_x_test</th>\n",
       "      <th>Sensitivity_x_test</th>\n",
       "      <th>Accuracy_x_drifted_ano</th>\n",
       "      <th>Precision_x_drifted_ano</th>\n",
       "      <th>Specifity_x_drifted_ano</th>\n",
       "      <th>Sensitivity_x_drifted_ano</th>\n",
       "    </tr>\n",
       "  </thead>\n",
       "  <tbody>\n",
       "    <tr>\n",
       "      <th>0</th>\n",
       "      <td>Adam</td>\n",
       "      <td>[2]</td>\n",
       "      <td>3</td>\n",
       "      <td>20</td>\n",
       "      <td>64</td>\n",
       "      <td>0.001</td>\n",
       "      <td>2413</td>\n",
       "      <td>31468</td>\n",
       "      <td>1075</td>\n",
       "      <td>84</td>\n",
       "      <td>2412</td>\n",
       "      <td>28402</td>\n",
       "      <td>4141</td>\n",
       "      <td>85</td>\n",
       "      <td>96.692352</td>\n",
       "      <td>69.180046</td>\n",
       "      <td>92.878014</td>\n",
       "      <td>96.635963</td>\n",
       "      <td>87.939498</td>\n",
       "      <td>36.807569</td>\n",
       "      <td>92.172389</td>\n",
       "      <td>96.595915</td>\n",
       "    </tr>\n",
       "  </tbody>\n",
       "</table>\n",
       "</div>"
      ],
      "text/plain": [
       "  optimizer fine_tune_classes  name_pretrained_model   k  \\\n",
       "0      Adam               [2]                      3  20   \n",
       "\n",
       "   fine_tune_iterations     lr  TP_x_test  TN_x_test  FP_x_test  FN_x_test  \\\n",
       "0                    64  0.001       2413      31468       1075         84   \n",
       "\n",
       "   TP_x_drifted_ano  TN_x_drifted_ano  FP_x_drifted_ano  FN_x_drifted_ano  \\\n",
       "0              2412             28402              4141                85   \n",
       "\n",
       "   Accuracy_x_test  Precision_x_test  Specifity_x_test  Sensitivity_x_test  \\\n",
       "0        96.692352         69.180046         92.878014           96.635963   \n",
       "\n",
       "   Accuracy_x_drifted_ano  Precision_x_drifted_ano  Specifity_x_drifted_ano  \\\n",
       "0               87.939498                36.807569                92.172389   \n",
       "\n",
       "   Sensitivity_x_drifted_ano  \n",
       "0                  96.595915  "
      ]
     },
     "execution_count": 24,
     "metadata": {},
     "output_type": "execute_result"
    }
   ],
   "source": [
    "df_tVP2_m1.head(1)"
   ]
  },
  {
   "cell_type": "code",
   "execution_count": 25,
   "metadata": {},
   "outputs": [],
   "source": [
    "cols = ['optimizer', 'fine_tune_classes', 'k',\n",
    "       'fine_tune_iterations', 'lr','TP_x_test', 'TN_x_test', 'FP_x_test', 'FN_x_test',\n",
    "       'TP_x_drifted_ano', 'TN_x_drifted_ano', 'FP_x_drifted_ano',\n",
    "       'FN_x_drifted_ano', 'Accuracy_x_test', 'Precision_x_test',\n",
    "       'Specifity_x_test', 'Sensitivity_x_test', 'Accuracy_x_drifted_ano',\n",
    "       'Precision_x_drifted_ano', 'Specifity_x_drifted_ano',\n",
    "       'Sensitivity_x_drifted_ano']\n",
    "\n",
    "df_tVP2_m2 = df_tVP2_m2[cols]"
   ]
  },
  {
   "cell_type": "code",
   "execution_count": 26,
   "metadata": {},
   "outputs": [
    {
     "data": {
      "text/html": [
       "<div>\n",
       "<style scoped>\n",
       "    .dataframe tbody tr th:only-of-type {\n",
       "        vertical-align: middle;\n",
       "    }\n",
       "\n",
       "    .dataframe tbody tr th {\n",
       "        vertical-align: top;\n",
       "    }\n",
       "\n",
       "    .dataframe thead th {\n",
       "        text-align: right;\n",
       "    }\n",
       "</style>\n",
       "<table border=\"1\" class=\"dataframe\">\n",
       "  <thead>\n",
       "    <tr style=\"text-align: right;\">\n",
       "      <th></th>\n",
       "      <th>optimizer</th>\n",
       "      <th>fine_tune_classes</th>\n",
       "      <th>k</th>\n",
       "      <th>fine_tune_iterations</th>\n",
       "      <th>lr</th>\n",
       "      <th>TP_x_test</th>\n",
       "      <th>TN_x_test</th>\n",
       "      <th>FP_x_test</th>\n",
       "      <th>FN_x_test</th>\n",
       "      <th>TP_x_drifted_ano</th>\n",
       "      <th>TN_x_drifted_ano</th>\n",
       "      <th>FP_x_drifted_ano</th>\n",
       "      <th>FN_x_drifted_ano</th>\n",
       "      <th>Accuracy_x_test</th>\n",
       "      <th>Precision_x_test</th>\n",
       "      <th>Specifity_x_test</th>\n",
       "      <th>Sensitivity_x_test</th>\n",
       "      <th>Accuracy_x_drifted_ano</th>\n",
       "      <th>Precision_x_drifted_ano</th>\n",
       "      <th>Specifity_x_drifted_ano</th>\n",
       "      <th>Sensitivity_x_drifted_ano</th>\n",
       "    </tr>\n",
       "  </thead>\n",
       "  <tbody>\n",
       "    <tr>\n",
       "      <th>0</th>\n",
       "      <td>Adam</td>\n",
       "      <td>[2, 3]</td>\n",
       "      <td>5</td>\n",
       "      <td>1</td>\n",
       "      <td>0.1</td>\n",
       "      <td>2496</td>\n",
       "      <td>4831</td>\n",
       "      <td>27712</td>\n",
       "      <td>1</td>\n",
       "      <td>2494</td>\n",
       "      <td>4339</td>\n",
       "      <td>28204</td>\n",
       "      <td>3</td>\n",
       "      <td>20.910388</td>\n",
       "      <td>8.262712</td>\n",
       "      <td>65.934216</td>\n",
       "      <td>99.959952</td>\n",
       "      <td>19.500571</td>\n",
       "      <td>8.124308</td>\n",
       "      <td>63.500659</td>\n",
       "      <td>99.879856</td>\n",
       "    </tr>\n",
       "  </tbody>\n",
       "</table>\n",
       "</div>"
      ],
      "text/plain": [
       "  optimizer fine_tune_classes  k  fine_tune_iterations   lr  TP_x_test  \\\n",
       "0      Adam            [2, 3]  5                     1  0.1       2496   \n",
       "\n",
       "   TN_x_test  FP_x_test  FN_x_test  TP_x_drifted_ano  TN_x_drifted_ano  \\\n",
       "0       4831      27712          1              2494              4339   \n",
       "\n",
       "   FP_x_drifted_ano  FN_x_drifted_ano  Accuracy_x_test  Precision_x_test  \\\n",
       "0             28204                 3        20.910388          8.262712   \n",
       "\n",
       "   Specifity_x_test  Sensitivity_x_test  Accuracy_x_drifted_ano  \\\n",
       "0         65.934216           99.959952               19.500571   \n",
       "\n",
       "   Precision_x_drifted_ano  Specifity_x_drifted_ano  Sensitivity_x_drifted_ano  \n",
       "0                 8.124308                63.500659                  99.879856  "
      ]
     },
     "execution_count": 26,
     "metadata": {},
     "output_type": "execute_result"
    }
   ],
   "source": [
    "df_tVP2_m2.head(1)"
   ]
  },
  {
   "cell_type": "markdown",
   "metadata": {},
   "source": [
    "## Change CWD"
   ]
  },
  {
   "cell_type": "code",
   "execution_count": 27,
   "metadata": {},
   "outputs": [],
   "source": [
    "os.chdir('..')\n",
    "os.chdir('..')"
   ]
  },
  {
   "cell_type": "code",
   "execution_count": 28,
   "metadata": {},
   "outputs": [
    {
     "data": {
      "text/plain": [
       "'/home/torge/dev/masterthesis_code/02_Experimente/03_Experimente'"
      ]
     },
     "execution_count": 28,
     "metadata": {},
     "output_type": "execute_result"
    }
   ],
   "source": [
    "os.getcwd()"
   ]
  },
  {
   "cell_type": "markdown",
   "metadata": {},
   "source": [
    "# Analyze"
   ]
  },
  {
   "cell_type": "markdown",
   "metadata": {},
   "source": [
    "## **Q1**: Wurde die Modellqualität auf ${X}_{drifted,anormal}$ durch das Fine-Tuning verbessert?"
   ]
  },
  {
   "cell_type": "code",
   "execution_count": 29,
   "metadata": {},
   "outputs": [],
   "source": [
    "tVP1_m1_x_drifted_ano = df_tVP1_m1[['Accuracy_x_ano_drifted', 'Precision_x_ano_drifted', 'Specifity_x_ano_drifted', 'Sensitivity_x_ano_drifted']]\n",
    "tVP2_m1_x_drifted_ano = df_tVP2_m1[['Accuracy_x_drifted_ano', 'Precision_x_drifted_ano', 'Specifity_x_drifted_ano', 'Sensitivity_x_drifted_ano']]"
   ]
  },
  {
   "cell_type": "code",
   "execution_count": 30,
   "metadata": {},
   "outputs": [
    {
     "data": {
      "text/plain": [
       "<matplotlib.legend.Legend at 0x7fb117336210>"
      ]
     },
     "execution_count": 30,
     "metadata": {},
     "output_type": "execute_result"
    },
    {
     "data": {
      "image/png": "[encoded data removed]",
      "text/plain": [
       "<Figure size 1440x720 with 1 Axes>"
      ]
     },
     "metadata": {
      "needs_background": "light"
     },
     "output_type": "display_data"
    }
   ],
   "source": [
    "fig, ax = plt.subplots(figsize=(20,10))\n",
    "_ = plt.hist(tVP1_m1_x_drifted_ano['Accuracy_x_ano_drifted'],bins=np.linspace(80,100,30), color='red', alpha=0.5, label='tVP1 M1')\n",
    "_ = plt.hist(tVP2_m1_x_drifted_ano['Accuracy_x_drifted_ano'],bins=np.linspace(0,90,30), color='green', alpha=0.5, label='tVP2 M1')\n",
    "plt.legend(loc='upper left')"
   ]
  },
  {
   "cell_type": "code",
   "execution_count": 31,
   "metadata": {},
   "outputs": [],
   "source": [
    "import matplotlib.style"
   ]
  },
  {
   "cell_type": "code",
   "execution_count": 32,
   "metadata": {},
   "outputs": [],
   "source": [
    "matplotlib.style.use('seaborn-whitegrid')"
   ]
  },
  {
   "cell_type": "code",
   "execution_count": 33,
   "metadata": {},
   "outputs": [
    {
     "data": {
      "image/png": "[encoded data removed]",
      "text/plain": [
       "<Figure size 1440x360 with 1 Axes>"
      ]
     },
     "metadata": {},
     "output_type": "display_data"
    }
   ],
   "source": [
    "fig = plt.figure(1, figsize=(20, 5))\n",
    "ax = fig.add_subplot(111)\n",
    "\n",
    "boxprops = dict(linewidth=2.5, color='black')\n",
    "\n",
    "bp = ax.boxplot([tVP2_m1_x_drifted_ano['Accuracy_x_drifted_ano'], tVP1_m1_x_drifted_ano['Accuracy_x_ano_drifted']], boxprops=boxprops, widths=[0.6,0.6],vert=False, patch_artist=True)\n",
    "_ = plt.yticks([1,2], ['$tVP^{II}_{M_1}$', '$tVP^{I}_{M_1}$'], fontsize=25)\n",
    "_ = plt.xticks(fontsize=25)\n",
    "#_ = plt.title('Verteilung der Accuracy der Modelle $M_1$ auf ${X}_{drifted,anormal}$ für $tVP^{I}_{M_1}$ und $tVP^{II}_{M_1}$', fontsize=28)\n",
    "\n",
    "for box in bp['whiskers']:\n",
    "    box.set(color='black', linewidth=1.5)\n",
    "\n",
    "for median in bp['medians']:\n",
    "    median.set(linewidth=2.5)\n",
    "    \n",
    "save = True\n",
    "if save:\n",
    "    fn = os.path.join(os.getcwd(), 'figs', '{}_boxplot_verteilung_accuracy.pdf'.format(arrow.now().format('YYYYMMDD')))\n",
    "    fig.savefig(fn, bbox_inches='tight', pad_inches=0)"
   ]
  },
  {
   "cell_type": "code",
   "execution_count": 34,
   "metadata": {},
   "outputs": [
    {
     "data": {
      "image/png": "[encoded data removed]",
      "text/plain": [
       "<Figure size 1440x360 with 1 Axes>"
      ]
     },
     "metadata": {},
     "output_type": "display_data"
    }
   ],
   "source": [
    "fig = plt.figure(1, figsize=(20, 5))\n",
    "ax = fig.add_subplot(111)\n",
    "\n",
    "boxprops = dict(linewidth=2.5, color='black')\n",
    "\n",
    "bp = ax.boxplot([tVP2_m1_x_drifted_ano['Precision_x_drifted_ano'], tVP1_m1_x_drifted_ano['Precision_x_ano_drifted']], boxprops=boxprops, widths=[0.6,0.6],vert=False, showfliers=False)\n",
    "_ = plt.yticks([1,2], ['$tVP^{II}_{M_1}$', '$tVP^{I}_{M_1}$'])\n",
    "_ = plt.title('Verteilung der Precision der Modelle $M_1$ und $M_2$ auf ${X}_{drifted,anormal}$ für $tVP^{I}_{M_1}$ und $tVP^{II}_{M_1}$')\n",
    "\n",
    "for box in bp['whiskers']:\n",
    "    box.set(color='black', linewidth=1.5)\n",
    "\n",
    "for median in bp['medians']:\n",
    "    median.set(linewidth=2.5)\n",
    "    \n",
    "save = True\n",
    "if save:\n",
    "    fn = os.path.join(os.getcwd(), 'figs', '{}_boxplot_verteilung_precision.pdf'.format(arrow.now().format('YYYYMMDD')))\n",
    "    fig.savefig(fn, bbox_inches='tight', pad_inches=0)"
   ]
  },
  {
   "cell_type": "code",
   "execution_count": 35,
   "metadata": {},
   "outputs": [
    {
     "data": {
      "image/png": "[encoded data removed]",
      "text/plain": [
       "<Figure size 1440x360 with 1 Axes>"
      ]
     },
     "metadata": {},
     "output_type": "display_data"
    }
   ],
   "source": [
    "fig = plt.figure(1, figsize=(20, 5))\n",
    "ax = fig.add_subplot(111)\n",
    "\n",
    "boxprops = dict(linewidth=2.5, color='black')\n",
    "\n",
    "bp = ax.boxplot([tVP2_m1_x_drifted_ano['Specifity_x_drifted_ano'], tVP1_m1_x_drifted_ano['Specifity_x_ano_drifted']], boxprops=boxprops, widths=[0.6,0.6],vert=False, showfliers=False)\n",
    "_ = plt.yticks([1,2], ['$tVP^{II}_{M_1}$', '$tVP^{I}_{M_1}$'])\n",
    "_ = plt.title('Verteilung der Specifity der Modelle $M_1$ und $M_2$ auf ${X}_{drifted,anormal}$ für $tVP^{I}_{M_1}$ und $tVP^{II}_{M_1}$')\n",
    "\n",
    "for box in bp['whiskers']:\n",
    "    box.set(color='black', linewidth=1.5)\n",
    "\n",
    "for median in bp['medians']:\n",
    "    median.set(linewidth=2.5)\n",
    "    \n",
    "save = True\n",
    "if save:\n",
    "    fn = os.path.join(os.getcwd(), 'figs', '{}_boxplot_verteilung_specifity.pdf'.format(arrow.now().format('YYYYMMDD')))\n",
    "    fig.savefig(fn, bbox_inches='tight', pad_inches=0)"
   ]
  },
  {
   "cell_type": "code",
   "execution_count": 36,
   "metadata": {},
   "outputs": [
    {
     "data": {
      "image/png": "[encoded data removed]",
      "text/plain": [
       "<Figure size 1440x360 with 1 Axes>"
      ]
     },
     "metadata": {},
     "output_type": "display_data"
    }
   ],
   "source": [
    "fig = plt.figure(1, figsize=(20, 5))\n",
    "ax = fig.add_subplot(111)\n",
    "\n",
    "boxprops = dict(linewidth=2.5, color='black')\n",
    "\n",
    "bp = ax.boxplot([tVP2_m1_x_drifted_ano['Sensitivity_x_drifted_ano'], tVP1_m1_x_drifted_ano['Sensitivity_x_ano_drifted']], boxprops=boxprops, widths=[0.6,0.6],vert=False, showfliers=False)\n",
    "_ = plt.yticks([1,2], ['$tVP^{II}_{M_1}$', '$tVP^{I}_{M_1}$'])\n",
    "_ = plt.title('Verteilung der Sensitivity der Modelle $M_1$ und $M_2$ auf ${X}_{drifted,anormal}$ für $tVP^{I}_{M_1}$ und $tVP^{II}_{M_1}$')\n",
    "\n",
    "for box in bp['whiskers']:\n",
    "    box.set(color='black', linewidth=1.5)\n",
    "\n",
    "for median in bp['medians']:\n",
    "    median.set(linewidth=2.5)\n",
    "    \n",
    "save = True\n",
    "if save:\n",
    "    fn = os.path.join(os.getcwd(), 'figs', '{}_boxplot_verteilung_sensitivity.pdf'.format(arrow.now().format('YYYYMMDD')))\n",
    "    fig.savefig(fn, bbox_inches='tight', pad_inches=0)"
   ]
  },
  {
   "cell_type": "markdown",
   "metadata": {},
   "source": [
    "## Veränderung der Modellqualität pro Modell aus Phase 1"
   ]
  },
  {
   "cell_type": "code",
   "execution_count": 37,
   "metadata": {},
   "outputs": [
    {
     "data": {
      "text/plain": [
       "count    42.000000\n",
       "mean     14.669236\n",
       "std      11.449277\n",
       "min       7.551335\n",
       "25%       9.453121\n",
       "50%      10.621249\n",
       "75%      11.328056\n",
       "max      42.362561\n",
       "Name: Precision_x_drifted_ano, dtype: float64"
      ]
     },
     "execution_count": 37,
     "metadata": {},
     "output_type": "execute_result"
    }
   ],
   "source": [
    "df_tVP2_m1[df_tVP2_m1['name_pretrained_model'] == 1]['Precision_x_drifted_ano'].describe()"
   ]
  },
  {
   "cell_type": "code",
   "execution_count": 38,
   "metadata": {},
   "outputs": [
    {
     "data": {
      "text/plain": [
       "count    34.000000\n",
       "mean     18.513724\n",
       "std      11.172705\n",
       "min       8.137143\n",
       "25%       8.137143\n",
       "50%      15.846158\n",
       "75%      25.547233\n",
       "max      38.001867\n",
       "Name: Precision_x_drifted_ano, dtype: float64"
      ]
     },
     "execution_count": 38,
     "metadata": {},
     "output_type": "execute_result"
    }
   ],
   "source": [
    "df_tVP2_m1[df_tVP2_m1['name_pretrained_model'] == 2]['Precision_x_drifted_ano'].describe()"
   ]
  },
  {
   "cell_type": "code",
   "execution_count": 39,
   "metadata": {},
   "outputs": [
    {
     "data": {
      "text/plain": [
       "count    39.000000\n",
       "mean     22.669541\n",
       "std      10.714903\n",
       "min       7.266748\n",
       "25%      14.812217\n",
       "50%      20.191198\n",
       "75%      32.861986\n",
       "max      40.938456\n",
       "Name: Precision_x_drifted_ano, dtype: float64"
      ]
     },
     "execution_count": 39,
     "metadata": {},
     "output_type": "execute_result"
    }
   ],
   "source": [
    "df_tVP2_m1[df_tVP2_m1['name_pretrained_model'] == 3]['Precision_x_drifted_ano'].describe()"
   ]
  },
  {
   "cell_type": "code",
   "execution_count": 40,
   "metadata": {},
   "outputs": [
    {
     "data": {
      "text/plain": [
       "count    36.000000\n",
       "mean     22.713629\n",
       "std      11.528756\n",
       "min       8.070949\n",
       "25%      15.951475\n",
       "50%      17.813910\n",
       "75%      38.971768\n",
       "max      41.070793\n",
       "Name: Precision_x_drifted_ano, dtype: float64"
      ]
     },
     "execution_count": 40,
     "metadata": {},
     "output_type": "execute_result"
    }
   ],
   "source": [
    "df_tVP2_m1[df_tVP2_m1['name_pretrained_model'] == 4]['Precision_x_drifted_ano'].describe()"
   ]
  },
  {
   "cell_type": "code",
   "execution_count": 41,
   "metadata": {},
   "outputs": [
    {
     "data": {
      "text/plain": [
       "count    33.000000\n",
       "mean     16.357828\n",
       "std       5.560061\n",
       "min       7.126142\n",
       "25%      12.542597\n",
       "50%      14.566651\n",
       "75%      20.341952\n",
       "max      26.933159\n",
       "Name: Precision_x_drifted_ano, dtype: float64"
      ]
     },
     "execution_count": 41,
     "metadata": {},
     "output_type": "execute_result"
    }
   ],
   "source": [
    "df_tVP2_m1[df_tVP2_m1['name_pretrained_model'] == 5]['Precision_x_drifted_ano'].describe()"
   ]
  },
  {
   "cell_type": "code",
   "execution_count": 42,
   "metadata": {},
   "outputs": [
    {
     "data": {
      "text/plain": [
       "count    42.000000\n",
       "mean     13.828177\n",
       "std       7.071578\n",
       "min       7.984767\n",
       "25%      10.587997\n",
       "50%      10.974450\n",
       "75%      12.904359\n",
       "max      40.775862\n",
       "Name: Precision_x_drifted_ano, dtype: float64"
      ]
     },
     "execution_count": 42,
     "metadata": {},
     "output_type": "execute_result"
    }
   ],
   "source": [
    "df_tVP2_m1[df_tVP2_m1['name_pretrained_model'] == 6]['Precision_x_drifted_ano'].describe()"
   ]
  },
  {
   "cell_type": "markdown",
   "metadata": {},
   "source": [
    "## False Positives vor und nach dem Fine-Tuning"
   ]
  },
  {
   "cell_type": "code",
   "execution_count": 92,
   "metadata": {},
   "outputs": [
    {
     "data": {
      "text/html": [
       "<div>\n",
       "<style scoped>\n",
       "    .dataframe tbody tr th:only-of-type {\n",
       "        vertical-align: middle;\n",
       "    }\n",
       "\n",
       "    .dataframe tbody tr th {\n",
       "        vertical-align: top;\n",
       "    }\n",
       "\n",
       "    .dataframe thead th {\n",
       "        text-align: right;\n",
       "    }\n",
       "</style>\n",
       "<table border=\"1\" class=\"dataframe\">\n",
       "  <thead>\n",
       "    <tr style=\"text-align: right;\">\n",
       "      <th></th>\n",
       "      <th>TN_x_ano_drifted</th>\n",
       "      <th>FP_x_ano_drifted</th>\n",
       "      <th>FN_x_ano_drifted</th>\n",
       "      <th>TP_x_ano_drifted</th>\n",
       "    </tr>\n",
       "  </thead>\n",
       "  <tbody>\n",
       "    <tr>\n",
       "      <th>count</th>\n",
       "      <td>97.0</td>\n",
       "      <td>97.0</td>\n",
       "      <td>97.000000</td>\n",
       "      <td>97.000000</td>\n",
       "    </tr>\n",
       "    <tr>\n",
       "      <th>mean</th>\n",
       "      <td>29230.0</td>\n",
       "      <td>3313.0</td>\n",
       "      <td>101.835052</td>\n",
       "      <td>2395.164948</td>\n",
       "    </tr>\n",
       "    <tr>\n",
       "      <th>std</th>\n",
       "      <td>0.0</td>\n",
       "      <td>0.0</td>\n",
       "      <td>22.171059</td>\n",
       "      <td>22.171059</td>\n",
       "    </tr>\n",
       "    <tr>\n",
       "      <th>min</th>\n",
       "      <td>29230.0</td>\n",
       "      <td>3313.0</td>\n",
       "      <td>71.000000</td>\n",
       "      <td>2277.000000</td>\n",
       "    </tr>\n",
       "    <tr>\n",
       "      <th>25%</th>\n",
       "      <td>29230.0</td>\n",
       "      <td>3313.0</td>\n",
       "      <td>89.000000</td>\n",
       "      <td>2388.000000</td>\n",
       "    </tr>\n",
       "    <tr>\n",
       "      <th>50%</th>\n",
       "      <td>29230.0</td>\n",
       "      <td>3313.0</td>\n",
       "      <td>97.000000</td>\n",
       "      <td>2400.000000</td>\n",
       "    </tr>\n",
       "    <tr>\n",
       "      <th>75%</th>\n",
       "      <td>29230.0</td>\n",
       "      <td>3313.0</td>\n",
       "      <td>109.000000</td>\n",
       "      <td>2408.000000</td>\n",
       "    </tr>\n",
       "    <tr>\n",
       "      <th>max</th>\n",
       "      <td>29230.0</td>\n",
       "      <td>3313.0</td>\n",
       "      <td>220.000000</td>\n",
       "      <td>2426.000000</td>\n",
       "    </tr>\n",
       "  </tbody>\n",
       "</table>\n",
       "</div>"
      ],
      "text/plain": [
       "       TN_x_ano_drifted  FP_x_ano_drifted  FN_x_ano_drifted  TP_x_ano_drifted\n",
       "count              97.0              97.0         97.000000         97.000000\n",
       "mean            29230.0            3313.0        101.835052       2395.164948\n",
       "std                 0.0               0.0         22.171059         22.171059\n",
       "min             29230.0            3313.0         71.000000       2277.000000\n",
       "25%             29230.0            3313.0         89.000000       2388.000000\n",
       "50%             29230.0            3313.0         97.000000       2400.000000\n",
       "75%             29230.0            3313.0        109.000000       2408.000000\n",
       "max             29230.0            3313.0        220.000000       2426.000000"
      ]
     },
     "execution_count": 92,
     "metadata": {},
     "output_type": "execute_result"
    }
   ],
   "source": [
    "df_tVP1_m1[['TN_x_ano_drifted', 'FP_x_ano_drifted', 'FN_x_ano_drifted', 'TP_x_ano_drifted']].describe()"
   ]
  },
  {
   "cell_type": "code",
   "execution_count": 93,
   "metadata": {},
   "outputs": [
    {
     "data": {
      "text/html": [
       "<div>\n",
       "<style scoped>\n",
       "    .dataframe tbody tr th:only-of-type {\n",
       "        vertical-align: middle;\n",
       "    }\n",
       "\n",
       "    .dataframe tbody tr th {\n",
       "        vertical-align: top;\n",
       "    }\n",
       "\n",
       "    .dataframe thead th {\n",
       "        text-align: right;\n",
       "    }\n",
       "</style>\n",
       "<table border=\"1\" class=\"dataframe\">\n",
       "  <thead>\n",
       "    <tr style=\"text-align: right;\">\n",
       "      <th></th>\n",
       "      <th>TN_x_drifted_ano</th>\n",
       "      <th>FP_x_drifted_ano</th>\n",
       "      <th>FN_x_drifted_ano</th>\n",
       "      <th>TP_x_drifted_ano</th>\n",
       "    </tr>\n",
       "  </thead>\n",
       "  <tbody>\n",
       "    <tr>\n",
       "      <th>count</th>\n",
       "      <td>226.000000</td>\n",
       "      <td>226.000000</td>\n",
       "      <td>226.000000</td>\n",
       "      <td>226.000000</td>\n",
       "    </tr>\n",
       "    <tr>\n",
       "      <th>mean</th>\n",
       "      <td>17127.685841</td>\n",
       "      <td>15415.314159</td>\n",
       "      <td>39.287611</td>\n",
       "      <td>2457.712389</td>\n",
       "    </tr>\n",
       "    <tr>\n",
       "      <th>std</th>\n",
       "      <td>8170.875553</td>\n",
       "      <td>8170.875553</td>\n",
       "      <td>41.157168</td>\n",
       "      <td>41.157168</td>\n",
       "    </tr>\n",
       "    <tr>\n",
       "      <th>min</th>\n",
       "      <td>0.000000</td>\n",
       "      <td>3313.000000</td>\n",
       "      <td>0.000000</td>\n",
       "      <td>2282.000000</td>\n",
       "    </tr>\n",
       "    <tr>\n",
       "      <th>25%</th>\n",
       "      <td>11629.250000</td>\n",
       "      <td>8528.250000</td>\n",
       "      <td>11.000000</td>\n",
       "      <td>2442.000000</td>\n",
       "    </tr>\n",
       "    <tr>\n",
       "      <th>50%</th>\n",
       "      <td>17328.500000</td>\n",
       "      <td>15214.500000</td>\n",
       "      <td>31.000000</td>\n",
       "      <td>2466.000000</td>\n",
       "    </tr>\n",
       "    <tr>\n",
       "      <th>75%</th>\n",
       "      <td>24014.750000</td>\n",
       "      <td>20913.750000</td>\n",
       "      <td>55.000000</td>\n",
       "      <td>2486.000000</td>\n",
       "    </tr>\n",
       "    <tr>\n",
       "      <th>max</th>\n",
       "      <td>29230.000000</td>\n",
       "      <td>32543.000000</td>\n",
       "      <td>215.000000</td>\n",
       "      <td>2497.000000</td>\n",
       "    </tr>\n",
       "  </tbody>\n",
       "</table>\n",
       "</div>"
      ],
      "text/plain": [
       "       TN_x_drifted_ano  FP_x_drifted_ano  FN_x_drifted_ano  TP_x_drifted_ano\n",
       "count        226.000000        226.000000        226.000000        226.000000\n",
       "mean       17127.685841      15415.314159         39.287611       2457.712389\n",
       "std         8170.875553       8170.875553         41.157168         41.157168\n",
       "min            0.000000       3313.000000          0.000000       2282.000000\n",
       "25%        11629.250000       8528.250000         11.000000       2442.000000\n",
       "50%        17328.500000      15214.500000         31.000000       2466.000000\n",
       "75%        24014.750000      20913.750000         55.000000       2486.000000\n",
       "max        29230.000000      32543.000000        215.000000       2497.000000"
      ]
     },
     "execution_count": 93,
     "metadata": {},
     "output_type": "execute_result"
    }
   ],
   "source": [
    "df_tVP2_m1[['TN_x_drifted_ano', 'FP_x_drifted_ano', 'FN_x_drifted_ano', 'TP_x_drifted_ano']].describe()"
   ]
  },
  {
   "cell_type": "code",
   "execution_count": 94,
   "metadata": {},
   "outputs": [],
   "source": [
    "cm_tVP1_m1 = [[29230, 3313],[102, 2395]]\n",
    "cm_tVP2_m1 = [[17128, 15415],[39, 2458]]"
   ]
  },
  {
   "cell_type": "code",
   "execution_count": 95,
   "metadata": {},
   "outputs": [],
   "source": [
    "df_cm_1 = pd.DataFrame(\n",
    "        cm_tVP1_m1, index=['k. Anomalie', 'Anomalie'], columns=['k. Anomalie', 'Anomalie'], \n",
    ")"
   ]
  },
  {
   "cell_type": "code",
   "execution_count": 96,
   "metadata": {},
   "outputs": [],
   "source": [
    "df_cm_2 = pd.DataFrame(\n",
    "        cm_tVP2_m1, index=['k. Anomalie', 'Anomalie'], columns=['k. Anomalie', 'Anomalie'], \n",
    ")"
   ]
  },
  {
   "cell_type": "code",
   "execution_count": 124,
   "metadata": {},
   "outputs": [
    {
     "data": {
      "image/png": "[encoded data removed]",
      "text/plain": [
       "<Figure size 1296x504 with 2 Axes>"
      ]
     },
     "metadata": {},
     "output_type": "display_data"
    }
   ],
   "source": [
    "fig, ax = plt.subplots(1,2, figsize=(18,7))\n",
    "sns.heatmap(df_cm_1, annot=True, fmt=\"d\",linewidths=.6,annot_kws={\"size\": 30},cmap='Blues', ax=ax[0], cbar=False)\n",
    "sns.heatmap(df_cm_2, annot=True, fmt=\"d\",linewidths=.6,annot_kws={\"size\": 30},cmap='Blues', ax=ax[1], cbar=False)\n",
    "\n",
    "ax[0].yaxis.set_ticklabels(ax[0].yaxis.get_ticklabels(), rotation=0, ha='right',fontsize=28)\n",
    "ax[0].xaxis.set_ticklabels(ax[0].xaxis.get_ticklabels(), rotation=0, fontsize=28)\n",
    "\n",
    "ax[1].yaxis.set_ticklabels(ax[1].yaxis.get_ticklabels(), rotation=0, ha='right', fontsize=28)\n",
    "ax[1].xaxis.set_ticklabels(ax[1].xaxis.get_ticklabels(), rotation=0,  fontsize=28)\n",
    "\n",
    "ax[0].set_ylabel('Tatsächlich', fontsize=32)\n",
    "ax[0].set_xlabel('Prognostiziert',fontsize=32)\n",
    "ax[1].set_ylabel('Tatsächlich', fontsize=32)\n",
    "ax[1].set_xlabel('Prognostiziert',fontsize=32)\n",
    "\n",
    "ax[0].set_title('Confusion Matrix $M_1$ nach Phase I', fontsize=36)\n",
    "ax[1].set_title('Confusion Matrix $M_1$ nach Phase II', fontsize=36)\n",
    "plt.tight_layout()\n",
    "\n",
    "save = True\n",
    "if save:\n",
    "    fn = os.path.join(os.getcwd(), 'figs', '{}_confusion_matrices_m1.pdf'.format(arrow.now().format('YYYYMMDD')))\n",
    "    fig.savefig(fn, bbox_inches='tight')"
   ]
  },
  {
   "cell_type": "code",
   "execution_count": null,
   "metadata": {},
   "outputs": [],
   "source": []
  },
  {
   "cell_type": "code",
   "execution_count": null,
   "metadata": {},
   "outputs": [],
   "source": []
  }
 ],
 "metadata": {
  "kernelspec": {
   "display_name": "ma_modells",
   "language": "python",
   "name": "ma_modells"
  },
  "language_info": {
   "codemirror_mode": {
    "name": "ipython",
    "version": 3
   },
   "file_extension": ".py",
   "mimetype": "text/x-python",
   "name": "python",
   "nbconvert_exporter": "python",
   "pygments_lexer": "ipython3",
   "version": "3.7.6"
  }
 },
 "nbformat": 4,
 "nbformat_minor": 4
}
