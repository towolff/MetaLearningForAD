{
 "cells": [
  {
   "cell_type": "markdown",
   "metadata": {},
   "source": [
    "# Meta Training Experiment"
   ]
  },
  {
   "cell_type": "code",
   "execution_count": 1,
   "metadata": {},
   "outputs": [],
   "source": [
    "import arrow\n",
    "import learn2learn as l2l\n",
    "import numpy as np\n",
    "import os\n",
    "import pickle\n",
    "import torch\n",
    "from torch.utils.data import TensorDataset\n",
    "from sklearn.model_selection import train_test_split\n",
    "import pandas as pd\n",
    "import matplotlib.pyplot as plt\n",
    "\n",
    "from utils.evalUtils import print_confusion_matrix\n",
    "\n",
    "from sklearn.preprocessing import MinMaxScaler"
   ]
  },
  {
   "cell_type": "code",
   "execution_count": 2,
   "metadata": {},
   "outputs": [
    {
     "name": "stdout",
     "output_type": "stream",
     "text": [
      "Set configs..\n"
     ]
    }
   ],
   "source": [
    "%run -i ./scripts/setConfigs.py"
   ]
  },
  {
   "cell_type": "markdown",
   "metadata": {},
   "source": [
    "## Prepare data.."
   ]
  },
  {
   "cell_type": "code",
   "execution_count": 3,
   "metadata": {},
   "outputs": [
    {
     "name": "stdout",
     "output_type": "stream",
     "text": [
      "Shape of X_train data: (105216, 17)\n"
     ]
    }
   ],
   "source": [
    "data_fn = os.path.join(data_path, 'simulation_data_y_2020_2021_reduced.h5')\n",
    "df_data_train = pd.read_hdf(data_fn, key='df')\n",
    "print('Shape of X_train data: {}'.format(df_data_train.shape))"
   ]
  },
  {
   "cell_type": "code",
   "execution_count": 4,
   "metadata": {},
   "outputs": [
    {
     "name": "stdout",
     "output_type": "stream",
     "text": [
      "Shape of X_anomal aka X_test: (35040, 18)\n"
     ]
    }
   ],
   "source": [
    "anomalous_data_fn = os.path.join(data_path, 'anomalous_data_y_2022_reduced.h5')\n",
    "df_anormal = pd.read_hdf(anomalous_data_fn, key='df')\n",
    "print('Shape of X_anomal aka X_test: {}'.format(df_anormal.shape))"
   ]
  },
  {
   "cell_type": "code",
   "execution_count": 5,
   "metadata": {},
   "outputs": [
    {
     "name": "stdout",
     "output_type": "stream",
     "text": [
      "Shape of X_drifted: (35040, 18)\n"
     ]
    }
   ],
   "source": [
    "drifted_data_fn = os.path.join(data_path, 'drifted_data_y_2023_reduced_more_cos_phi.h5')\n",
    "df_x_drifted = pd.read_hdf(drifted_data_fn, key='df')\n",
    "print('Shape of X_drifted: {}'.format(df_x_drifted.shape))"
   ]
  },
  {
   "cell_type": "code",
   "execution_count": 6,
   "metadata": {},
   "outputs": [
    {
     "name": "stdout",
     "output_type": "stream",
     "text": [
      "Shape of X_anomal,drifted : (35040, 19)\n"
     ]
    }
   ],
   "source": [
    "anomalous_drifted_data_fn = os.path.join(data_path, 'anomalous_drifted_data_y_2023_reduced_more_cos_phi.h5')\n",
    "df_anormal_drifted = pd.read_hdf(anomalous_drifted_data_fn, key='df')\n",
    "print('Shape of X_anomal,drifted : {}'.format(df_anormal_drifted.shape))"
   ]
  },
  {
   "cell_type": "code",
   "execution_count": 7,
   "metadata": {},
   "outputs": [],
   "source": [
    "y_anormal = [1 if x > 0 else 0 for x in df_anormal['label']]\n",
    "df_anormal.drop('label', inplace=True, axis=1)\n",
    "x_anormal = df_anormal"
   ]
  },
  {
   "cell_type": "code",
   "execution_count": 9,
   "metadata": {},
   "outputs": [],
   "source": [
    "s_x_drifted_drift_labels = df_x_drifted['drift_labels']\n",
    "df_x_drifted.drop('drift_labels',axis=1, inplace=True)"
   ]
  },
  {
   "cell_type": "code",
   "execution_count": 10,
   "metadata": {},
   "outputs": [],
   "source": [
    "y_anormal_drifted = [1 if x > 0 else 0 for x in df_anormal_drifted['anomaly_labels']]\n",
    "df_anormal_drifted.drop(['anomaly_labels', 'drift_labels'], inplace=True, axis=1)\n",
    "x_anormal_drifted = df_anormal_drifted"
   ]
  },
  {
   "cell_type": "code",
   "execution_count": 9,
   "metadata": {},
   "outputs": [
    {
     "name": "stdout",
     "output_type": "stream",
     "text": [
      "Scale data..\n"
     ]
    }
   ],
   "source": [
    "print('Scale data..')\n",
    "scaler_train = MinMaxScaler((-1,1))\n",
    "scaler_train = scaler_train.fit(df_data_train)\n",
    "scaled_train = scaler_train.transform(df_data_train.to_numpy())\n",
    "x_anormal = scaler_train.transform(x_anormal.to_numpy())\n",
    "x_anormal_drifted = scaler_train.transform(x_anormal_drifted.to_numpy())"
   ]
  },
  {
   "cell_type": "code",
   "execution_count": 10,
   "metadata": {},
   "outputs": [],
   "source": [
    "X_train, X_test, y_train, y_test = train_test_split(scaled_train, fake_labels, train_size=0.8, random_state=42)"
   ]
  },
  {
   "cell_type": "code",
   "execution_count": 11,
   "metadata": {},
   "outputs": [],
   "source": [
    "assert len(scaled_train) == len(X_test) + len(X_train)\n",
    "assert len(scaled_train) == len(y_test) + len(y_train)"
   ]
  },
  {
   "cell_type": "code",
   "execution_count": 12,
   "metadata": {},
   "outputs": [],
   "source": [
    "# build tensor from numpy\n",
    "train_torch_tensor_X = torch.from_numpy(X_train).type(torch.FloatTensor)\n",
    "train_torch_tensor_y = torch.from_numpy(y_train.reshape(len(y_train),1)).type(torch.FloatTensor)\n",
    "\n",
    "test_torch_tensor_X = torch.from_numpy(X_test).type(torch.FloatTensor)\n",
    "test_torch_tensor_y = torch.from_numpy(y_test.reshape(len(y_test),1)).type(torch.FloatTensor)"
   ]
  },
  {
   "cell_type": "code",
   "execution_count": 13,
   "metadata": {},
   "outputs": [],
   "source": [
    "x_anormal_torch_tensor = torch.from_numpy(x_anormal).type(torch.FloatTensor)\n",
    "x_anormal_drifted_torch_tensor = torch.from_numpy(x_anormal_drifted).type(torch.FloatTensor)"
   ]
  },
  {
   "cell_type": "code",
   "execution_count": 14,
   "metadata": {},
   "outputs": [],
   "source": [
    "# build pytorch dataset from tensor\n",
    "train_dataset = TensorDataset(train_torch_tensor_X, train_torch_tensor_y)\n",
    "test_dataset = TensorDataset(test_torch_tensor_X, test_torch_tensor_y)"
   ]
  },
  {
   "cell_type": "code",
   "execution_count": 15,
   "metadata": {},
   "outputs": [],
   "source": [
    "# create MetaDatasets from l2l\n",
    "train_metadataset = l2l.data.MetaDataset(train_dataset)\n",
    "test_metadataset = l2l.data.MetaDataset(test_dataset)"
   ]
  },
  {
   "cell_type": "markdown",
   "metadata": {},
   "source": [
    "## Import model.."
   ]
  },
  {
   "cell_type": "code",
   "execution_count": 16,
   "metadata": {},
   "outputs": [
    {
     "name": "stdout",
     "output_type": "stream",
     "text": [
      "++++++++++++++++++++++++++++++\n",
      "Load untrained simple AE..\n",
      "----------\n",
      "Load model: /home/torge/dev/masterthesis_code/02_Experimente/03_Experimente/models/model_bib/20200302_firstAE_model.pt\n",
      "----------\n",
      "SimpleAutoEncoder(\n",
      "  (encoder): Sequential(\n",
      "    (0): Linear(in_features=17, out_features=12, bias=True)\n",
      "    (1): ReLU(inplace=True)\n",
      "    (2): Linear(in_features=12, out_features=8, bias=True)\n",
      "    (3): Tanh()\n",
      "  )\n",
      "  (decoder): Sequential(\n",
      "    (0): Linear(in_features=8, out_features=12, bias=True)\n",
      "    (1): ReLU(inplace=True)\n",
      "    (2): Linear(in_features=12, out_features=17, bias=True)\n",
      "    (3): Tanh()\n",
      "  )\n",
      ")\n",
      "----------\n",
      "Init weights..\n",
      "----------\n",
      "Set model in train mode!\n",
      "++++++++++++++++++++++++++++++\n"
     ]
    }
   ],
   "source": [
    "%run -i ./scripts/ReadSimpleAE.py"
   ]
  },
  {
   "cell_type": "markdown",
   "metadata": {},
   "source": [
    "## Read sampled data!"
   ]
  },
  {
   "cell_type": "code",
   "execution_count": 17,
   "metadata": {},
   "outputs": [],
   "source": [
    "fn = '20200407_teilfaktorieller_versuchsplan_gesampelt.csv'\n",
    "df_versuchsplan = pd.read_csv(os.path.join(exp_data_path, fn), sep=';')"
   ]
  },
  {
   "cell_type": "code",
   "execution_count": 18,
   "metadata": {},
   "outputs": [
    {
     "data": {
      "text/plain": [
       "97"
      ]
     },
     "execution_count": 18,
     "metadata": {},
     "output_type": "execute_result"
    }
   ],
   "source": [
    "len(df_versuchsplan)"
   ]
  },
  {
   "cell_type": "markdown",
   "metadata": {},
   "source": [
    "## Start!"
   ]
  },
  {
   "cell_type": "code",
   "execution_count": 19,
   "metadata": {},
   "outputs": [],
   "source": [
    "from Experiments.MetaTrainExperiment import MetaTrainExperiment"
   ]
  },
  {
   "cell_type": "code",
   "execution_count": 20,
   "metadata": {},
   "outputs": [],
   "source": [
    "optimizer = None\n",
    "adaption_steps = None\n",
    "k_train = None\n",
    "num_train = None\n",
    "num_eval = None\n",
    "num_iter = None\n",
    "meta_lr = None\n",
    "first_order = None"
   ]
  },
  {
   "cell_type": "code",
   "execution_count": 21,
   "metadata": {},
   "outputs": [
    {
     "name": "stderr",
     "output_type": "stream",
     "text": [
      "  0%|          | 0/300 [00:00<?, ?it/s]"
     ]
    },
    {
     "name": "stdout",
     "output_type": "stream",
     "text": [
      "Current: 0 of 97\n",
      "k_train            10\n",
      "num_train         128\n",
      "num_eval           16\n",
      "num_iter          300\n",
      "optimizer         SGD\n",
      "meta_lr           0.1\n",
      "adaption_steps      5\n",
      "Name: 0, dtype: object\n"
     ]
    },
    {
     "name": "stderr",
     "output_type": "stream",
     "text": [
      "Adaption Error: 0.049935, Validation Error: 0.028072: 100%|██████████| 300/300 [09:45<00:00,  1.95s/it]\n",
      "  0%|          | 0/100 [00:00<?, ?it/s]"
     ]
    },
    {
     "name": "stdout",
     "output_type": "stream",
     "text": [
      "Saved model at: /home/torge/dev/masterthesis_code/02_Experimente/03_Experimente/exp_models/20200407_MODEL__K_TRAIN_10_NUM_TRAIN_128_NUM_EVAL_16_NUM_ITER_300_OPTIMIZER_SGD_META_LR_0.1_ADAPTION_STEPS_5.pt\n",
      "Saved logreg at: /home/torge/dev/masterthesis_code/02_Experimente/03_Experimente/exp_models/20200407_LOGREG_MODEL__K_TRAIN_10_NUM_TRAIN_128_NUM_EVAL_16_NUM_ITER_300_OPTIMIZER_SGD_META_LR_0.1_ADAPTION_STEPS_5.save\n",
      "++++++++++++++++++++++++++++++\n",
      "Current: 1 of 97\n",
      "k_train              10\n",
      "num_train           128\n",
      "num_eval             32\n",
      "num_iter            100\n",
      "optimizer          Adam\n",
      "meta_lr           0.001\n",
      "adaption_steps       10\n",
      "Name: 1, dtype: object\n"
     ]
    },
    {
     "name": "stderr",
     "output_type": "stream",
     "text": [
      "Adaption Error: 0.007878, Validation Error: 0.007504: 100%|██████████| 100/100 [05:43<00:00,  3.43s/it]\n",
      "  0%|          | 0/500 [00:00<?, ?it/s]"
     ]
    },
    {
     "name": "stdout",
     "output_type": "stream",
     "text": [
      "Saved model at: /home/torge/dev/masterthesis_code/02_Experimente/03_Experimente/exp_models/20200407_MODEL__K_TRAIN_10_NUM_TRAIN_128_NUM_EVAL_32_NUM_ITER_100_OPTIMIZER_Adam_META_LR_0.001_ADAPTION_STEPS_10.pt\n",
      "Saved logreg at: /home/torge/dev/masterthesis_code/02_Experimente/03_Experimente/exp_models/20200407_LOGREG_MODEL__K_TRAIN_10_NUM_TRAIN_128_NUM_EVAL_32_NUM_ITER_100_OPTIMIZER_Adam_META_LR_0.001_ADAPTION_STEPS_10.save\n",
      "++++++++++++++++++++++++++++++\n",
      "Current: 2 of 97\n",
      "k_train              20\n",
      "num_train            32\n",
      "num_eval             16\n",
      "num_iter            500\n",
      "optimizer          Adam\n",
      "meta_lr           0.001\n",
      "adaption_steps        5\n",
      "Name: 2, dtype: object\n"
     ]
    },
    {
     "name": "stderr",
     "output_type": "stream",
     "text": [
      "Adaption Error: 0.008630, Validation Error: 0.001208: 100%|██████████| 500/500 [04:28<00:00,  1.86it/s]\n",
      "  0%|          | 0/500 [00:00<?, ?it/s]"
     ]
    },
    {
     "name": "stdout",
     "output_type": "stream",
     "text": [
      "Saved model at: /home/torge/dev/masterthesis_code/02_Experimente/03_Experimente/exp_models/20200407_MODEL__K_TRAIN_20_NUM_TRAIN_32_NUM_EVAL_16_NUM_ITER_500_OPTIMIZER_Adam_META_LR_0.001_ADAPTION_STEPS_5.pt\n",
      "Saved logreg at: /home/torge/dev/masterthesis_code/02_Experimente/03_Experimente/exp_models/20200407_LOGREG_MODEL__K_TRAIN_20_NUM_TRAIN_32_NUM_EVAL_16_NUM_ITER_500_OPTIMIZER_Adam_META_LR_0.001_ADAPTION_STEPS_5.save\n",
      "++++++++++++++++++++++++++++++\n",
      "Current: 3 of 97\n",
      "k_train            10\n",
      "num_train         128\n",
      "num_eval           32\n",
      "num_iter          500\n",
      "optimizer         SGD\n",
      "meta_lr           0.1\n",
      "adaption_steps     10\n",
      "Name: 3, dtype: object\n"
     ]
    },
    {
     "name": "stderr",
     "output_type": "stream",
     "text": [
      "Adaption Error: 0.011218, Validation Error: 0.000709: 100%|██████████| 500/500 [25:33<00:00,  3.07s/it]\n",
      "  0%|          | 0/500 [00:00<?, ?it/s]"
     ]
    },
    {
     "name": "stdout",
     "output_type": "stream",
     "text": [
      "Saved model at: /home/torge/dev/masterthesis_code/02_Experimente/03_Experimente/exp_models/20200408_MODEL__K_TRAIN_10_NUM_TRAIN_128_NUM_EVAL_32_NUM_ITER_500_OPTIMIZER_SGD_META_LR_0.1_ADAPTION_STEPS_10.pt\n",
      "Saved logreg at: /home/torge/dev/masterthesis_code/02_Experimente/03_Experimente/exp_models/20200408_LOGREG_MODEL__K_TRAIN_10_NUM_TRAIN_128_NUM_EVAL_32_NUM_ITER_500_OPTIMIZER_SGD_META_LR_0.1_ADAPTION_STEPS_10.save\n",
      "++++++++++++++++++++++++++++++\n",
      "Current: 4 of 97\n",
      "k_train             5\n",
      "num_train          64\n",
      "num_eval           32\n",
      "num_iter          500\n",
      "optimizer         SGD\n",
      "meta_lr           0.1\n",
      "adaption_steps      5\n",
      "Name: 4, dtype: object\n"
     ]
    },
    {
     "name": "stderr",
     "output_type": "stream",
     "text": [
      "Adaption Error: 0.002767, Validation Error: 0.004574: 100%|██████████| 500/500 [07:45<00:00,  1.07it/s]\n",
      "  0%|          | 0/500 [00:00<?, ?it/s]"
     ]
    },
    {
     "name": "stdout",
     "output_type": "stream",
     "text": [
      "Saved model at: /home/torge/dev/masterthesis_code/02_Experimente/03_Experimente/exp_models/20200408_MODEL__K_TRAIN_5_NUM_TRAIN_64_NUM_EVAL_32_NUM_ITER_500_OPTIMIZER_SGD_META_LR_0.1_ADAPTION_STEPS_5.pt\n",
      "Saved logreg at: /home/torge/dev/masterthesis_code/02_Experimente/03_Experimente/exp_models/20200408_LOGREG_MODEL__K_TRAIN_5_NUM_TRAIN_64_NUM_EVAL_32_NUM_ITER_500_OPTIMIZER_SGD_META_LR_0.1_ADAPTION_STEPS_5.save\n",
      "++++++++++++++++++++++++++++++\n",
      "Current: 5 of 97\n",
      "k_train              5\n",
      "num_train           64\n",
      "num_eval            16\n",
      "num_iter           500\n",
      "optimizer         Adam\n",
      "meta_lr            0.1\n",
      "adaption_steps       5\n",
      "Name: 5, dtype: object\n"
     ]
    },
    {
     "name": "stderr",
     "output_type": "stream",
     "text": [
      "Adaption Error: 0.015486, Validation Error: 0.001645: 100%|██████████| 500/500 [07:55<00:00,  1.05it/s]\n",
      "  0%|          | 0/100 [00:00<?, ?it/s]"
     ]
    },
    {
     "name": "stdout",
     "output_type": "stream",
     "text": [
      "Saved model at: /home/torge/dev/masterthesis_code/02_Experimente/03_Experimente/exp_models/20200408_MODEL__K_TRAIN_5_NUM_TRAIN_64_NUM_EVAL_16_NUM_ITER_500_OPTIMIZER_Adam_META_LR_0.1_ADAPTION_STEPS_5.pt\n",
      "Saved logreg at: /home/torge/dev/masterthesis_code/02_Experimente/03_Experimente/exp_models/20200408_LOGREG_MODEL__K_TRAIN_5_NUM_TRAIN_64_NUM_EVAL_16_NUM_ITER_500_OPTIMIZER_Adam_META_LR_0.1_ADAPTION_STEPS_5.save\n",
      "++++++++++++++++++++++++++++++\n",
      "Current: 6 of 97\n",
      "k_train            20\n",
      "num_train          32\n",
      "num_eval           16\n",
      "num_iter          100\n",
      "optimizer         SGD\n",
      "meta_lr           0.1\n",
      "adaption_steps      5\n",
      "Name: 6, dtype: object\n"
     ]
    },
    {
     "name": "stderr",
     "output_type": "stream",
     "text": [
      "Adaption Error: 0.012092, Validation Error: 0.000683: 100%|██████████| 100/100 [00:58<00:00,  1.70it/s]\n",
      "  0%|          | 0/500 [00:00<?, ?it/s]"
     ]
    },
    {
     "name": "stdout",
     "output_type": "stream",
     "text": [
      "Saved model at: /home/torge/dev/masterthesis_code/02_Experimente/03_Experimente/exp_models/20200408_MODEL__K_TRAIN_20_NUM_TRAIN_32_NUM_EVAL_16_NUM_ITER_100_OPTIMIZER_SGD_META_LR_0.1_ADAPTION_STEPS_5.pt\n",
      "Saved logreg at: /home/torge/dev/masterthesis_code/02_Experimente/03_Experimente/exp_models/20200408_LOGREG_MODEL__K_TRAIN_20_NUM_TRAIN_32_NUM_EVAL_16_NUM_ITER_100_OPTIMIZER_SGD_META_LR_0.1_ADAPTION_STEPS_5.save\n",
      "++++++++++++++++++++++++++++++\n",
      "Current: 7 of 97\n",
      "k_train               5\n",
      "num_train            32\n",
      "num_eval             16\n",
      "num_iter            500\n",
      "optimizer           SGD\n",
      "meta_lr           0.001\n",
      "adaption_steps       15\n",
      "Name: 7, dtype: object\n"
     ]
    },
    {
     "name": "stderr",
     "output_type": "stream",
     "text": [
      "Adaption Error: 0.007748, Validation Error: 0.000501: 100%|██████████| 500/500 [08:37<00:00,  1.03s/it]\n",
      "  0%|          | 0/300 [00:00<?, ?it/s]"
     ]
    },
    {
     "name": "stdout",
     "output_type": "stream",
     "text": [
      "Saved model at: /home/torge/dev/masterthesis_code/02_Experimente/03_Experimente/exp_models/20200408_MODEL__K_TRAIN_5_NUM_TRAIN_32_NUM_EVAL_16_NUM_ITER_500_OPTIMIZER_SGD_META_LR_0.001_ADAPTION_STEPS_15.pt\n",
      "Saved logreg at: /home/torge/dev/masterthesis_code/02_Experimente/03_Experimente/exp_models/20200408_LOGREG_MODEL__K_TRAIN_5_NUM_TRAIN_32_NUM_EVAL_16_NUM_ITER_500_OPTIMIZER_SGD_META_LR_0.001_ADAPTION_STEPS_15.save\n",
      "++++++++++++++++++++++++++++++\n",
      "Current: 8 of 97\n",
      "k_train              20\n",
      "num_train            32\n",
      "num_eval             16\n",
      "num_iter            300\n",
      "optimizer           SGD\n",
      "meta_lr           0.001\n",
      "adaption_steps       15\n",
      "Name: 8, dtype: object\n"
     ]
    },
    {
     "name": "stderr",
     "output_type": "stream",
     "text": [
      "Adaption Error: 0.005353, Validation Error: 0.000483: 100%|██████████| 300/300 [04:59<00:00,  1.00it/s]\n",
      "  0%|          | 0/500 [00:00<?, ?it/s]"
     ]
    },
    {
     "name": "stdout",
     "output_type": "stream",
     "text": [
      "Saved model at: /home/torge/dev/masterthesis_code/02_Experimente/03_Experimente/exp_models/20200408_MODEL__K_TRAIN_20_NUM_TRAIN_32_NUM_EVAL_16_NUM_ITER_300_OPTIMIZER_SGD_META_LR_0.001_ADAPTION_STEPS_15.pt\n",
      "Saved logreg at: /home/torge/dev/masterthesis_code/02_Experimente/03_Experimente/exp_models/20200408_LOGREG_MODEL__K_TRAIN_20_NUM_TRAIN_32_NUM_EVAL_16_NUM_ITER_300_OPTIMIZER_SGD_META_LR_0.001_ADAPTION_STEPS_15.save\n",
      "++++++++++++++++++++++++++++++\n",
      "Current: 9 of 97\n",
      "k_train             20\n",
      "num_train           32\n",
      "num_eval            16\n",
      "num_iter           500\n",
      "optimizer         Adam\n",
      "meta_lr            0.1\n",
      "adaption_steps      15\n",
      "Name: 9, dtype: object\n"
     ]
    },
    {
     "name": "stderr",
     "output_type": "stream",
     "text": [
      "Adaption Error: 0.004763, Validation Error: 0.000670: 100%|██████████| 500/500 [09:19<00:00,  1.12s/it]\n",
      "  0%|          | 0/500 [00:00<?, ?it/s]"
     ]
    },
    {
     "name": "stdout",
     "output_type": "stream",
     "text": [
      "Saved model at: /home/torge/dev/masterthesis_code/02_Experimente/03_Experimente/exp_models/20200408_MODEL__K_TRAIN_20_NUM_TRAIN_32_NUM_EVAL_16_NUM_ITER_500_OPTIMIZER_Adam_META_LR_0.1_ADAPTION_STEPS_15.pt\n",
      "Saved logreg at: /home/torge/dev/masterthesis_code/02_Experimente/03_Experimente/exp_models/20200408_LOGREG_MODEL__K_TRAIN_20_NUM_TRAIN_32_NUM_EVAL_16_NUM_ITER_500_OPTIMIZER_Adam_META_LR_0.1_ADAPTION_STEPS_15.save\n",
      "++++++++++++++++++++++++++++++\n",
      "Current: 10 of 97\n",
      "k_train              20\n",
      "num_train            32\n",
      "num_eval             16\n",
      "num_iter            500\n",
      "optimizer           SGD\n",
      "meta_lr           0.001\n",
      "adaption_steps       15\n",
      "Name: 10, dtype: object\n"
     ]
    },
    {
     "name": "stderr",
     "output_type": "stream",
     "text": [
      "Adaption Error: 0.006628, Validation Error: 0.003902: 100%|██████████| 500/500 [08:54<00:00,  1.07s/it]\n",
      "  0%|          | 0/100 [00:00<?, ?it/s]"
     ]
    },
    {
     "name": "stdout",
     "output_type": "stream",
     "text": [
      "Saved model at: /home/torge/dev/masterthesis_code/02_Experimente/03_Experimente/exp_models/20200408_MODEL__K_TRAIN_20_NUM_TRAIN_32_NUM_EVAL_16_NUM_ITER_500_OPTIMIZER_SGD_META_LR_0.001_ADAPTION_STEPS_15.pt\n",
      "Saved logreg at: /home/torge/dev/masterthesis_code/02_Experimente/03_Experimente/exp_models/20200408_LOGREG_MODEL__K_TRAIN_20_NUM_TRAIN_32_NUM_EVAL_16_NUM_ITER_500_OPTIMIZER_SGD_META_LR_0.001_ADAPTION_STEPS_15.save\n",
      "++++++++++++++++++++++++++++++\n",
      "Current: 11 of 97\n",
      "k_train              5\n",
      "num_train           32\n",
      "num_eval            16\n",
      "num_iter           100\n",
      "optimizer         Adam\n",
      "meta_lr            0.1\n",
      "adaption_steps      15\n",
      "Name: 11, dtype: object\n"
     ]
    },
    {
     "name": "stderr",
     "output_type": "stream",
     "text": [
      "Adaption Error: 0.015068, Validation Error: 0.001765: 100%|██████████| 100/100 [01:37<00:00,  1.03it/s]\n",
      "  0%|          | 0/100 [00:00<?, ?it/s]"
     ]
    },
    {
     "name": "stdout",
     "output_type": "stream",
     "text": [
      "Saved model at: /home/torge/dev/masterthesis_code/02_Experimente/03_Experimente/exp_models/20200408_MODEL__K_TRAIN_5_NUM_TRAIN_32_NUM_EVAL_16_NUM_ITER_100_OPTIMIZER_Adam_META_LR_0.1_ADAPTION_STEPS_15.pt\n",
      "Saved logreg at: /home/torge/dev/masterthesis_code/02_Experimente/03_Experimente/exp_models/20200408_LOGREG_MODEL__K_TRAIN_5_NUM_TRAIN_32_NUM_EVAL_16_NUM_ITER_100_OPTIMIZER_Adam_META_LR_0.1_ADAPTION_STEPS_15.save\n",
      "++++++++++++++++++++++++++++++\n",
      "Current: 12 of 97\n",
      "k_train               5\n",
      "num_train           128\n",
      "num_eval             16\n",
      "num_iter            100\n",
      "optimizer          Adam\n",
      "meta_lr           0.001\n",
      "adaption_steps       15\n",
      "Name: 12, dtype: object\n"
     ]
    },
    {
     "name": "stderr",
     "output_type": "stream",
     "text": [
      "Adaption Error: 0.003041, Validation Error: 0.000384: 100%|██████████| 100/100 [06:45<00:00,  4.05s/it]\n",
      "  0%|          | 0/100 [00:00<?, ?it/s]"
     ]
    },
    {
     "name": "stdout",
     "output_type": "stream",
     "text": [
      "Saved model at: /home/torge/dev/masterthesis_code/02_Experimente/03_Experimente/exp_models/20200408_MODEL__K_TRAIN_5_NUM_TRAIN_128_NUM_EVAL_16_NUM_ITER_100_OPTIMIZER_Adam_META_LR_0.001_ADAPTION_STEPS_15.pt\n",
      "Saved logreg at: /home/torge/dev/masterthesis_code/02_Experimente/03_Experimente/exp_models/20200408_LOGREG_MODEL__K_TRAIN_5_NUM_TRAIN_128_NUM_EVAL_16_NUM_ITER_100_OPTIMIZER_Adam_META_LR_0.001_ADAPTION_STEPS_15.save\n",
      "++++++++++++++++++++++++++++++\n",
      "Current: 13 of 97\n",
      "k_train             10\n",
      "num_train           64\n",
      "num_eval            16\n",
      "num_iter           100\n",
      "optimizer         Adam\n",
      "meta_lr            0.1\n",
      "adaption_steps      10\n",
      "Name: 13, dtype: object\n"
     ]
    },
    {
     "name": "stderr",
     "output_type": "stream",
     "text": [
      "Adaption Error: 0.003448, Validation Error: 0.000502: 100%|██████████| 100/100 [02:50<00:00,  1.71s/it]\n",
      "  0%|          | 0/100 [00:00<?, ?it/s]"
     ]
    },
    {
     "name": "stdout",
     "output_type": "stream",
     "text": [
      "Saved model at: /home/torge/dev/masterthesis_code/02_Experimente/03_Experimente/exp_models/20200408_MODEL__K_TRAIN_10_NUM_TRAIN_64_NUM_EVAL_16_NUM_ITER_100_OPTIMIZER_Adam_META_LR_0.1_ADAPTION_STEPS_10.pt\n",
      "Saved logreg at: /home/torge/dev/masterthesis_code/02_Experimente/03_Experimente/exp_models/20200408_LOGREG_MODEL__K_TRAIN_10_NUM_TRAIN_64_NUM_EVAL_16_NUM_ITER_100_OPTIMIZER_Adam_META_LR_0.1_ADAPTION_STEPS_10.save\n",
      "++++++++++++++++++++++++++++++\n",
      "Current: 14 of 97\n",
      "k_train             10\n",
      "num_train          128\n",
      "num_eval            32\n",
      "num_iter           100\n",
      "optimizer          SGD\n",
      "meta_lr           0.01\n",
      "adaption_steps      10\n",
      "Name: 14, dtype: object\n"
     ]
    },
    {
     "name": "stderr",
     "output_type": "stream",
     "text": [
      "Adaption Error: 0.002549, Validation Error: 0.000177: 100%|██████████| 100/100 [05:03<00:00,  3.03s/it]\n",
      "  0%|          | 0/100 [00:00<?, ?it/s]"
     ]
    },
    {
     "name": "stdout",
     "output_type": "stream",
     "text": [
      "Saved model at: /home/torge/dev/masterthesis_code/02_Experimente/03_Experimente/exp_models/20200408_MODEL__K_TRAIN_10_NUM_TRAIN_128_NUM_EVAL_32_NUM_ITER_100_OPTIMIZER_SGD_META_LR_0.01_ADAPTION_STEPS_10.pt\n",
      "Saved logreg at: /home/torge/dev/masterthesis_code/02_Experimente/03_Experimente/exp_models/20200408_LOGREG_MODEL__K_TRAIN_10_NUM_TRAIN_128_NUM_EVAL_32_NUM_ITER_100_OPTIMIZER_SGD_META_LR_0.01_ADAPTION_STEPS_10.save\n",
      "++++++++++++++++++++++++++++++\n",
      "Current: 15 of 97\n",
      "k_train              10\n",
      "num_train            32\n",
      "num_eval             32\n",
      "num_iter            100\n",
      "optimizer          Adam\n",
      "meta_lr           0.001\n",
      "adaption_steps        5\n",
      "Name: 15, dtype: object\n"
     ]
    },
    {
     "name": "stderr",
     "output_type": "stream",
     "text": [
      "Adaption Error: 0.004562, Validation Error: 0.000830: 100%|██████████| 100/100 [00:55<00:00,  1.80it/s]\n",
      "  0%|          | 0/100 [00:00<?, ?it/s]"
     ]
    },
    {
     "name": "stdout",
     "output_type": "stream",
     "text": [
      "Saved model at: /home/torge/dev/masterthesis_code/02_Experimente/03_Experimente/exp_models/20200408_MODEL__K_TRAIN_10_NUM_TRAIN_32_NUM_EVAL_32_NUM_ITER_100_OPTIMIZER_Adam_META_LR_0.001_ADAPTION_STEPS_5.pt\n",
      "Saved logreg at: /home/torge/dev/masterthesis_code/02_Experimente/03_Experimente/exp_models/20200408_LOGREG_MODEL__K_TRAIN_10_NUM_TRAIN_32_NUM_EVAL_32_NUM_ITER_100_OPTIMIZER_Adam_META_LR_0.001_ADAPTION_STEPS_5.save\n",
      "++++++++++++++++++++++++++++++\n",
      "Current: 16 of 97\n",
      "k_train            20\n",
      "num_train         128\n",
      "num_eval           32\n",
      "num_iter          100\n",
      "optimizer         SGD\n",
      "meta_lr           0.1\n",
      "adaption_steps     15\n",
      "Name: 16, dtype: object\n"
     ]
    },
    {
     "name": "stderr",
     "output_type": "stream",
     "text": [
      "Adaption Error: 0.002605, Validation Error: 0.001013: 100%|██████████| 100/100 [06:14<00:00,  3.75s/it]\n",
      "  0%|          | 0/300 [00:00<?, ?it/s]"
     ]
    },
    {
     "name": "stdout",
     "output_type": "stream",
     "text": [
      "Saved model at: /home/torge/dev/masterthesis_code/02_Experimente/03_Experimente/exp_models/20200408_MODEL__K_TRAIN_20_NUM_TRAIN_128_NUM_EVAL_32_NUM_ITER_100_OPTIMIZER_SGD_META_LR_0.1_ADAPTION_STEPS_15.pt\n",
      "Saved logreg at: /home/torge/dev/masterthesis_code/02_Experimente/03_Experimente/exp_models/20200408_LOGREG_MODEL__K_TRAIN_20_NUM_TRAIN_128_NUM_EVAL_32_NUM_ITER_100_OPTIMIZER_SGD_META_LR_0.1_ADAPTION_STEPS_15.save\n",
      "++++++++++++++++++++++++++++++\n",
      "Current: 17 of 97\n",
      "k_train              5\n",
      "num_train           64\n",
      "num_eval            16\n",
      "num_iter           300\n",
      "optimizer          SGD\n",
      "meta_lr           0.01\n",
      "adaption_steps      15\n",
      "Name: 17, dtype: object\n"
     ]
    },
    {
     "name": "stderr",
     "output_type": "stream",
     "text": [
      "Adaption Error: 0.003280, Validation Error: 0.000578: 100%|██████████| 300/300 [10:17<00:00,  2.06s/it]\n",
      "  0%|          | 0/500 [00:00<?, ?it/s]"
     ]
    },
    {
     "name": "stdout",
     "output_type": "stream",
     "text": [
      "Saved model at: /home/torge/dev/masterthesis_code/02_Experimente/03_Experimente/exp_models/20200408_MODEL__K_TRAIN_5_NUM_TRAIN_64_NUM_EVAL_16_NUM_ITER_300_OPTIMIZER_SGD_META_LR_0.01_ADAPTION_STEPS_15.pt\n",
      "Saved logreg at: /home/torge/dev/masterthesis_code/02_Experimente/03_Experimente/exp_models/20200408_LOGREG_MODEL__K_TRAIN_5_NUM_TRAIN_64_NUM_EVAL_16_NUM_ITER_300_OPTIMIZER_SGD_META_LR_0.01_ADAPTION_STEPS_15.save\n",
      "++++++++++++++++++++++++++++++\n",
      "Current: 18 of 97\n",
      "k_train             10\n",
      "num_train           32\n",
      "num_eval            16\n",
      "num_iter           500\n",
      "optimizer         Adam\n",
      "meta_lr            0.1\n",
      "adaption_steps      15\n",
      "Name: 18, dtype: object\n"
     ]
    },
    {
     "name": "stderr",
     "output_type": "stream",
     "text": [
      "Adaption Error: 0.005697, Validation Error: 0.000414: 100%|██████████| 500/500 [08:18<00:00,  1.00it/s]\n",
      "  0%|          | 0/500 [00:00<?, ?it/s]"
     ]
    },
    {
     "name": "stdout",
     "output_type": "stream",
     "text": [
      "Saved model at: /home/torge/dev/masterthesis_code/02_Experimente/03_Experimente/exp_models/20200408_MODEL__K_TRAIN_10_NUM_TRAIN_32_NUM_EVAL_16_NUM_ITER_500_OPTIMIZER_Adam_META_LR_0.1_ADAPTION_STEPS_15.pt\n",
      "Saved logreg at: /home/torge/dev/masterthesis_code/02_Experimente/03_Experimente/exp_models/20200408_LOGREG_MODEL__K_TRAIN_10_NUM_TRAIN_32_NUM_EVAL_16_NUM_ITER_500_OPTIMIZER_Adam_META_LR_0.1_ADAPTION_STEPS_15.save\n",
      "++++++++++++++++++++++++++++++\n",
      "Current: 19 of 97\n",
      "k_train              5\n",
      "num_train          128\n",
      "num_eval            16\n",
      "num_iter           500\n",
      "optimizer         Adam\n",
      "meta_lr           0.01\n",
      "adaption_steps      10\n",
      "Name: 19, dtype: object\n"
     ]
    },
    {
     "name": "stderr",
     "output_type": "stream",
     "text": [
      "Adaption Error: 0.002930, Validation Error: 0.000217: 100%|██████████| 500/500 [24:21<00:00,  2.92s/it]\n",
      "  0%|          | 0/100 [00:00<?, ?it/s]"
     ]
    },
    {
     "name": "stdout",
     "output_type": "stream",
     "text": [
      "Saved model at: /home/torge/dev/masterthesis_code/02_Experimente/03_Experimente/exp_models/20200408_MODEL__K_TRAIN_5_NUM_TRAIN_128_NUM_EVAL_16_NUM_ITER_500_OPTIMIZER_Adam_META_LR_0.01_ADAPTION_STEPS_10.pt\n",
      "Saved logreg at: /home/torge/dev/masterthesis_code/02_Experimente/03_Experimente/exp_models/20200408_LOGREG_MODEL__K_TRAIN_5_NUM_TRAIN_128_NUM_EVAL_16_NUM_ITER_500_OPTIMIZER_Adam_META_LR_0.01_ADAPTION_STEPS_10.save\n",
      "++++++++++++++++++++++++++++++\n",
      "Current: 20 of 97\n",
      "k_train             10\n",
      "num_train           64\n",
      "num_eval            32\n",
      "num_iter           100\n",
      "optimizer         Adam\n",
      "meta_lr            0.1\n",
      "adaption_steps      15\n",
      "Name: 20, dtype: object\n"
     ]
    },
    {
     "name": "stderr",
     "output_type": "stream",
     "text": [
      "Adaption Error: 0.004480, Validation Error: 0.001724: 100%|██████████| 100/100 [03:32<00:00,  2.12s/it]\n",
      "  0%|          | 0/300 [00:00<?, ?it/s]"
     ]
    },
    {
     "name": "stdout",
     "output_type": "stream",
     "text": [
      "Saved model at: /home/torge/dev/masterthesis_code/02_Experimente/03_Experimente/exp_models/20200408_MODEL__K_TRAIN_10_NUM_TRAIN_64_NUM_EVAL_32_NUM_ITER_100_OPTIMIZER_Adam_META_LR_0.1_ADAPTION_STEPS_15.pt\n",
      "Saved logreg at: /home/torge/dev/masterthesis_code/02_Experimente/03_Experimente/exp_models/20200408_LOGREG_MODEL__K_TRAIN_10_NUM_TRAIN_64_NUM_EVAL_32_NUM_ITER_100_OPTIMIZER_Adam_META_LR_0.1_ADAPTION_STEPS_15.save\n",
      "++++++++++++++++++++++++++++++\n",
      "Current: 21 of 97\n",
      "k_train             5\n",
      "num_train          32\n",
      "num_eval           16\n",
      "num_iter          300\n",
      "optimizer         SGD\n",
      "meta_lr           0.1\n",
      "adaption_steps     15\n",
      "Name: 21, dtype: object\n"
     ]
    },
    {
     "name": "stderr",
     "output_type": "stream",
     "text": [
      "Adaption Error: 0.002762, Validation Error: 0.001512: 100%|██████████| 300/300 [04:47<00:00,  1.04it/s]\n",
      "  0%|          | 0/100 [00:00<?, ?it/s]"
     ]
    },
    {
     "name": "stdout",
     "output_type": "stream",
     "text": [
      "Saved model at: /home/torge/dev/masterthesis_code/02_Experimente/03_Experimente/exp_models/20200408_MODEL__K_TRAIN_5_NUM_TRAIN_32_NUM_EVAL_16_NUM_ITER_300_OPTIMIZER_SGD_META_LR_0.1_ADAPTION_STEPS_15.pt\n",
      "Saved logreg at: /home/torge/dev/masterthesis_code/02_Experimente/03_Experimente/exp_models/20200408_LOGREG_MODEL__K_TRAIN_5_NUM_TRAIN_32_NUM_EVAL_16_NUM_ITER_300_OPTIMIZER_SGD_META_LR_0.1_ADAPTION_STEPS_15.save\n",
      "++++++++++++++++++++++++++++++\n",
      "Current: 22 of 97\n",
      "k_train             10\n",
      "num_train           32\n",
      "num_eval            32\n",
      "num_iter           100\n",
      "optimizer          SGD\n",
      "meta_lr           0.01\n",
      "adaption_steps      10\n",
      "Name: 22, dtype: object\n"
     ]
    },
    {
     "name": "stderr",
     "output_type": "stream",
     "text": [
      "Adaption Error: 0.002275, Validation Error: 0.000541: 100%|██████████| 100/100 [01:15<00:00,  1.32it/s]\n",
      "  0%|          | 0/100 [00:00<?, ?it/s]"
     ]
    },
    {
     "name": "stdout",
     "output_type": "stream",
     "text": [
      "Saved model at: /home/torge/dev/masterthesis_code/02_Experimente/03_Experimente/exp_models/20200408_MODEL__K_TRAIN_10_NUM_TRAIN_32_NUM_EVAL_32_NUM_ITER_100_OPTIMIZER_SGD_META_LR_0.01_ADAPTION_STEPS_10.pt\n",
      "Saved logreg at: /home/torge/dev/masterthesis_code/02_Experimente/03_Experimente/exp_models/20200408_LOGREG_MODEL__K_TRAIN_10_NUM_TRAIN_32_NUM_EVAL_32_NUM_ITER_100_OPTIMIZER_SGD_META_LR_0.01_ADAPTION_STEPS_10.save\n",
      "++++++++++++++++++++++++++++++\n",
      "Current: 23 of 97\n",
      "k_train               5\n",
      "num_train           128\n",
      "num_eval             16\n",
      "num_iter            100\n",
      "optimizer           SGD\n",
      "meta_lr           0.001\n",
      "adaption_steps        5\n",
      "Name: 23, dtype: object\n"
     ]
    },
    {
     "name": "stderr",
     "output_type": "stream",
     "text": [
      "Adaption Error: 0.002453, Validation Error: 0.001274: 100%|██████████| 100/100 [03:33<00:00,  2.13s/it]\n",
      "  0%|          | 0/300 [00:00<?, ?it/s]"
     ]
    },
    {
     "name": "stdout",
     "output_type": "stream",
     "text": [
      "Saved model at: /home/torge/dev/masterthesis_code/02_Experimente/03_Experimente/exp_models/20200408_MODEL__K_TRAIN_5_NUM_TRAIN_128_NUM_EVAL_16_NUM_ITER_100_OPTIMIZER_SGD_META_LR_0.001_ADAPTION_STEPS_5.pt\n",
      "Saved logreg at: /home/torge/dev/masterthesis_code/02_Experimente/03_Experimente/exp_models/20200408_LOGREG_MODEL__K_TRAIN_5_NUM_TRAIN_128_NUM_EVAL_16_NUM_ITER_100_OPTIMIZER_SGD_META_LR_0.001_ADAPTION_STEPS_5.save\n",
      "++++++++++++++++++++++++++++++\n",
      "Current: 24 of 97\n",
      "k_train              10\n",
      "num_train            64\n",
      "num_eval             32\n",
      "num_iter            300\n",
      "optimizer           SGD\n",
      "meta_lr           0.001\n",
      "adaption_steps        5\n",
      "Name: 24, dtype: object\n"
     ]
    },
    {
     "name": "stderr",
     "output_type": "stream",
     "text": [
      "Adaption Error: 0.001747, Validation Error: 0.000455: 100%|██████████| 300/300 [04:21<00:00,  1.15it/s]\n",
      "  0%|          | 0/100 [00:00<?, ?it/s]"
     ]
    },
    {
     "name": "stdout",
     "output_type": "stream",
     "text": [
      "Saved model at: /home/torge/dev/masterthesis_code/02_Experimente/03_Experimente/exp_models/20200408_MODEL__K_TRAIN_10_NUM_TRAIN_64_NUM_EVAL_32_NUM_ITER_300_OPTIMIZER_SGD_META_LR_0.001_ADAPTION_STEPS_5.pt\n",
      "Saved logreg at: /home/torge/dev/masterthesis_code/02_Experimente/03_Experimente/exp_models/20200408_LOGREG_MODEL__K_TRAIN_10_NUM_TRAIN_64_NUM_EVAL_32_NUM_ITER_300_OPTIMIZER_SGD_META_LR_0.001_ADAPTION_STEPS_5.save\n",
      "++++++++++++++++++++++++++++++\n",
      "Current: 25 of 97\n",
      "k_train             10\n",
      "num_train           32\n",
      "num_eval            32\n",
      "num_iter           100\n",
      "optimizer         Adam\n",
      "meta_lr            0.1\n",
      "adaption_steps      15\n",
      "Name: 25, dtype: object\n"
     ]
    },
    {
     "name": "stderr",
     "output_type": "stream",
     "text": [
      "Adaption Error: 0.001721, Validation Error: 0.000892: 100%|██████████| 100/100 [01:49<00:00,  1.10s/it]\n",
      "  0%|          | 0/300 [00:00<?, ?it/s]"
     ]
    },
    {
     "name": "stdout",
     "output_type": "stream",
     "text": [
      "Saved model at: /home/torge/dev/masterthesis_code/02_Experimente/03_Experimente/exp_models/20200408_MODEL__K_TRAIN_10_NUM_TRAIN_32_NUM_EVAL_32_NUM_ITER_100_OPTIMIZER_Adam_META_LR_0.1_ADAPTION_STEPS_15.pt\n",
      "Saved logreg at: /home/torge/dev/masterthesis_code/02_Experimente/03_Experimente/exp_models/20200408_LOGREG_MODEL__K_TRAIN_10_NUM_TRAIN_32_NUM_EVAL_32_NUM_ITER_100_OPTIMIZER_Adam_META_LR_0.1_ADAPTION_STEPS_15.save\n",
      "++++++++++++++++++++++++++++++\n",
      "Current: 26 of 97\n",
      "k_train            10\n",
      "num_train          32\n",
      "num_eval           32\n",
      "num_iter          300\n",
      "optimizer         SGD\n",
      "meta_lr           0.1\n",
      "adaption_steps      5\n",
      "Name: 26, dtype: object\n"
     ]
    },
    {
     "name": "stderr",
     "output_type": "stream",
     "text": [
      "Adaption Error: 0.002771, Validation Error: 0.000676: 100%|██████████| 300/300 [02:22<00:00,  2.10it/s]\n",
      "  0%|          | 0/500 [00:00<?, ?it/s]"
     ]
    },
    {
     "name": "stdout",
     "output_type": "stream",
     "text": [
      "Saved model at: /home/torge/dev/masterthesis_code/02_Experimente/03_Experimente/exp_models/20200408_MODEL__K_TRAIN_10_NUM_TRAIN_32_NUM_EVAL_32_NUM_ITER_300_OPTIMIZER_SGD_META_LR_0.1_ADAPTION_STEPS_5.pt\n",
      "Saved logreg at: /home/torge/dev/masterthesis_code/02_Experimente/03_Experimente/exp_models/20200408_LOGREG_MODEL__K_TRAIN_10_NUM_TRAIN_32_NUM_EVAL_32_NUM_ITER_300_OPTIMIZER_SGD_META_LR_0.1_ADAPTION_STEPS_5.save\n",
      "++++++++++++++++++++++++++++++\n",
      "Current: 27 of 97\n",
      "k_train             20\n",
      "num_train          128\n",
      "num_eval            32\n",
      "num_iter           500\n",
      "optimizer         Adam\n",
      "meta_lr           0.01\n",
      "adaption_steps      10\n",
      "Name: 27, dtype: object\n"
     ]
    },
    {
     "name": "stderr",
     "output_type": "stream",
     "text": [
      "Adaption Error: 0.003770, Validation Error: 0.000231: 100%|██████████| 500/500 [24:18<00:00,  2.92s/it]\n",
      "  0%|          | 0/100 [00:00<?, ?it/s]"
     ]
    },
    {
     "name": "stdout",
     "output_type": "stream",
     "text": [
      "Saved model at: /home/torge/dev/masterthesis_code/02_Experimente/03_Experimente/exp_models/20200408_MODEL__K_TRAIN_20_NUM_TRAIN_128_NUM_EVAL_32_NUM_ITER_500_OPTIMIZER_Adam_META_LR_0.01_ADAPTION_STEPS_10.pt\n",
      "Saved logreg at: /home/torge/dev/masterthesis_code/02_Experimente/03_Experimente/exp_models/20200408_LOGREG_MODEL__K_TRAIN_20_NUM_TRAIN_128_NUM_EVAL_32_NUM_ITER_500_OPTIMIZER_Adam_META_LR_0.01_ADAPTION_STEPS_10.save\n",
      "++++++++++++++++++++++++++++++\n",
      "Current: 28 of 97\n",
      "k_train             10\n",
      "num_train           32\n",
      "num_eval            16\n",
      "num_iter           100\n",
      "optimizer         Adam\n",
      "meta_lr           0.01\n",
      "adaption_steps      10\n",
      "Name: 28, dtype: object\n"
     ]
    },
    {
     "name": "stderr",
     "output_type": "stream",
     "text": [
      "Adaption Error: 0.002718, Validation Error: 0.000177: 100%|██████████| 100/100 [01:21<00:00,  1.22it/s]\n",
      "  0%|          | 0/500 [00:00<?, ?it/s]"
     ]
    },
    {
     "name": "stdout",
     "output_type": "stream",
     "text": [
      "Saved model at: /home/torge/dev/masterthesis_code/02_Experimente/03_Experimente/exp_models/20200408_MODEL__K_TRAIN_10_NUM_TRAIN_32_NUM_EVAL_16_NUM_ITER_100_OPTIMIZER_Adam_META_LR_0.01_ADAPTION_STEPS_10.pt\n",
      "Saved logreg at: /home/torge/dev/masterthesis_code/02_Experimente/03_Experimente/exp_models/20200408_LOGREG_MODEL__K_TRAIN_10_NUM_TRAIN_32_NUM_EVAL_16_NUM_ITER_100_OPTIMIZER_Adam_META_LR_0.01_ADAPTION_STEPS_10.save\n",
      "++++++++++++++++++++++++++++++\n",
      "Current: 29 of 97\n",
      "k_train              10\n",
      "num_train           128\n",
      "num_eval             16\n",
      "num_iter            500\n",
      "optimizer           SGD\n",
      "meta_lr           0.001\n",
      "adaption_steps       10\n",
      "Name: 29, dtype: object\n"
     ]
    },
    {
     "name": "stderr",
     "output_type": "stream",
     "text": [
      "Adaption Error: 0.003138, Validation Error: 0.000145: 100%|██████████| 500/500 [23:32<00:00,  2.82s/it]\n",
      "  0%|          | 0/500 [00:00<?, ?it/s]"
     ]
    },
    {
     "name": "stdout",
     "output_type": "stream",
     "text": [
      "Saved model at: /home/torge/dev/masterthesis_code/02_Experimente/03_Experimente/exp_models/20200408_MODEL__K_TRAIN_10_NUM_TRAIN_128_NUM_EVAL_16_NUM_ITER_500_OPTIMIZER_SGD_META_LR_0.001_ADAPTION_STEPS_10.pt\n",
      "Saved logreg at: /home/torge/dev/masterthesis_code/02_Experimente/03_Experimente/exp_models/20200408_LOGREG_MODEL__K_TRAIN_10_NUM_TRAIN_128_NUM_EVAL_16_NUM_ITER_500_OPTIMIZER_SGD_META_LR_0.001_ADAPTION_STEPS_10.save\n",
      "++++++++++++++++++++++++++++++\n",
      "Current: 30 of 97\n",
      "k_train              10\n",
      "num_train            32\n",
      "num_eval             32\n",
      "num_iter            500\n",
      "optimizer          Adam\n",
      "meta_lr           0.001\n",
      "adaption_steps        5\n",
      "Name: 30, dtype: object\n"
     ]
    },
    {
     "name": "stderr",
     "output_type": "stream",
     "text": [
      "Adaption Error: 0.002356, Validation Error: 0.000293: 100%|██████████| 500/500 [04:07<00:00,  2.02it/s]\n",
      "  0%|          | 0/300 [00:00<?, ?it/s]"
     ]
    },
    {
     "name": "stdout",
     "output_type": "stream",
     "text": [
      "Saved model at: /home/torge/dev/masterthesis_code/02_Experimente/03_Experimente/exp_models/20200408_MODEL__K_TRAIN_10_NUM_TRAIN_32_NUM_EVAL_32_NUM_ITER_500_OPTIMIZER_Adam_META_LR_0.001_ADAPTION_STEPS_5.pt\n",
      "Saved logreg at: /home/torge/dev/masterthesis_code/02_Experimente/03_Experimente/exp_models/20200408_LOGREG_MODEL__K_TRAIN_10_NUM_TRAIN_32_NUM_EVAL_32_NUM_ITER_500_OPTIMIZER_Adam_META_LR_0.001_ADAPTION_STEPS_5.save\n",
      "++++++++++++++++++++++++++++++\n",
      "Current: 31 of 97\n",
      "k_train              10\n",
      "num_train            64\n",
      "num_eval             16\n",
      "num_iter            300\n",
      "optimizer          Adam\n",
      "meta_lr           0.001\n",
      "adaption_steps       15\n",
      "Name: 31, dtype: object\n"
     ]
    },
    {
     "name": "stderr",
     "output_type": "stream",
     "text": [
      "Adaption Error: 0.006770, Validation Error: 0.000023: 100%|██████████| 300/300 [10:10<00:00,  2.03s/it]\n",
      "  0%|          | 0/300 [00:00<?, ?it/s]"
     ]
    },
    {
     "name": "stdout",
     "output_type": "stream",
     "text": [
      "Saved model at: /home/torge/dev/masterthesis_code/02_Experimente/03_Experimente/exp_models/20200408_MODEL__K_TRAIN_10_NUM_TRAIN_64_NUM_EVAL_16_NUM_ITER_300_OPTIMIZER_Adam_META_LR_0.001_ADAPTION_STEPS_15.pt\n",
      "Saved logreg at: /home/torge/dev/masterthesis_code/02_Experimente/03_Experimente/exp_models/20200408_LOGREG_MODEL__K_TRAIN_10_NUM_TRAIN_64_NUM_EVAL_16_NUM_ITER_300_OPTIMIZER_Adam_META_LR_0.001_ADAPTION_STEPS_15.save\n",
      "++++++++++++++++++++++++++++++\n",
      "Current: 32 of 97\n",
      "k_train               5\n",
      "num_train            64\n",
      "num_eval             32\n",
      "num_iter            300\n",
      "optimizer          Adam\n",
      "meta_lr           0.001\n",
      "adaption_steps       15\n",
      "Name: 32, dtype: object\n"
     ]
    },
    {
     "name": "stderr",
     "output_type": "stream",
     "text": [
      "Adaption Error: 0.005809, Validation Error: 0.000056: 100%|██████████| 300/300 [08:57<00:00,  1.79s/it]\n",
      "  0%|          | 0/300 [00:00<?, ?it/s]"
     ]
    },
    {
     "name": "stdout",
     "output_type": "stream",
     "text": [
      "Saved model at: /home/torge/dev/masterthesis_code/02_Experimente/03_Experimente/exp_models/20200408_MODEL__K_TRAIN_5_NUM_TRAIN_64_NUM_EVAL_32_NUM_ITER_300_OPTIMIZER_Adam_META_LR_0.001_ADAPTION_STEPS_15.pt\n",
      "Saved logreg at: /home/torge/dev/masterthesis_code/02_Experimente/03_Experimente/exp_models/20200408_LOGREG_MODEL__K_TRAIN_5_NUM_TRAIN_64_NUM_EVAL_32_NUM_ITER_300_OPTIMIZER_Adam_META_LR_0.001_ADAPTION_STEPS_15.save\n",
      "++++++++++++++++++++++++++++++\n",
      "Current: 33 of 97\n",
      "k_train             10\n",
      "num_train          128\n",
      "num_eval            32\n",
      "num_iter           300\n",
      "optimizer          SGD\n",
      "meta_lr           0.01\n",
      "adaption_steps      15\n",
      "Name: 33, dtype: object\n"
     ]
    },
    {
     "name": "stderr",
     "output_type": "stream",
     "text": [
      "Adaption Error: 0.002152, Validation Error: 0.000191: 100%|██████████| 300/300 [19:24<00:00,  3.88s/it]\n",
      "  0%|          | 0/100 [00:00<?, ?it/s]"
     ]
    },
    {
     "name": "stdout",
     "output_type": "stream",
     "text": [
      "Saved model at: /home/torge/dev/masterthesis_code/02_Experimente/03_Experimente/exp_models/20200408_MODEL__K_TRAIN_10_NUM_TRAIN_128_NUM_EVAL_32_NUM_ITER_300_OPTIMIZER_SGD_META_LR_0.01_ADAPTION_STEPS_15.pt\n",
      "Saved logreg at: /home/torge/dev/masterthesis_code/02_Experimente/03_Experimente/exp_models/20200408_LOGREG_MODEL__K_TRAIN_10_NUM_TRAIN_128_NUM_EVAL_32_NUM_ITER_300_OPTIMIZER_SGD_META_LR_0.01_ADAPTION_STEPS_15.save\n",
      "++++++++++++++++++++++++++++++\n",
      "Current: 34 of 97\n",
      "k_train            20\n",
      "num_train          32\n",
      "num_eval           32\n",
      "num_iter          100\n",
      "optimizer         SGD\n",
      "meta_lr           0.1\n",
      "adaption_steps      5\n",
      "Name: 34, dtype: object\n"
     ]
    },
    {
     "name": "stderr",
     "output_type": "stream",
     "text": [
      "Adaption Error: 0.002269, Validation Error: 0.000774: 100%|██████████| 100/100 [01:00<00:00,  1.66it/s]\n",
      "  0%|          | 0/100 [00:00<?, ?it/s]"
     ]
    },
    {
     "name": "stdout",
     "output_type": "stream",
     "text": [
      "Saved model at: /home/torge/dev/masterthesis_code/02_Experimente/03_Experimente/exp_models/20200408_MODEL__K_TRAIN_20_NUM_TRAIN_32_NUM_EVAL_32_NUM_ITER_100_OPTIMIZER_SGD_META_LR_0.1_ADAPTION_STEPS_5.pt\n",
      "Saved logreg at: /home/torge/dev/masterthesis_code/02_Experimente/03_Experimente/exp_models/20200408_LOGREG_MODEL__K_TRAIN_20_NUM_TRAIN_32_NUM_EVAL_32_NUM_ITER_100_OPTIMIZER_SGD_META_LR_0.1_ADAPTION_STEPS_5.save\n",
      "++++++++++++++++++++++++++++++\n",
      "Current: 35 of 97\n",
      "k_train             20\n",
      "num_train           32\n",
      "num_eval            16\n",
      "num_iter           100\n",
      "optimizer          SGD\n",
      "meta_lr           0.01\n",
      "adaption_steps      10\n",
      "Name: 35, dtype: object\n"
     ]
    },
    {
     "name": "stderr",
     "output_type": "stream",
     "text": [
      "Adaption Error: 0.001924, Validation Error: 0.001628: 100%|██████████| 100/100 [01:18<00:00,  1.28it/s]\n",
      "  0%|          | 0/500 [00:00<?, ?it/s]"
     ]
    },
    {
     "name": "stdout",
     "output_type": "stream",
     "text": [
      "Saved model at: /home/torge/dev/masterthesis_code/02_Experimente/03_Experimente/exp_models/20200408_MODEL__K_TRAIN_20_NUM_TRAIN_32_NUM_EVAL_16_NUM_ITER_100_OPTIMIZER_SGD_META_LR_0.01_ADAPTION_STEPS_10.pt\n",
      "Saved logreg at: /home/torge/dev/masterthesis_code/02_Experimente/03_Experimente/exp_models/20200408_LOGREG_MODEL__K_TRAIN_20_NUM_TRAIN_32_NUM_EVAL_16_NUM_ITER_100_OPTIMIZER_SGD_META_LR_0.01_ADAPTION_STEPS_10.save\n",
      "++++++++++++++++++++++++++++++\n",
      "Current: 36 of 97\n",
      "k_train              20\n",
      "num_train           128\n",
      "num_eval             16\n",
      "num_iter            500\n",
      "optimizer           SGD\n",
      "meta_lr           0.001\n",
      "adaption_steps        5\n",
      "Name: 36, dtype: object\n"
     ]
    },
    {
     "name": "stderr",
     "output_type": "stream",
     "text": [
      "Adaption Error: 0.001461, Validation Error: 0.000161: 100%|██████████| 500/500 [15:24<00:00,  1.85s/it]\n",
      "  0%|          | 0/300 [00:00<?, ?it/s]"
     ]
    },
    {
     "name": "stdout",
     "output_type": "stream",
     "text": [
      "Saved model at: /home/torge/dev/masterthesis_code/02_Experimente/03_Experimente/exp_models/20200408_MODEL__K_TRAIN_20_NUM_TRAIN_128_NUM_EVAL_16_NUM_ITER_500_OPTIMIZER_SGD_META_LR_0.001_ADAPTION_STEPS_5.pt\n",
      "Saved logreg at: /home/torge/dev/masterthesis_code/02_Experimente/03_Experimente/exp_models/20200408_LOGREG_MODEL__K_TRAIN_20_NUM_TRAIN_128_NUM_EVAL_16_NUM_ITER_500_OPTIMIZER_SGD_META_LR_0.001_ADAPTION_STEPS_5.save\n",
      "++++++++++++++++++++++++++++++\n",
      "Current: 37 of 97\n",
      "k_train              20\n",
      "num_train            32\n",
      "num_eval             16\n",
      "num_iter            300\n",
      "optimizer          Adam\n",
      "meta_lr           0.001\n",
      "adaption_steps       15\n",
      "Name: 37, dtype: object\n"
     ]
    },
    {
     "name": "stderr",
     "output_type": "stream",
     "text": [
      "Adaption Error: 0.005305, Validation Error: 0.000056: 100%|██████████| 300/300 [04:56<00:00,  1.01it/s]\n",
      "  0%|          | 0/300 [00:00<?, ?it/s]"
     ]
    },
    {
     "name": "stdout",
     "output_type": "stream",
     "text": [
      "Saved model at: /home/torge/dev/masterthesis_code/02_Experimente/03_Experimente/exp_models/20200408_MODEL__K_TRAIN_20_NUM_TRAIN_32_NUM_EVAL_16_NUM_ITER_300_OPTIMIZER_Adam_META_LR_0.001_ADAPTION_STEPS_15.pt\n",
      "Saved logreg at: /home/torge/dev/masterthesis_code/02_Experimente/03_Experimente/exp_models/20200408_LOGREG_MODEL__K_TRAIN_20_NUM_TRAIN_32_NUM_EVAL_16_NUM_ITER_300_OPTIMIZER_Adam_META_LR_0.001_ADAPTION_STEPS_15.save\n",
      "++++++++++++++++++++++++++++++\n",
      "Current: 38 of 97\n",
      "k_train             20\n",
      "num_train           32\n",
      "num_eval            32\n",
      "num_iter           300\n",
      "optimizer         Adam\n",
      "meta_lr            0.1\n",
      "adaption_steps      15\n",
      "Name: 38, dtype: object\n"
     ]
    },
    {
     "name": "stderr",
     "output_type": "stream",
     "text": [
      "Adaption Error: 0.004291, Validation Error: 0.000457: 100%|██████████| 300/300 [05:30<00:00,  1.10s/it]\n",
      "  0%|          | 0/100 [00:00<?, ?it/s]"
     ]
    },
    {
     "name": "stdout",
     "output_type": "stream",
     "text": [
      "Saved model at: /home/torge/dev/masterthesis_code/02_Experimente/03_Experimente/exp_models/20200408_MODEL__K_TRAIN_20_NUM_TRAIN_32_NUM_EVAL_32_NUM_ITER_300_OPTIMIZER_Adam_META_LR_0.1_ADAPTION_STEPS_15.pt\n",
      "Saved logreg at: /home/torge/dev/masterthesis_code/02_Experimente/03_Experimente/exp_models/20200408_LOGREG_MODEL__K_TRAIN_20_NUM_TRAIN_32_NUM_EVAL_32_NUM_ITER_300_OPTIMIZER_Adam_META_LR_0.1_ADAPTION_STEPS_15.save\n",
      "++++++++++++++++++++++++++++++\n",
      "Current: 39 of 97\n",
      "k_train              20\n",
      "num_train           128\n",
      "num_eval             32\n",
      "num_iter            100\n",
      "optimizer           SGD\n",
      "meta_lr           0.001\n",
      "adaption_steps       15\n",
      "Name: 39, dtype: object\n"
     ]
    },
    {
     "name": "stderr",
     "output_type": "stream",
     "text": [
      "Adaption Error: 0.003114, Validation Error: 0.002510: 100%|██████████| 100/100 [06:10<00:00,  3.71s/it]\n",
      "  0%|          | 0/500 [00:00<?, ?it/s]"
     ]
    },
    {
     "name": "stdout",
     "output_type": "stream",
     "text": [
      "Saved model at: /home/torge/dev/masterthesis_code/02_Experimente/03_Experimente/exp_models/20200408_MODEL__K_TRAIN_20_NUM_TRAIN_128_NUM_EVAL_32_NUM_ITER_100_OPTIMIZER_SGD_META_LR_0.001_ADAPTION_STEPS_15.pt\n",
      "Saved logreg at: /home/torge/dev/masterthesis_code/02_Experimente/03_Experimente/exp_models/20200408_LOGREG_MODEL__K_TRAIN_20_NUM_TRAIN_128_NUM_EVAL_32_NUM_ITER_100_OPTIMIZER_SGD_META_LR_0.001_ADAPTION_STEPS_15.save\n",
      "++++++++++++++++++++++++++++++\n",
      "Current: 40 of 97\n",
      "k_train             20\n",
      "num_train           64\n",
      "num_eval            32\n",
      "num_iter           500\n",
      "optimizer         Adam\n",
      "meta_lr            0.1\n",
      "adaption_steps       5\n",
      "Name: 40, dtype: object\n"
     ]
    },
    {
     "name": "stderr",
     "output_type": "stream",
     "text": [
      "Adaption Error: 0.001123, Validation Error: 0.000128: 100%|██████████| 500/500 [08:35<00:00,  1.03s/it]\n",
      "  0%|          | 0/300 [00:00<?, ?it/s]"
     ]
    },
    {
     "name": "stdout",
     "output_type": "stream",
     "text": [
      "Saved model at: /home/torge/dev/masterthesis_code/02_Experimente/03_Experimente/exp_models/20200408_MODEL__K_TRAIN_20_NUM_TRAIN_64_NUM_EVAL_32_NUM_ITER_500_OPTIMIZER_Adam_META_LR_0.1_ADAPTION_STEPS_5.pt\n",
      "Saved logreg at: /home/torge/dev/masterthesis_code/02_Experimente/03_Experimente/exp_models/20200408_LOGREG_MODEL__K_TRAIN_20_NUM_TRAIN_64_NUM_EVAL_32_NUM_ITER_500_OPTIMIZER_Adam_META_LR_0.1_ADAPTION_STEPS_5.save\n",
      "++++++++++++++++++++++++++++++\n",
      "Current: 41 of 97\n",
      "k_train              5\n",
      "num_train           64\n",
      "num_eval            32\n",
      "num_iter           300\n",
      "optimizer         Adam\n",
      "meta_lr           0.01\n",
      "adaption_steps      15\n",
      "Name: 41, dtype: object\n"
     ]
    },
    {
     "name": "stderr",
     "output_type": "stream",
     "text": [
      "Adaption Error: 0.003114, Validation Error: 0.000114: 100%|██████████| 300/300 [09:25<00:00,  1.89s/it]\n",
      "  0%|          | 0/500 [00:00<?, ?it/s]"
     ]
    },
    {
     "name": "stdout",
     "output_type": "stream",
     "text": [
      "Saved model at: /home/torge/dev/masterthesis_code/02_Experimente/03_Experimente/exp_models/20200408_MODEL__K_TRAIN_5_NUM_TRAIN_64_NUM_EVAL_32_NUM_ITER_300_OPTIMIZER_Adam_META_LR_0.01_ADAPTION_STEPS_15.pt\n",
      "Saved logreg at: /home/torge/dev/masterthesis_code/02_Experimente/03_Experimente/exp_models/20200408_LOGREG_MODEL__K_TRAIN_5_NUM_TRAIN_64_NUM_EVAL_32_NUM_ITER_300_OPTIMIZER_Adam_META_LR_0.01_ADAPTION_STEPS_15.save\n",
      "++++++++++++++++++++++++++++++\n",
      "Current: 42 of 97\n",
      "k_train             10\n",
      "num_train           64\n",
      "num_eval            16\n",
      "num_iter           500\n",
      "optimizer         Adam\n",
      "meta_lr           0.01\n",
      "adaption_steps      15\n",
      "Name: 42, dtype: object\n"
     ]
    },
    {
     "name": "stderr",
     "output_type": "stream",
     "text": [
      "Adaption Error: 0.002990, Validation Error: 0.000140: 100%|██████████| 500/500 [16:16<00:00,  1.95s/it]\n",
      "  0%|          | 0/100 [00:00<?, ?it/s]"
     ]
    },
    {
     "name": "stdout",
     "output_type": "stream",
     "text": [
      "Saved model at: /home/torge/dev/masterthesis_code/02_Experimente/03_Experimente/exp_models/20200408_MODEL__K_TRAIN_10_NUM_TRAIN_64_NUM_EVAL_16_NUM_ITER_500_OPTIMIZER_Adam_META_LR_0.01_ADAPTION_STEPS_15.pt\n",
      "Saved logreg at: /home/torge/dev/masterthesis_code/02_Experimente/03_Experimente/exp_models/20200408_LOGREG_MODEL__K_TRAIN_10_NUM_TRAIN_64_NUM_EVAL_16_NUM_ITER_500_OPTIMIZER_Adam_META_LR_0.01_ADAPTION_STEPS_15.save\n",
      "++++++++++++++++++++++++++++++\n",
      "Current: 43 of 97\n",
      "k_train              20\n",
      "num_train            32\n",
      "num_eval             16\n",
      "num_iter            100\n",
      "optimizer           SGD\n",
      "meta_lr           0.001\n",
      "adaption_steps       15\n",
      "Name: 43, dtype: object\n"
     ]
    },
    {
     "name": "stderr",
     "output_type": "stream",
     "text": [
      "Adaption Error: 0.004069, Validation Error: 0.001322: 100%|██████████| 100/100 [01:37<00:00,  1.03it/s]\n",
      "  0%|          | 0/300 [00:00<?, ?it/s]"
     ]
    },
    {
     "name": "stdout",
     "output_type": "stream",
     "text": [
      "Saved model at: /home/torge/dev/masterthesis_code/02_Experimente/03_Experimente/exp_models/20200408_MODEL__K_TRAIN_20_NUM_TRAIN_32_NUM_EVAL_16_NUM_ITER_100_OPTIMIZER_SGD_META_LR_0.001_ADAPTION_STEPS_15.pt\n",
      "Saved logreg at: /home/torge/dev/masterthesis_code/02_Experimente/03_Experimente/exp_models/20200408_LOGREG_MODEL__K_TRAIN_20_NUM_TRAIN_32_NUM_EVAL_16_NUM_ITER_100_OPTIMIZER_SGD_META_LR_0.001_ADAPTION_STEPS_15.save\n",
      "++++++++++++++++++++++++++++++\n",
      "Current: 44 of 97\n",
      "k_train              10\n",
      "num_train           128\n",
      "num_eval             32\n",
      "num_iter            300\n",
      "optimizer           SGD\n",
      "meta_lr           0.001\n",
      "adaption_steps       10\n",
      "Name: 44, dtype: object\n"
     ]
    },
    {
     "name": "stderr",
     "output_type": "stream",
     "text": [
      "Adaption Error: 0.001675, Validation Error: 0.000442: 100%|██████████| 300/300 [15:03<00:00,  3.01s/it]\n",
      "  0%|          | 0/100 [00:00<?, ?it/s]"
     ]
    },
    {
     "name": "stdout",
     "output_type": "stream",
     "text": [
      "Saved model at: /home/torge/dev/masterthesis_code/02_Experimente/03_Experimente/exp_models/20200408_MODEL__K_TRAIN_10_NUM_TRAIN_128_NUM_EVAL_32_NUM_ITER_300_OPTIMIZER_SGD_META_LR_0.001_ADAPTION_STEPS_10.pt\n",
      "Saved logreg at: /home/torge/dev/masterthesis_code/02_Experimente/03_Experimente/exp_models/20200408_LOGREG_MODEL__K_TRAIN_10_NUM_TRAIN_128_NUM_EVAL_32_NUM_ITER_300_OPTIMIZER_SGD_META_LR_0.001_ADAPTION_STEPS_10.save\n",
      "++++++++++++++++++++++++++++++\n",
      "Current: 45 of 97\n",
      "k_train            10\n",
      "num_train          64\n",
      "num_eval           16\n",
      "num_iter          100\n",
      "optimizer         SGD\n",
      "meta_lr           0.1\n",
      "adaption_steps     15\n",
      "Name: 45, dtype: object\n"
     ]
    },
    {
     "name": "stderr",
     "output_type": "stream",
     "text": [
      "Adaption Error: 0.001641, Validation Error: 0.000669: 100%|██████████| 100/100 [03:17<00:00,  1.98s/it]\n",
      "  0%|          | 0/100 [00:00<?, ?it/s]"
     ]
    },
    {
     "name": "stdout",
     "output_type": "stream",
     "text": [
      "Saved model at: /home/torge/dev/masterthesis_code/02_Experimente/03_Experimente/exp_models/20200408_MODEL__K_TRAIN_10_NUM_TRAIN_64_NUM_EVAL_16_NUM_ITER_100_OPTIMIZER_SGD_META_LR_0.1_ADAPTION_STEPS_15.pt\n",
      "Saved logreg at: /home/torge/dev/masterthesis_code/02_Experimente/03_Experimente/exp_models/20200408_LOGREG_MODEL__K_TRAIN_10_NUM_TRAIN_64_NUM_EVAL_16_NUM_ITER_100_OPTIMIZER_SGD_META_LR_0.1_ADAPTION_STEPS_15.save\n",
      "++++++++++++++++++++++++++++++\n",
      "Current: 46 of 97\n",
      "k_train             5\n",
      "num_train          32\n",
      "num_eval           16\n",
      "num_iter          100\n",
      "optimizer         SGD\n",
      "meta_lr           0.1\n",
      "adaption_steps     15\n",
      "Name: 46, dtype: object\n"
     ]
    },
    {
     "name": "stderr",
     "output_type": "stream",
     "text": [
      "Adaption Error: 0.000589, Validation Error: 0.000721: 100%|██████████| 100/100 [01:52<00:00,  1.13s/it]\n",
      "  0%|          | 0/500 [00:00<?, ?it/s]"
     ]
    },
    {
     "name": "stdout",
     "output_type": "stream",
     "text": [
      "Saved model at: /home/torge/dev/masterthesis_code/02_Experimente/03_Experimente/exp_models/20200408_MODEL__K_TRAIN_5_NUM_TRAIN_32_NUM_EVAL_16_NUM_ITER_100_OPTIMIZER_SGD_META_LR_0.1_ADAPTION_STEPS_15.pt\n",
      "Saved logreg at: /home/torge/dev/masterthesis_code/02_Experimente/03_Experimente/exp_models/20200408_LOGREG_MODEL__K_TRAIN_5_NUM_TRAIN_32_NUM_EVAL_16_NUM_ITER_100_OPTIMIZER_SGD_META_LR_0.1_ADAPTION_STEPS_15.save\n",
      "++++++++++++++++++++++++++++++\n",
      "Current: 47 of 97\n",
      "k_train              5\n",
      "num_train           64\n",
      "num_eval            16\n",
      "num_iter           500\n",
      "optimizer         Adam\n",
      "meta_lr            0.1\n",
      "adaption_steps      10\n",
      "Name: 47, dtype: object\n"
     ]
    },
    {
     "name": "stderr",
     "output_type": "stream",
     "text": [
      "Adaption Error: 0.009354, Validation Error: 0.003615: 100%|██████████| 500/500 [10:59<00:00,  1.32s/it]\n",
      "  0%|          | 0/100 [00:00<?, ?it/s]"
     ]
    },
    {
     "name": "stdout",
     "output_type": "stream",
     "text": [
      "Saved model at: /home/torge/dev/masterthesis_code/02_Experimente/03_Experimente/exp_models/20200408_MODEL__K_TRAIN_5_NUM_TRAIN_64_NUM_EVAL_16_NUM_ITER_500_OPTIMIZER_Adam_META_LR_0.1_ADAPTION_STEPS_10.pt\n",
      "Saved logreg at: /home/torge/dev/masterthesis_code/02_Experimente/03_Experimente/exp_models/20200408_LOGREG_MODEL__K_TRAIN_5_NUM_TRAIN_64_NUM_EVAL_16_NUM_ITER_500_OPTIMIZER_Adam_META_LR_0.1_ADAPTION_STEPS_10.save\n",
      "++++++++++++++++++++++++++++++\n",
      "Current: 48 of 97\n",
      "k_train            20\n",
      "num_train         128\n",
      "num_eval           32\n",
      "num_iter          100\n",
      "optimizer         SGD\n",
      "meta_lr           0.1\n",
      "adaption_steps     10\n",
      "Name: 48, dtype: object\n"
     ]
    },
    {
     "name": "stderr",
     "output_type": "stream",
     "text": [
      "Adaption Error: 0.004097, Validation Error: 0.000723: 100%|██████████| 100/100 [04:56<00:00,  2.96s/it]\n",
      "  0%|          | 0/100 [00:00<?, ?it/s]"
     ]
    },
    {
     "name": "stdout",
     "output_type": "stream",
     "text": [
      "Saved model at: /home/torge/dev/masterthesis_code/02_Experimente/03_Experimente/exp_models/20200408_MODEL__K_TRAIN_20_NUM_TRAIN_128_NUM_EVAL_32_NUM_ITER_100_OPTIMIZER_SGD_META_LR_0.1_ADAPTION_STEPS_10.pt\n",
      "Saved logreg at: /home/torge/dev/masterthesis_code/02_Experimente/03_Experimente/exp_models/20200408_LOGREG_MODEL__K_TRAIN_20_NUM_TRAIN_128_NUM_EVAL_32_NUM_ITER_100_OPTIMIZER_SGD_META_LR_0.1_ADAPTION_STEPS_10.save\n",
      "++++++++++++++++++++++++++++++\n",
      "Current: 49 of 97\n",
      "k_train              5\n",
      "num_train          128\n",
      "num_eval            32\n",
      "num_iter           100\n",
      "optimizer         Adam\n",
      "meta_lr           0.01\n",
      "adaption_steps       5\n",
      "Name: 49, dtype: object\n"
     ]
    },
    {
     "name": "stderr",
     "output_type": "stream",
     "text": [
      "Adaption Error: 0.012102, Validation Error: 0.000137: 100%|██████████| 100/100 [03:44<00:00,  2.25s/it]\n",
      "  0%|          | 0/500 [00:00<?, ?it/s]"
     ]
    },
    {
     "name": "stdout",
     "output_type": "stream",
     "text": [
      "Saved model at: /home/torge/dev/masterthesis_code/02_Experimente/03_Experimente/exp_models/20200408_MODEL__K_TRAIN_5_NUM_TRAIN_128_NUM_EVAL_32_NUM_ITER_100_OPTIMIZER_Adam_META_LR_0.01_ADAPTION_STEPS_5.pt\n",
      "Saved logreg at: /home/torge/dev/masterthesis_code/02_Experimente/03_Experimente/exp_models/20200408_LOGREG_MODEL__K_TRAIN_5_NUM_TRAIN_128_NUM_EVAL_32_NUM_ITER_100_OPTIMIZER_Adam_META_LR_0.01_ADAPTION_STEPS_5.save\n",
      "++++++++++++++++++++++++++++++\n",
      "Current: 50 of 97\n",
      "k_train             20\n",
      "num_train           64\n",
      "num_eval            32\n",
      "num_iter           500\n",
      "optimizer          SGD\n",
      "meta_lr           0.01\n",
      "adaption_steps      10\n",
      "Name: 50, dtype: object\n"
     ]
    },
    {
     "name": "stderr",
     "output_type": "stream",
     "text": [
      "Adaption Error: 0.001662, Validation Error: 0.001525: 100%|██████████| 500/500 [10:56<00:00,  1.31s/it]\n",
      "  0%|          | 0/500 [00:00<?, ?it/s]"
     ]
    },
    {
     "name": "stdout",
     "output_type": "stream",
     "text": [
      "Saved model at: /home/torge/dev/masterthesis_code/02_Experimente/03_Experimente/exp_models/20200408_MODEL__K_TRAIN_20_NUM_TRAIN_64_NUM_EVAL_32_NUM_ITER_500_OPTIMIZER_SGD_META_LR_0.01_ADAPTION_STEPS_10.pt\n",
      "Saved logreg at: /home/torge/dev/masterthesis_code/02_Experimente/03_Experimente/exp_models/20200408_LOGREG_MODEL__K_TRAIN_20_NUM_TRAIN_64_NUM_EVAL_32_NUM_ITER_500_OPTIMIZER_SGD_META_LR_0.01_ADAPTION_STEPS_10.save\n",
      "++++++++++++++++++++++++++++++\n",
      "Current: 51 of 97\n",
      "k_train              10\n",
      "num_train            64\n",
      "num_eval             16\n",
      "num_iter            500\n",
      "optimizer           SGD\n",
      "meta_lr           0.001\n",
      "adaption_steps       15\n",
      "Name: 51, dtype: object\n"
     ]
    },
    {
     "name": "stderr",
     "output_type": "stream",
     "text": [
      "Adaption Error: 0.002759, Validation Error: 0.000222: 100%|██████████| 500/500 [15:14<00:00,  1.83s/it]\n",
      "  0%|          | 0/100 [00:00<?, ?it/s]"
     ]
    },
    {
     "name": "stdout",
     "output_type": "stream",
     "text": [
      "Saved model at: /home/torge/dev/masterthesis_code/02_Experimente/03_Experimente/exp_models/20200408_MODEL__K_TRAIN_10_NUM_TRAIN_64_NUM_EVAL_16_NUM_ITER_500_OPTIMIZER_SGD_META_LR_0.001_ADAPTION_STEPS_15.pt\n",
      "Saved logreg at: /home/torge/dev/masterthesis_code/02_Experimente/03_Experimente/exp_models/20200408_LOGREG_MODEL__K_TRAIN_10_NUM_TRAIN_64_NUM_EVAL_16_NUM_ITER_500_OPTIMIZER_SGD_META_LR_0.001_ADAPTION_STEPS_15.save\n",
      "++++++++++++++++++++++++++++++\n",
      "Current: 52 of 97\n",
      "k_train             20\n",
      "num_train          128\n",
      "num_eval            32\n",
      "num_iter           100\n",
      "optimizer         Adam\n",
      "meta_lr            0.1\n",
      "adaption_steps       5\n",
      "Name: 52, dtype: object\n"
     ]
    },
    {
     "name": "stderr",
     "output_type": "stream",
     "text": [
      "Adaption Error: 0.003918, Validation Error: 0.000629: 100%|██████████| 100/100 [03:07<00:00,  1.87s/it]\n",
      "  0%|          | 0/100 [00:00<?, ?it/s]"
     ]
    },
    {
     "name": "stdout",
     "output_type": "stream",
     "text": [
      "Saved model at: /home/torge/dev/masterthesis_code/02_Experimente/03_Experimente/exp_models/20200408_MODEL__K_TRAIN_20_NUM_TRAIN_128_NUM_EVAL_32_NUM_ITER_100_OPTIMIZER_Adam_META_LR_0.1_ADAPTION_STEPS_5.pt\n",
      "Saved logreg at: /home/torge/dev/masterthesis_code/02_Experimente/03_Experimente/exp_models/20200408_LOGREG_MODEL__K_TRAIN_20_NUM_TRAIN_128_NUM_EVAL_32_NUM_ITER_100_OPTIMIZER_Adam_META_LR_0.1_ADAPTION_STEPS_5.save\n",
      "++++++++++++++++++++++++++++++\n",
      "Current: 53 of 97\n",
      "k_train              5\n",
      "num_train          128\n",
      "num_eval            16\n",
      "num_iter           100\n",
      "optimizer          SGD\n",
      "meta_lr           0.01\n",
      "adaption_steps      15\n",
      "Name: 53, dtype: object\n"
     ]
    },
    {
     "name": "stderr",
     "output_type": "stream",
     "text": [
      "Adaption Error: 0.000982, Validation Error: 0.001811: 100%|██████████| 100/100 [05:54<00:00,  3.55s/it]\n",
      "  0%|          | 0/300 [00:00<?, ?it/s]"
     ]
    },
    {
     "name": "stdout",
     "output_type": "stream",
     "text": [
      "Saved model at: /home/torge/dev/masterthesis_code/02_Experimente/03_Experimente/exp_models/20200408_MODEL__K_TRAIN_5_NUM_TRAIN_128_NUM_EVAL_16_NUM_ITER_100_OPTIMIZER_SGD_META_LR_0.01_ADAPTION_STEPS_15.pt\n",
      "Saved logreg at: /home/torge/dev/masterthesis_code/02_Experimente/03_Experimente/exp_models/20200408_LOGREG_MODEL__K_TRAIN_5_NUM_TRAIN_128_NUM_EVAL_16_NUM_ITER_100_OPTIMIZER_SGD_META_LR_0.01_ADAPTION_STEPS_15.save\n",
      "++++++++++++++++++++++++++++++\n",
      "Current: 54 of 97\n",
      "k_train              20\n",
      "num_train            32\n",
      "num_eval             32\n",
      "num_iter            300\n",
      "optimizer           SGD\n",
      "meta_lr           0.001\n",
      "adaption_steps       15\n",
      "Name: 54, dtype: object\n"
     ]
    },
    {
     "name": "stderr",
     "output_type": "stream",
     "text": [
      "Adaption Error: 0.001291, Validation Error: 0.000299: 100%|██████████| 300/300 [04:43<00:00,  1.06it/s]\n",
      "  0%|          | 0/300 [00:00<?, ?it/s]"
     ]
    },
    {
     "name": "stdout",
     "output_type": "stream",
     "text": [
      "Saved model at: /home/torge/dev/masterthesis_code/02_Experimente/03_Experimente/exp_models/20200408_MODEL__K_TRAIN_20_NUM_TRAIN_32_NUM_EVAL_32_NUM_ITER_300_OPTIMIZER_SGD_META_LR_0.001_ADAPTION_STEPS_15.pt\n",
      "Saved logreg at: /home/torge/dev/masterthesis_code/02_Experimente/03_Experimente/exp_models/20200408_LOGREG_MODEL__K_TRAIN_20_NUM_TRAIN_32_NUM_EVAL_32_NUM_ITER_300_OPTIMIZER_SGD_META_LR_0.001_ADAPTION_STEPS_15.save\n",
      "++++++++++++++++++++++++++++++\n",
      "Current: 55 of 97\n",
      "k_train             10\n",
      "num_train           32\n",
      "num_eval            16\n",
      "num_iter           300\n",
      "optimizer         Adam\n",
      "meta_lr           0.01\n",
      "adaption_steps       5\n",
      "Name: 55, dtype: object\n"
     ]
    },
    {
     "name": "stderr",
     "output_type": "stream",
     "text": [
      "Adaption Error: 0.001781, Validation Error: 0.000028: 100%|██████████| 300/300 [02:46<00:00,  1.80it/s]\n",
      "  0%|          | 0/100 [00:00<?, ?it/s]"
     ]
    },
    {
     "name": "stdout",
     "output_type": "stream",
     "text": [
      "Saved model at: /home/torge/dev/masterthesis_code/02_Experimente/03_Experimente/exp_models/20200408_MODEL__K_TRAIN_10_NUM_TRAIN_32_NUM_EVAL_16_NUM_ITER_300_OPTIMIZER_Adam_META_LR_0.01_ADAPTION_STEPS_5.pt\n",
      "Saved logreg at: /home/torge/dev/masterthesis_code/02_Experimente/03_Experimente/exp_models/20200408_LOGREG_MODEL__K_TRAIN_10_NUM_TRAIN_32_NUM_EVAL_16_NUM_ITER_300_OPTIMIZER_Adam_META_LR_0.01_ADAPTION_STEPS_5.save\n",
      "++++++++++++++++++++++++++++++\n",
      "Current: 56 of 97\n",
      "k_train             10\n",
      "num_train           64\n",
      "num_eval            32\n",
      "num_iter           100\n",
      "optimizer         Adam\n",
      "meta_lr            0.1\n",
      "adaption_steps       5\n",
      "Name: 56, dtype: object\n"
     ]
    },
    {
     "name": "stderr",
     "output_type": "stream",
     "text": [
      "Adaption Error: 0.002885, Validation Error: 0.000180: 100%|██████████| 100/100 [01:32<00:00,  1.08it/s]\n",
      "  0%|          | 0/300 [00:00<?, ?it/s]"
     ]
    },
    {
     "name": "stdout",
     "output_type": "stream",
     "text": [
      "Saved model at: /home/torge/dev/masterthesis_code/02_Experimente/03_Experimente/exp_models/20200408_MODEL__K_TRAIN_10_NUM_TRAIN_64_NUM_EVAL_32_NUM_ITER_100_OPTIMIZER_Adam_META_LR_0.1_ADAPTION_STEPS_5.pt\n",
      "Saved logreg at: /home/torge/dev/masterthesis_code/02_Experimente/03_Experimente/exp_models/20200408_LOGREG_MODEL__K_TRAIN_10_NUM_TRAIN_64_NUM_EVAL_32_NUM_ITER_100_OPTIMIZER_Adam_META_LR_0.1_ADAPTION_STEPS_5.save\n",
      "++++++++++++++++++++++++++++++\n",
      "Current: 57 of 97\n",
      "k_train               5\n",
      "num_train            32\n",
      "num_eval             32\n",
      "num_iter            300\n",
      "optimizer          Adam\n",
      "meta_lr           0.001\n",
      "adaption_steps       15\n",
      "Name: 57, dtype: object\n"
     ]
    },
    {
     "name": "stderr",
     "output_type": "stream",
     "text": [
      "Adaption Error: 0.000954, Validation Error: 0.000374: 100%|██████████| 300/300 [04:36<00:00,  1.08it/s]\n",
      "  0%|          | 0/500 [00:00<?, ?it/s]"
     ]
    },
    {
     "name": "stdout",
     "output_type": "stream",
     "text": [
      "Saved model at: /home/torge/dev/masterthesis_code/02_Experimente/03_Experimente/exp_models/20200408_MODEL__K_TRAIN_5_NUM_TRAIN_32_NUM_EVAL_32_NUM_ITER_300_OPTIMIZER_Adam_META_LR_0.001_ADAPTION_STEPS_15.pt\n",
      "Saved logreg at: /home/torge/dev/masterthesis_code/02_Experimente/03_Experimente/exp_models/20200408_LOGREG_MODEL__K_TRAIN_5_NUM_TRAIN_32_NUM_EVAL_32_NUM_ITER_300_OPTIMIZER_Adam_META_LR_0.001_ADAPTION_STEPS_15.save\n",
      "++++++++++++++++++++++++++++++\n",
      "Current: 58 of 97\n",
      "k_train              5\n",
      "num_train           64\n",
      "num_eval            32\n",
      "num_iter           500\n",
      "optimizer         Adam\n",
      "meta_lr            0.1\n",
      "adaption_steps       5\n",
      "Name: 58, dtype: object\n"
     ]
    },
    {
     "name": "stderr",
     "output_type": "stream",
     "text": [
      "Adaption Error: 0.002655, Validation Error: 0.000069: 100%|██████████| 500/500 [07:50<00:00,  1.06it/s]\n",
      "  0%|          | 0/300 [00:00<?, ?it/s]"
     ]
    },
    {
     "name": "stdout",
     "output_type": "stream",
     "text": [
      "Saved model at: /home/torge/dev/masterthesis_code/02_Experimente/03_Experimente/exp_models/20200408_MODEL__K_TRAIN_5_NUM_TRAIN_64_NUM_EVAL_32_NUM_ITER_500_OPTIMIZER_Adam_META_LR_0.1_ADAPTION_STEPS_5.pt\n",
      "Saved logreg at: /home/torge/dev/masterthesis_code/02_Experimente/03_Experimente/exp_models/20200408_LOGREG_MODEL__K_TRAIN_5_NUM_TRAIN_64_NUM_EVAL_32_NUM_ITER_500_OPTIMIZER_Adam_META_LR_0.1_ADAPTION_STEPS_5.save\n",
      "++++++++++++++++++++++++++++++\n",
      "Current: 59 of 97\n",
      "k_train            20\n",
      "num_train          32\n",
      "num_eval           16\n",
      "num_iter          300\n",
      "optimizer         SGD\n",
      "meta_lr           0.1\n",
      "adaption_steps     15\n",
      "Name: 59, dtype: object\n"
     ]
    },
    {
     "name": "stderr",
     "output_type": "stream",
     "text": [
      "Adaption Error: 0.001569, Validation Error: 0.000480: 100%|██████████| 300/300 [04:43<00:00,  1.06it/s]\n",
      "  0%|          | 0/500 [00:00<?, ?it/s]"
     ]
    },
    {
     "name": "stdout",
     "output_type": "stream",
     "text": [
      "Saved model at: /home/torge/dev/masterthesis_code/02_Experimente/03_Experimente/exp_models/20200408_MODEL__K_TRAIN_20_NUM_TRAIN_32_NUM_EVAL_16_NUM_ITER_300_OPTIMIZER_SGD_META_LR_0.1_ADAPTION_STEPS_15.pt\n",
      "Saved logreg at: /home/torge/dev/masterthesis_code/02_Experimente/03_Experimente/exp_models/20200408_LOGREG_MODEL__K_TRAIN_20_NUM_TRAIN_32_NUM_EVAL_16_NUM_ITER_300_OPTIMIZER_SGD_META_LR_0.1_ADAPTION_STEPS_15.save\n",
      "++++++++++++++++++++++++++++++\n",
      "Current: 60 of 97\n",
      "k_train               5\n",
      "num_train            32\n",
      "num_eval             16\n",
      "num_iter            500\n",
      "optimizer           SGD\n",
      "meta_lr           0.001\n",
      "adaption_steps       10\n",
      "Name: 60, dtype: object\n"
     ]
    },
    {
     "name": "stderr",
     "output_type": "stream",
     "text": [
      "Adaption Error: 0.002751, Validation Error: 0.000512: 100%|██████████| 500/500 [06:07<00:00,  1.36it/s]\n",
      "  0%|          | 0/100 [00:00<?, ?it/s]"
     ]
    },
    {
     "name": "stdout",
     "output_type": "stream",
     "text": [
      "Saved model at: /home/torge/dev/masterthesis_code/02_Experimente/03_Experimente/exp_models/20200408_MODEL__K_TRAIN_5_NUM_TRAIN_32_NUM_EVAL_16_NUM_ITER_500_OPTIMIZER_SGD_META_LR_0.001_ADAPTION_STEPS_10.pt\n",
      "Saved logreg at: /home/torge/dev/masterthesis_code/02_Experimente/03_Experimente/exp_models/20200408_LOGREG_MODEL__K_TRAIN_5_NUM_TRAIN_32_NUM_EVAL_16_NUM_ITER_500_OPTIMIZER_SGD_META_LR_0.001_ADAPTION_STEPS_10.save\n",
      "++++++++++++++++++++++++++++++\n",
      "Current: 61 of 97\n",
      "k_train              5\n",
      "num_train           32\n",
      "num_eval            32\n",
      "num_iter           100\n",
      "optimizer         Adam\n",
      "meta_lr            0.1\n",
      "adaption_steps      15\n",
      "Name: 61, dtype: object\n"
     ]
    },
    {
     "name": "stderr",
     "output_type": "stream",
     "text": [
      "Adaption Error: 0.001200, Validation Error: 0.000474: 100%|██████████| 100/100 [01:56<00:00,  1.17s/it]\n",
      "  0%|          | 0/100 [00:00<?, ?it/s]"
     ]
    },
    {
     "name": "stdout",
     "output_type": "stream",
     "text": [
      "Saved model at: /home/torge/dev/masterthesis_code/02_Experimente/03_Experimente/exp_models/20200408_MODEL__K_TRAIN_5_NUM_TRAIN_32_NUM_EVAL_32_NUM_ITER_100_OPTIMIZER_Adam_META_LR_0.1_ADAPTION_STEPS_15.pt\n",
      "Saved logreg at: /home/torge/dev/masterthesis_code/02_Experimente/03_Experimente/exp_models/20200408_LOGREG_MODEL__K_TRAIN_5_NUM_TRAIN_32_NUM_EVAL_32_NUM_ITER_100_OPTIMIZER_Adam_META_LR_0.1_ADAPTION_STEPS_15.save\n",
      "++++++++++++++++++++++++++++++\n",
      "Current: 62 of 97\n",
      "k_train             20\n",
      "num_train          128\n",
      "num_eval            32\n",
      "num_iter           100\n",
      "optimizer          SGD\n",
      "meta_lr           0.01\n",
      "adaption_steps      15\n",
      "Name: 62, dtype: object\n"
     ]
    },
    {
     "name": "stderr",
     "output_type": "stream",
     "text": [
      "Adaption Error: 0.001471, Validation Error: 0.000305: 100%|██████████| 100/100 [06:38<00:00,  3.98s/it]\n",
      "  0%|          | 0/100 [00:00<?, ?it/s]"
     ]
    },
    {
     "name": "stdout",
     "output_type": "stream",
     "text": [
      "Saved model at: /home/torge/dev/masterthesis_code/02_Experimente/03_Experimente/exp_models/20200408_MODEL__K_TRAIN_20_NUM_TRAIN_128_NUM_EVAL_32_NUM_ITER_100_OPTIMIZER_SGD_META_LR_0.01_ADAPTION_STEPS_15.pt\n",
      "Saved logreg at: /home/torge/dev/masterthesis_code/02_Experimente/03_Experimente/exp_models/20200408_LOGREG_MODEL__K_TRAIN_20_NUM_TRAIN_128_NUM_EVAL_32_NUM_ITER_100_OPTIMIZER_SGD_META_LR_0.01_ADAPTION_STEPS_15.save\n",
      "++++++++++++++++++++++++++++++\n",
      "Current: 63 of 97\n",
      "k_train              20\n",
      "num_train            32\n",
      "num_eval             16\n",
      "num_iter            100\n",
      "optimizer          Adam\n",
      "meta_lr           0.001\n",
      "adaption_steps       15\n",
      "Name: 63, dtype: object\n"
     ]
    },
    {
     "name": "stderr",
     "output_type": "stream",
     "text": [
      "Adaption Error: 0.002932, Validation Error: 0.000224: 100%|██████████| 100/100 [02:03<00:00,  1.23s/it]\n",
      "  0%|          | 0/100 [00:00<?, ?it/s]"
     ]
    },
    {
     "name": "stdout",
     "output_type": "stream",
     "text": [
      "Saved model at: /home/torge/dev/masterthesis_code/02_Experimente/03_Experimente/exp_models/20200408_MODEL__K_TRAIN_20_NUM_TRAIN_32_NUM_EVAL_16_NUM_ITER_100_OPTIMIZER_Adam_META_LR_0.001_ADAPTION_STEPS_15.pt\n",
      "Saved logreg at: /home/torge/dev/masterthesis_code/02_Experimente/03_Experimente/exp_models/20200408_LOGREG_MODEL__K_TRAIN_20_NUM_TRAIN_32_NUM_EVAL_16_NUM_ITER_100_OPTIMIZER_Adam_META_LR_0.001_ADAPTION_STEPS_15.save\n",
      "++++++++++++++++++++++++++++++\n",
      "Current: 64 of 97\n",
      "k_train             5\n",
      "num_train         128\n",
      "num_eval           32\n",
      "num_iter          100\n",
      "optimizer         SGD\n",
      "meta_lr           0.1\n",
      "adaption_steps     10\n",
      "Name: 64, dtype: object\n"
     ]
    },
    {
     "name": "stderr",
     "output_type": "stream",
     "text": [
      "Adaption Error: 0.001264, Validation Error: 0.000112: 100%|██████████| 100/100 [04:38<00:00,  2.78s/it]\n",
      "  0%|          | 0/300 [00:00<?, ?it/s]"
     ]
    },
    {
     "name": "stdout",
     "output_type": "stream",
     "text": [
      "Saved model at: /home/torge/dev/masterthesis_code/02_Experimente/03_Experimente/exp_models/20200408_MODEL__K_TRAIN_5_NUM_TRAIN_128_NUM_EVAL_32_NUM_ITER_100_OPTIMIZER_SGD_META_LR_0.1_ADAPTION_STEPS_10.pt\n",
      "Saved logreg at: /home/torge/dev/masterthesis_code/02_Experimente/03_Experimente/exp_models/20200408_LOGREG_MODEL__K_TRAIN_5_NUM_TRAIN_128_NUM_EVAL_32_NUM_ITER_100_OPTIMIZER_SGD_META_LR_0.1_ADAPTION_STEPS_10.save\n",
      "++++++++++++++++++++++++++++++\n",
      "Current: 65 of 97\n",
      "k_train              5\n",
      "num_train           32\n",
      "num_eval            32\n",
      "num_iter           300\n",
      "optimizer         Adam\n",
      "meta_lr            0.1\n",
      "adaption_steps      10\n",
      "Name: 65, dtype: object\n"
     ]
    },
    {
     "name": "stderr",
     "output_type": "stream",
     "text": [
      "Adaption Error: 0.000636, Validation Error: 0.000183: 100%|██████████| 300/300 [03:46<00:00,  1.33it/s]\n",
      "  0%|          | 0/300 [00:00<?, ?it/s]"
     ]
    },
    {
     "name": "stdout",
     "output_type": "stream",
     "text": [
      "Saved model at: /home/torge/dev/masterthesis_code/02_Experimente/03_Experimente/exp_models/20200408_MODEL__K_TRAIN_5_NUM_TRAIN_32_NUM_EVAL_32_NUM_ITER_300_OPTIMIZER_Adam_META_LR_0.1_ADAPTION_STEPS_10.pt\n",
      "Saved logreg at: /home/torge/dev/masterthesis_code/02_Experimente/03_Experimente/exp_models/20200408_LOGREG_MODEL__K_TRAIN_5_NUM_TRAIN_32_NUM_EVAL_32_NUM_ITER_300_OPTIMIZER_Adam_META_LR_0.1_ADAPTION_STEPS_10.save\n",
      "++++++++++++++++++++++++++++++\n",
      "Current: 66 of 97\n",
      "k_train             10\n",
      "num_train           64\n",
      "num_eval            32\n",
      "num_iter           300\n",
      "optimizer         Adam\n",
      "meta_lr            0.1\n",
      "adaption_steps      10\n",
      "Name: 66, dtype: object\n"
     ]
    },
    {
     "name": "stderr",
     "output_type": "stream",
     "text": [
      "Adaption Error: 0.002406, Validation Error: 0.000187: 100%|██████████| 300/300 [07:27<00:00,  1.49s/it]\n",
      "  0%|          | 0/100 [00:00<?, ?it/s]"
     ]
    },
    {
     "name": "stdout",
     "output_type": "stream",
     "text": [
      "Saved model at: /home/torge/dev/masterthesis_code/02_Experimente/03_Experimente/exp_models/20200408_MODEL__K_TRAIN_10_NUM_TRAIN_64_NUM_EVAL_32_NUM_ITER_300_OPTIMIZER_Adam_META_LR_0.1_ADAPTION_STEPS_10.pt\n",
      "Saved logreg at: /home/torge/dev/masterthesis_code/02_Experimente/03_Experimente/exp_models/20200408_LOGREG_MODEL__K_TRAIN_10_NUM_TRAIN_64_NUM_EVAL_32_NUM_ITER_300_OPTIMIZER_Adam_META_LR_0.1_ADAPTION_STEPS_10.save\n",
      "++++++++++++++++++++++++++++++\n",
      "Current: 67 of 97\n",
      "k_train             5\n",
      "num_train          32\n",
      "num_eval           16\n",
      "num_iter          100\n",
      "optimizer         SGD\n",
      "meta_lr           0.1\n",
      "adaption_steps     10\n",
      "Name: 67, dtype: object\n"
     ]
    },
    {
     "name": "stderr",
     "output_type": "stream",
     "text": [
      "Adaption Error: 0.001493, Validation Error: 0.000333: 100%|██████████| 100/100 [01:26<00:00,  1.16it/s]\n",
      "  0%|          | 0/500 [00:00<?, ?it/s]"
     ]
    },
    {
     "name": "stdout",
     "output_type": "stream",
     "text": [
      "Saved model at: /home/torge/dev/masterthesis_code/02_Experimente/03_Experimente/exp_models/20200408_MODEL__K_TRAIN_5_NUM_TRAIN_32_NUM_EVAL_16_NUM_ITER_100_OPTIMIZER_SGD_META_LR_0.1_ADAPTION_STEPS_10.pt\n",
      "Saved logreg at: /home/torge/dev/masterthesis_code/02_Experimente/03_Experimente/exp_models/20200408_LOGREG_MODEL__K_TRAIN_5_NUM_TRAIN_32_NUM_EVAL_16_NUM_ITER_100_OPTIMIZER_SGD_META_LR_0.1_ADAPTION_STEPS_10.save\n",
      "++++++++++++++++++++++++++++++\n",
      "Current: 68 of 97\n",
      "k_train             10\n",
      "num_train          128\n",
      "num_eval            32\n",
      "num_iter           500\n",
      "optimizer          SGD\n",
      "meta_lr           0.01\n",
      "adaption_steps      10\n",
      "Name: 68, dtype: object\n"
     ]
    },
    {
     "name": "stderr",
     "output_type": "stream",
     "text": [
      "Adaption Error: 0.001018, Validation Error: 0.000237: 100%|██████████| 500/500 [22:40<00:00,  2.72s/it]\n",
      "  0%|          | 0/100 [00:00<?, ?it/s]"
     ]
    },
    {
     "name": "stdout",
     "output_type": "stream",
     "text": [
      "Saved model at: /home/torge/dev/masterthesis_code/02_Experimente/03_Experimente/exp_models/20200408_MODEL__K_TRAIN_10_NUM_TRAIN_128_NUM_EVAL_32_NUM_ITER_500_OPTIMIZER_SGD_META_LR_0.01_ADAPTION_STEPS_10.pt\n",
      "Saved logreg at: /home/torge/dev/masterthesis_code/02_Experimente/03_Experimente/exp_models/20200408_LOGREG_MODEL__K_TRAIN_10_NUM_TRAIN_128_NUM_EVAL_32_NUM_ITER_500_OPTIMIZER_SGD_META_LR_0.01_ADAPTION_STEPS_10.save\n",
      "++++++++++++++++++++++++++++++\n",
      "Current: 69 of 97\n",
      "k_train             20\n",
      "num_train           32\n",
      "num_eval            16\n",
      "num_iter           100\n",
      "optimizer         Adam\n",
      "meta_lr           0.01\n",
      "adaption_steps      15\n",
      "Name: 69, dtype: object\n"
     ]
    },
    {
     "name": "stderr",
     "output_type": "stream",
     "text": [
      "Adaption Error: 0.002363, Validation Error: 0.000062: 100%|██████████| 100/100 [01:45<00:00,  1.06s/it]\n",
      "  0%|          | 0/300 [00:00<?, ?it/s]"
     ]
    },
    {
     "name": "stdout",
     "output_type": "stream",
     "text": [
      "Saved model at: /home/torge/dev/masterthesis_code/02_Experimente/03_Experimente/exp_models/20200408_MODEL__K_TRAIN_20_NUM_TRAIN_32_NUM_EVAL_16_NUM_ITER_100_OPTIMIZER_Adam_META_LR_0.01_ADAPTION_STEPS_15.pt\n",
      "Saved logreg at: /home/torge/dev/masterthesis_code/02_Experimente/03_Experimente/exp_models/20200408_LOGREG_MODEL__K_TRAIN_20_NUM_TRAIN_32_NUM_EVAL_16_NUM_ITER_100_OPTIMIZER_Adam_META_LR_0.01_ADAPTION_STEPS_15.save\n",
      "++++++++++++++++++++++++++++++\n",
      "Current: 70 of 97\n",
      "k_train            10\n",
      "num_train          32\n",
      "num_eval           16\n",
      "num_iter          300\n",
      "optimizer         SGD\n",
      "meta_lr           0.1\n",
      "adaption_steps      5\n",
      "Name: 70, dtype: object\n"
     ]
    },
    {
     "name": "stderr",
     "output_type": "stream",
     "text": [
      "Adaption Error: 0.001762, Validation Error: 0.001071: 100%|██████████| 300/300 [02:30<00:00,  1.99it/s]\n",
      "  0%|          | 0/500 [00:00<?, ?it/s]"
     ]
    },
    {
     "name": "stdout",
     "output_type": "stream",
     "text": [
      "Saved model at: /home/torge/dev/masterthesis_code/02_Experimente/03_Experimente/exp_models/20200408_MODEL__K_TRAIN_10_NUM_TRAIN_32_NUM_EVAL_16_NUM_ITER_300_OPTIMIZER_SGD_META_LR_0.1_ADAPTION_STEPS_5.pt\n",
      "Saved logreg at: /home/torge/dev/masterthesis_code/02_Experimente/03_Experimente/exp_models/20200408_LOGREG_MODEL__K_TRAIN_10_NUM_TRAIN_32_NUM_EVAL_16_NUM_ITER_300_OPTIMIZER_SGD_META_LR_0.1_ADAPTION_STEPS_5.save\n",
      "++++++++++++++++++++++++++++++\n",
      "Current: 71 of 97\n",
      "k_train            10\n",
      "num_train         128\n",
      "num_eval           16\n",
      "num_iter          500\n",
      "optimizer         SGD\n",
      "meta_lr           0.1\n",
      "adaption_steps     15\n",
      "Name: 71, dtype: object\n"
     ]
    },
    {
     "name": "stderr",
     "output_type": "stream",
     "text": [
      "Adaption Error: 0.000931, Validation Error: 0.000335: 100%|██████████| 500/500 [34:47<00:00,  4.17s/it]\n",
      "  0%|          | 0/500 [00:00<?, ?it/s]"
     ]
    },
    {
     "name": "stdout",
     "output_type": "stream",
     "text": [
      "Saved model at: /home/torge/dev/masterthesis_code/02_Experimente/03_Experimente/exp_models/20200408_MODEL__K_TRAIN_10_NUM_TRAIN_128_NUM_EVAL_16_NUM_ITER_500_OPTIMIZER_SGD_META_LR_0.1_ADAPTION_STEPS_15.pt\n",
      "Saved logreg at: /home/torge/dev/masterthesis_code/02_Experimente/03_Experimente/exp_models/20200408_LOGREG_MODEL__K_TRAIN_10_NUM_TRAIN_128_NUM_EVAL_16_NUM_ITER_500_OPTIMIZER_SGD_META_LR_0.1_ADAPTION_STEPS_15.save\n",
      "++++++++++++++++++++++++++++++\n",
      "Current: 72 of 97\n",
      "k_train             10\n",
      "num_train           32\n",
      "num_eval            16\n",
      "num_iter           500\n",
      "optimizer          SGD\n",
      "meta_lr           0.01\n",
      "adaption_steps      15\n",
      "Name: 72, dtype: object\n"
     ]
    },
    {
     "name": "stderr",
     "output_type": "stream",
     "text": [
      "Adaption Error: 0.000985, Validation Error: 0.000293: 100%|██████████| 500/500 [10:04<00:00,  1.21s/it]\n",
      "  0%|          | 0/100 [00:00<?, ?it/s]"
     ]
    },
    {
     "name": "stdout",
     "output_type": "stream",
     "text": [
      "Saved model at: /home/torge/dev/masterthesis_code/02_Experimente/03_Experimente/exp_models/20200408_MODEL__K_TRAIN_10_NUM_TRAIN_32_NUM_EVAL_16_NUM_ITER_500_OPTIMIZER_SGD_META_LR_0.01_ADAPTION_STEPS_15.pt\n",
      "Saved logreg at: /home/torge/dev/masterthesis_code/02_Experimente/03_Experimente/exp_models/20200408_LOGREG_MODEL__K_TRAIN_10_NUM_TRAIN_32_NUM_EVAL_16_NUM_ITER_500_OPTIMIZER_SGD_META_LR_0.01_ADAPTION_STEPS_15.save\n",
      "++++++++++++++++++++++++++++++\n",
      "Current: 73 of 97\n",
      "k_train             5\n",
      "num_train         128\n",
      "num_eval           16\n",
      "num_iter          100\n",
      "optimizer         SGD\n",
      "meta_lr           0.1\n",
      "adaption_steps     15\n",
      "Name: 73, dtype: object\n"
     ]
    },
    {
     "name": "stderr",
     "output_type": "stream",
     "text": [
      "Adaption Error: 0.001076, Validation Error: 0.000508: 100%|██████████| 100/100 [08:11<00:00,  4.92s/it]\n",
      "  0%|          | 0/100 [00:00<?, ?it/s]"
     ]
    },
    {
     "name": "stdout",
     "output_type": "stream",
     "text": [
      "Saved model at: /home/torge/dev/masterthesis_code/02_Experimente/03_Experimente/exp_models/20200408_MODEL__K_TRAIN_5_NUM_TRAIN_128_NUM_EVAL_16_NUM_ITER_100_OPTIMIZER_SGD_META_LR_0.1_ADAPTION_STEPS_15.pt\n",
      "Saved logreg at: /home/torge/dev/masterthesis_code/02_Experimente/03_Experimente/exp_models/20200408_LOGREG_MODEL__K_TRAIN_5_NUM_TRAIN_128_NUM_EVAL_16_NUM_ITER_100_OPTIMIZER_SGD_META_LR_0.1_ADAPTION_STEPS_15.save\n",
      "++++++++++++++++++++++++++++++\n",
      "Current: 74 of 97\n",
      "k_train              5\n",
      "num_train           32\n",
      "num_eval            16\n",
      "num_iter           100\n",
      "optimizer         Adam\n",
      "meta_lr            0.1\n",
      "adaption_steps      10\n",
      "Name: 74, dtype: object\n"
     ]
    },
    {
     "name": "stderr",
     "output_type": "stream",
     "text": [
      "Adaption Error: 0.001675, Validation Error: 0.000377: 100%|██████████| 100/100 [01:31<00:00,  1.09it/s]\n",
      "  0%|          | 0/100 [00:00<?, ?it/s]"
     ]
    },
    {
     "name": "stdout",
     "output_type": "stream",
     "text": [
      "Saved model at: /home/torge/dev/masterthesis_code/02_Experimente/03_Experimente/exp_models/20200408_MODEL__K_TRAIN_5_NUM_TRAIN_32_NUM_EVAL_16_NUM_ITER_100_OPTIMIZER_Adam_META_LR_0.1_ADAPTION_STEPS_10.pt\n",
      "Saved logreg at: /home/torge/dev/masterthesis_code/02_Experimente/03_Experimente/exp_models/20200408_LOGREG_MODEL__K_TRAIN_5_NUM_TRAIN_32_NUM_EVAL_16_NUM_ITER_100_OPTIMIZER_Adam_META_LR_0.1_ADAPTION_STEPS_10.save\n",
      "++++++++++++++++++++++++++++++\n",
      "Current: 75 of 97\n",
      "k_train             10\n",
      "num_train          128\n",
      "num_eval            16\n",
      "num_iter           100\n",
      "optimizer         Adam\n",
      "meta_lr           0.01\n",
      "adaption_steps      10\n",
      "Name: 75, dtype: object\n"
     ]
    },
    {
     "name": "stderr",
     "output_type": "stream",
     "text": [
      "Adaption Error: 0.004839, Validation Error: 0.000096: 100%|██████████| 100/100 [05:04<00:00,  3.05s/it]\n",
      "  0%|          | 0/100 [00:00<?, ?it/s]"
     ]
    },
    {
     "name": "stdout",
     "output_type": "stream",
     "text": [
      "Saved model at: /home/torge/dev/masterthesis_code/02_Experimente/03_Experimente/exp_models/20200408_MODEL__K_TRAIN_10_NUM_TRAIN_128_NUM_EVAL_16_NUM_ITER_100_OPTIMIZER_Adam_META_LR_0.01_ADAPTION_STEPS_10.pt\n",
      "Saved logreg at: /home/torge/dev/masterthesis_code/02_Experimente/03_Experimente/exp_models/20200408_LOGREG_MODEL__K_TRAIN_10_NUM_TRAIN_128_NUM_EVAL_16_NUM_ITER_100_OPTIMIZER_Adam_META_LR_0.01_ADAPTION_STEPS_10.save\n",
      "++++++++++++++++++++++++++++++\n",
      "Current: 76 of 97\n",
      "k_train             10\n",
      "num_train          128\n",
      "num_eval            16\n",
      "num_iter           100\n",
      "optimizer          SGD\n",
      "meta_lr           0.01\n",
      "adaption_steps       5\n",
      "Name: 76, dtype: object\n"
     ]
    },
    {
     "name": "stderr",
     "output_type": "stream",
     "text": [
      "Adaption Error: 0.001476, Validation Error: 0.000546: 100%|██████████| 100/100 [03:59<00:00,  2.40s/it]\n",
      "  0%|          | 0/500 [00:00<?, ?it/s]"
     ]
    },
    {
     "name": "stdout",
     "output_type": "stream",
     "text": [
      "Saved model at: /home/torge/dev/masterthesis_code/02_Experimente/03_Experimente/exp_models/20200408_MODEL__K_TRAIN_10_NUM_TRAIN_128_NUM_EVAL_16_NUM_ITER_100_OPTIMIZER_SGD_META_LR_0.01_ADAPTION_STEPS_5.pt\n",
      "Saved logreg at: /home/torge/dev/masterthesis_code/02_Experimente/03_Experimente/exp_models/20200408_LOGREG_MODEL__K_TRAIN_10_NUM_TRAIN_128_NUM_EVAL_16_NUM_ITER_100_OPTIMIZER_SGD_META_LR_0.01_ADAPTION_STEPS_5.save\n",
      "++++++++++++++++++++++++++++++\n",
      "Current: 77 of 97\n",
      "k_train             20\n",
      "num_train           32\n",
      "num_eval            16\n",
      "num_iter           500\n",
      "optimizer         Adam\n",
      "meta_lr           0.01\n",
      "adaption_steps       5\n",
      "Name: 77, dtype: object\n"
     ]
    },
    {
     "name": "stderr",
     "output_type": "stream",
     "text": [
      "Adaption Error: 0.002283, Validation Error: 0.000252: 100%|██████████| 500/500 [04:46<00:00,  1.75it/s]\n",
      "  0%|          | 0/500 [00:00<?, ?it/s]"
     ]
    },
    {
     "name": "stdout",
     "output_type": "stream",
     "text": [
      "Saved model at: /home/torge/dev/masterthesis_code/02_Experimente/03_Experimente/exp_models/20200408_MODEL__K_TRAIN_20_NUM_TRAIN_32_NUM_EVAL_16_NUM_ITER_500_OPTIMIZER_Adam_META_LR_0.01_ADAPTION_STEPS_5.pt\n",
      "Saved logreg at: /home/torge/dev/masterthesis_code/02_Experimente/03_Experimente/exp_models/20200408_LOGREG_MODEL__K_TRAIN_20_NUM_TRAIN_32_NUM_EVAL_16_NUM_ITER_500_OPTIMIZER_Adam_META_LR_0.01_ADAPTION_STEPS_5.save\n",
      "++++++++++++++++++++++++++++++\n",
      "Current: 78 of 97\n",
      "k_train             10\n",
      "num_train           64\n",
      "num_eval            32\n",
      "num_iter           500\n",
      "optimizer         Adam\n",
      "meta_lr           0.01\n",
      "adaption_steps      10\n",
      "Name: 78, dtype: object\n"
     ]
    },
    {
     "name": "stderr",
     "output_type": "stream",
     "text": [
      "Adaption Error: 0.004381, Validation Error: 0.000073: 100%|██████████| 500/500 [14:37<00:00,  1.76s/it]\n",
      "  0%|          | 0/500 [00:00<?, ?it/s]"
     ]
    },
    {
     "name": "stdout",
     "output_type": "stream",
     "text": [
      "Saved model at: /home/torge/dev/masterthesis_code/02_Experimente/03_Experimente/exp_models/20200408_MODEL__K_TRAIN_10_NUM_TRAIN_64_NUM_EVAL_32_NUM_ITER_500_OPTIMIZER_Adam_META_LR_0.01_ADAPTION_STEPS_10.pt\n",
      "Saved logreg at: /home/torge/dev/masterthesis_code/02_Experimente/03_Experimente/exp_models/20200408_LOGREG_MODEL__K_TRAIN_10_NUM_TRAIN_64_NUM_EVAL_32_NUM_ITER_500_OPTIMIZER_Adam_META_LR_0.01_ADAPTION_STEPS_10.save\n",
      "++++++++++++++++++++++++++++++\n",
      "Current: 79 of 97\n",
      "k_train             5\n",
      "num_train          64\n",
      "num_eval           16\n",
      "num_iter          500\n",
      "optimizer         SGD\n",
      "meta_lr           0.1\n",
      "adaption_steps     15\n",
      "Name: 79, dtype: object\n"
     ]
    },
    {
     "name": "stderr",
     "output_type": "stream",
     "text": [
      "Adaption Error: 0.001195, Validation Error: 0.000277: 100%|██████████| 500/500 [17:30<00:00,  2.10s/it]\n",
      "  0%|          | 0/500 [00:00<?, ?it/s]"
     ]
    },
    {
     "name": "stdout",
     "output_type": "stream",
     "text": [
      "Saved model at: /home/torge/dev/masterthesis_code/02_Experimente/03_Experimente/exp_models/20200408_MODEL__K_TRAIN_5_NUM_TRAIN_64_NUM_EVAL_16_NUM_ITER_500_OPTIMIZER_SGD_META_LR_0.1_ADAPTION_STEPS_15.pt\n",
      "Saved logreg at: /home/torge/dev/masterthesis_code/02_Experimente/03_Experimente/exp_models/20200408_LOGREG_MODEL__K_TRAIN_5_NUM_TRAIN_64_NUM_EVAL_16_NUM_ITER_500_OPTIMIZER_SGD_META_LR_0.1_ADAPTION_STEPS_15.save\n",
      "++++++++++++++++++++++++++++++\n",
      "Current: 80 of 97\n",
      "k_train             5\n",
      "num_train          64\n",
      "num_eval           16\n",
      "num_iter          500\n",
      "optimizer         SGD\n",
      "meta_lr           0.1\n",
      "adaption_steps     10\n",
      "Name: 80, dtype: object\n"
     ]
    },
    {
     "name": "stderr",
     "output_type": "stream",
     "text": [
      "Adaption Error: 0.002014, Validation Error: 0.000842: 100%|██████████| 500/500 [14:07<00:00,  1.70s/it]\n",
      "  0%|          | 0/500 [00:00<?, ?it/s]"
     ]
    },
    {
     "name": "stdout",
     "output_type": "stream",
     "text": [
      "Saved model at: /home/torge/dev/masterthesis_code/02_Experimente/03_Experimente/exp_models/20200408_MODEL__K_TRAIN_5_NUM_TRAIN_64_NUM_EVAL_16_NUM_ITER_500_OPTIMIZER_SGD_META_LR_0.1_ADAPTION_STEPS_10.pt\n",
      "Saved logreg at: /home/torge/dev/masterthesis_code/02_Experimente/03_Experimente/exp_models/20200408_LOGREG_MODEL__K_TRAIN_5_NUM_TRAIN_64_NUM_EVAL_16_NUM_ITER_500_OPTIMIZER_SGD_META_LR_0.1_ADAPTION_STEPS_10.save\n",
      "++++++++++++++++++++++++++++++\n",
      "Current: 81 of 97\n",
      "k_train            20\n",
      "num_train         128\n",
      "num_eval           16\n",
      "num_iter          500\n",
      "optimizer         SGD\n",
      "meta_lr           0.1\n",
      "adaption_steps     10\n",
      "Name: 81, dtype: object\n"
     ]
    },
    {
     "name": "stderr",
     "output_type": "stream",
     "text": [
      "Adaption Error: 0.002795, Validation Error: 0.000602: 100%|██████████| 500/500 [27:44<00:00,  3.33s/it]\n",
      "  0%|          | 0/500 [00:00<?, ?it/s]"
     ]
    },
    {
     "name": "stdout",
     "output_type": "stream",
     "text": [
      "Saved model at: /home/torge/dev/masterthesis_code/02_Experimente/03_Experimente/exp_models/20200408_MODEL__K_TRAIN_20_NUM_TRAIN_128_NUM_EVAL_16_NUM_ITER_500_OPTIMIZER_SGD_META_LR_0.1_ADAPTION_STEPS_10.pt\n",
      "Saved logreg at: /home/torge/dev/masterthesis_code/02_Experimente/03_Experimente/exp_models/20200408_LOGREG_MODEL__K_TRAIN_20_NUM_TRAIN_128_NUM_EVAL_16_NUM_ITER_500_OPTIMIZER_SGD_META_LR_0.1_ADAPTION_STEPS_10.save\n",
      "++++++++++++++++++++++++++++++\n",
      "Current: 82 of 97\n",
      "k_train             5\n",
      "num_train         128\n",
      "num_eval           16\n",
      "num_iter          500\n",
      "optimizer         SGD\n",
      "meta_lr           0.1\n",
      "adaption_steps     15\n",
      "Name: 82, dtype: object\n"
     ]
    },
    {
     "name": "stderr",
     "output_type": "stream",
     "text": [
      "Adaption Error: 0.000942, Validation Error: 0.000368: 100%|██████████| 500/500 [35:59<00:00,  4.32s/it]\n",
      "  0%|          | 0/500 [00:00<?, ?it/s]"
     ]
    },
    {
     "name": "stdout",
     "output_type": "stream",
     "text": [
      "Saved model at: /home/torge/dev/masterthesis_code/02_Experimente/03_Experimente/exp_models/20200408_MODEL__K_TRAIN_5_NUM_TRAIN_128_NUM_EVAL_16_NUM_ITER_500_OPTIMIZER_SGD_META_LR_0.1_ADAPTION_STEPS_15.pt\n",
      "Saved logreg at: /home/torge/dev/masterthesis_code/02_Experimente/03_Experimente/exp_models/20200408_LOGREG_MODEL__K_TRAIN_5_NUM_TRAIN_128_NUM_EVAL_16_NUM_ITER_500_OPTIMIZER_SGD_META_LR_0.1_ADAPTION_STEPS_15.save\n",
      "++++++++++++++++++++++++++++++\n",
      "Current: 83 of 97\n",
      "k_train             20\n",
      "num_train          128\n",
      "num_eval            32\n",
      "num_iter           500\n",
      "optimizer          SGD\n",
      "meta_lr           0.01\n",
      "adaption_steps       5\n",
      "Name: 83, dtype: object\n"
     ]
    },
    {
     "name": "stderr",
     "output_type": "stream",
     "text": [
      "Adaption Error: 0.001565, Validation Error: 0.000065: 100%|██████████| 500/500 [15:02<00:00,  1.81s/it]\n",
      "  0%|          | 0/100 [00:00<?, ?it/s]"
     ]
    },
    {
     "name": "stdout",
     "output_type": "stream",
     "text": [
      "Saved model at: /home/torge/dev/masterthesis_code/02_Experimente/03_Experimente/exp_models/20200408_MODEL__K_TRAIN_20_NUM_TRAIN_128_NUM_EVAL_32_NUM_ITER_500_OPTIMIZER_SGD_META_LR_0.01_ADAPTION_STEPS_5.pt\n",
      "Saved logreg at: /home/torge/dev/masterthesis_code/02_Experimente/03_Experimente/exp_models/20200408_LOGREG_MODEL__K_TRAIN_20_NUM_TRAIN_128_NUM_EVAL_32_NUM_ITER_500_OPTIMIZER_SGD_META_LR_0.01_ADAPTION_STEPS_5.save\n",
      "++++++++++++++++++++++++++++++\n",
      "Current: 84 of 97\n",
      "k_train               5\n",
      "num_train            32\n",
      "num_eval             32\n",
      "num_iter            100\n",
      "optimizer          Adam\n",
      "meta_lr           0.001\n",
      "adaption_steps        5\n",
      "Name: 84, dtype: object\n"
     ]
    },
    {
     "name": "stderr",
     "output_type": "stream",
     "text": [
      "Adaption Error: 0.001531, Validation Error: 0.000584: 100%|██████████| 100/100 [00:54<00:00,  1.85it/s]\n",
      "  0%|          | 0/300 [00:00<?, ?it/s]"
     ]
    },
    {
     "name": "stdout",
     "output_type": "stream",
     "text": [
      "Saved model at: /home/torge/dev/masterthesis_code/02_Experimente/03_Experimente/exp_models/20200408_MODEL__K_TRAIN_5_NUM_TRAIN_32_NUM_EVAL_32_NUM_ITER_100_OPTIMIZER_Adam_META_LR_0.001_ADAPTION_STEPS_5.pt\n",
      "Saved logreg at: /home/torge/dev/masterthesis_code/02_Experimente/03_Experimente/exp_models/20200408_LOGREG_MODEL__K_TRAIN_5_NUM_TRAIN_32_NUM_EVAL_32_NUM_ITER_100_OPTIMIZER_Adam_META_LR_0.001_ADAPTION_STEPS_5.save\n",
      "++++++++++++++++++++++++++++++\n",
      "Current: 85 of 97\n",
      "k_train              5\n",
      "num_train          128\n",
      "num_eval            32\n",
      "num_iter           300\n",
      "optimizer          SGD\n",
      "meta_lr           0.01\n",
      "adaption_steps       5\n",
      "Name: 85, dtype: object\n"
     ]
    },
    {
     "name": "stderr",
     "output_type": "stream",
     "text": [
      "Adaption Error: 0.001861, Validation Error: 0.000048: 100%|██████████| 300/300 [09:42<00:00,  1.94s/it]\n",
      "  0%|          | 0/100 [00:00<?, ?it/s]"
     ]
    },
    {
     "name": "stdout",
     "output_type": "stream",
     "text": [
      "Saved model at: /home/torge/dev/masterthesis_code/02_Experimente/03_Experimente/exp_models/20200408_MODEL__K_TRAIN_5_NUM_TRAIN_128_NUM_EVAL_32_NUM_ITER_300_OPTIMIZER_SGD_META_LR_0.01_ADAPTION_STEPS_5.pt\n",
      "Saved logreg at: /home/torge/dev/masterthesis_code/02_Experimente/03_Experimente/exp_models/20200408_LOGREG_MODEL__K_TRAIN_5_NUM_TRAIN_128_NUM_EVAL_32_NUM_ITER_300_OPTIMIZER_SGD_META_LR_0.01_ADAPTION_STEPS_5.save\n",
      "++++++++++++++++++++++++++++++\n",
      "Current: 86 of 97\n",
      "k_train              10\n",
      "num_train            32\n",
      "num_eval             32\n",
      "num_iter            100\n",
      "optimizer           SGD\n",
      "meta_lr           0.001\n",
      "adaption_steps       10\n",
      "Name: 86, dtype: object\n"
     ]
    },
    {
     "name": "stderr",
     "output_type": "stream",
     "text": [
      "Adaption Error: 0.005340, Validation Error: 0.000174: 100%|██████████| 100/100 [01:32<00:00,  1.08it/s]\n",
      "  0%|          | 0/300 [00:00<?, ?it/s]"
     ]
    },
    {
     "name": "stdout",
     "output_type": "stream",
     "text": [
      "Saved model at: /home/torge/dev/masterthesis_code/02_Experimente/03_Experimente/exp_models/20200408_MODEL__K_TRAIN_10_NUM_TRAIN_32_NUM_EVAL_32_NUM_ITER_100_OPTIMIZER_SGD_META_LR_0.001_ADAPTION_STEPS_10.pt\n",
      "Saved logreg at: /home/torge/dev/masterthesis_code/02_Experimente/03_Experimente/exp_models/20200408_LOGREG_MODEL__K_TRAIN_10_NUM_TRAIN_32_NUM_EVAL_32_NUM_ITER_100_OPTIMIZER_SGD_META_LR_0.001_ADAPTION_STEPS_10.save\n",
      "++++++++++++++++++++++++++++++\n",
      "Current: 87 of 97\n",
      "k_train              5\n",
      "num_train           32\n",
      "num_eval            16\n",
      "num_iter           300\n",
      "optimizer         Adam\n",
      "meta_lr            0.1\n",
      "adaption_steps      10\n",
      "Name: 87, dtype: object\n"
     ]
    },
    {
     "name": "stderr",
     "output_type": "stream",
     "text": [
      "Adaption Error: 0.002558, Validation Error: 0.000789: 100%|██████████| 300/300 [04:21<00:00,  1.15it/s]\n",
      "  0%|          | 0/500 [00:00<?, ?it/s]"
     ]
    },
    {
     "name": "stdout",
     "output_type": "stream",
     "text": [
      "Saved model at: /home/torge/dev/masterthesis_code/02_Experimente/03_Experimente/exp_models/20200408_MODEL__K_TRAIN_5_NUM_TRAIN_32_NUM_EVAL_16_NUM_ITER_300_OPTIMIZER_Adam_META_LR_0.1_ADAPTION_STEPS_10.pt\n",
      "Saved logreg at: /home/torge/dev/masterthesis_code/02_Experimente/03_Experimente/exp_models/20200408_LOGREG_MODEL__K_TRAIN_5_NUM_TRAIN_32_NUM_EVAL_16_NUM_ITER_300_OPTIMIZER_Adam_META_LR_0.1_ADAPTION_STEPS_10.save\n",
      "++++++++++++++++++++++++++++++\n",
      "Current: 88 of 97\n",
      "k_train             20\n",
      "num_train          128\n",
      "num_eval            32\n",
      "num_iter           500\n",
      "optimizer          SGD\n",
      "meta_lr           0.01\n",
      "adaption_steps      10\n",
      "Name: 88, dtype: object\n"
     ]
    },
    {
     "name": "stderr",
     "output_type": "stream",
     "text": [
      "Adaption Error: 0.001549, Validation Error: 0.000345: 100%|██████████| 500/500 [27:52<00:00,  3.34s/it]\n",
      "  0%|          | 0/500 [00:00<?, ?it/s]"
     ]
    },
    {
     "name": "stdout",
     "output_type": "stream",
     "text": [
      "Saved model at: /home/torge/dev/masterthesis_code/02_Experimente/03_Experimente/exp_models/20200408_MODEL__K_TRAIN_20_NUM_TRAIN_128_NUM_EVAL_32_NUM_ITER_500_OPTIMIZER_SGD_META_LR_0.01_ADAPTION_STEPS_10.pt\n",
      "Saved logreg at: /home/torge/dev/masterthesis_code/02_Experimente/03_Experimente/exp_models/20200408_LOGREG_MODEL__K_TRAIN_20_NUM_TRAIN_128_NUM_EVAL_32_NUM_ITER_500_OPTIMIZER_SGD_META_LR_0.01_ADAPTION_STEPS_10.save\n",
      "++++++++++++++++++++++++++++++\n",
      "Current: 89 of 97\n",
      "k_train              10\n",
      "num_train           128\n",
      "num_eval             32\n",
      "num_iter            500\n",
      "optimizer           SGD\n",
      "meta_lr           0.001\n",
      "adaption_steps       10\n",
      "Name: 89, dtype: object\n"
     ]
    },
    {
     "name": "stderr",
     "output_type": "stream",
     "text": [
      "Adaption Error: 0.003013, Validation Error: 0.000065: 100%|██████████| 500/500 [25:15<00:00,  3.03s/it]\n",
      "  0%|          | 0/100 [00:00<?, ?it/s]"
     ]
    },
    {
     "name": "stdout",
     "output_type": "stream",
     "text": [
      "Saved model at: /home/torge/dev/masterthesis_code/02_Experimente/03_Experimente/exp_models/20200408_MODEL__K_TRAIN_10_NUM_TRAIN_128_NUM_EVAL_32_NUM_ITER_500_OPTIMIZER_SGD_META_LR_0.001_ADAPTION_STEPS_10.pt\n",
      "Saved logreg at: /home/torge/dev/masterthesis_code/02_Experimente/03_Experimente/exp_models/20200408_LOGREG_MODEL__K_TRAIN_10_NUM_TRAIN_128_NUM_EVAL_32_NUM_ITER_500_OPTIMIZER_SGD_META_LR_0.001_ADAPTION_STEPS_10.save\n",
      "++++++++++++++++++++++++++++++\n",
      "Current: 90 of 97\n",
      "k_train             20\n",
      "num_train           32\n",
      "num_eval            16\n",
      "num_iter           100\n",
      "optimizer          SGD\n",
      "meta_lr           0.01\n",
      "adaption_steps      15\n",
      "Name: 90, dtype: object\n"
     ]
    },
    {
     "name": "stderr",
     "output_type": "stream",
     "text": [
      "Adaption Error: 0.002100, Validation Error: 0.000452: 100%|██████████| 100/100 [02:06<00:00,  1.26s/it]\n",
      "  0%|          | 0/100 [00:00<?, ?it/s]"
     ]
    },
    {
     "name": "stdout",
     "output_type": "stream",
     "text": [
      "Saved model at: /home/torge/dev/masterthesis_code/02_Experimente/03_Experimente/exp_models/20200408_MODEL__K_TRAIN_20_NUM_TRAIN_32_NUM_EVAL_16_NUM_ITER_100_OPTIMIZER_SGD_META_LR_0.01_ADAPTION_STEPS_15.pt\n",
      "Saved logreg at: /home/torge/dev/masterthesis_code/02_Experimente/03_Experimente/exp_models/20200408_LOGREG_MODEL__K_TRAIN_20_NUM_TRAIN_32_NUM_EVAL_16_NUM_ITER_100_OPTIMIZER_SGD_META_LR_0.01_ADAPTION_STEPS_15.save\n",
      "++++++++++++++++++++++++++++++\n",
      "Current: 91 of 97\n",
      "k_train               5\n",
      "num_train            64\n",
      "num_eval             16\n",
      "num_iter            100\n",
      "optimizer           SGD\n",
      "meta_lr           0.001\n",
      "adaption_steps        5\n",
      "Name: 91, dtype: object\n"
     ]
    },
    {
     "name": "stderr",
     "output_type": "stream",
     "text": [
      "Adaption Error: 0.001435, Validation Error: 0.000597: 100%|██████████| 100/100 [01:51<00:00,  1.12s/it]\n",
      "  0%|          | 0/500 [00:00<?, ?it/s]"
     ]
    },
    {
     "name": "stdout",
     "output_type": "stream",
     "text": [
      "Saved model at: /home/torge/dev/masterthesis_code/02_Experimente/03_Experimente/exp_models/20200408_MODEL__K_TRAIN_5_NUM_TRAIN_64_NUM_EVAL_16_NUM_ITER_100_OPTIMIZER_SGD_META_LR_0.001_ADAPTION_STEPS_5.pt\n",
      "Saved logreg at: /home/torge/dev/masterthesis_code/02_Experimente/03_Experimente/exp_models/20200408_LOGREG_MODEL__K_TRAIN_5_NUM_TRAIN_64_NUM_EVAL_16_NUM_ITER_100_OPTIMIZER_SGD_META_LR_0.001_ADAPTION_STEPS_5.save\n",
      "++++++++++++++++++++++++++++++\n",
      "Current: 92 of 97\n",
      "k_train             5\n",
      "num_train         128\n",
      "num_eval           32\n",
      "num_iter          500\n",
      "optimizer         SGD\n",
      "meta_lr           0.1\n",
      "adaption_steps     15\n",
      "Name: 92, dtype: object\n"
     ]
    },
    {
     "name": "stderr",
     "output_type": "stream",
     "text": [
      "Adaption Error: 0.000523, Validation Error: 0.001119: 100%|██████████| 500/500 [33:47<00:00,  4.05s/it]\n",
      "  0%|          | 0/100 [00:00<?, ?it/s]"
     ]
    },
    {
     "name": "stdout",
     "output_type": "stream",
     "text": [
      "Saved model at: /home/torge/dev/masterthesis_code/02_Experimente/03_Experimente/exp_models/20200408_MODEL__K_TRAIN_5_NUM_TRAIN_128_NUM_EVAL_32_NUM_ITER_500_OPTIMIZER_SGD_META_LR_0.1_ADAPTION_STEPS_15.pt\n",
      "Saved logreg at: /home/torge/dev/masterthesis_code/02_Experimente/03_Experimente/exp_models/20200408_LOGREG_MODEL__K_TRAIN_5_NUM_TRAIN_128_NUM_EVAL_32_NUM_ITER_500_OPTIMIZER_SGD_META_LR_0.1_ADAPTION_STEPS_15.save\n",
      "++++++++++++++++++++++++++++++\n",
      "Current: 93 of 97\n",
      "k_train              20\n",
      "num_train            64\n",
      "num_eval             16\n",
      "num_iter            100\n",
      "optimizer          Adam\n",
      "meta_lr           0.001\n",
      "adaption_steps        5\n",
      "Name: 93, dtype: object\n"
     ]
    },
    {
     "name": "stderr",
     "output_type": "stream",
     "text": [
      "Adaption Error: 0.001860, Validation Error: 0.000059: 100%|██████████| 100/100 [02:08<00:00,  1.29s/it]\n",
      "  0%|          | 0/300 [00:00<?, ?it/s]"
     ]
    },
    {
     "name": "stdout",
     "output_type": "stream",
     "text": [
      "Saved model at: /home/torge/dev/masterthesis_code/02_Experimente/03_Experimente/exp_models/20200408_MODEL__K_TRAIN_20_NUM_TRAIN_64_NUM_EVAL_16_NUM_ITER_100_OPTIMIZER_Adam_META_LR_0.001_ADAPTION_STEPS_5.pt\n",
      "Saved logreg at: /home/torge/dev/masterthesis_code/02_Experimente/03_Experimente/exp_models/20200408_LOGREG_MODEL__K_TRAIN_20_NUM_TRAIN_64_NUM_EVAL_16_NUM_ITER_100_OPTIMIZER_Adam_META_LR_0.001_ADAPTION_STEPS_5.save\n",
      "++++++++++++++++++++++++++++++\n",
      "Current: 94 of 97\n",
      "k_train             20\n",
      "num_train          128\n",
      "num_eval            16\n",
      "num_iter           300\n",
      "optimizer          SGD\n",
      "meta_lr           0.01\n",
      "adaption_steps      10\n",
      "Name: 94, dtype: object\n"
     ]
    },
    {
     "name": "stderr",
     "output_type": "stream",
     "text": [
      "Adaption Error: 0.001757, Validation Error: 0.000496: 100%|██████████| 300/300 [17:31<00:00,  3.50s/it]\n",
      "  0%|          | 0/100 [00:00<?, ?it/s]"
     ]
    },
    {
     "name": "stdout",
     "output_type": "stream",
     "text": [
      "Saved model at: /home/torge/dev/masterthesis_code/02_Experimente/03_Experimente/exp_models/20200408_MODEL__K_TRAIN_20_NUM_TRAIN_128_NUM_EVAL_16_NUM_ITER_300_OPTIMIZER_SGD_META_LR_0.01_ADAPTION_STEPS_10.pt\n",
      "Saved logreg at: /home/torge/dev/masterthesis_code/02_Experimente/03_Experimente/exp_models/20200408_LOGREG_MODEL__K_TRAIN_20_NUM_TRAIN_128_NUM_EVAL_16_NUM_ITER_300_OPTIMIZER_SGD_META_LR_0.01_ADAPTION_STEPS_10.save\n",
      "++++++++++++++++++++++++++++++\n",
      "Current: 95 of 97\n",
      "k_train              5\n",
      "num_train           32\n",
      "num_eval            32\n",
      "num_iter           100\n",
      "optimizer          SGD\n",
      "meta_lr           0.01\n",
      "adaption_steps      10\n",
      "Name: 95, dtype: object\n"
     ]
    },
    {
     "name": "stderr",
     "output_type": "stream",
     "text": [
      "Adaption Error: 0.000380, Validation Error: 0.000598: 100%|██████████| 100/100 [01:41<00:00,  1.02s/it]\n",
      "  0%|          | 0/100 [00:00<?, ?it/s]"
     ]
    },
    {
     "name": "stdout",
     "output_type": "stream",
     "text": [
      "Saved model at: /home/torge/dev/masterthesis_code/02_Experimente/03_Experimente/exp_models/20200408_MODEL__K_TRAIN_5_NUM_TRAIN_32_NUM_EVAL_32_NUM_ITER_100_OPTIMIZER_SGD_META_LR_0.01_ADAPTION_STEPS_10.pt\n",
      "Saved logreg at: /home/torge/dev/masterthesis_code/02_Experimente/03_Experimente/exp_models/20200408_LOGREG_MODEL__K_TRAIN_5_NUM_TRAIN_32_NUM_EVAL_32_NUM_ITER_100_OPTIMIZER_SGD_META_LR_0.01_ADAPTION_STEPS_10.save\n",
      "++++++++++++++++++++++++++++++\n",
      "Current: 96 of 97\n",
      "k_train             10\n",
      "num_train           32\n",
      "num_eval            16\n",
      "num_iter           100\n",
      "optimizer         Adam\n",
      "meta_lr           0.01\n",
      "adaption_steps       5\n",
      "Name: 96, dtype: object\n"
     ]
    },
    {
     "name": "stderr",
     "output_type": "stream",
     "text": [
      "Adaption Error: 0.004397, Validation Error: 0.000122: 100%|██████████| 100/100 [01:01<00:00,  1.62it/s]\n"
     ]
    },
    {
     "name": "stdout",
     "output_type": "stream",
     "text": [
      "Saved model at: /home/torge/dev/masterthesis_code/02_Experimente/03_Experimente/exp_models/20200408_MODEL__K_TRAIN_10_NUM_TRAIN_32_NUM_EVAL_16_NUM_ITER_100_OPTIMIZER_Adam_META_LR_0.01_ADAPTION_STEPS_5.pt\n",
      "Saved logreg at: /home/torge/dev/masterthesis_code/02_Experimente/03_Experimente/exp_models/20200408_LOGREG_MODEL__K_TRAIN_10_NUM_TRAIN_32_NUM_EVAL_16_NUM_ITER_100_OPTIMIZER_Adam_META_LR_0.01_ADAPTION_STEPS_5.save\n",
      "++++++++++++++++++++++++++++++\n"
     ]
    }
   ],
   "source": [
    "for i , val in df_versuchsplan.iterrows():\n",
    "    print('Current: {} of {}'.format(i, len(df_versuchsplan)))\n",
    "    k_train = val['k_train']\n",
    "    adaption_steps = val['adaption_steps']\n",
    "    optimizer = val['optimizer']\n",
    "    num_train = val['num_train']\n",
    "    num_eval = val['num_eval']\n",
    "    num_iter = val['num_iter']\n",
    "    meta_lr = val['meta_lr']\n",
    "    first_order = True\n",
    "    print(val)\n",
    "    \n",
    "    model_fn = '{}_MODEL__K_TRAIN_{}_NUM_TRAIN_{}_NUM_EVAL_{}_NUM_ITER_{}_OPTIMIZER_{}_META_LR_{}_ADAPTION_STEPS_{}.pt'.format(arrow.now().format('YYYYMMDD'), \n",
    "                                                                                                                    k_train, num_train, num_eval,\n",
    "                                                                                                                   num_iter, optimizer, meta_lr, adaption_steps)\n",
    "\n",
    "    model_fn = os.path.join(exp_models_path, model_fn)\n",
    "\n",
    "    logreg_fn = '{}_LOGREG_MODEL__K_TRAIN_{}_NUM_TRAIN_{}_NUM_EVAL_{}_NUM_ITER_{}_OPTIMIZER_{}_META_LR_{}_ADAPTION_STEPS_{}.save'.format(arrow.now().format('YYYYMMDD'), \n",
    "                                                                                                                    k_train, num_train, num_eval,\n",
    "                                                                                                                   num_iter, optimizer, meta_lr, adaption_steps)\n",
    "\n",
    "    logreg_fn = os.path.join(exp_models_path, logreg_fn)\n",
    "    \n",
    "    \n",
    "    exp_name = '{}_EXPERIMENT__K_TRAIN_{}_NUM_TRAIN_{}_NUM_EVAL_{}_NUM_ITER_{}_OPTIMIZER_{}_META_LR_{}_ADAPTION_STEPS_{}.csv'.format(arrow.now().format('YYYYMMDD'), \n",
    "                                                                                                                    k_train, num_train, num_eval,\n",
    "                                                                                                                   num_iter, optimizer, meta_lr, adaption_steps)\n",
    "    exp_name = os.path.join(exp_data_path, exp_name)\n",
    "    \n",
    "    \n",
    "    meta_train_exp = MetaTrainExperiment(model=model, train_data=train_metadataset, eval_data=test_metadataset, \n",
    "                                     optimizer=optimizer, meta_lr=meta_lr, num_iterations=num_iter, k_train=k_train,\n",
    "                                    num_train=num_train, num_eval=num_eval, adaption_steps=adaption_steps,\n",
    "                                    x_test= x_anormal_torch_tensor, ano_label_x_test=y_anormal, x_drifted_ano=x_anormal_drifted_torch_tensor, \n",
    "                                    ano_label_x_drifted_ano= y_anormal_drifted, model_fn=model_fn, logreg_fn=logreg_fn, exp_name=exp_name)\n",
    "    \n",
    "    meta_train_exp.run()\n",
    "    print('+++' * 10)"
   ]
  },
  {
   "cell_type": "code",
   "execution_count": null,
   "metadata": {},
   "outputs": [],
   "source": []
  }
 ],
 "metadata": {
  "kernelspec": {
   "display_name": "ma_modells",
   "language": "python",
   "name": "ma_modells"
  },
  "language_info": {
   "codemirror_mode": {
    "name": "ipython",
    "version": 3
   },
   "file_extension": ".py",
   "mimetype": "text/x-python",
   "name": "python",
   "nbconvert_exporter": "python",
   "pygments_lexer": "ipython3",
   "version": "3.7.6"
  }
 },
 "nbformat": 4,
 "nbformat_minor": 4
}
