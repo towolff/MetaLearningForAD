{
 "cells": [
  {
   "cell_type": "code",
   "execution_count": 1,
   "metadata": {},
   "outputs": [
    {
     "name": "stdout",
     "output_type": "stream",
     "text": [
      "Collecting pydoe\n",
      "  Downloading pyDOE-0.3.8.zip (22 kB)\n",
      "Requirement already satisfied: numpy in /home/torge/anaconda3/envs/ma_modells/lib/python3.7/site-packages (from pydoe) (1.18.1)\n",
      "Requirement already satisfied: scipy in /home/torge/anaconda3/envs/ma_modells/lib/python3.7/site-packages (from pydoe) (1.4.1)\n",
      "Building wheels for collected packages: pydoe\n",
      "  Building wheel for pydoe (setup.py) ... \u001b[?25ldone\n",
      "\u001b[?25h  Created wheel for pydoe: filename=pyDOE-0.3.8-py3-none-any.whl size=18177 sha256=f9675c431e6857dbd80b1c24e51f2102c37e1f66e902a67b5129fa38a1a8e467\n",
      "  Stored in directory: /home/torge/.cache/pip/wheels/83/ce/8a/87b25c685bfeca1872d13b8dc101e087a9c6e3fb5ebb47022a\n",
      "Successfully built pydoe\n",
      "Installing collected packages: pydoe\n",
      "Successfully installed pydoe-0.3.8\n",
      "Note: you may need to restart the kernel to use updated packages.\n"
     ]
    }
   ],
   "source": [
    "%pip install pydoe"
   ]
  },
  {
   "cell_type": "code",
   "execution_count": 27,
   "metadata": {},
   "outputs": [],
   "source": [
    "import itertools\n",
    "import numpy as np"
   ]
  },
  {
   "cell_type": "code",
   "execution_count": 24,
   "metadata": {},
   "outputs": [],
   "source": [
    "k = [5, 10, 15, 20]\n",
    "classes = ['1', '2', '3', '23', '13', '12', '123']\n",
    "num_iters = [1, 100, 500, 1000]"
   ]
  },
  {
   "cell_type": "code",
   "execution_count": 25,
   "metadata": {},
   "outputs": [],
   "source": [
    "result = []\n",
    "for i in itertools.product(k, classes, num_iters):\n",
    "    result.append(i)"
   ]
  },
  {
   "cell_type": "code",
   "execution_count": 39,
   "metadata": {},
   "outputs": [],
   "source": [
    "result = np.array(result)\n",
    "idx = np.arange(len(result))\n",
    "how_many = int(len(result) / 100 * 20)\n",
    "idx_chosen = np.random.choice(idx, how_many)"
   ]
  },
  {
   "cell_type": "code",
   "execution_count": 42,
   "metadata": {},
   "outputs": [
    {
     "data": {
      "text/plain": [
       "array([['20', '23', '1'],\n",
       "       ['5', '1', '100'],\n",
       "       ['20', '2', '500'],\n",
       "       ['15', '12', '500'],\n",
       "       ['10', '3', '500'],\n",
       "       ['5', '13', '1'],\n",
       "       ['5', '1', '1000'],\n",
       "       ['10', '23', '1000'],\n",
       "       ['5', '2', '100'],\n",
       "       ['10', '23', '100'],\n",
       "       ['5', '12', '1000'],\n",
       "       ['15', '12', '1000'],\n",
       "       ['15', '2', '1'],\n",
       "       ['5', '13', '100'],\n",
       "       ['10', '1', '1'],\n",
       "       ['5', '12', '100'],\n",
       "       ['15', '1', '1'],\n",
       "       ['15', '3', '1000'],\n",
       "       ['15', '13', '500'],\n",
       "       ['20', '123', '1'],\n",
       "       ['20', '23', '100'],\n",
       "       ['10', '2', '500']], dtype='<U21')"
      ]
     },
     "execution_count": 42,
     "metadata": {},
     "output_type": "execute_result"
    }
   ],
   "source": [
    "result[idx_chosen]"
   ]
  },
  {
   "cell_type": "code",
   "execution_count": 43,
   "metadata": {},
   "outputs": [
    {
     "data": {
      "text/plain": [
       "112"
      ]
     },
     "execution_count": 43,
     "metadata": {},
     "output_type": "execute_result"
    }
   ],
   "source": [
    "len(result)"
   ]
  },
  {
   "cell_type": "code",
   "execution_count": null,
   "metadata": {},
   "outputs": [],
   "source": []
  }
 ],
 "metadata": {
  "kernelspec": {
   "display_name": "ma_modells",
   "language": "python",
   "name": "ma_modells"
  },
  "language_info": {
   "codemirror_mode": {
    "name": "ipython",
    "version": 3
   },
   "file_extension": ".py",
   "mimetype": "text/x-python",
   "name": "python",
   "nbconvert_exporter": "python",
   "pygments_lexer": "ipython3",
   "version": "3.7.6"
  }
 },
 "nbformat": 4,
 "nbformat_minor": 4
}
